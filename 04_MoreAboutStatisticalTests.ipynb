{
  "nbformat": 4,
  "nbformat_minor": 0,
  "metadata": {
    "colab": {
      "name": "04_MoreAboutStatisticalTests.ipynb",
      "provenance": [],
      "collapsed_sections": [],
      "authorship_tag": "ABX9TyNKEWwJKgaRSobWkfqw8E5H",
      "include_colab_link": true
    },
    "kernelspec": {
      "name": "python3",
      "display_name": "Python 3"
    },
    "language_info": {
      "name": "python"
    }
  },
  "cells": [
    {
      "cell_type": "markdown",
      "metadata": {
        "id": "view-in-github",
        "colab_type": "text"
      },
      "source": [
        "<a href=\"https://colab.research.google.com/github/LeonardoGoncRibeiro/03_StatisticsUsingPython/blob/main/04_MoreAboutStatisticalTests.ipynb\" target=\"_parent\"><img src=\"https://colab.research.google.com/assets/colab-badge.svg\" alt=\"Open In Colab\"/></a>"
      ]
    },
    {
      "cell_type": "markdown",
      "source": [
        "# Statistics Using Python: Statistical tests\n",
        "\n",
        "In this course, we will delve further into statistical tests. First, we will analyze a dataset, and then ask questions and raise hypothesis. Then, we will use tests to answer such hypothesis. We will also show how to create confidence intervals to our samples, and how to compare two samples. "
      ],
      "metadata": {
        "id": "1Dihf9P87gry"
      }
    },
    {
      "cell_type": "markdown",
      "source": [
        "## Importing and understanding our dataset\n",
        "\n",
        "For that end, we will use data from Movie Lens and The Movie Database (TMDb), which stores movie ratings for many different movies. So, let's import the data:"
      ],
      "metadata": {
        "id": "AIhWySZnIdMH"
      }
    },
    {
      "cell_type": "code",
      "execution_count": 3,
      "metadata": {
        "colab": {
          "base_uri": "https://localhost:8080/",
          "height": 773
        },
        "id": "-8XcaVqi7bat",
        "outputId": "bbb18ee9-242b-499f-ac80-3839bdbc88ea"
      },
      "outputs": [
        {
          "output_type": "execute_result",
          "data": {
            "text/plain": [
              "      budget                                             genres  \\\n",
              "0  237000000  [{\"id\": 28, \"name\": \"Action\"}, {\"id\": 12, \"nam...   \n",
              "1  300000000  [{\"id\": 12, \"name\": \"Adventure\"}, {\"id\": 14, \"...   \n",
              "2  245000000  [{\"id\": 28, \"name\": \"Action\"}, {\"id\": 12, \"nam...   \n",
              "3  250000000  [{\"id\": 28, \"name\": \"Action\"}, {\"id\": 80, \"nam...   \n",
              "4  260000000  [{\"id\": 28, \"name\": \"Action\"}, {\"id\": 12, \"nam...   \n",
              "\n",
              "                                       homepage      id  \\\n",
              "0                   http://www.avatarmovie.com/   19995   \n",
              "1  http://disney.go.com/disneypictures/pirates/     285   \n",
              "2   http://www.sonypictures.com/movies/spectre/  206647   \n",
              "3            http://www.thedarkknightrises.com/   49026   \n",
              "4          http://movies.disney.com/john-carter   49529   \n",
              "\n",
              "                                            keywords original_language  \\\n",
              "0  [{\"id\": 1463, \"name\": \"culture clash\"}, {\"id\":...                en   \n",
              "1  [{\"id\": 270, \"name\": \"ocean\"}, {\"id\": 726, \"na...                en   \n",
              "2  [{\"id\": 470, \"name\": \"spy\"}, {\"id\": 818, \"name...                en   \n",
              "3  [{\"id\": 849, \"name\": \"dc comics\"}, {\"id\": 853,...                en   \n",
              "4  [{\"id\": 818, \"name\": \"based on novel\"}, {\"id\":...                en   \n",
              "\n",
              "                             original_title  \\\n",
              "0                                    Avatar   \n",
              "1  Pirates of the Caribbean: At World's End   \n",
              "2                                   Spectre   \n",
              "3                     The Dark Knight Rises   \n",
              "4                               John Carter   \n",
              "\n",
              "                                            overview  popularity  \\\n",
              "0  In the 22nd century, a paraplegic Marine is di...  150.437577   \n",
              "1  Captain Barbossa, long believed to be dead, ha...  139.082615   \n",
              "2  A cryptic message from Bond’s past sends him o...  107.376788   \n",
              "3  Following the death of District Attorney Harve...  112.312950   \n",
              "4  John Carter is a war-weary, former military ca...   43.926995   \n",
              "\n",
              "                                production_companies  \\\n",
              "0  [{\"name\": \"Ingenious Film Partners\", \"id\": 289...   \n",
              "1  [{\"name\": \"Walt Disney Pictures\", \"id\": 2}, {\"...   \n",
              "2  [{\"name\": \"Columbia Pictures\", \"id\": 5}, {\"nam...   \n",
              "3  [{\"name\": \"Legendary Pictures\", \"id\": 923}, {\"...   \n",
              "4        [{\"name\": \"Walt Disney Pictures\", \"id\": 2}]   \n",
              "\n",
              "                                production_countries release_date  \\\n",
              "0  [{\"iso_3166_1\": \"US\", \"name\": \"United States o...   2009-12-10   \n",
              "1  [{\"iso_3166_1\": \"US\", \"name\": \"United States o...   2007-05-19   \n",
              "2  [{\"iso_3166_1\": \"GB\", \"name\": \"United Kingdom\"...   2015-10-26   \n",
              "3  [{\"iso_3166_1\": \"US\", \"name\": \"United States o...   2012-07-16   \n",
              "4  [{\"iso_3166_1\": \"US\", \"name\": \"United States o...   2012-03-07   \n",
              "\n",
              "        revenue  runtime                                   spoken_languages  \\\n",
              "0  2.787965e+09    162.0  [{\"iso_639_1\": \"en\", \"name\": \"English\"}, {\"iso...   \n",
              "1  9.610000e+08    169.0           [{\"iso_639_1\": \"en\", \"name\": \"English\"}]   \n",
              "2  8.806746e+08    148.0  [{\"iso_639_1\": \"fr\", \"name\": \"Fran\\u00e7ais\"},...   \n",
              "3  1.084939e+09    165.0           [{\"iso_639_1\": \"en\", \"name\": \"English\"}]   \n",
              "4  2.841391e+08    132.0           [{\"iso_639_1\": \"en\", \"name\": \"English\"}]   \n",
              "\n",
              "     status                                         tagline  \\\n",
              "0  Released                     Enter the World of Pandora.   \n",
              "1  Released  At the end of the world, the adventure begins.   \n",
              "2  Released                           A Plan No One Escapes   \n",
              "3  Released                                 The Legend Ends   \n",
              "4  Released            Lost in our world, found in another.   \n",
              "\n",
              "                                      title  vote_average  vote_count  \n",
              "0                                    Avatar           7.2     11800.0  \n",
              "1  Pirates of the Caribbean: At World's End           6.9      4500.0  \n",
              "2                                   Spectre           6.3      4466.0  \n",
              "3                     The Dark Knight Rises           7.6      9106.0  \n",
              "4                               John Carter           6.1      2124.0  "
            ],
            "text/html": [
              "\n",
              "  <div id=\"df-50ac3f31-5ec0-419c-a080-d27daf68fae9\">\n",
              "    <div class=\"colab-df-container\">\n",
              "      <div>\n",
              "<style scoped>\n",
              "    .dataframe tbody tr th:only-of-type {\n",
              "        vertical-align: middle;\n",
              "    }\n",
              "\n",
              "    .dataframe tbody tr th {\n",
              "        vertical-align: top;\n",
              "    }\n",
              "\n",
              "    .dataframe thead th {\n",
              "        text-align: right;\n",
              "    }\n",
              "</style>\n",
              "<table border=\"1\" class=\"dataframe\">\n",
              "  <thead>\n",
              "    <tr style=\"text-align: right;\">\n",
              "      <th></th>\n",
              "      <th>budget</th>\n",
              "      <th>genres</th>\n",
              "      <th>homepage</th>\n",
              "      <th>id</th>\n",
              "      <th>keywords</th>\n",
              "      <th>original_language</th>\n",
              "      <th>original_title</th>\n",
              "      <th>overview</th>\n",
              "      <th>popularity</th>\n",
              "      <th>production_companies</th>\n",
              "      <th>production_countries</th>\n",
              "      <th>release_date</th>\n",
              "      <th>revenue</th>\n",
              "      <th>runtime</th>\n",
              "      <th>spoken_languages</th>\n",
              "      <th>status</th>\n",
              "      <th>tagline</th>\n",
              "      <th>title</th>\n",
              "      <th>vote_average</th>\n",
              "      <th>vote_count</th>\n",
              "    </tr>\n",
              "  </thead>\n",
              "  <tbody>\n",
              "    <tr>\n",
              "      <th>0</th>\n",
              "      <td>237000000</td>\n",
              "      <td>[{\"id\": 28, \"name\": \"Action\"}, {\"id\": 12, \"nam...</td>\n",
              "      <td>http://www.avatarmovie.com/</td>\n",
              "      <td>19995</td>\n",
              "      <td>[{\"id\": 1463, \"name\": \"culture clash\"}, {\"id\":...</td>\n",
              "      <td>en</td>\n",
              "      <td>Avatar</td>\n",
              "      <td>In the 22nd century, a paraplegic Marine is di...</td>\n",
              "      <td>150.437577</td>\n",
              "      <td>[{\"name\": \"Ingenious Film Partners\", \"id\": 289...</td>\n",
              "      <td>[{\"iso_3166_1\": \"US\", \"name\": \"United States o...</td>\n",
              "      <td>2009-12-10</td>\n",
              "      <td>2.787965e+09</td>\n",
              "      <td>162.0</td>\n",
              "      <td>[{\"iso_639_1\": \"en\", \"name\": \"English\"}, {\"iso...</td>\n",
              "      <td>Released</td>\n",
              "      <td>Enter the World of Pandora.</td>\n",
              "      <td>Avatar</td>\n",
              "      <td>7.2</td>\n",
              "      <td>11800.0</td>\n",
              "    </tr>\n",
              "    <tr>\n",
              "      <th>1</th>\n",
              "      <td>300000000</td>\n",
              "      <td>[{\"id\": 12, \"name\": \"Adventure\"}, {\"id\": 14, \"...</td>\n",
              "      <td>http://disney.go.com/disneypictures/pirates/</td>\n",
              "      <td>285</td>\n",
              "      <td>[{\"id\": 270, \"name\": \"ocean\"}, {\"id\": 726, \"na...</td>\n",
              "      <td>en</td>\n",
              "      <td>Pirates of the Caribbean: At World's End</td>\n",
              "      <td>Captain Barbossa, long believed to be dead, ha...</td>\n",
              "      <td>139.082615</td>\n",
              "      <td>[{\"name\": \"Walt Disney Pictures\", \"id\": 2}, {\"...</td>\n",
              "      <td>[{\"iso_3166_1\": \"US\", \"name\": \"United States o...</td>\n",
              "      <td>2007-05-19</td>\n",
              "      <td>9.610000e+08</td>\n",
              "      <td>169.0</td>\n",
              "      <td>[{\"iso_639_1\": \"en\", \"name\": \"English\"}]</td>\n",
              "      <td>Released</td>\n",
              "      <td>At the end of the world, the adventure begins.</td>\n",
              "      <td>Pirates of the Caribbean: At World's End</td>\n",
              "      <td>6.9</td>\n",
              "      <td>4500.0</td>\n",
              "    </tr>\n",
              "    <tr>\n",
              "      <th>2</th>\n",
              "      <td>245000000</td>\n",
              "      <td>[{\"id\": 28, \"name\": \"Action\"}, {\"id\": 12, \"nam...</td>\n",
              "      <td>http://www.sonypictures.com/movies/spectre/</td>\n",
              "      <td>206647</td>\n",
              "      <td>[{\"id\": 470, \"name\": \"spy\"}, {\"id\": 818, \"name...</td>\n",
              "      <td>en</td>\n",
              "      <td>Spectre</td>\n",
              "      <td>A cryptic message from Bond’s past sends him o...</td>\n",
              "      <td>107.376788</td>\n",
              "      <td>[{\"name\": \"Columbia Pictures\", \"id\": 5}, {\"nam...</td>\n",
              "      <td>[{\"iso_3166_1\": \"GB\", \"name\": \"United Kingdom\"...</td>\n",
              "      <td>2015-10-26</td>\n",
              "      <td>8.806746e+08</td>\n",
              "      <td>148.0</td>\n",
              "      <td>[{\"iso_639_1\": \"fr\", \"name\": \"Fran\\u00e7ais\"},...</td>\n",
              "      <td>Released</td>\n",
              "      <td>A Plan No One Escapes</td>\n",
              "      <td>Spectre</td>\n",
              "      <td>6.3</td>\n",
              "      <td>4466.0</td>\n",
              "    </tr>\n",
              "    <tr>\n",
              "      <th>3</th>\n",
              "      <td>250000000</td>\n",
              "      <td>[{\"id\": 28, \"name\": \"Action\"}, {\"id\": 80, \"nam...</td>\n",
              "      <td>http://www.thedarkknightrises.com/</td>\n",
              "      <td>49026</td>\n",
              "      <td>[{\"id\": 849, \"name\": \"dc comics\"}, {\"id\": 853,...</td>\n",
              "      <td>en</td>\n",
              "      <td>The Dark Knight Rises</td>\n",
              "      <td>Following the death of District Attorney Harve...</td>\n",
              "      <td>112.312950</td>\n",
              "      <td>[{\"name\": \"Legendary Pictures\", \"id\": 923}, {\"...</td>\n",
              "      <td>[{\"iso_3166_1\": \"US\", \"name\": \"United States o...</td>\n",
              "      <td>2012-07-16</td>\n",
              "      <td>1.084939e+09</td>\n",
              "      <td>165.0</td>\n",
              "      <td>[{\"iso_639_1\": \"en\", \"name\": \"English\"}]</td>\n",
              "      <td>Released</td>\n",
              "      <td>The Legend Ends</td>\n",
              "      <td>The Dark Knight Rises</td>\n",
              "      <td>7.6</td>\n",
              "      <td>9106.0</td>\n",
              "    </tr>\n",
              "    <tr>\n",
              "      <th>4</th>\n",
              "      <td>260000000</td>\n",
              "      <td>[{\"id\": 28, \"name\": \"Action\"}, {\"id\": 12, \"nam...</td>\n",
              "      <td>http://movies.disney.com/john-carter</td>\n",
              "      <td>49529</td>\n",
              "      <td>[{\"id\": 818, \"name\": \"based on novel\"}, {\"id\":...</td>\n",
              "      <td>en</td>\n",
              "      <td>John Carter</td>\n",
              "      <td>John Carter is a war-weary, former military ca...</td>\n",
              "      <td>43.926995</td>\n",
              "      <td>[{\"name\": \"Walt Disney Pictures\", \"id\": 2}]</td>\n",
              "      <td>[{\"iso_3166_1\": \"US\", \"name\": \"United States o...</td>\n",
              "      <td>2012-03-07</td>\n",
              "      <td>2.841391e+08</td>\n",
              "      <td>132.0</td>\n",
              "      <td>[{\"iso_639_1\": \"en\", \"name\": \"English\"}]</td>\n",
              "      <td>Released</td>\n",
              "      <td>Lost in our world, found in another.</td>\n",
              "      <td>John Carter</td>\n",
              "      <td>6.1</td>\n",
              "      <td>2124.0</td>\n",
              "    </tr>\n",
              "  </tbody>\n",
              "</table>\n",
              "</div>\n",
              "      <button class=\"colab-df-convert\" onclick=\"convertToInteractive('df-50ac3f31-5ec0-419c-a080-d27daf68fae9')\"\n",
              "              title=\"Convert this dataframe to an interactive table.\"\n",
              "              style=\"display:none;\">\n",
              "        \n",
              "  <svg xmlns=\"http://www.w3.org/2000/svg\" height=\"24px\"viewBox=\"0 0 24 24\"\n",
              "       width=\"24px\">\n",
              "    <path d=\"M0 0h24v24H0V0z\" fill=\"none\"/>\n",
              "    <path d=\"M18.56 5.44l.94 2.06.94-2.06 2.06-.94-2.06-.94-.94-2.06-.94 2.06-2.06.94zm-11 1L8.5 8.5l.94-2.06 2.06-.94-2.06-.94L8.5 2.5l-.94 2.06-2.06.94zm10 10l.94 2.06.94-2.06 2.06-.94-2.06-.94-.94-2.06-.94 2.06-2.06.94z\"/><path d=\"M17.41 7.96l-1.37-1.37c-.4-.4-.92-.59-1.43-.59-.52 0-1.04.2-1.43.59L10.3 9.45l-7.72 7.72c-.78.78-.78 2.05 0 2.83L4 21.41c.39.39.9.59 1.41.59.51 0 1.02-.2 1.41-.59l7.78-7.78 2.81-2.81c.8-.78.8-2.07 0-2.86zM5.41 20L4 18.59l7.72-7.72 1.47 1.35L5.41 20z\"/>\n",
              "  </svg>\n",
              "      </button>\n",
              "      \n",
              "  <style>\n",
              "    .colab-df-container {\n",
              "      display:flex;\n",
              "      flex-wrap:wrap;\n",
              "      gap: 12px;\n",
              "    }\n",
              "\n",
              "    .colab-df-convert {\n",
              "      background-color: #E8F0FE;\n",
              "      border: none;\n",
              "      border-radius: 50%;\n",
              "      cursor: pointer;\n",
              "      display: none;\n",
              "      fill: #1967D2;\n",
              "      height: 32px;\n",
              "      padding: 0 0 0 0;\n",
              "      width: 32px;\n",
              "    }\n",
              "\n",
              "    .colab-df-convert:hover {\n",
              "      background-color: #E2EBFA;\n",
              "      box-shadow: 0px 1px 2px rgba(60, 64, 67, 0.3), 0px 1px 3px 1px rgba(60, 64, 67, 0.15);\n",
              "      fill: #174EA6;\n",
              "    }\n",
              "\n",
              "    [theme=dark] .colab-df-convert {\n",
              "      background-color: #3B4455;\n",
              "      fill: #D2E3FC;\n",
              "    }\n",
              "\n",
              "    [theme=dark] .colab-df-convert:hover {\n",
              "      background-color: #434B5C;\n",
              "      box-shadow: 0px 1px 3px 1px rgba(0, 0, 0, 0.15);\n",
              "      filter: drop-shadow(0px 1px 2px rgba(0, 0, 0, 0.3));\n",
              "      fill: #FFFFFF;\n",
              "    }\n",
              "  </style>\n",
              "\n",
              "      <script>\n",
              "        const buttonEl =\n",
              "          document.querySelector('#df-50ac3f31-5ec0-419c-a080-d27daf68fae9 button.colab-df-convert');\n",
              "        buttonEl.style.display =\n",
              "          google.colab.kernel.accessAllowed ? 'block' : 'none';\n",
              "\n",
              "        async function convertToInteractive(key) {\n",
              "          const element = document.querySelector('#df-50ac3f31-5ec0-419c-a080-d27daf68fae9');\n",
              "          const dataTable =\n",
              "            await google.colab.kernel.invokeFunction('convertToInteractive',\n",
              "                                                     [key], {});\n",
              "          if (!dataTable) return;\n",
              "\n",
              "          const docLinkHtml = 'Like what you see? Visit the ' +\n",
              "            '<a target=\"_blank\" href=https://colab.research.google.com/notebooks/data_table.ipynb>data table notebook</a>'\n",
              "            + ' to learn more about interactive tables.';\n",
              "          element.innerHTML = '';\n",
              "          dataTable['output_type'] = 'display_data';\n",
              "          await google.colab.output.renderOutput(dataTable, element);\n",
              "          const docLink = document.createElement('div');\n",
              "          docLink.innerHTML = docLinkHtml;\n",
              "          element.appendChild(docLink);\n",
              "        }\n",
              "      </script>\n",
              "    </div>\n",
              "  </div>\n",
              "  "
            ]
          },
          "metadata": {},
          "execution_count": 3
        }
      ],
      "source": [
        "import pandas as pd\n",
        "\n",
        "tmdb5000 = pd.read_csv('tmdb_5000_movies.csv')\n",
        "\n",
        "tmdb5000.head( )"
      ]
    },
    {
      "cell_type": "markdown",
      "source": [
        "So, our tmdb5000 dataset has information about:\n",
        "\n",
        "* Budget\n",
        "* Genre\n",
        "* Homepage\n",
        "* ID\n",
        "* Keywords\n",
        "* Original language\n",
        "* Original title\n",
        "* Overview\n",
        "* Popularity\n",
        "* Production companies\n",
        "* Production countries\n",
        "* Release data\n",
        "* Revenue\n",
        "* Runtime\n",
        "* Spoken languages\n",
        "* Status\n",
        "* Tagline\n",
        "* Title\n",
        "* Vote_average\n",
        "* Vote count\n",
        "\n",
        "So, in this course, we will be worried about the vote_average and vote count. Let's see more about the vote_average attribute:"
      ],
      "metadata": {
        "id": "GXNEqcwM-wyS"
      }
    },
    {
      "cell_type": "code",
      "source": [
        "tmdb5000['vote_average'].describe( )"
      ],
      "metadata": {
        "colab": {
          "base_uri": "https://localhost:8080/"
        },
        "id": "h-dq0POr-wFx",
        "outputId": "62e6b9dd-e0b7-49f6-82cb-b8517d4e670d"
      },
      "execution_count": 4,
      "outputs": [
        {
          "output_type": "execute_result",
          "data": {
            "text/plain": [
              "count    2434.000000\n",
              "mean        6.167379\n",
              "std         0.870716\n",
              "min         0.000000\n",
              "25%         5.700000\n",
              "50%         6.200000\n",
              "75%         6.700000\n",
              "max         9.300000\n",
              "Name: vote_average, dtype: float64"
            ]
          },
          "metadata": {},
          "execution_count": 4
        }
      ]
    },
    {
      "cell_type": "markdown",
      "source": [
        "So, our votes go from 0 to 10, and the average grade is 6.09. Let's plot a histogram for the vote_average:"
      ],
      "metadata": {
        "id": "nn3taRjy_k5h"
      }
    },
    {
      "cell_type": "markdown",
      "source": [
        "$k = 1 + \\frac{10}{3} \\, \\log_{10} n$"
      ],
      "metadata": {
        "id": "aXZrwSQ6AKNy"
      }
    },
    {
      "cell_type": "markdown",
      "source": [
        ""
      ],
      "metadata": {
        "id": "lUIfY2rLAKLS"
      }
    },
    {
      "cell_type": "code",
      "source": [
        "import seaborn as sns\n",
        "import numpy as np\n",
        "\n",
        "# k = int(round(1 + (10/3)*np.log10(tmdb5000.shape[0]), 0))\n",
        "\n",
        "ax = sns.histplot(tmdb5000.vote_average, bins = 50, stat = 'density', kde = True)\n",
        "ax.set_title(\"Histogram for the average vote\")\n",
        "ax.figure.set_size_inches(8,6)"
      ],
      "metadata": {
        "colab": {
          "base_uri": "https://localhost:8080/",
          "height": 404
        },
        "id": "raUgKnU4_jc2",
        "outputId": "70767872-2f78-4acf-a8ea-042ab76a52b3"
      },
      "execution_count": 5,
      "outputs": [
        {
          "output_type": "display_data",
          "data": {
            "text/plain": [
              "<Figure size 576x432 with 1 Axes>"
            ],
            "image/png": "[encoded data removed]"
          },
          "metadata": {
            "needs_background": "light"
          }
        }
      ]
    },
    {
      "cell_type": "markdown",
      "source": [
        "Using the *kde* parameter and choosing a density plot, we can see that the parameter distribution is similar to a Normal (bell-shaped). Let's draw a boxplot, which allows us to see some separating measures:"
      ],
      "metadata": {
        "id": "d2gNKtZnBkhv"
      }
    },
    {
      "cell_type": "code",
      "source": [
        "ax = sns.boxplot(x = tmdb5000.vote_average)\n",
        "ax.figure.set_size_inches(8,6)"
      ],
      "metadata": {
        "colab": {
          "base_uri": "https://localhost:8080/",
          "height": 388
        },
        "id": "GtzplaNa_7VS",
        "outputId": "bdafbad1-626f-4e6c-e305-92ede849432a"
      },
      "execution_count": 6,
      "outputs": [
        {
          "output_type": "display_data",
          "data": {
            "text/plain": [
              "<Figure size 576x432 with 1 Axes>"
            ],
            "image/png": "[encoded data removed]"
          },
          "metadata": {
            "needs_background": "light"
          }
        }
      ]
    },
    {
      "cell_type": "markdown",
      "source": [
        "Now, let's analyze our plots. Isn't it stange that so many movies have a vote average of 0? It means that **no one** gave a grade higher than 0 to these movies. \n",
        "\n",
        "Let's try to analyze these cases:"
      ],
      "metadata": {
        "id": "r3gPqHCYFlqx"
      }
    },
    {
      "cell_type": "code",
      "source": [
        "tmdb5000.query('vote_average == 0')[['vote_average', 'vote_count']].head(10)"
      ],
      "metadata": {
        "colab": {
          "base_uri": "https://localhost:8080/",
          "height": 81
        },
        "id": "hXzNNkd_FJB1",
        "outputId": "481fe6c7-6876-453a-97a2-8609de482fa1"
      },
      "execution_count": 7,
      "outputs": [
        {
          "output_type": "execute_result",
          "data": {
            "text/plain": [
              "      vote_average  vote_count\n",
              "1464           0.0         0.0"
            ],
            "text/html": [
              "\n",
              "  <div id=\"df-a4e52b9d-ea95-4d56-896d-d75522d7fb69\">\n",
              "    <div class=\"colab-df-container\">\n",
              "      <div>\n",
              "<style scoped>\n",
              "    .dataframe tbody tr th:only-of-type {\n",
              "        vertical-align: middle;\n",
              "    }\n",
              "\n",
              "    .dataframe tbody tr th {\n",
              "        vertical-align: top;\n",
              "    }\n",
              "\n",
              "    .dataframe thead th {\n",
              "        text-align: right;\n",
              "    }\n",
              "</style>\n",
              "<table border=\"1\" class=\"dataframe\">\n",
              "  <thead>\n",
              "    <tr style=\"text-align: right;\">\n",
              "      <th></th>\n",
              "      <th>vote_average</th>\n",
              "      <th>vote_count</th>\n",
              "    </tr>\n",
              "  </thead>\n",
              "  <tbody>\n",
              "    <tr>\n",
              "      <th>1464</th>\n",
              "      <td>0.0</td>\n",
              "      <td>0.0</td>\n",
              "    </tr>\n",
              "  </tbody>\n",
              "</table>\n",
              "</div>\n",
              "      <button class=\"colab-df-convert\" onclick=\"convertToInteractive('df-a4e52b9d-ea95-4d56-896d-d75522d7fb69')\"\n",
              "              title=\"Convert this dataframe to an interactive table.\"\n",
              "              style=\"display:none;\">\n",
              "        \n",
              "  <svg xmlns=\"http://www.w3.org/2000/svg\" height=\"24px\"viewBox=\"0 0 24 24\"\n",
              "       width=\"24px\">\n",
              "    <path d=\"M0 0h24v24H0V0z\" fill=\"none\"/>\n",
              "    <path d=\"M18.56 5.44l.94 2.06.94-2.06 2.06-.94-2.06-.94-.94-2.06-.94 2.06-2.06.94zm-11 1L8.5 8.5l.94-2.06 2.06-.94-2.06-.94L8.5 2.5l-.94 2.06-2.06.94zm10 10l.94 2.06.94-2.06 2.06-.94-2.06-.94-.94-2.06-.94 2.06-2.06.94z\"/><path d=\"M17.41 7.96l-1.37-1.37c-.4-.4-.92-.59-1.43-.59-.52 0-1.04.2-1.43.59L10.3 9.45l-7.72 7.72c-.78.78-.78 2.05 0 2.83L4 21.41c.39.39.9.59 1.41.59.51 0 1.02-.2 1.41-.59l7.78-7.78 2.81-2.81c.8-.78.8-2.07 0-2.86zM5.41 20L4 18.59l7.72-7.72 1.47 1.35L5.41 20z\"/>\n",
              "  </svg>\n",
              "      </button>\n",
              "      \n",
              "  <style>\n",
              "    .colab-df-container {\n",
              "      display:flex;\n",
              "      flex-wrap:wrap;\n",
              "      gap: 12px;\n",
              "    }\n",
              "\n",
              "    .colab-df-convert {\n",
              "      background-color: #E8F0FE;\n",
              "      border: none;\n",
              "      border-radius: 50%;\n",
              "      cursor: pointer;\n",
              "      display: none;\n",
              "      fill: #1967D2;\n",
              "      height: 32px;\n",
              "      padding: 0 0 0 0;\n",
              "      width: 32px;\n",
              "    }\n",
              "\n",
              "    .colab-df-convert:hover {\n",
              "      background-color: #E2EBFA;\n",
              "      box-shadow: 0px 1px 2px rgba(60, 64, 67, 0.3), 0px 1px 3px 1px rgba(60, 64, 67, 0.15);\n",
              "      fill: #174EA6;\n",
              "    }\n",
              "\n",
              "    [theme=dark] .colab-df-convert {\n",
              "      background-color: #3B4455;\n",
              "      fill: #D2E3FC;\n",
              "    }\n",
              "\n",
              "    [theme=dark] .colab-df-convert:hover {\n",
              "      background-color: #434B5C;\n",
              "      box-shadow: 0px 1px 3px 1px rgba(0, 0, 0, 0.15);\n",
              "      filter: drop-shadow(0px 1px 2px rgba(0, 0, 0, 0.3));\n",
              "      fill: #FFFFFF;\n",
              "    }\n",
              "  </style>\n",
              "\n",
              "      <script>\n",
              "        const buttonEl =\n",
              "          document.querySelector('#df-a4e52b9d-ea95-4d56-896d-d75522d7fb69 button.colab-df-convert');\n",
              "        buttonEl.style.display =\n",
              "          google.colab.kernel.accessAllowed ? 'block' : 'none';\n",
              "\n",
              "        async function convertToInteractive(key) {\n",
              "          const element = document.querySelector('#df-a4e52b9d-ea95-4d56-896d-d75522d7fb69');\n",
              "          const dataTable =\n",
              "            await google.colab.kernel.invokeFunction('convertToInteractive',\n",
              "                                                     [key], {});\n",
              "          if (!dataTable) return;\n",
              "\n",
              "          const docLinkHtml = 'Like what you see? Visit the ' +\n",
              "            '<a target=\"_blank\" href=https://colab.research.google.com/notebooks/data_table.ipynb>data table notebook</a>'\n",
              "            + ' to learn more about interactive tables.';\n",
              "          element.innerHTML = '';\n",
              "          dataTable['output_type'] = 'display_data';\n",
              "          await google.colab.output.renderOutput(dataTable, element);\n",
              "          const docLink = document.createElement('div');\n",
              "          docLink.innerHTML = docLinkHtml;\n",
              "          element.appendChild(docLink);\n",
              "        }\n",
              "      </script>\n",
              "    </div>\n",
              "  </div>\n",
              "  "
            ]
          },
          "metadata": {},
          "execution_count": 7
        }
      ]
    },
    {
      "cell_type": "markdown",
      "source": [
        "We can actually see that, in a lot of these movies, actually no one voted! Than, the vote average ended up being 0.0. So, let's clean our dataset, taking the observations with very few votes out of our sample:"
      ],
      "metadata": {
        "id": "2kINLbZOGFqK"
      }
    },
    {
      "cell_type": "code",
      "source": [
        "tmdb5000 = tmdb5000.query('vote_count > 10').reset_index(drop = True)"
      ],
      "metadata": {
        "id": "-2l9C9goF63W"
      },
      "execution_count": 8,
      "outputs": []
    },
    {
      "cell_type": "markdown",
      "source": [
        "Now, let's analyze again our variable vote_average:"
      ],
      "metadata": {
        "id": "6eHSvlieG99Q"
      }
    },
    {
      "cell_type": "code",
      "source": [
        "tmdb5000.vote_average.describe( )"
      ],
      "metadata": {
        "colab": {
          "base_uri": "https://localhost:8080/"
        },
        "id": "juCPtoVCGkbN",
        "outputId": "6765b4b0-f2b0-49a0-bfab-dd442682b2bf"
      },
      "execution_count": 9,
      "outputs": [
        {
          "output_type": "execute_result",
          "data": {
            "text/plain": [
              "count    2413.000000\n",
              "mean        6.177994\n",
              "std         0.843255\n",
              "min         1.900000\n",
              "25%         5.700000\n",
              "50%         6.200000\n",
              "75%         6.700000\n",
              "max         8.500000\n",
              "Name: vote_average, dtype: float64"
            ]
          },
          "metadata": {},
          "execution_count": 9
        }
      ]
    },
    {
      "cell_type": "markdown",
      "source": [
        "Now, the minimum vote average is 1.9, and the maximum is 8.5. That occurs because, since we are taking the mean of $x$ votes, it is very unlikely that everyone agrees on the rating of a movie: some think that it is good, some think that it is bad. Thus, extremes are much more rare. Let's draw the histogram again:"
      ],
      "metadata": {
        "id": "upCLOgpZHEXZ"
      }
    },
    {
      "cell_type": "code",
      "source": [
        "ax = sns.histplot(tmdb5000.vote_average, bins = 50, stat = 'density', kde = True)\n",
        "ax.set_title(\"Histogram for the average vote\")\n",
        "ax.figure.set_size_inches(8,6)"
      ],
      "metadata": {
        "colab": {
          "base_uri": "https://localhost:8080/",
          "height": 404
        },
        "id": "xU7BRBy8HDmy",
        "outputId": "2610a7c4-4117-4f83-8c2c-c5f17a80ddd8"
      },
      "execution_count": 10,
      "outputs": [
        {
          "output_type": "display_data",
          "data": {
            "text/plain": [
              "<Figure size 576x432 with 1 Axes>"
            ],
            "image/png": "[encoded data removed]"
          },
          "metadata": {
            "needs_background": "light"
          }
        }
      ]
    },
    {
      "cell_type": "markdown",
      "source": [
        "Our plot looks a lot like a Normal curve. However, it is slightly left-skewed. To check if this data comes from a Normal distribution we can perform a normality test:"
      ],
      "metadata": {
        "id": "HXKaPWMAHh_o"
      }
    },
    {
      "cell_type": "code",
      "source": [
        "from scipy.stats import normaltest\n",
        "\n",
        "significance = 0.05\n",
        "\n",
        "normaltest(tmdb5000.vote_average)"
      ],
      "metadata": {
        "colab": {
          "base_uri": "https://localhost:8080/"
        },
        "id": "f2_tac_1HaIy",
        "outputId": "68d47292-da86-4aeb-9796-4ed1315bd287"
      },
      "execution_count": 11,
      "outputs": [
        {
          "output_type": "execute_result",
          "data": {
            "text/plain": [
              "NormaltestResult(statistic=103.99679676768935, pvalue=2.6144630844940783e-23)"
            ]
          },
          "metadata": {},
          "execution_count": 11
        }
      ]
    },
    {
      "cell_type": "markdown",
      "source": [
        "Since our p_value is lower than the test significance, we can not say that this distribution comes from a Normal!"
      ],
      "metadata": {
        "id": "9eaIOBNAICw_"
      }
    },
    {
      "cell_type": "markdown",
      "source": [
        "Ok, now that we checked the data from tmdb5000 and made some cleaning, let's check the data from movielens:"
      ],
      "metadata": {
        "id": "gmz7QqazIPRZ"
      }
    },
    {
      "cell_type": "code",
      "source": [
        "movielens = pd.read_csv('ratings.csv')\n",
        "movielens"
      ],
      "metadata": {
        "colab": {
          "base_uri": "https://localhost:8080/",
          "height": 424
        },
        "id": "38IxuwmzHxzK",
        "outputId": "b8ba95ac-1330-42bb-dc8a-3b7ece3868cf"
      },
      "execution_count": 12,
      "outputs": [
        {
          "output_type": "execute_result",
          "data": {
            "text/plain": [
              "        userId  movieId  rating   timestamp\n",
              "0            1        1     4.0   964982703\n",
              "1            1        3     4.0   964981247\n",
              "2            1        6     4.0   964982224\n",
              "3            1       47     5.0   964983815\n",
              "4            1       50     5.0   964982931\n",
              "...        ...      ...     ...         ...\n",
              "100831     610   166534     4.0  1493848402\n",
              "100832     610   168248     5.0  1493850091\n",
              "100833     610   168250     5.0  1494273047\n",
              "100834     610   168252     5.0  1493846352\n",
              "100835     610   170875     3.0  1493846415\n",
              "\n",
              "[100836 rows x 4 columns]"
            ],
            "text/html": [
              "\n",
              "  <div id=\"df-926ef266-f0a5-4412-ab10-87d54c176c35\">\n",
              "    <div class=\"colab-df-container\">\n",
              "      <div>\n",
              "<style scoped>\n",
              "    .dataframe tbody tr th:only-of-type {\n",
              "        vertical-align: middle;\n",
              "    }\n",
              "\n",
              "    .dataframe tbody tr th {\n",
              "        vertical-align: top;\n",
              "    }\n",
              "\n",
              "    .dataframe thead th {\n",
              "        text-align: right;\n",
              "    }\n",
              "</style>\n",
              "<table border=\"1\" class=\"dataframe\">\n",
              "  <thead>\n",
              "    <tr style=\"text-align: right;\">\n",
              "      <th></th>\n",
              "      <th>userId</th>\n",
              "      <th>movieId</th>\n",
              "      <th>rating</th>\n",
              "      <th>timestamp</th>\n",
              "    </tr>\n",
              "  </thead>\n",
              "  <tbody>\n",
              "    <tr>\n",
              "      <th>0</th>\n",
              "      <td>1</td>\n",
              "      <td>1</td>\n",
              "      <td>4.0</td>\n",
              "      <td>964982703</td>\n",
              "    </tr>\n",
              "    <tr>\n",
              "      <th>1</th>\n",
              "      <td>1</td>\n",
              "      <td>3</td>\n",
              "      <td>4.0</td>\n",
              "      <td>964981247</td>\n",
              "    </tr>\n",
              "    <tr>\n",
              "      <th>2</th>\n",
              "      <td>1</td>\n",
              "      <td>6</td>\n",
              "      <td>4.0</td>\n",
              "      <td>964982224</td>\n",
              "    </tr>\n",
              "    <tr>\n",
              "      <th>3</th>\n",
              "      <td>1</td>\n",
              "      <td>47</td>\n",
              "      <td>5.0</td>\n",
              "      <td>964983815</td>\n",
              "    </tr>\n",
              "    <tr>\n",
              "      <th>4</th>\n",
              "      <td>1</td>\n",
              "      <td>50</td>\n",
              "      <td>5.0</td>\n",
              "      <td>964982931</td>\n",
              "    </tr>\n",
              "    <tr>\n",
              "      <th>...</th>\n",
              "      <td>...</td>\n",
              "      <td>...</td>\n",
              "      <td>...</td>\n",
              "      <td>...</td>\n",
              "    </tr>\n",
              "    <tr>\n",
              "      <th>100831</th>\n",
              "      <td>610</td>\n",
              "      <td>166534</td>\n",
              "      <td>4.0</td>\n",
              "      <td>1493848402</td>\n",
              "    </tr>\n",
              "    <tr>\n",
              "      <th>100832</th>\n",
              "      <td>610</td>\n",
              "      <td>168248</td>\n",
              "      <td>5.0</td>\n",
              "      <td>1493850091</td>\n",
              "    </tr>\n",
              "    <tr>\n",
              "      <th>100833</th>\n",
              "      <td>610</td>\n",
              "      <td>168250</td>\n",
              "      <td>5.0</td>\n",
              "      <td>1494273047</td>\n",
              "    </tr>\n",
              "    <tr>\n",
              "      <th>100834</th>\n",
              "      <td>610</td>\n",
              "      <td>168252</td>\n",
              "      <td>5.0</td>\n",
              "      <td>1493846352</td>\n",
              "    </tr>\n",
              "    <tr>\n",
              "      <th>100835</th>\n",
              "      <td>610</td>\n",
              "      <td>170875</td>\n",
              "      <td>3.0</td>\n",
              "      <td>1493846415</td>\n",
              "    </tr>\n",
              "  </tbody>\n",
              "</table>\n",
              "<p>100836 rows × 4 columns</p>\n",
              "</div>\n",
              "      <button class=\"colab-df-convert\" onclick=\"convertToInteractive('df-926ef266-f0a5-4412-ab10-87d54c176c35')\"\n",
              "              title=\"Convert this dataframe to an interactive table.\"\n",
              "              style=\"display:none;\">\n",
              "        \n",
              "  <svg xmlns=\"http://www.w3.org/2000/svg\" height=\"24px\"viewBox=\"0 0 24 24\"\n",
              "       width=\"24px\">\n",
              "    <path d=\"M0 0h24v24H0V0z\" fill=\"none\"/>\n",
              "    <path d=\"M18.56 5.44l.94 2.06.94-2.06 2.06-.94-2.06-.94-.94-2.06-.94 2.06-2.06.94zm-11 1L8.5 8.5l.94-2.06 2.06-.94-2.06-.94L8.5 2.5l-.94 2.06-2.06.94zm10 10l.94 2.06.94-2.06 2.06-.94-2.06-.94-.94-2.06-.94 2.06-2.06.94z\"/><path d=\"M17.41 7.96l-1.37-1.37c-.4-.4-.92-.59-1.43-.59-.52 0-1.04.2-1.43.59L10.3 9.45l-7.72 7.72c-.78.78-.78 2.05 0 2.83L4 21.41c.39.39.9.59 1.41.59.51 0 1.02-.2 1.41-.59l7.78-7.78 2.81-2.81c.8-.78.8-2.07 0-2.86zM5.41 20L4 18.59l7.72-7.72 1.47 1.35L5.41 20z\"/>\n",
              "  </svg>\n",
              "      </button>\n",
              "      \n",
              "  <style>\n",
              "    .colab-df-container {\n",
              "      display:flex;\n",
              "      flex-wrap:wrap;\n",
              "      gap: 12px;\n",
              "    }\n",
              "\n",
              "    .colab-df-convert {\n",
              "      background-color: #E8F0FE;\n",
              "      border: none;\n",
              "      border-radius: 50%;\n",
              "      cursor: pointer;\n",
              "      display: none;\n",
              "      fill: #1967D2;\n",
              "      height: 32px;\n",
              "      padding: 0 0 0 0;\n",
              "      width: 32px;\n",
              "    }\n",
              "\n",
              "    .colab-df-convert:hover {\n",
              "      background-color: #E2EBFA;\n",
              "      box-shadow: 0px 1px 2px rgba(60, 64, 67, 0.3), 0px 1px 3px 1px rgba(60, 64, 67, 0.15);\n",
              "      fill: #174EA6;\n",
              "    }\n",
              "\n",
              "    [theme=dark] .colab-df-convert {\n",
              "      background-color: #3B4455;\n",
              "      fill: #D2E3FC;\n",
              "    }\n",
              "\n",
              "    [theme=dark] .colab-df-convert:hover {\n",
              "      background-color: #434B5C;\n",
              "      box-shadow: 0px 1px 3px 1px rgba(0, 0, 0, 0.15);\n",
              "      filter: drop-shadow(0px 1px 2px rgba(0, 0, 0, 0.3));\n",
              "      fill: #FFFFFF;\n",
              "    }\n",
              "  </style>\n",
              "\n",
              "      <script>\n",
              "        const buttonEl =\n",
              "          document.querySelector('#df-926ef266-f0a5-4412-ab10-87d54c176c35 button.colab-df-convert');\n",
              "        buttonEl.style.display =\n",
              "          google.colab.kernel.accessAllowed ? 'block' : 'none';\n",
              "\n",
              "        async function convertToInteractive(key) {\n",
              "          const element = document.querySelector('#df-926ef266-f0a5-4412-ab10-87d54c176c35');\n",
              "          const dataTable =\n",
              "            await google.colab.kernel.invokeFunction('convertToInteractive',\n",
              "                                                     [key], {});\n",
              "          if (!dataTable) return;\n",
              "\n",
              "          const docLinkHtml = 'Like what you see? Visit the ' +\n",
              "            '<a target=\"_blank\" href=https://colab.research.google.com/notebooks/data_table.ipynb>data table notebook</a>'\n",
              "            + ' to learn more about interactive tables.';\n",
              "          element.innerHTML = '';\n",
              "          dataTable['output_type'] = 'display_data';\n",
              "          await google.colab.output.renderOutput(dataTable, element);\n",
              "          const docLink = document.createElement('div');\n",
              "          docLink.innerHTML = docLinkHtml;\n",
              "          element.appendChild(docLink);\n",
              "        }\n",
              "      </script>\n",
              "    </div>\n",
              "  </div>\n",
              "  "
            ]
          },
          "metadata": {},
          "execution_count": 12
        }
      ]
    },
    {
      "cell_type": "markdown",
      "source": [
        "Here, our data has a different format: we have the movie id, and the rating given by the user to that movie. So, let's get the average votes for each movie:"
      ],
      "metadata": {
        "id": "88bCIKpMIrCP"
      }
    },
    {
      "cell_type": "code",
      "source": [
        "movielens_agg = pd.DataFrame( )\n",
        "\n",
        "movielens_agg['vote_average'] = movielens.groupby('movieId')['rating'].mean( )\n",
        "movielens_agg['vote_count'] = movielens.groupby('movieId')['rating'].count( )\n",
        "movielens_agg"
      ],
      "metadata": {
        "colab": {
          "base_uri": "https://localhost:8080/",
          "height": 455
        },
        "id": "7EKkmV-bIqbv",
        "outputId": "f44a899a-7a31-442e-bcc9-e4d78d7823d4"
      },
      "execution_count": 13,
      "outputs": [
        {
          "output_type": "execute_result",
          "data": {
            "text/plain": [
              "         vote_average  vote_count\n",
              "movieId                          \n",
              "1            3.920930         215\n",
              "2            3.431818         110\n",
              "3            3.259615          52\n",
              "4            2.357143           7\n",
              "5            3.071429          49\n",
              "...               ...         ...\n",
              "193581       4.000000           1\n",
              "193583       3.500000           1\n",
              "193585       3.500000           1\n",
              "193587       3.500000           1\n",
              "193609       4.000000           1\n",
              "\n",
              "[9724 rows x 2 columns]"
            ],
            "text/html": [
              "\n",
              "  <div id=\"df-e06e444f-c340-4b0f-8516-d91aac546751\">\n",
              "    <div class=\"colab-df-container\">\n",
              "      <div>\n",
              "<style scoped>\n",
              "    .dataframe tbody tr th:only-of-type {\n",
              "        vertical-align: middle;\n",
              "    }\n",
              "\n",
              "    .dataframe tbody tr th {\n",
              "        vertical-align: top;\n",
              "    }\n",
              "\n",
              "    .dataframe thead th {\n",
              "        text-align: right;\n",
              "    }\n",
              "</style>\n",
              "<table border=\"1\" class=\"dataframe\">\n",
              "  <thead>\n",
              "    <tr style=\"text-align: right;\">\n",
              "      <th></th>\n",
              "      <th>vote_average</th>\n",
              "      <th>vote_count</th>\n",
              "    </tr>\n",
              "    <tr>\n",
              "      <th>movieId</th>\n",
              "      <th></th>\n",
              "      <th></th>\n",
              "    </tr>\n",
              "  </thead>\n",
              "  <tbody>\n",
              "    <tr>\n",
              "      <th>1</th>\n",
              "      <td>3.920930</td>\n",
              "      <td>215</td>\n",
              "    </tr>\n",
              "    <tr>\n",
              "      <th>2</th>\n",
              "      <td>3.431818</td>\n",
              "      <td>110</td>\n",
              "    </tr>\n",
              "    <tr>\n",
              "      <th>3</th>\n",
              "      <td>3.259615</td>\n",
              "      <td>52</td>\n",
              "    </tr>\n",
              "    <tr>\n",
              "      <th>4</th>\n",
              "      <td>2.357143</td>\n",
              "      <td>7</td>\n",
              "    </tr>\n",
              "    <tr>\n",
              "      <th>5</th>\n",
              "      <td>3.071429</td>\n",
              "      <td>49</td>\n",
              "    </tr>\n",
              "    <tr>\n",
              "      <th>...</th>\n",
              "      <td>...</td>\n",
              "      <td>...</td>\n",
              "    </tr>\n",
              "    <tr>\n",
              "      <th>193581</th>\n",
              "      <td>4.000000</td>\n",
              "      <td>1</td>\n",
              "    </tr>\n",
              "    <tr>\n",
              "      <th>193583</th>\n",
              "      <td>3.500000</td>\n",
              "      <td>1</td>\n",
              "    </tr>\n",
              "    <tr>\n",
              "      <th>193585</th>\n",
              "      <td>3.500000</td>\n",
              "      <td>1</td>\n",
              "    </tr>\n",
              "    <tr>\n",
              "      <th>193587</th>\n",
              "      <td>3.500000</td>\n",
              "      <td>1</td>\n",
              "    </tr>\n",
              "    <tr>\n",
              "      <th>193609</th>\n",
              "      <td>4.000000</td>\n",
              "      <td>1</td>\n",
              "    </tr>\n",
              "  </tbody>\n",
              "</table>\n",
              "<p>9724 rows × 2 columns</p>\n",
              "</div>\n",
              "      <button class=\"colab-df-convert\" onclick=\"convertToInteractive('df-e06e444f-c340-4b0f-8516-d91aac546751')\"\n",
              "              title=\"Convert this dataframe to an interactive table.\"\n",
              "              style=\"display:none;\">\n",
              "        \n",
              "  <svg xmlns=\"http://www.w3.org/2000/svg\" height=\"24px\"viewBox=\"0 0 24 24\"\n",
              "       width=\"24px\">\n",
              "    <path d=\"M0 0h24v24H0V0z\" fill=\"none\"/>\n",
              "    <path d=\"M18.56 5.44l.94 2.06.94-2.06 2.06-.94-2.06-.94-.94-2.06-.94 2.06-2.06.94zm-11 1L8.5 8.5l.94-2.06 2.06-.94-2.06-.94L8.5 2.5l-.94 2.06-2.06.94zm10 10l.94 2.06.94-2.06 2.06-.94-2.06-.94-.94-2.06-.94 2.06-2.06.94z\"/><path d=\"M17.41 7.96l-1.37-1.37c-.4-.4-.92-.59-1.43-.59-.52 0-1.04.2-1.43.59L10.3 9.45l-7.72 7.72c-.78.78-.78 2.05 0 2.83L4 21.41c.39.39.9.59 1.41.59.51 0 1.02-.2 1.41-.59l7.78-7.78 2.81-2.81c.8-.78.8-2.07 0-2.86zM5.41 20L4 18.59l7.72-7.72 1.47 1.35L5.41 20z\"/>\n",
              "  </svg>\n",
              "      </button>\n",
              "      \n",
              "  <style>\n",
              "    .colab-df-container {\n",
              "      display:flex;\n",
              "      flex-wrap:wrap;\n",
              "      gap: 12px;\n",
              "    }\n",
              "\n",
              "    .colab-df-convert {\n",
              "      background-color: #E8F0FE;\n",
              "      border: none;\n",
              "      border-radius: 50%;\n",
              "      cursor: pointer;\n",
              "      display: none;\n",
              "      fill: #1967D2;\n",
              "      height: 32px;\n",
              "      padding: 0 0 0 0;\n",
              "      width: 32px;\n",
              "    }\n",
              "\n",
              "    .colab-df-convert:hover {\n",
              "      background-color: #E2EBFA;\n",
              "      box-shadow: 0px 1px 2px rgba(60, 64, 67, 0.3), 0px 1px 3px 1px rgba(60, 64, 67, 0.15);\n",
              "      fill: #174EA6;\n",
              "    }\n",
              "\n",
              "    [theme=dark] .colab-df-convert {\n",
              "      background-color: #3B4455;\n",
              "      fill: #D2E3FC;\n",
              "    }\n",
              "\n",
              "    [theme=dark] .colab-df-convert:hover {\n",
              "      background-color: #434B5C;\n",
              "      box-shadow: 0px 1px 3px 1px rgba(0, 0, 0, 0.15);\n",
              "      filter: drop-shadow(0px 1px 2px rgba(0, 0, 0, 0.3));\n",
              "      fill: #FFFFFF;\n",
              "    }\n",
              "  </style>\n",
              "\n",
              "      <script>\n",
              "        const buttonEl =\n",
              "          document.querySelector('#df-e06e444f-c340-4b0f-8516-d91aac546751 button.colab-df-convert');\n",
              "        buttonEl.style.display =\n",
              "          google.colab.kernel.accessAllowed ? 'block' : 'none';\n",
              "\n",
              "        async function convertToInteractive(key) {\n",
              "          const element = document.querySelector('#df-e06e444f-c340-4b0f-8516-d91aac546751');\n",
              "          const dataTable =\n",
              "            await google.colab.kernel.invokeFunction('convertToInteractive',\n",
              "                                                     [key], {});\n",
              "          if (!dataTable) return;\n",
              "\n",
              "          const docLinkHtml = 'Like what you see? Visit the ' +\n",
              "            '<a target=\"_blank\" href=https://colab.research.google.com/notebooks/data_table.ipynb>data table notebook</a>'\n",
              "            + ' to learn more about interactive tables.';\n",
              "          element.innerHTML = '';\n",
              "          dataTable['output_type'] = 'display_data';\n",
              "          await google.colab.output.renderOutput(dataTable, element);\n",
              "          const docLink = document.createElement('div');\n",
              "          docLink.innerHTML = docLinkHtml;\n",
              "          element.appendChild(docLink);\n",
              "        }\n",
              "      </script>\n",
              "    </div>\n",
              "  </div>\n",
              "  "
            ]
          },
          "metadata": {},
          "execution_count": 13
        }
      ]
    },
    {
      "cell_type": "markdown",
      "source": [
        "Once again, let's plot a histogram:"
      ],
      "metadata": {
        "id": "oivnk-54JkKP"
      }
    },
    {
      "cell_type": "code",
      "source": [
        "ax = sns.histplot(movielens_agg.vote_average, bins = 50, stat = 'density', kde = True)\n",
        "ax.set_title(\"Histogram for the average vote\")\n",
        "ax.figure.set_size_inches(8,6)"
      ],
      "metadata": {
        "colab": {
          "base_uri": "https://localhost:8080/",
          "height": 404
        },
        "id": "WlTUqHxTJH3j",
        "outputId": "893c08ff-2b78-41fe-ce08-ff13260bb929"
      },
      "execution_count": 14,
      "outputs": [
        {
          "output_type": "display_data",
          "data": {
            "text/plain": [
              "<Figure size 576x432 with 1 Axes>"
            ],
            "image/png": "[encoded data removed]"
          },
          "metadata": {
            "needs_background": "light"
          }
        }
      ]
    },
    {
      "cell_type": "markdown",
      "source": [
        "This time, our plot follows a very differentcurve. Note that we have a peak in every step-size (0, 1, 1.5, 2, 2.5,..., 5). This may be due to considering data with a very low number of votes. So, let's clean our dataset:"
      ],
      "metadata": {
        "id": "LgqvgDwmJuBa"
      }
    },
    {
      "cell_type": "code",
      "source": [
        "movielens_agg = movielens_agg.query('vote_count > 10')\n",
        "movielens_agg"
      ],
      "metadata": {
        "colab": {
          "base_uri": "https://localhost:8080/",
          "height": 455
        },
        "id": "J8FZK3DdJoeg",
        "outputId": "a0ac4068-f4a3-4b97-c90f-bfede76e0bf6"
      },
      "execution_count": 15,
      "outputs": [
        {
          "output_type": "execute_result",
          "data": {
            "text/plain": [
              "         vote_average  vote_count\n",
              "movieId                          \n",
              "1            3.920930         215\n",
              "2            3.431818         110\n",
              "3            3.259615          52\n",
              "5            3.071429          49\n",
              "6            3.946078         102\n",
              "...               ...         ...\n",
              "174055       3.423077          13\n",
              "176371       3.805556          18\n",
              "177765       3.538462          13\n",
              "179819       3.125000          12\n",
              "187593       3.875000          12\n",
              "\n",
              "[2121 rows x 2 columns]"
            ],
            "text/html": [
              "\n",
              "  <div id=\"df-97997f93-856d-444e-ad82-3ea4d6b12bd8\">\n",
              "    <div class=\"colab-df-container\">\n",
              "      <div>\n",
              "<style scoped>\n",
              "    .dataframe tbody tr th:only-of-type {\n",
              "        vertical-align: middle;\n",
              "    }\n",
              "\n",
              "    .dataframe tbody tr th {\n",
              "        vertical-align: top;\n",
              "    }\n",
              "\n",
              "    .dataframe thead th {\n",
              "        text-align: right;\n",
              "    }\n",
              "</style>\n",
              "<table border=\"1\" class=\"dataframe\">\n",
              "  <thead>\n",
              "    <tr style=\"text-align: right;\">\n",
              "      <th></th>\n",
              "      <th>vote_average</th>\n",
              "      <th>vote_count</th>\n",
              "    </tr>\n",
              "    <tr>\n",
              "      <th>movieId</th>\n",
              "      <th></th>\n",
              "      <th></th>\n",
              "    </tr>\n",
              "  </thead>\n",
              "  <tbody>\n",
              "    <tr>\n",
              "      <th>1</th>\n",
              "      <td>3.920930</td>\n",
              "      <td>215</td>\n",
              "    </tr>\n",
              "    <tr>\n",
              "      <th>2</th>\n",
              "      <td>3.431818</td>\n",
              "      <td>110</td>\n",
              "    </tr>\n",
              "    <tr>\n",
              "      <th>3</th>\n",
              "      <td>3.259615</td>\n",
              "      <td>52</td>\n",
              "    </tr>\n",
              "    <tr>\n",
              "      <th>5</th>\n",
              "      <td>3.071429</td>\n",
              "      <td>49</td>\n",
              "    </tr>\n",
              "    <tr>\n",
              "      <th>6</th>\n",
              "      <td>3.946078</td>\n",
              "      <td>102</td>\n",
              "    </tr>\n",
              "    <tr>\n",
              "      <th>...</th>\n",
              "      <td>...</td>\n",
              "      <td>...</td>\n",
              "    </tr>\n",
              "    <tr>\n",
              "      <th>174055</th>\n",
              "      <td>3.423077</td>\n",
              "      <td>13</td>\n",
              "    </tr>\n",
              "    <tr>\n",
              "      <th>176371</th>\n",
              "      <td>3.805556</td>\n",
              "      <td>18</td>\n",
              "    </tr>\n",
              "    <tr>\n",
              "      <th>177765</th>\n",
              "      <td>3.538462</td>\n",
              "      <td>13</td>\n",
              "    </tr>\n",
              "    <tr>\n",
              "      <th>179819</th>\n",
              "      <td>3.125000</td>\n",
              "      <td>12</td>\n",
              "    </tr>\n",
              "    <tr>\n",
              "      <th>187593</th>\n",
              "      <td>3.875000</td>\n",
              "      <td>12</td>\n",
              "    </tr>\n",
              "  </tbody>\n",
              "</table>\n",
              "<p>2121 rows × 2 columns</p>\n",
              "</div>\n",
              "      <button class=\"colab-df-convert\" onclick=\"convertToInteractive('df-97997f93-856d-444e-ad82-3ea4d6b12bd8')\"\n",
              "              title=\"Convert this dataframe to an interactive table.\"\n",
              "              style=\"display:none;\">\n",
              "        \n",
              "  <svg xmlns=\"http://www.w3.org/2000/svg\" height=\"24px\"viewBox=\"0 0 24 24\"\n",
              "       width=\"24px\">\n",
              "    <path d=\"M0 0h24v24H0V0z\" fill=\"none\"/>\n",
              "    <path d=\"M18.56 5.44l.94 2.06.94-2.06 2.06-.94-2.06-.94-.94-2.06-.94 2.06-2.06.94zm-11 1L8.5 8.5l.94-2.06 2.06-.94-2.06-.94L8.5 2.5l-.94 2.06-2.06.94zm10 10l.94 2.06.94-2.06 2.06-.94-2.06-.94-.94-2.06-.94 2.06-2.06.94z\"/><path d=\"M17.41 7.96l-1.37-1.37c-.4-.4-.92-.59-1.43-.59-.52 0-1.04.2-1.43.59L10.3 9.45l-7.72 7.72c-.78.78-.78 2.05 0 2.83L4 21.41c.39.39.9.59 1.41.59.51 0 1.02-.2 1.41-.59l7.78-7.78 2.81-2.81c.8-.78.8-2.07 0-2.86zM5.41 20L4 18.59l7.72-7.72 1.47 1.35L5.41 20z\"/>\n",
              "  </svg>\n",
              "      </button>\n",
              "      \n",
              "  <style>\n",
              "    .colab-df-container {\n",
              "      display:flex;\n",
              "      flex-wrap:wrap;\n",
              "      gap: 12px;\n",
              "    }\n",
              "\n",
              "    .colab-df-convert {\n",
              "      background-color: #E8F0FE;\n",
              "      border: none;\n",
              "      border-radius: 50%;\n",
              "      cursor: pointer;\n",
              "      display: none;\n",
              "      fill: #1967D2;\n",
              "      height: 32px;\n",
              "      padding: 0 0 0 0;\n",
              "      width: 32px;\n",
              "    }\n",
              "\n",
              "    .colab-df-convert:hover {\n",
              "      background-color: #E2EBFA;\n",
              "      box-shadow: 0px 1px 2px rgba(60, 64, 67, 0.3), 0px 1px 3px 1px rgba(60, 64, 67, 0.15);\n",
              "      fill: #174EA6;\n",
              "    }\n",
              "\n",
              "    [theme=dark] .colab-df-convert {\n",
              "      background-color: #3B4455;\n",
              "      fill: #D2E3FC;\n",
              "    }\n",
              "\n",
              "    [theme=dark] .colab-df-convert:hover {\n",
              "      background-color: #434B5C;\n",
              "      box-shadow: 0px 1px 3px 1px rgba(0, 0, 0, 0.15);\n",
              "      filter: drop-shadow(0px 1px 2px rgba(0, 0, 0, 0.3));\n",
              "      fill: #FFFFFF;\n",
              "    }\n",
              "  </style>\n",
              "\n",
              "      <script>\n",
              "        const buttonEl =\n",
              "          document.querySelector('#df-97997f93-856d-444e-ad82-3ea4d6b12bd8 button.colab-df-convert');\n",
              "        buttonEl.style.display =\n",
              "          google.colab.kernel.accessAllowed ? 'block' : 'none';\n",
              "\n",
              "        async function convertToInteractive(key) {\n",
              "          const element = document.querySelector('#df-97997f93-856d-444e-ad82-3ea4d6b12bd8');\n",
              "          const dataTable =\n",
              "            await google.colab.kernel.invokeFunction('convertToInteractive',\n",
              "                                                     [key], {});\n",
              "          if (!dataTable) return;\n",
              "\n",
              "          const docLinkHtml = 'Like what you see? Visit the ' +\n",
              "            '<a target=\"_blank\" href=https://colab.research.google.com/notebooks/data_table.ipynb>data table notebook</a>'\n",
              "            + ' to learn more about interactive tables.';\n",
              "          element.innerHTML = '';\n",
              "          dataTable['output_type'] = 'display_data';\n",
              "          await google.colab.output.renderOutput(dataTable, element);\n",
              "          const docLink = document.createElement('div');\n",
              "          docLink.innerHTML = docLinkHtml;\n",
              "          element.appendChild(docLink);\n",
              "        }\n",
              "      </script>\n",
              "    </div>\n",
              "  </div>\n",
              "  "
            ]
          },
          "metadata": {},
          "execution_count": 15
        }
      ]
    },
    {
      "cell_type": "markdown",
      "source": [
        "Now, let's draw our histogram once again:"
      ],
      "metadata": {
        "id": "Nia3rFN-KiRP"
      }
    },
    {
      "cell_type": "code",
      "source": [
        "ax = sns.histplot(movielens_agg.vote_average, bins = 50, stat = 'density', kde = True)\n",
        "ax.set_title(\"Histogram for the average vote\")\n",
        "ax.figure.set_size_inches(8,6)"
      ],
      "metadata": {
        "colab": {
          "base_uri": "https://localhost:8080/",
          "height": 404
        },
        "id": "4XkLpIYRKTdH",
        "outputId": "897996b8-8fa8-44fc-ce13-aec5dbf6f2bb"
      },
      "execution_count": 16,
      "outputs": [
        {
          "output_type": "display_data",
          "data": {
            "text/plain": [
              "<Figure size 576x432 with 1 Axes>"
            ],
            "image/png": "[encoded data removed]"
          },
          "metadata": {
            "needs_background": "light"
          }
        }
      ]
    },
    {
      "cell_type": "markdown",
      "source": [
        "Great! Our distribution looks much more smooth. Let's draw a boxplot for this result:"
      ],
      "metadata": {
        "id": "X8vUN_pIKoif"
      }
    },
    {
      "cell_type": "code",
      "source": [
        "ax = sns.boxplot(x = movielens_agg.vote_average)\n",
        "ax.figure.set_size_inches(8,6)"
      ],
      "metadata": {
        "colab": {
          "base_uri": "https://localhost:8080/",
          "height": 388
        },
        "id": "9oLy3eCXKmrT",
        "outputId": "9f1cfa81-1bdd-4ce4-f17c-fbdf0e17765e"
      },
      "execution_count": 17,
      "outputs": [
        {
          "output_type": "display_data",
          "data": {
            "text/plain": [
              "<Figure size 576x432 with 1 Axes>"
            ],
            "image/png": "[encoded data removed]"
          },
          "metadata": {
            "needs_background": "light"
          }
        }
      ]
    },
    {
      "cell_type": "markdown",
      "source": [
        "In some cases, we want to see how a given movie fares when compared to all others. For instance, how a movie with average 4.2 is compared to the others? Which percentile does it represent? \n",
        "\n",
        "This information can be found using a cumulative distribution. We can draw a cumulative histogram by:"
      ],
      "metadata": {
        "id": "TNEKRuUtMOD3"
      }
    },
    {
      "cell_type": "code",
      "source": [
        "ax = sns.histplot(movielens_agg.vote_average, bins = 50, stat = 'density', kde = True, cumulative = True)\n",
        "ax.set_title(\"Histogram for the average vote\")\n",
        "ax.figure.set_size_inches(12,8)"
      ],
      "metadata": {
        "colab": {
          "base_uri": "https://localhost:8080/",
          "height": 513
        },
        "id": "SaWbo91eKxs2",
        "outputId": "003e514d-e6b5-4091-b6b7-3445c49686cd"
      },
      "execution_count": 18,
      "outputs": [
        {
          "output_type": "display_data",
          "data": {
            "text/plain": [
              "<Figure size 864x576 with 1 Axes>"
            ],
            "image/png": "[encoded data removed]"
          },
          "metadata": {
            "needs_background": "light"
          }
        }
      ]
    },
    {
      "cell_type": "markdown",
      "source": [
        "Here we can see, for instace, that 50% of the movies has less than vote_average = 3.5. Also, we can see that a movie with vote_average = 4.2 is among the top 10%. The cumulative histogram gives us a lot of important information for comparison purposes."
      ],
      "metadata": {
        "id": "ODAX9gj9Mt73"
      }
    },
    {
      "cell_type": "markdown",
      "source": [
        "Information about the quantile can also be found using:"
      ],
      "metadata": {
        "id": "UjWv8YjmSIwf"
      }
    },
    {
      "cell_type": "code",
      "source": [
        "movielens_agg.vote_average.quantile(0.5)"
      ],
      "metadata": {
        "colab": {
          "base_uri": "https://localhost:8080/"
        },
        "id": "Z-JkKqFMSMD2",
        "outputId": "e3c43bcd-deca-419c-a313-3800a19da925"
      },
      "execution_count": 19,
      "outputs": [
        {
          "output_type": "execute_result",
          "data": {
            "text/plain": [
              "3.5"
            ]
          },
          "metadata": {},
          "execution_count": 19
        }
      ]
    },
    {
      "cell_type": "code",
      "source": [
        "movielens_agg.vote_average.quantile(0.9)"
      ],
      "metadata": {
        "colab": {
          "base_uri": "https://localhost:8080/"
        },
        "id": "kzro7T04SP_m",
        "outputId": "39a29ef8-8d45-446d-b72c-0df6cd9dd3bc"
      },
      "execution_count": 20,
      "outputs": [
        {
          "output_type": "execute_result",
          "data": {
            "text/plain": [
              "4.027027027027027"
            ]
          },
          "metadata": {},
          "execution_count": 20
        }
      ]
    },
    {
      "cell_type": "markdown",
      "source": [
        "## Visualizing other aspects\n",
        "\n",
        "So, we have visualized our empirical data distribution. Now, let's try to analyze other features. Let's plot the distribution for the vote_count:"
      ],
      "metadata": {
        "id": "POEOeCNINNfi"
      }
    },
    {
      "cell_type": "code",
      "source": [
        "ax = sns.histplot(movielens_agg.vote_count, bins = 50, stat = 'density', kde = True)\n",
        "ax.set_title(\"Histogram for the vote count\")\n",
        "ax.figure.set_size_inches(12,8)"
      ],
      "metadata": {
        "colab": {
          "base_uri": "https://localhost:8080/",
          "height": 513
        },
        "id": "TthLdzfTMhM2",
        "outputId": "5c57bcd6-89b2-492d-f182-b947ecafd37e"
      },
      "execution_count": 21,
      "outputs": [
        {
          "output_type": "display_data",
          "data": {
            "text/plain": [
              "<Figure size 864x576 with 1 Axes>"
            ],
            "image/png": "[encoded data removed]"
          },
          "metadata": {
            "needs_background": "light"
          }
        }
      ]
    },
    {
      "cell_type": "markdown",
      "source": [
        "This distribution is very different from a Normal distribution. In fact, it looks a lot like an exponential distribution, where the frequency for a lower vote_count is higher. \n",
        "\n",
        "This makes sense, since most of the movies will have a very low number of vote_count. This can also be seen when we analyze the tmdb5000 dataset:"
      ],
      "metadata": {
        "id": "9VdlyIAsNkS_"
      }
    },
    {
      "cell_type": "code",
      "source": [
        "ax = sns.histplot(tmdb5000.vote_count, bins = 50, stat = 'density', kde = True)\n",
        "ax.set_title(\"Histogram for the vote count\")\n",
        "ax.figure.set_size_inches(12,8)"
      ],
      "metadata": {
        "colab": {
          "base_uri": "https://localhost:8080/",
          "height": 513
        },
        "id": "uoymdcdWNhBR",
        "outputId": "89476488-4628-400a-eacf-a163b1435c9e"
      },
      "execution_count": 22,
      "outputs": [
        {
          "output_type": "display_data",
          "data": {
            "text/plain": [
              "<Figure size 864x576 with 1 Axes>"
            ],
            "image/png": "[encoded data removed]"
          },
          "metadata": {
            "needs_background": "light"
          }
        }
      ]
    },
    {
      "cell_type": "markdown",
      "source": [
        "Now, let's look for the distribution over the budget of each movie. Here, we will make a query to exclude those with budget = 0."
      ],
      "metadata": {
        "id": "3BudsQ9RODIr"
      }
    },
    {
      "cell_type": "code",
      "source": [
        "tmdb = pd.read_csv('tmdb_5000_movies.csv')\n",
        "tmdb_budget_clean = tmdb.query('budget > 0')"
      ],
      "metadata": {
        "id": "wm7DBi4NN3xD"
      },
      "execution_count": 23,
      "outputs": []
    },
    {
      "cell_type": "markdown",
      "source": [
        "Now, let's draw our histogram:"
      ],
      "metadata": {
        "id": "ObFGuitgObkn"
      }
    },
    {
      "cell_type": "code",
      "source": [
        "ax = sns.histplot(tmdb_budget_clean.budget, bins = 50, stat = 'density', kde = True)\n",
        "ax.set_title(\"Histogram for the budget\")\n",
        "ax.figure.set_size_inches(12,8)"
      ],
      "metadata": {
        "colab": {
          "base_uri": "https://localhost:8080/",
          "height": 513
        },
        "id": "vYADfKDkOZ8z",
        "outputId": "886cf543-b895-4653-a581-56a322fa068e"
      },
      "execution_count": 24,
      "outputs": [
        {
          "output_type": "display_data",
          "data": {
            "text/plain": [
              "<Figure size 864x576 with 1 Axes>"
            ],
            "image/png": "[encoded data removed]"
          },
          "metadata": {
            "needs_background": "light"
          }
        }
      ]
    },
    {
      "cell_type": "markdown",
      "source": [
        "Again, this looks a lot like an exponential distribution. What about popularity?"
      ],
      "metadata": {
        "id": "HplpbdaLPt-8"
      }
    },
    {
      "cell_type": "code",
      "source": [
        "ax = sns.histplot(tmdb.popularity, bins = 50, stat = 'density', kde = True)\n",
        "ax.set_title(\"Histogram for the popularity\")\n",
        "ax.figure.set_size_inches(12,8)"
      ],
      "metadata": {
        "colab": {
          "base_uri": "https://localhost:8080/",
          "height": 513
        },
        "id": "-Gv54XM3OegG",
        "outputId": "2e6480c2-9404-4e3a-8c55-77dc1158fe1c"
      },
      "execution_count": 25,
      "outputs": [
        {
          "output_type": "display_data",
          "data": {
            "text/plain": [
              "<Figure size 864x576 with 1 Axes>"
            ],
            "image/png": "[encoded data removed]"
          },
          "metadata": {
            "needs_background": "light"
          }
        }
      ]
    },
    {
      "cell_type": "markdown",
      "source": [
        "Again, very close to a exponential. Now, let's analyze the runtime. Here, we will exclude those data will null values and also those where runtime = 0."
      ],
      "metadata": {
        "id": "OFxr86b3QFpv"
      }
    },
    {
      "cell_type": "code",
      "source": [
        "ax = sns.histplot(tmdb.query('runtime > 0').runtime.dropna( ), bins = 50, stat = 'density', kde = True)\n",
        "ax.set_title(\"Histogram for the runtime\")\n",
        "ax.figure.set_size_inches(12,8)"
      ],
      "metadata": {
        "colab": {
          "base_uri": "https://localhost:8080/",
          "height": 513
        },
        "id": "xrFqbD2LQEtp",
        "outputId": "de41c835-3792-4d80-9caa-526f97f43d58"
      },
      "execution_count": 26,
      "outputs": [
        {
          "output_type": "display_data",
          "data": {
            "text/plain": [
              "<Figure size 864x576 with 1 Axes>"
            ],
            "image/png": "[encoded data removed]"
          },
          "metadata": {
            "needs_background": "light"
          }
        }
      ]
    },
    {
      "cell_type": "markdown",
      "source": [
        "This looks like right-skewed bell. Actually, it looks a lot like a Gumbel distribution:\n",
        "\n",
        "https://en.wikipedia.org/wiki/Gumbel_distribution"
      ],
      "metadata": {
        "id": "kTei3Gp-Q7l5"
      }
    },
    {
      "cell_type": "markdown",
      "source": [
        "# One-sample tests\n",
        "\n",
        "So, from our sample, we can define some estimates for the populational parameters. For instance, using the dataset from movielens, we can get the estimate for the mean vote_average by:"
      ],
      "metadata": {
        "id": "hU1rKOEmSozJ"
      }
    },
    {
      "cell_type": "code",
      "source": [
        "mean_va_ml = movielens_agg.vote_average.mean( )\n",
        "mean_va_ml"
      ],
      "metadata": {
        "colab": {
          "base_uri": "https://localhost:8080/"
        },
        "id": "N7oiW_SsQ5o_",
        "outputId": "f70c496e-a957-4344-ba1c-01283801366d"
      },
      "execution_count": 27,
      "outputs": [
        {
          "output_type": "execute_result",
          "data": {
            "text/plain": [
              "3.4438105717465843"
            ]
          },
          "metadata": {},
          "execution_count": 27
        }
      ]
    },
    {
      "cell_type": "markdown",
      "source": [
        "Note that the mean is dependent on the sample size. Also, as we increase our sample, we are more confident in the estimate for the mean evaluated using the sample. \n",
        "\n",
        "As as example, we can evaluate the mean for an increasing number of samples (from 1 to $n$, where $n$ is the total number of sample). Let's evaluate this:"
      ],
      "metadata": {
        "id": "fN5OAqBSaGvw"
      }
    },
    {
      "cell_type": "code",
      "source": [
        "np.random.seed(75243)\n",
        "va = movielens_agg.vote_average\n",
        "temp = va.sample(frac = 1)\n",
        "\n",
        "mean_list = [np.mean(temp[0:i]) for i in range(1, len(temp))]"
      ],
      "metadata": {
        "id": "PlDbUaiKZfEb"
      },
      "execution_count": 28,
      "outputs": []
    },
    {
      "cell_type": "markdown",
      "source": [
        "Now, let's see how the mean value varies as we increase the number of samples."
      ],
      "metadata": {
        "id": "TPM0T-kna5zi"
      }
    },
    {
      "cell_type": "code",
      "source": [
        "import matplotlib.pyplot as plt\n",
        "\n",
        "plt.plot(mean_list)"
      ],
      "metadata": {
        "colab": {
          "base_uri": "https://localhost:8080/",
          "height": 282
        },
        "id": "srMerDL9aq-R",
        "outputId": "c2f249f1-4be8-4cce-e6b0-ce78b79e92f0"
      },
      "execution_count": 29,
      "outputs": [
        {
          "output_type": "execute_result",
          "data": {
            "text/plain": [
              "[<matplotlib.lines.Line2D at 0x7fc865b6d690>]"
            ]
          },
          "metadata": {},
          "execution_count": 29
        },
        {
          "output_type": "display_data",
          "data": {
            "text/plain": [
              "<Figure size 432x288 with 1 Axes>"
            ],
            "image/png": "[encoded data removed]"
          },
          "metadata": {
            "needs_background": "light"
          }
        }
      ]
    },
    {
      "cell_type": "markdown",
      "source": [
        "When we have few observations, as we increase the number of samples, our mean varies **a lot**. When we have more than 1000 samples, our mean varies much less.\n",
        "\n",
        "This shows that, as we evaluate a mean, we don't really know if this mean represents the real value (populational mean). In fact, it rarely shows us the exact populational mean. However, we can use some statistical tests to give us some confidence on our approach. "
      ],
      "metadata": {
        "id": "bjl9oELZbDWJ"
      }
    },
    {
      "cell_type": "markdown",
      "source": [
        "Thus, let's draw a confidence interval for our mean. We can draw the confidence interval using:\n",
        "\\begin{equation}\n",
        "\\mu = \\bar{x} \\pm z \\, \\frac{s}{\\sqrt{n}}\n",
        "\\end{equation}\n",
        "Or we can simply use built-in function from Python libraries. Thus, considering a significance level of 5%:"
      ],
      "metadata": {
        "id": "ak5_0aSJcmG0"
      }
    },
    {
      "cell_type": "code",
      "source": [
        "from scipy.stats import norm\n",
        "\n",
        "n = movielens_agg.vote_average.count( )\n",
        "significance = 0.05\n",
        "confidence = 1 - significance\n",
        "mean_va_ml  = movielens_agg.vote_average.mean( )\n",
        "sigma_va_ml = movielens_agg.vote_average.std( )/np.sqrt(n)\n",
        "\n",
        "norm.interval(confidence, loc = mean_va_ml, scale = sigma_va_ml)"
      ],
      "metadata": {
        "colab": {
          "base_uri": "https://localhost:8080/"
        },
        "id": "GkZWpjrZbAbf",
        "outputId": "ff94709e-4296-4cba-b893-4eb56a1d166d"
      },
      "execution_count": 30,
      "outputs": [
        {
          "output_type": "execute_result",
          "data": {
            "text/plain": [
              "(3.4226681322185164, 3.4649530112746523)"
            ]
          },
          "metadata": {},
          "execution_count": 30
        }
      ]
    },
    {
      "cell_type": "markdown",
      "source": [
        "Another function that does the same thing is:"
      ],
      "metadata": {
        "id": "XOh3pwYudmVj"
      }
    },
    {
      "cell_type": "code",
      "source": [
        "from statsmodels.stats.weightstats import zconfint\n",
        "\n",
        "zconfint(movielens_agg.vote_average)"
      ],
      "metadata": {
        "colab": {
          "base_uri": "https://localhost:8080/"
        },
        "id": "L7tVTYhLdhvb",
        "outputId": "9c9e30f1-b56b-4f1e-d63a-1b888e74e6c9"
      },
      "execution_count": 31,
      "outputs": [
        {
          "output_type": "stream",
          "name": "stderr",
          "text": [
            "/usr/local/lib/python3.7/dist-packages/statsmodels/tools/_testing.py:19: FutureWarning: pandas.util.testing is deprecated. Use the functions in the public API at pandas.testing instead.\n",
            "  import pandas.util.testing as tm\n"
          ]
        },
        {
          "output_type": "execute_result",
          "data": {
            "text/plain": [
              "(3.422668132218516, 3.464953011274652)"
            ]
          },
          "metadata": {},
          "execution_count": 31
        }
      ]
    },
    {
      "cell_type": "markdown",
      "source": [
        "By default, this function already assumes $\\alpha = 0.05$. Otherwise, we could have passed the *alpha* parameter, as in:"
      ],
      "metadata": {
        "id": "8mr3RBzbeRIz"
      }
    },
    {
      "cell_type": "code",
      "source": [
        "zconfint(movielens_agg.vote_average, alpha = 0.05)"
      ],
      "metadata": {
        "colab": {
          "base_uri": "https://localhost:8080/"
        },
        "id": "aoJjd_umd9dU",
        "outputId": "8d2e7229-a875-4f15-a119-f001167804d4"
      },
      "execution_count": 32,
      "outputs": [
        {
          "output_type": "execute_result",
          "data": {
            "text/plain": [
              "(3.422668132218516, 3.464953011274652)"
            ]
          },
          "metadata": {},
          "execution_count": 32
        }
      ]
    },
    {
      "cell_type": "markdown",
      "source": [
        "Note that, when we have few data points (usually less than 30), we usually need to employ the t-Student distribution. In this case, we could do:"
      ],
      "metadata": {
        "id": "6U34u-Feej62"
      }
    },
    {
      "cell_type": "code",
      "source": [
        "from scipy.stats import t as t_student\n",
        "\n",
        "dof = n - 1\n",
        "\n",
        "t_student.interval(confidence, dof, loc = mean_va_ml, scale = sigma_va_ml)"
      ],
      "metadata": {
        "colab": {
          "base_uri": "https://localhost:8080/"
        },
        "id": "bFGbie3PecaA",
        "outputId": "1ea4be4b-c511-466e-b87a-8e0bb2235ff6"
      },
      "execution_count": 33,
      "outputs": [
        {
          "output_type": "execute_result",
          "data": {
            "text/plain": [
              "(3.4226560546570117, 3.464965088836157)"
            ]
          },
          "metadata": {},
          "execution_count": 33
        }
      ]
    },
    {
      "cell_type": "markdown",
      "source": [
        "Here, our interval using the t-Student distribution is very close to the Normal because we have a large sample."
      ],
      "metadata": {
        "id": "jx1neF96e-nR"
      }
    },
    {
      "cell_type": "markdown",
      "source": [
        "## Z-test to one sample\n",
        "\n",
        "Ok, let's try another thing: let's study each movie separately."
      ],
      "metadata": {
        "id": "ZfAOwkkqff8V"
      }
    },
    {
      "cell_type": "code",
      "source": [
        "movies = pd.read_csv('movies.csv')"
      ],
      "metadata": {
        "id": "OMLxaqL0e8BM"
      },
      "execution_count": 34,
      "outputs": []
    },
    {
      "cell_type": "markdown",
      "source": [
        "In this dataframe, we have the relation between movid Id and movie name. For instance:"
      ],
      "metadata": {
        "id": "ItO7qDE1f0XB"
      }
    },
    {
      "cell_type": "code",
      "source": [
        "movies.head( )"
      ],
      "metadata": {
        "colab": {
          "base_uri": "https://localhost:8080/",
          "height": 206
        },
        "id": "xFyD8L1Mfvu3",
        "outputId": "c37c845d-0257-4aa3-9f76-431f18c69b6e"
      },
      "execution_count": 35,
      "outputs": [
        {
          "output_type": "execute_result",
          "data": {
            "text/plain": [
              "   movieId                               title  \\\n",
              "0        1                    Toy Story (1995)   \n",
              "1        2                      Jumanji (1995)   \n",
              "2        3             Grumpier Old Men (1995)   \n",
              "3        4            Waiting to Exhale (1995)   \n",
              "4        5  Father of the Bride Part II (1995)   \n",
              "\n",
              "                                        genres  \n",
              "0  Adventure|Animation|Children|Comedy|Fantasy  \n",
              "1                   Adventure|Children|Fantasy  \n",
              "2                               Comedy|Romance  \n",
              "3                         Comedy|Drama|Romance  \n",
              "4                                       Comedy  "
            ],
            "text/html": [
              "\n",
              "  <div id=\"df-21d292fb-6cb0-4883-96ff-308d429b690f\">\n",
              "    <div class=\"colab-df-container\">\n",
              "      <div>\n",
              "<style scoped>\n",
              "    .dataframe tbody tr th:only-of-type {\n",
              "        vertical-align: middle;\n",
              "    }\n",
              "\n",
              "    .dataframe tbody tr th {\n",
              "        vertical-align: top;\n",
              "    }\n",
              "\n",
              "    .dataframe thead th {\n",
              "        text-align: right;\n",
              "    }\n",
              "</style>\n",
              "<table border=\"1\" class=\"dataframe\">\n",
              "  <thead>\n",
              "    <tr style=\"text-align: right;\">\n",
              "      <th></th>\n",
              "      <th>movieId</th>\n",
              "      <th>title</th>\n",
              "      <th>genres</th>\n",
              "    </tr>\n",
              "  </thead>\n",
              "  <tbody>\n",
              "    <tr>\n",
              "      <th>0</th>\n",
              "      <td>1</td>\n",
              "      <td>Toy Story (1995)</td>\n",
              "      <td>Adventure|Animation|Children|Comedy|Fantasy</td>\n",
              "    </tr>\n",
              "    <tr>\n",
              "      <th>1</th>\n",
              "      <td>2</td>\n",
              "      <td>Jumanji (1995)</td>\n",
              "      <td>Adventure|Children|Fantasy</td>\n",
              "    </tr>\n",
              "    <tr>\n",
              "      <th>2</th>\n",
              "      <td>3</td>\n",
              "      <td>Grumpier Old Men (1995)</td>\n",
              "      <td>Comedy|Romance</td>\n",
              "    </tr>\n",
              "    <tr>\n",
              "      <th>3</th>\n",
              "      <td>4</td>\n",
              "      <td>Waiting to Exhale (1995)</td>\n",
              "      <td>Comedy|Drama|Romance</td>\n",
              "    </tr>\n",
              "    <tr>\n",
              "      <th>4</th>\n",
              "      <td>5</td>\n",
              "      <td>Father of the Bride Part II (1995)</td>\n",
              "      <td>Comedy</td>\n",
              "    </tr>\n",
              "  </tbody>\n",
              "</table>\n",
              "</div>\n",
              "      <button class=\"colab-df-convert\" onclick=\"convertToInteractive('df-21d292fb-6cb0-4883-96ff-308d429b690f')\"\n",
              "              title=\"Convert this dataframe to an interactive table.\"\n",
              "              style=\"display:none;\">\n",
              "        \n",
              "  <svg xmlns=\"http://www.w3.org/2000/svg\" height=\"24px\"viewBox=\"0 0 24 24\"\n",
              "       width=\"24px\">\n",
              "    <path d=\"M0 0h24v24H0V0z\" fill=\"none\"/>\n",
              "    <path d=\"M18.56 5.44l.94 2.06.94-2.06 2.06-.94-2.06-.94-.94-2.06-.94 2.06-2.06.94zm-11 1L8.5 8.5l.94-2.06 2.06-.94-2.06-.94L8.5 2.5l-.94 2.06-2.06.94zm10 10l.94 2.06.94-2.06 2.06-.94-2.06-.94-.94-2.06-.94 2.06-2.06.94z\"/><path d=\"M17.41 7.96l-1.37-1.37c-.4-.4-.92-.59-1.43-.59-.52 0-1.04.2-1.43.59L10.3 9.45l-7.72 7.72c-.78.78-.78 2.05 0 2.83L4 21.41c.39.39.9.59 1.41.59.51 0 1.02-.2 1.41-.59l7.78-7.78 2.81-2.81c.8-.78.8-2.07 0-2.86zM5.41 20L4 18.59l7.72-7.72 1.47 1.35L5.41 20z\"/>\n",
              "  </svg>\n",
              "      </button>\n",
              "      \n",
              "  <style>\n",
              "    .colab-df-container {\n",
              "      display:flex;\n",
              "      flex-wrap:wrap;\n",
              "      gap: 12px;\n",
              "    }\n",
              "\n",
              "    .colab-df-convert {\n",
              "      background-color: #E8F0FE;\n",
              "      border: none;\n",
              "      border-radius: 50%;\n",
              "      cursor: pointer;\n",
              "      display: none;\n",
              "      fill: #1967D2;\n",
              "      height: 32px;\n",
              "      padding: 0 0 0 0;\n",
              "      width: 32px;\n",
              "    }\n",
              "\n",
              "    .colab-df-convert:hover {\n",
              "      background-color: #E2EBFA;\n",
              "      box-shadow: 0px 1px 2px rgba(60, 64, 67, 0.3), 0px 1px 3px 1px rgba(60, 64, 67, 0.15);\n",
              "      fill: #174EA6;\n",
              "    }\n",
              "\n",
              "    [theme=dark] .colab-df-convert {\n",
              "      background-color: #3B4455;\n",
              "      fill: #D2E3FC;\n",
              "    }\n",
              "\n",
              "    [theme=dark] .colab-df-convert:hover {\n",
              "      background-color: #434B5C;\n",
              "      box-shadow: 0px 1px 3px 1px rgba(0, 0, 0, 0.15);\n",
              "      filter: drop-shadow(0px 1px 2px rgba(0, 0, 0, 0.3));\n",
              "      fill: #FFFFFF;\n",
              "    }\n",
              "  </style>\n",
              "\n",
              "      <script>\n",
              "        const buttonEl =\n",
              "          document.querySelector('#df-21d292fb-6cb0-4883-96ff-308d429b690f button.colab-df-convert');\n",
              "        buttonEl.style.display =\n",
              "          google.colab.kernel.accessAllowed ? 'block' : 'none';\n",
              "\n",
              "        async function convertToInteractive(key) {\n",
              "          const element = document.querySelector('#df-21d292fb-6cb0-4883-96ff-308d429b690f');\n",
              "          const dataTable =\n",
              "            await google.colab.kernel.invokeFunction('convertToInteractive',\n",
              "                                                     [key], {});\n",
              "          if (!dataTable) return;\n",
              "\n",
              "          const docLinkHtml = 'Like what you see? Visit the ' +\n",
              "            '<a target=\"_blank\" href=https://colab.research.google.com/notebooks/data_table.ipynb>data table notebook</a>'\n",
              "            + ' to learn more about interactive tables.';\n",
              "          element.innerHTML = '';\n",
              "          dataTable['output_type'] = 'display_data';\n",
              "          await google.colab.output.renderOutput(dataTable, element);\n",
              "          const docLink = document.createElement('div');\n",
              "          docLink.innerHTML = docLinkHtml;\n",
              "          element.appendChild(docLink);\n",
              "        }\n",
              "      </script>\n",
              "    </div>\n",
              "  </div>\n",
              "  "
            ]
          },
          "metadata": {},
          "execution_count": 35
        }
      ]
    },
    {
      "cell_type": "markdown",
      "source": [
        "Movie ID 1 refers to Toy Story, Movie ID 2 refers to Jumanji, and so on."
      ],
      "metadata": {
        "id": "RxDKOQrhf6qr"
      }
    },
    {
      "cell_type": "markdown",
      "source": [
        "So, let's try to analyze the votes for Toy Story only:"
      ],
      "metadata": {
        "id": "-0pZNhEvgFSk"
      }
    },
    {
      "cell_type": "code",
      "source": [
        "ratings = pd.read_csv('ratings.csv')\n",
        "\n",
        "ratings_1 = ratings.query('movieId == 1').rating\n",
        "\n",
        "ratings_1"
      ],
      "metadata": {
        "colab": {
          "base_uri": "https://localhost:8080/"
        },
        "id": "Wq9W6DyVf5ls",
        "outputId": "72c2156f-f130-40bb-ac00-17dfecd8d598"
      },
      "execution_count": 36,
      "outputs": [
        {
          "output_type": "execute_result",
          "data": {
            "text/plain": [
              "0        4.0\n",
              "516      4.0\n",
              "874      4.5\n",
              "1434     2.5\n",
              "1667     4.5\n",
              "        ... \n",
              "97364    2.5\n",
              "98479    4.0\n",
              "98666    2.5\n",
              "99497    3.0\n",
              "99534    5.0\n",
              "Name: rating, Length: 215, dtype: float64"
            ]
          },
          "metadata": {},
          "execution_count": 36
        }
      ]
    },
    {
      "cell_type": "markdown",
      "source": [
        "So, we have 215 observations. Drawing a histogram and a boxplot:"
      ],
      "metadata": {
        "id": "L0P_JrNGghgU"
      }
    },
    {
      "cell_type": "code",
      "source": [
        "ax = sns.histplot(ratings_1, stat = 'density', kde = True)\n",
        "\n",
        "ax.figure.set_size_inches(12,8)"
      ],
      "metadata": {
        "colab": {
          "base_uri": "https://localhost:8080/",
          "height": 497
        },
        "id": "XfxMSfmfgQ9h",
        "outputId": "ddbee217-2eea-455c-e370-1ccd279c0bf9"
      },
      "execution_count": 37,
      "outputs": [
        {
          "output_type": "display_data",
          "data": {
            "text/plain": [
              "<Figure size 864x576 with 1 Axes>"
            ],
            "image/png": "[encoded data removed]"
          },
          "metadata": {
            "needs_background": "light"
          }
        }
      ]
    },
    {
      "cell_type": "code",
      "source": [
        "ax = sns.boxplot(ratings_1)\n",
        "\n",
        "ax.figure.set_size_inches(12,8)"
      ],
      "metadata": {
        "colab": {
          "base_uri": "https://localhost:8080/",
          "height": 552
        },
        "id": "2UucHdBrgc5b",
        "outputId": "de7f5729-8f29-478a-aa79-a8a89121829d"
      },
      "execution_count": 38,
      "outputs": [
        {
          "output_type": "stream",
          "name": "stderr",
          "text": [
            "/usr/local/lib/python3.7/dist-packages/seaborn/_decorators.py:43: FutureWarning: Pass the following variable as a keyword arg: x. From version 0.12, the only valid positional argument will be `data`, and passing other arguments without an explicit keyword will result in an error or misinterpretation.\n",
            "  FutureWarning\n"
          ]
        },
        {
          "output_type": "display_data",
          "data": {
            "text/plain": [
              "<Figure size 864x576 with 1 Axes>"
            ],
            "image/png": "[encoded data removed]"
          },
          "metadata": {
            "needs_background": "light"
          }
        }
      ]
    },
    {
      "cell_type": "markdown",
      "source": [
        "Note that the ratings from Toy Story seems to be higher than the grades overall. Let's draw the mean of each sample:"
      ],
      "metadata": {
        "id": "Jg5jubsNg3gk"
      }
    },
    {
      "cell_type": "markdown",
      "source": [
        "**Ratings of all movies**"
      ],
      "metadata": {
        "id": "SILTnsHyhNgD"
      }
    },
    {
      "cell_type": "code",
      "source": [
        "ratings.rating.mean( )"
      ],
      "metadata": {
        "colab": {
          "base_uri": "https://localhost:8080/"
        },
        "id": "6wLmcfBpgytx",
        "outputId": "6f5f2d35-1441-4f3d-fe3a-cd3982f8a914"
      },
      "execution_count": 39,
      "outputs": [
        {
          "output_type": "execute_result",
          "data": {
            "text/plain": [
              "3.501556983616962"
            ]
          },
          "metadata": {},
          "execution_count": 39
        }
      ]
    },
    {
      "cell_type": "markdown",
      "source": [
        "**Ratings of Toy Story**"
      ],
      "metadata": {
        "id": "8DsBIvOAhUov"
      }
    },
    {
      "cell_type": "code",
      "source": [
        "ratings_1.mean( )"
      ],
      "metadata": {
        "colab": {
          "base_uri": "https://localhost:8080/"
        },
        "id": "eDdqa_UEhSYd",
        "outputId": "23ccbc5a-1903-4aa6-ce9c-15d14401db00"
      },
      "execution_count": 40,
      "outputs": [
        {
          "output_type": "execute_result",
          "data": {
            "text/plain": [
              "3.9209302325581397"
            ]
          },
          "metadata": {},
          "execution_count": 40
        }
      ]
    },
    {
      "cell_type": "markdown",
      "source": [
        "Indeed, ratings for Toy Story seem to be higher. However, how can will be more sure about this? \n",
        "\n",
        "Let's draw a confidence interval:"
      ],
      "metadata": {
        "id": "OdXC4eSdhaX8"
      }
    },
    {
      "cell_type": "code",
      "source": [
        "from scipy.stats import norm\n",
        "\n",
        "mean_test = ratings_1.mean( )\n",
        "std_test = ratings_1.std( )/np.sqrt(ratings_1.count( ))\n",
        "significance = 0.05\n",
        "confidence = 1 - significance\n",
        "\n",
        "norm.interval(confidence, loc = mean_test, scale = std_test)"
      ],
      "metadata": {
        "colab": {
          "base_uri": "https://localhost:8080/"
        },
        "id": "dTL5NY8chXz9",
        "outputId": "c9b875c3-dba0-4aa6-8df9-f8523e0aa4cd"
      },
      "execution_count": 41,
      "outputs": [
        {
          "output_type": "execute_result",
          "data": {
            "text/plain": [
              "(3.8093359183563402, 4.032524546759939)"
            ]
          },
          "metadata": {},
          "execution_count": 41
        }
      ]
    },
    {
      "cell_type": "markdown",
      "source": [
        "Note that the lower bound of the confidence interval is still higher than the average of all movies. However, this is still not a good way of performing this test.\n",
        "\n",
        "The best way of doing this is to actually use a test of hypothesis:"
      ],
      "metadata": {
        "id": "xvvvP8tQh4qM"
      }
    },
    {
      "cell_type": "markdown",
      "source": [
        "\\begin{equation}\n",
        "H_0 : \\mu = 3.50\n",
        "\\end{equation}\n",
        "\n",
        "\\begin{equation}\n",
        "H_0 : \\mu \\neq 3.50\n",
        "\\end{equation}\n",
        "\n",
        "where $\\mu$ is the average for Toy Story. Here, $3.50$ refers to the average of all movies."
      ],
      "metadata": {
        "id": "uPNZK3Y6iKrX"
      }
    },
    {
      "cell_type": "markdown",
      "source": [
        "Now, we can do this using:"
      ],
      "metadata": {
        "id": "OAq0_PE7im2s"
      }
    },
    {
      "cell_type": "code",
      "source": [
        "from statsmodels.stats.weightstats import ztest\n",
        "\n",
        "ztest(x1 = ratings_1, value = ratings.rating.mean( ))"
      ],
      "metadata": {
        "colab": {
          "base_uri": "https://localhost:8080/"
        },
        "id": "ZK70oCTfiKbP",
        "outputId": "328bc892-5f70-4e05-ea69-5db489579a34"
      },
      "execution_count": 42,
      "outputs": [
        {
          "output_type": "execute_result",
          "data": {
            "text/plain": [
              "(7.365576551847334, 1.76382873572034e-13)"
            ]
          },
          "metadata": {},
          "execution_count": 42
        }
      ]
    },
    {
      "cell_type": "markdown",
      "source": [
        "Here, since the p-value is lower than our test significance ($0.05$), we reject the null hypothesis. Thus, we say the populational mean of Toy Story ratings is not 3.50, considering a confidence level of 95%."
      ],
      "metadata": {
        "id": "XZAMaSRZjavD"
      }
    },
    {
      "cell_type": "markdown",
      "source": [
        "Now, let's see the graph for the mean rating for Toy Story as we increase the number of samples:"
      ],
      "metadata": {
        "id": "HeJ_36aqj234"
      }
    },
    {
      "cell_type": "code",
      "source": [
        "np.random.seed(75241)\n",
        "temp = ratings_1.sample(frac = 1)\n",
        "\n",
        "mean_list = [np.mean(temp[0:i]) for i in range(1, len(temp))]\n",
        "\n",
        "plt.plot(mean_list)"
      ],
      "metadata": {
        "colab": {
          "base_uri": "https://localhost:8080/",
          "height": 282
        },
        "id": "AcS8CwwLkIIu",
        "outputId": "dfa76f33-f9aa-4b99-9a00-8b63437a7616"
      },
      "execution_count": 43,
      "outputs": [
        {
          "output_type": "execute_result",
          "data": {
            "text/plain": [
              "[<matplotlib.lines.Line2D at 0x7fc865922e50>]"
            ]
          },
          "metadata": {},
          "execution_count": 43
        },
        {
          "output_type": "display_data",
          "data": {
            "text/plain": [
              "<Figure size 432x288 with 1 Axes>"
            ],
            "image/png": "[encoded data removed]"
          },
          "metadata": {
            "needs_background": "light"
          }
        }
      ]
    },
    {
      "cell_type": "markdown",
      "source": [
        "Again, we see that the mean varies a lot in the start, but it soon stabilizes. Here, however, we still see that the mean is changing a little at the end.\n",
        "\n",
        "But what happens to the z-test as we increase the number of samples:"
      ],
      "metadata": {
        "id": "gaKyXkNIkIIu"
      }
    },
    {
      "cell_type": "code",
      "source": [
        "np.random.seed(75241)\n",
        "temp = ratings_1.sample(frac = 1)\n",
        "\n",
        "def get_ztest(i):\n",
        "  stat, p = ztest(x1 = temp[0:i], value = ratings.rating.mean( ))\n",
        "  return p\n",
        "\n",
        "p_list = [get_ztest(i) for i in range(2, len(temp))]\n",
        "\n",
        "ax = plt.plot(range(2, len(temp)), p_list)\n",
        "ax = plt.hlines(y = 0.05, xmin = 0, xmax = len(temp), colors = 'r', linestyles = 'dashed')\n",
        "ax.figure.set_size_inches(12,8)"
      ],
      "metadata": {
        "colab": {
          "base_uri": "https://localhost:8080/",
          "height": 483
        },
        "id": "qEYayP2lki7f",
        "outputId": "124ec6f3-79c2-4290-f42d-91a6826fc5b0"
      },
      "execution_count": 44,
      "outputs": [
        {
          "output_type": "display_data",
          "data": {
            "text/plain": [
              "<Figure size 864x576 with 1 Axes>"
            ],
            "image/png": "[encoded data removed]"
          },
          "metadata": {
            "needs_background": "light"
          }
        }
      ]
    },
    {
      "cell_type": "markdown",
      "source": [
        "Note that, for $n > 75$, our p-value actually changes very little. However, for lower $n$, it changes **a lot**. Actually, for $n < 50$, in many cases, the p-value is higher than 0.05, which would make us accept the null hypothesis (not enough evidence to reject the null hypothesis)!\n",
        "\n",
        "So, it is very important to have an adequate sample size before making assumptions."
      ],
      "metadata": {
        "id": "pm-8buD_mTz3"
      }
    },
    {
      "cell_type": "markdown",
      "source": [
        "# Two-sample tests\n",
        "\n",
        "Now that we saw how to use one-sample tests, let's see how to draw conclusions using two-sample tests, more specifically the test of difference between means.\n",
        "\n",
        "Using *zconfint( )*, we can get the confidence interval for the difference between means of two samples. For instance, comparing the samples for Toy Story ratings and the ratings for all movies:"
      ],
      "metadata": {
        "id": "5z8D-Uz5nyp6"
      }
    },
    {
      "cell_type": "code",
      "source": [
        "zconfint(ratings_1, ratings.rating)"
      ],
      "metadata": {
        "colab": {
          "base_uri": "https://localhost:8080/"
        },
        "id": "SCVU3g5fmdli",
        "outputId": "3bb675c1-1d88-43b0-c2bd-9bba80e9aed1"
      },
      "execution_count": 45,
      "outputs": [
        {
          "output_type": "execute_result",
          "data": {
            "text/plain": [
              "(0.2799245129192442, 0.5588219849631111)"
            ]
          },
          "metadata": {},
          "execution_count": 45
        }
      ]
    },
    {
      "cell_type": "markdown",
      "source": [
        "This is a confidence interval for the difference between means. Thus, with confidence of 95%, we can say that the average rating for Toy Story is 0.28 to 0.56 points higher than the average rating for all movies."
      ],
      "metadata": {
        "id": "Qqz81BYRog8D"
      }
    },
    {
      "cell_type": "markdown",
      "source": [
        "We can also draw conclusions using a Hypothesis Test. Let's consider a test where:\n",
        "\n",
        "\\begin{equation}\n",
        "H_0 : \\mu_1 - \\mu_2 \\leq 0.0\n",
        "\\end{equation}\n",
        "\n",
        "\\begin{equation}\n",
        "H_1 : \\mu_1 - \\mu_2 > 0.0\n",
        "\\end{equation}\n",
        "where $\\mu_1$ is the average rating for Toy Story and $\\mu_2$ is the average rating for the other movies. Let's evaluate the p-value:"
      ],
      "metadata": {
        "id": "rZ_-GXx0o8ML"
      }
    },
    {
      "cell_type": "code",
      "source": [
        "from statsmodels.stats.weightstats import DescrStatsW, CompareMeans\n",
        "\n",
        "toy_story = DescrStatsW(ratings_1)\n",
        "all_movies = DescrStatsW(ratings.rating)"
      ],
      "metadata": {
        "id": "LIKkL880JzSd"
      },
      "execution_count": 46,
      "outputs": []
    },
    {
      "cell_type": "code",
      "source": [
        "test = CompareMeans(toy_story, all_movies)"
      ],
      "metadata": {
        "id": "6YP7jzZQJ3sX"
      },
      "execution_count": 47,
      "outputs": []
    },
    {
      "cell_type": "code",
      "source": [
        "test.ztest_ind(alternative = \"larger\", value = 0)"
      ],
      "metadata": {
        "colab": {
          "base_uri": "https://localhost:8080/"
        },
        "id": "42F-CSo6KJN-",
        "outputId": "c1c6cc4c-c715-4576-bf4c-38d6b5852357"
      },
      "execution_count": 48,
      "outputs": [
        {
          "output_type": "execute_result",
          "data": {
            "text/plain": [
              "(5.894327101501802, 1.8810563894414285e-09)"
            ]
          },
          "metadata": {},
          "execution_count": 48
        }
      ]
    },
    {
      "cell_type": "markdown",
      "source": [
        "Since the p-value is lower than the test significance, we reject the null hypothesis!"
      ],
      "metadata": {
        "id": "w0iIXP66pj8T"
      }
    },
    {
      "cell_type": "markdown",
      "source": [
        "We can also do the comparison between means using the t-Student distribution:"
      ],
      "metadata": {
        "id": "6Dar0W_RvQ32"
      }
    },
    {
      "cell_type": "code",
      "source": [
        "test.ttest_ind(alternative = \"larger\", value = 0)"
      ],
      "metadata": {
        "colab": {
          "base_uri": "https://localhost:8080/"
        },
        "id": "arFpMNdPph2u",
        "outputId": "b72cd15f-5c8b-4eaf-fdd8-56b257372ca1"
      },
      "execution_count": 49,
      "outputs": [
        {
          "output_type": "execute_result",
          "data": {
            "text/plain": [
              "(5.894327101501802, 1.887001569360886e-09, 101049.0)"
            ]
          },
          "metadata": {},
          "execution_count": 49
        }
      ]
    },
    {
      "cell_type": "markdown",
      "source": [
        "To get a summary of the test, we can do:"
      ],
      "metadata": {
        "id": "gcCsoNXiwxHM"
      }
    },
    {
      "cell_type": "code",
      "source": [
        "test.summary(alpha = 0.05, use_t = True)"
      ],
      "metadata": {
        "colab": {
          "base_uri": "https://localhost:8080/",
          "height": 78
        },
        "id": "BYkpbjOnv-u_",
        "outputId": "3d49751a-8455-4d68-963d-dab5d166448f"
      },
      "execution_count": 50,
      "outputs": [
        {
          "output_type": "execute_result",
          "data": {
            "text/plain": [
              "<class 'statsmodels.iolib.table.SimpleTable'>"
            ],
            "text/html": [
              "<table class=\"simpletable\">\n",
              "<caption>Test for equality of means</caption>\n",
              "<tr>\n",
              "      <td></td>         <th>coef</th>     <th>std err</th>      <th>t</th>      <th>P>|t|</th>  <th>[0.025</th>    <th>0.975]</th>  \n",
              "</tr>\n",
              "<tr>\n",
              "  <th>subset #1</th> <td>    0.4194</td> <td>    0.071</td> <td>    5.894</td> <td> 0.000</td> <td>    0.280</td> <td>    0.559</td>\n",
              "</tr>\n",
              "</table>"
            ]
          },
          "metadata": {},
          "execution_count": 50
        }
      ]
    },
    {
      "cell_type": "markdown",
      "source": [
        "## Visualizing our comparison between means"
      ],
      "metadata": {
        "id": "I7DUpYpk0Wob"
      }
    },
    {
      "cell_type": "markdown",
      "source": [
        "Nice! We have performed tests to compare our two samples. Now, let's try to visualize the difference between our data. First, let's draw a boxplot:"
      ],
      "metadata": {
        "id": "y1aAqdTAzfcl"
      }
    },
    {
      "cell_type": "code",
      "source": [
        "ax = plt.boxplot([ratings.rating, ratings_1], labels = ['All movies', 'Toy Story']);"
      ],
      "metadata": {
        "colab": {
          "base_uri": "https://localhost:8080/",
          "height": 320
        },
        "id": "Ve_QBlmFwpt_",
        "outputId": "39431cdf-6e32-4643-abe6-e93f1a74f75d"
      },
      "execution_count": 51,
      "outputs": [
        {
          "output_type": "stream",
          "name": "stderr",
          "text": [
            "/usr/local/lib/python3.7/dist-packages/matplotlib/cbook/__init__.py:1376: VisibleDeprecationWarning: Creating an ndarray from ragged nested sequences (which is a list-or-tuple of lists-or-tuples-or ndarrays with different lengths or shapes) is deprecated. If you meant to do this, you must specify 'dtype=object' when creating the ndarray.\n",
            "  X = np.atleast_1d(X.T if isinstance(X, np.ndarray) else np.asarray(X))\n"
          ]
        },
        {
          "output_type": "display_data",
          "data": {
            "text/plain": [
              "<Figure size 432x288 with 1 Axes>"
            ],
            "image/png": "[encoded data removed]"
          },
          "metadata": {
            "needs_background": "light"
          }
        }
      ]
    },
    {
      "cell_type": "markdown",
      "source": [
        "Note that, indeed, looking at the boxplot, we can see that the ratings for Toy Story tend to be higher. However, it is hard to say that for sure (without doing the test)."
      ],
      "metadata": {
        "id": "Gqu9mc9hz1vs"
      }
    },
    {
      "cell_type": "markdown",
      "source": [
        "Now, what could have happened if we only used 10 samples? Let's see:"
      ],
      "metadata": {
        "id": "cjQLr5Dv0ao9"
      }
    },
    {
      "cell_type": "code",
      "source": [
        "ratings_1_s = ratings_1[3:12]\n",
        "\n",
        "ax = plt.boxplot([ratings.rating, ratings_1_s], labels = ['All movies', 'Toy Story (10 samp)']);"
      ],
      "metadata": {
        "colab": {
          "base_uri": "https://localhost:8080/",
          "height": 320
        },
        "id": "fxfJzwcdztZB",
        "outputId": "3b4b5fcf-2576-4f65-b920-b98e7cc49e55"
      },
      "execution_count": 52,
      "outputs": [
        {
          "output_type": "stream",
          "name": "stderr",
          "text": [
            "/usr/local/lib/python3.7/dist-packages/matplotlib/cbook/__init__.py:1376: VisibleDeprecationWarning: Creating an ndarray from ragged nested sequences (which is a list-or-tuple of lists-or-tuples-or ndarrays with different lengths or shapes) is deprecated. If you meant to do this, you must specify 'dtype=object' when creating the ndarray.\n",
            "  X = np.atleast_1d(X.T if isinstance(X, np.ndarray) else np.asarray(X))\n"
          ]
        },
        {
          "output_type": "display_data",
          "data": {
            "text/plain": [
              "<Figure size 432x288 with 1 Axes>"
            ],
            "image/png": "[encoded data removed]"
          },
          "metadata": {
            "needs_background": "light"
          }
        }
      ]
    },
    {
      "cell_type": "markdown",
      "source": [
        "Note that, this time, the average for Toy Story ratings is very close to the average for the ratings of all movies, and the distribution is much more similar.\n",
        "\n",
        "Let's try to do an statistical test on such sample:"
      ],
      "metadata": {
        "id": "d-Ne1oqJ0pOE"
      }
    },
    {
      "cell_type": "code",
      "source": [
        "from statsmodels.stats.weightstats import DescrStatsW, CompareMeans\n",
        "\n",
        "toy_story_sample = DescrStatsW(ratings_1_s)\n",
        "all_movies = DescrStatsW(ratings.rating)\n",
        "\n",
        "test = CompareMeans(toy_story_sample, all_movies)\n",
        "\n",
        "test.ztest_ind(alternative = \"larger\", value = 0)"
      ],
      "metadata": {
        "colab": {
          "base_uri": "https://localhost:8080/"
        },
        "id": "IjAVflCW08yr",
        "outputId": "8b6d0a7b-1e86-46b7-cdc9-f1d51c7767c3"
      },
      "execution_count": 53,
      "outputs": [
        {
          "output_type": "execute_result",
          "data": {
            "text/plain": [
              "(0.15538274341317088, 0.43825979384768665)"
            ]
          },
          "metadata": {},
          "execution_count": 53
        }
      ]
    },
    {
      "cell_type": "markdown",
      "source": [
        "Note that, this time, our p-value is 0.438, which is higher than the test significance. Thus, we would wrongfully accept the null hypothesis."
      ],
      "metadata": {
        "id": "Ep5dpKP41mJy"
      }
    },
    {
      "cell_type": "code",
      "source": [
        ""
      ],
      "metadata": {
        "id": "xXP5zqe72P17"
      },
      "execution_count": 53,
      "outputs": []
    },
    {
      "cell_type": "markdown",
      "source": [
        "Let's use a summary:"
      ],
      "metadata": {
        "id": "fKm6Y1hO10j9"
      }
    },
    {
      "cell_type": "code",
      "source": [
        "test.summary(use_t = False, alpha = 0.05)"
      ],
      "metadata": {
        "colab": {
          "base_uri": "https://localhost:8080/",
          "height": 78
        },
        "id": "CCEStIIR0mJ6",
        "outputId": "9bcf2856-cdea-48a7-c006-86e58ad4d884"
      },
      "execution_count": 54,
      "outputs": [
        {
          "output_type": "execute_result",
          "data": {
            "text/plain": [
              "<class 'statsmodels.iolib.table.SimpleTable'>"
            ],
            "text/html": [
              "<table class=\"simpletable\">\n",
              "<caption>Test for equality of means</caption>\n",
              "<tr>\n",
              "      <td></td>         <th>coef</th>     <th>std err</th>      <th>z</th>      <th>P>|z|</th>  <th>[0.025</th>    <th>0.975]</th>  \n",
              "</tr>\n",
              "<tr>\n",
              "  <th>subset #1</th> <td>    0.0540</td> <td>    0.348</td> <td>    0.155</td> <td> 0.877</td> <td>   -0.627</td> <td>    0.735</td>\n",
              "</tr>\n",
              "</table>"
            ]
          },
          "metadata": {},
          "execution_count": 54
        }
      ]
    },
    {
      "cell_type": "markdown",
      "source": [
        "Note that 0.0 is inside the confidence interval. Thus, it means that the difference between means can be equal to 0.0. In this case, we do not have sufficient elements to reject the hypothesis that the difference between means is not 0.0."
      ],
      "metadata": {
        "id": "r9xgmlHA2CEj"
      }
    },
    {
      "cell_type": "markdown",
      "source": [
        "# Non-parametric tests\n",
        "\n",
        "Non-parametric tests are used when we have few samples, or when we don't want to make the assumption that the distribution of data follows a Normal. Let's show how to make such tests."
      ],
      "metadata": {
        "id": "_bx7GIt63BAM"
      }
    },
    {
      "cell_type": "markdown",
      "source": [
        "First, let's compare three different movies:"
      ],
      "metadata": {
        "id": "rLYUlCSk66x0"
      }
    },
    {
      "cell_type": "code",
      "source": [
        "movies.query(\"movieId in [1, 593, 72226]\")"
      ],
      "metadata": {
        "colab": {
          "base_uri": "https://localhost:8080/",
          "height": 143
        },
        "id": "ue_vuQkF2Zq-",
        "outputId": "e10f9582-cec7-42a6-8808-3531d4b68655"
      },
      "execution_count": 56,
      "outputs": [
        {
          "output_type": "execute_result",
          "data": {
            "text/plain": [
              "      movieId                             title  \\\n",
              "0           1                  Toy Story (1995)   \n",
              "510       593  Silence of the Lambs, The (1991)   \n",
              "7180    72226          Fantastic Mr. Fox (2009)   \n",
              "\n",
              "                                           genres  \n",
              "0     Adventure|Animation|Children|Comedy|Fantasy  \n",
              "510                         Crime|Horror|Thriller  \n",
              "7180    Adventure|Animation|Children|Comedy|Crime  "
            ],
            "text/html": [
              "\n",
              "  <div id=\"df-d7bbae8d-10e1-40b4-a4ba-0864c71b6129\">\n",
              "    <div class=\"colab-df-container\">\n",
              "      <div>\n",
              "<style scoped>\n",
              "    .dataframe tbody tr th:only-of-type {\n",
              "        vertical-align: middle;\n",
              "    }\n",
              "\n",
              "    .dataframe tbody tr th {\n",
              "        vertical-align: top;\n",
              "    }\n",
              "\n",
              "    .dataframe thead th {\n",
              "        text-align: right;\n",
              "    }\n",
              "</style>\n",
              "<table border=\"1\" class=\"dataframe\">\n",
              "  <thead>\n",
              "    <tr style=\"text-align: right;\">\n",
              "      <th></th>\n",
              "      <th>movieId</th>\n",
              "      <th>title</th>\n",
              "      <th>genres</th>\n",
              "    </tr>\n",
              "  </thead>\n",
              "  <tbody>\n",
              "    <tr>\n",
              "      <th>0</th>\n",
              "      <td>1</td>\n",
              "      <td>Toy Story (1995)</td>\n",
              "      <td>Adventure|Animation|Children|Comedy|Fantasy</td>\n",
              "    </tr>\n",
              "    <tr>\n",
              "      <th>510</th>\n",
              "      <td>593</td>\n",
              "      <td>Silence of the Lambs, The (1991)</td>\n",
              "      <td>Crime|Horror|Thriller</td>\n",
              "    </tr>\n",
              "    <tr>\n",
              "      <th>7180</th>\n",
              "      <td>72226</td>\n",
              "      <td>Fantastic Mr. Fox (2009)</td>\n",
              "      <td>Adventure|Animation|Children|Comedy|Crime</td>\n",
              "    </tr>\n",
              "  </tbody>\n",
              "</table>\n",
              "</div>\n",
              "      <button class=\"colab-df-convert\" onclick=\"convertToInteractive('df-d7bbae8d-10e1-40b4-a4ba-0864c71b6129')\"\n",
              "              title=\"Convert this dataframe to an interactive table.\"\n",
              "              style=\"display:none;\">\n",
              "        \n",
              "  <svg xmlns=\"http://www.w3.org/2000/svg\" height=\"24px\"viewBox=\"0 0 24 24\"\n",
              "       width=\"24px\">\n",
              "    <path d=\"M0 0h24v24H0V0z\" fill=\"none\"/>\n",
              "    <path d=\"M18.56 5.44l.94 2.06.94-2.06 2.06-.94-2.06-.94-.94-2.06-.94 2.06-2.06.94zm-11 1L8.5 8.5l.94-2.06 2.06-.94-2.06-.94L8.5 2.5l-.94 2.06-2.06.94zm10 10l.94 2.06.94-2.06 2.06-.94-2.06-.94-.94-2.06-.94 2.06-2.06.94z\"/><path d=\"M17.41 7.96l-1.37-1.37c-.4-.4-.92-.59-1.43-.59-.52 0-1.04.2-1.43.59L10.3 9.45l-7.72 7.72c-.78.78-.78 2.05 0 2.83L4 21.41c.39.39.9.59 1.41.59.51 0 1.02-.2 1.41-.59l7.78-7.78 2.81-2.81c.8-.78.8-2.07 0-2.86zM5.41 20L4 18.59l7.72-7.72 1.47 1.35L5.41 20z\"/>\n",
              "  </svg>\n",
              "      </button>\n",
              "      \n",
              "  <style>\n",
              "    .colab-df-container {\n",
              "      display:flex;\n",
              "      flex-wrap:wrap;\n",
              "      gap: 12px;\n",
              "    }\n",
              "\n",
              "    .colab-df-convert {\n",
              "      background-color: #E8F0FE;\n",
              "      border: none;\n",
              "      border-radius: 50%;\n",
              "      cursor: pointer;\n",
              "      display: none;\n",
              "      fill: #1967D2;\n",
              "      height: 32px;\n",
              "      padding: 0 0 0 0;\n",
              "      width: 32px;\n",
              "    }\n",
              "\n",
              "    .colab-df-convert:hover {\n",
              "      background-color: #E2EBFA;\n",
              "      box-shadow: 0px 1px 2px rgba(60, 64, 67, 0.3), 0px 1px 3px 1px rgba(60, 64, 67, 0.15);\n",
              "      fill: #174EA6;\n",
              "    }\n",
              "\n",
              "    [theme=dark] .colab-df-convert {\n",
              "      background-color: #3B4455;\n",
              "      fill: #D2E3FC;\n",
              "    }\n",
              "\n",
              "    [theme=dark] .colab-df-convert:hover {\n",
              "      background-color: #434B5C;\n",
              "      box-shadow: 0px 1px 3px 1px rgba(0, 0, 0, 0.15);\n",
              "      filter: drop-shadow(0px 1px 2px rgba(0, 0, 0, 0.3));\n",
              "      fill: #FFFFFF;\n",
              "    }\n",
              "  </style>\n",
              "\n",
              "      <script>\n",
              "        const buttonEl =\n",
              "          document.querySelector('#df-d7bbae8d-10e1-40b4-a4ba-0864c71b6129 button.colab-df-convert');\n",
              "        buttonEl.style.display =\n",
              "          google.colab.kernel.accessAllowed ? 'block' : 'none';\n",
              "\n",
              "        async function convertToInteractive(key) {\n",
              "          const element = document.querySelector('#df-d7bbae8d-10e1-40b4-a4ba-0864c71b6129');\n",
              "          const dataTable =\n",
              "            await google.colab.kernel.invokeFunction('convertToInteractive',\n",
              "                                                     [key], {});\n",
              "          if (!dataTable) return;\n",
              "\n",
              "          const docLinkHtml = 'Like what you see? Visit the ' +\n",
              "            '<a target=\"_blank\" href=https://colab.research.google.com/notebooks/data_table.ipynb>data table notebook</a>'\n",
              "            + ' to learn more about interactive tables.';\n",
              "          element.innerHTML = '';\n",
              "          dataTable['output_type'] = 'display_data';\n",
              "          await google.colab.output.renderOutput(dataTable, element);\n",
              "          const docLink = document.createElement('div');\n",
              "          docLink.innerHTML = docLinkHtml;\n",
              "          element.appendChild(docLink);\n",
              "        }\n",
              "      </script>\n",
              "    </div>\n",
              "  </div>\n",
              "  "
            ]
          },
          "metadata": {},
          "execution_count": 56
        }
      ]
    },
    {
      "cell_type": "markdown",
      "source": [
        "So, let's store the ratings in different variables and plot the boxplot:"
      ],
      "metadata": {
        "id": "l8HhnNUn7KgR"
      }
    },
    {
      "cell_type": "code",
      "source": [
        "ratings1 = ratings.query(\"movieId == 1\").rating\n",
        "ratings593 = ratings.query(\"movieId == 593\").rating\n",
        "ratings72226 = ratings.query(\"movieId == 72226\").rating\n",
        "\n",
        "plt.boxplot([ratings1, ratings593, ratings72226], labels = ['Toy Story', 'Silence of the Lambs', 'Fantastic Mr. Fox'])"
      ],
      "metadata": {
        "colab": {
          "base_uri": "https://localhost:8080/",
          "height": 701
        },
        "id": "N62MBhua7GzO",
        "outputId": "ef3c292b-4d5d-46dc-c521-82c8a781cd86"
      },
      "execution_count": 57,
      "outputs": [
        {
          "output_type": "stream",
          "name": "stderr",
          "text": [
            "/usr/local/lib/python3.7/dist-packages/matplotlib/cbook/__init__.py:1376: VisibleDeprecationWarning: Creating an ndarray from ragged nested sequences (which is a list-or-tuple of lists-or-tuples-or ndarrays with different lengths or shapes) is deprecated. If you meant to do this, you must specify 'dtype=object' when creating the ndarray.\n",
            "  X = np.atleast_1d(X.T if isinstance(X, np.ndarray) else np.asarray(X))\n"
          ]
        },
        {
          "output_type": "execute_result",
          "data": {
            "text/plain": [
              "{'boxes': [<matplotlib.lines.Line2D at 0x7fc8624fdb90>,\n",
              "  <matplotlib.lines.Line2D at 0x7fc86237e490>,\n",
              "  <matplotlib.lines.Line2D at 0x7fc86238e990>],\n",
              " 'caps': [<matplotlib.lines.Line2D at 0x7fc8624564d0>,\n",
              "  <matplotlib.lines.Line2D at 0x7fc8623751d0>,\n",
              "  <matplotlib.lines.Line2D at 0x7fc862386210>,\n",
              "  <matplotlib.lines.Line2D at 0x7fc862386750>,\n",
              "  <matplotlib.lines.Line2D at 0x7fc862396790>,\n",
              "  <matplotlib.lines.Line2D at 0x7fc862396cd0>],\n",
              " 'fliers': [<matplotlib.lines.Line2D at 0x7fc862375cd0>,\n",
              "  <matplotlib.lines.Line2D at 0x7fc86238e250>,\n",
              "  <matplotlib.lines.Line2D at 0x7fc86239c810>],\n",
              " 'means': [],\n",
              " 'medians': [<matplotlib.lines.Line2D at 0x7fc862375990>,\n",
              "  <matplotlib.lines.Line2D at 0x7fc862386ed0>,\n",
              "  <matplotlib.lines.Line2D at 0x7fc86239c4d0>],\n",
              " 'whiskers': [<matplotlib.lines.Line2D at 0x7fc86274d690>,\n",
              "  <matplotlib.lines.Line2D at 0x7fc8624568d0>,\n",
              "  <matplotlib.lines.Line2D at 0x7fc86237e7d0>,\n",
              "  <matplotlib.lines.Line2D at 0x7fc86237ecd0>,\n",
              "  <matplotlib.lines.Line2D at 0x7fc86238ecd0>,\n",
              "  <matplotlib.lines.Line2D at 0x7fc862396210>]}"
            ]
          },
          "metadata": {},
          "execution_count": 57
        },
        {
          "output_type": "display_data",
          "data": {
            "text/plain": [
              "<Figure size 432x288 with 1 Axes>"
            ],
            "image/png": "[encoded data removed]"
          },
          "metadata": {
            "needs_background": "light"
          }
        }
      ]
    },
    {
      "cell_type": "markdown",
      "source": [
        "We note that there is a difference in the distribution of each set. Fantastic Mr. Fox seems to have a higher average vote. However, note that the number of votes is also very different: "
      ],
      "metadata": {
        "id": "Io1t8PyT8IHy"
      }
    },
    {
      "cell_type": "code",
      "source": [
        "ratings1.count( )"
      ],
      "metadata": {
        "colab": {
          "base_uri": "https://localhost:8080/"
        },
        "id": "8pGv9b8v7mPm",
        "outputId": "c438973d-5d3c-4c8b-f305-b8e16fe57942"
      },
      "execution_count": 58,
      "outputs": [
        {
          "output_type": "execute_result",
          "data": {
            "text/plain": [
              "215"
            ]
          },
          "metadata": {},
          "execution_count": 58
        }
      ]
    },
    {
      "cell_type": "code",
      "source": [
        "ratings593.count( )"
      ],
      "metadata": {
        "colab": {
          "base_uri": "https://localhost:8080/"
        },
        "id": "2BDIqzIU8XB0",
        "outputId": "2853feb7-a033-46fa-c770-96b6c52932df"
      },
      "execution_count": 59,
      "outputs": [
        {
          "output_type": "execute_result",
          "data": {
            "text/plain": [
              "279"
            ]
          },
          "metadata": {},
          "execution_count": 59
        }
      ]
    },
    {
      "cell_type": "code",
      "source": [
        "ratings72226.count( )"
      ],
      "metadata": {
        "colab": {
          "base_uri": "https://localhost:8080/"
        },
        "id": "siQ4PJDt8ZCZ",
        "outputId": "ab5f3545-697f-4bf8-d590-be4a2eff26d0"
      },
      "execution_count": 60,
      "outputs": [
        {
          "output_type": "execute_result",
          "data": {
            "text/plain": [
              "18"
            ]
          },
          "metadata": {},
          "execution_count": 60
        }
      ]
    },
    {
      "cell_type": "markdown",
      "source": [
        "Thus, is the difference in average vote relevant? Let's use the test for comparison between means. Since we want to compare three movies, we have to use 3 tests (comparison between pairs)."
      ],
      "metadata": {
        "id": "eU4bkrk38byd"
      }
    },
    {
      "cell_type": "code",
      "source": [
        "test1 = DescrStatsW(ratings1)\n",
        "test593 = DescrStatsW(ratings593)\n",
        "\n",
        "test = CompareMeans(test1, test593)\n",
        "\n",
        "test.ztest_ind(value = 0)"
      ],
      "metadata": {
        "colab": {
          "base_uri": "https://localhost:8080/"
        },
        "id": "W3aiNtTz8bRM",
        "outputId": "639ce63c-ac8f-4c12-a8e1-ac2517954965"
      },
      "execution_count": 64,
      "outputs": [
        {
          "output_type": "execute_result",
          "data": {
            "text/plain": [
              "(-3.1318036206442246, 0.0017373604156636195)"
            ]
          },
          "metadata": {},
          "execution_count": 64
        }
      ]
    },
    {
      "cell_type": "markdown",
      "source": [
        "So, we see that the distribution for ratings for Toy Story is different from the distribution for ratings for Silence of the Lambs ($p < 0.05$)."
      ],
      "metadata": {
        "id": "ML3K5WBF860Q"
      }
    },
    {
      "cell_type": "markdown",
      "source": [
        "Now, let's perform the other comparisons. We will use a t-test, because the number of samples of Fantastic Mr. Fox is very low:"
      ],
      "metadata": {
        "id": "TfhjXU0E9FXb"
      }
    },
    {
      "cell_type": "code",
      "source": [
        "test593 = DescrStatsW(ratings593)\n",
        "test72226 = DescrStatsW(ratings72226)\n",
        "\n",
        "test = CompareMeans(test593, test72226)\n",
        "\n",
        "test.ttest_ind(value = 0)"
      ],
      "metadata": {
        "colab": {
          "base_uri": "https://localhost:8080/"
        },
        "id": "tgvKdgRo8wD2",
        "outputId": "f22575e6-eceb-4731-d5c3-edd92232ace5"
      },
      "execution_count": 69,
      "outputs": [
        {
          "output_type": "execute_result",
          "data": {
            "text/plain": [
              "(0.3743094128349442, 0.7084430379183799, 295.0)"
            ]
          },
          "metadata": {},
          "execution_count": 69
        }
      ]
    },
    {
      "cell_type": "code",
      "source": [
        "test1 = DescrStatsW(ratings1)\n",
        "test72226 = DescrStatsW(ratings72226)\n",
        "\n",
        "test = CompareMeans(test1, test72226)\n",
        "\n",
        "test.ttest_ind(value = 0)"
      ],
      "metadata": {
        "colab": {
          "base_uri": "https://localhost:8080/"
        },
        "id": "sO4qt8Wd9QWe",
        "outputId": "ef326f56-b014-4b42-bf4d-9589ebbde438"
      },
      "execution_count": 70,
      "outputs": [
        {
          "output_type": "execute_result",
          "data": {
            "text/plain": [
              "(-0.7884537463444344, 0.43123973285335726, 231.0)"
            ]
          },
          "metadata": {},
          "execution_count": 70
        }
      ]
    },
    {
      "cell_type": "markdown",
      "source": [
        "Now, none of these achieved a $p < 0.05$, which means that the difference is not statistically relevant. That's interesting because, by only looking at the boxplot, we would have drawn a different conclusion."
      ],
      "metadata": {
        "id": "rX2JHSFt9bIm"
      }
    },
    {
      "cell_type": "markdown",
      "source": [
        "When we have very few samples, it is safer to disregard the consideration that the samples follow a Normal distribution. Thus, we should use non-parametric tests.\n",
        "\n",
        "To check for the normality, we can use the *normaltest( )*:"
      ],
      "metadata": {
        "id": "8VU2L4Eh940g"
      }
    },
    {
      "cell_type": "code",
      "source": [
        "normaltest(ratings1)"
      ],
      "metadata": {
        "colab": {
          "base_uri": "https://localhost:8080/"
        },
        "id": "7m8mjDqR9Z44",
        "outputId": "e32cd979-8b1e-4ce6-cbb5-40f2e0572d7e"
      },
      "execution_count": 71,
      "outputs": [
        {
          "output_type": "execute_result",
          "data": {
            "text/plain": [
              "NormaltestResult(statistic=18.220369223286593, pvalue=0.00011053430732728716)"
            ]
          },
          "metadata": {},
          "execution_count": 71
        }
      ]
    },
    {
      "cell_type": "code",
      "source": [
        "normaltest(ratings593)"
      ],
      "metadata": {
        "colab": {
          "base_uri": "https://localhost:8080/"
        },
        "id": "66ybelrP-PtE",
        "outputId": "01b83709-2147-49e0-a7de-ca9116106378"
      },
      "execution_count": 72,
      "outputs": [
        {
          "output_type": "execute_result",
          "data": {
            "text/plain": [
              "NormaltestResult(statistic=84.41684362031029, pvalue=4.667833086075242e-19)"
            ]
          },
          "metadata": {},
          "execution_count": 72
        }
      ]
    },
    {
      "cell_type": "code",
      "source": [
        "normaltest(ratings72226)"
      ],
      "metadata": {
        "colab": {
          "base_uri": "https://localhost:8080/"
        },
        "id": "YsnSS904-SkJ",
        "outputId": "19640450-1acf-4705-d7ac-6780206e2897"
      },
      "execution_count": 73,
      "outputs": [
        {
          "output_type": "stream",
          "name": "stderr",
          "text": [
            "/usr/local/lib/python3.7/dist-packages/scipy/stats/stats.py:1535: UserWarning: kurtosistest only valid for n>=20 ... continuing anyway, n=18\n",
            "  \"anyway, n=%i\" % int(n))\n"
          ]
        },
        {
          "output_type": "execute_result",
          "data": {
            "text/plain": [
              "NormaltestResult(statistic=11.45006074215247, pvalue=0.003263254165930067)"
            ]
          },
          "metadata": {},
          "execution_count": 73
        }
      ]
    },
    {
      "cell_type": "markdown",
      "source": [
        "Note that, for the first two movies (Toy Story and Silence of the Lambs), our p-value was lower than 0.05. Thus, we reject the hypothesis that these come from a Normal distribution.\n",
        "\n",
        "For the Fantastic Mr. Fox movie, due to the number of samples, it even tells us that the test is only valid for $n > 20$. \n",
        "\n",
        "So, let's use a non-parametric test to compare the two distribution. Here, we will employ the Wilcoxon rank-sum test:\n",
        "\n",
        "**This test should be used to compared independent samples.**\n",
        "\n",
        "**This test should be used to compare two samples from continuous distributions. It does not handle ties between measurements in x and y.**"
      ],
      "metadata": {
        "id": "4a_Pe5Pr-Wz_"
      }
    },
    {
      "cell_type": "code",
      "source": [
        "from scipy.stats import ranksums\n",
        "\n",
        "ranksums(ratings1, ratings593)"
      ],
      "metadata": {
        "colab": {
          "base_uri": "https://localhost:8080/"
        },
        "id": "EvIYimr_-6j0",
        "outputId": "f0d12dc1-a7ab-4b10-f9cb-f99a16c334a1"
      },
      "execution_count": 77,
      "outputs": [
        {
          "output_type": "execute_result",
          "data": {
            "text/plain": [
              "RanksumsResult(statistic=-3.5930962013771377, pvalue=0.0003267718756440693)"
            ]
          },
          "metadata": {},
          "execution_count": 77
        }
      ]
    },
    {
      "cell_type": "markdown",
      "source": [
        "Note that the p-value is lower than 0.05. Thus, we reject the null hypothesis that the distributions are the same. "
      ],
      "metadata": {
        "id": "eVCmyZtR_coB"
      }
    }
  ]
}