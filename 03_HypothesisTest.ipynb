{
  "nbformat": 4,
  "nbformat_minor": 0,
  "metadata": {
    "colab": {
      "name": "03_HypothesisTest.ipynb",
      "provenance": [],
      "collapsed_sections": [],
      "toc_visible": true,
      "authorship_tag": "ABX9TyNPH0bePMxSl9LiEtJO8VV6",
      "include_colab_link": true
    },
    "kernelspec": {
      "name": "python3",
      "display_name": "Python 3"
    },
    "language_info": {
      "name": "python"
    }
  },
  "cells": [
    {
      "cell_type": "markdown",
      "metadata": {
        "id": "view-in-github",
        "colab_type": "text"
      },
      "source": [
        "<a href=\"https://colab.research.google.com/github/LeonardoGoncRibeiro/03_StatisticsUsingPython/blob/main/03_HypothesisTest.ipynb\" target=\"_parent\"><img src=\"https://colab.research.google.com/assets/colab-badge.svg\" alt=\"Open In Colab\"/></a>"
      ]
    },
    {
      "cell_type": "markdown",
      "source": [
        "# Statistics Using Python: Hypothesis test\n",
        "\n",
        "In this course, we will learn more about what are and how to do hypothesis tests. First, we will learn how to do normality tests and how to evaluate and use the p-value. Then, we will get to know the steps of a good test, and use the t-student distribution and the chi squared to assist us in this task. Finally, we will apply the Hypothesis test to prove some of our hypothesis."
      ],
      "metadata": {
        "id": "YVbXt6SPGjQP"
      }
    },
    {
      "cell_type": "markdown",
      "source": [
        "In this project, we will use a dataset from PNAD 2015. First, let's import this data using:"
      ],
      "metadata": {
        "id": "FWth0Qkll8MJ"
      }
    },
    {
      "cell_type": "code",
      "execution_count": 3,
      "metadata": {
        "colab": {
          "base_uri": "https://localhost:8080/",
          "height": 206
        },
        "id": "mZc6o72_krZG",
        "outputId": "dafa7e44-ce91-4d1e-eba8-1532c30299fd"
      },
      "outputs": [
        {
          "output_type": "execute_result",
          "data": {
            "text/plain": [
              "   UF  Sexo  Idade  Cor  Anos de Estudo  Renda    Altura\n",
              "0  11     0     23    8              12    800  1.603808\n",
              "1  11     1     23    2              12   1150  1.739790\n",
              "2  11     1     35    8              15    880  1.760444\n",
              "3  11     0     46    2               6   3500  1.783158\n",
              "4  11     1     47    8               9    150  1.690631"
            ],
            "text/html": [
              "\n",
              "  <div id=\"df-d93e73d9-2885-47bc-b9d1-7a02e6a7f505\">\n",
              "    <div class=\"colab-df-container\">\n",
              "      <div>\n",
              "<style scoped>\n",
              "    .dataframe tbody tr th:only-of-type {\n",
              "        vertical-align: middle;\n",
              "    }\n",
              "\n",
              "    .dataframe tbody tr th {\n",
              "        vertical-align: top;\n",
              "    }\n",
              "\n",
              "    .dataframe thead th {\n",
              "        text-align: right;\n",
              "    }\n",
              "</style>\n",
              "<table border=\"1\" class=\"dataframe\">\n",
              "  <thead>\n",
              "    <tr style=\"text-align: right;\">\n",
              "      <th></th>\n",
              "      <th>UF</th>\n",
              "      <th>Sexo</th>\n",
              "      <th>Idade</th>\n",
              "      <th>Cor</th>\n",
              "      <th>Anos de Estudo</th>\n",
              "      <th>Renda</th>\n",
              "      <th>Altura</th>\n",
              "    </tr>\n",
              "  </thead>\n",
              "  <tbody>\n",
              "    <tr>\n",
              "      <th>0</th>\n",
              "      <td>11</td>\n",
              "      <td>0</td>\n",
              "      <td>23</td>\n",
              "      <td>8</td>\n",
              "      <td>12</td>\n",
              "      <td>800</td>\n",
              "      <td>1.603808</td>\n",
              "    </tr>\n",
              "    <tr>\n",
              "      <th>1</th>\n",
              "      <td>11</td>\n",
              "      <td>1</td>\n",
              "      <td>23</td>\n",
              "      <td>2</td>\n",
              "      <td>12</td>\n",
              "      <td>1150</td>\n",
              "      <td>1.739790</td>\n",
              "    </tr>\n",
              "    <tr>\n",
              "      <th>2</th>\n",
              "      <td>11</td>\n",
              "      <td>1</td>\n",
              "      <td>35</td>\n",
              "      <td>8</td>\n",
              "      <td>15</td>\n",
              "      <td>880</td>\n",
              "      <td>1.760444</td>\n",
              "    </tr>\n",
              "    <tr>\n",
              "      <th>3</th>\n",
              "      <td>11</td>\n",
              "      <td>0</td>\n",
              "      <td>46</td>\n",
              "      <td>2</td>\n",
              "      <td>6</td>\n",
              "      <td>3500</td>\n",
              "      <td>1.783158</td>\n",
              "    </tr>\n",
              "    <tr>\n",
              "      <th>4</th>\n",
              "      <td>11</td>\n",
              "      <td>1</td>\n",
              "      <td>47</td>\n",
              "      <td>8</td>\n",
              "      <td>9</td>\n",
              "      <td>150</td>\n",
              "      <td>1.690631</td>\n",
              "    </tr>\n",
              "  </tbody>\n",
              "</table>\n",
              "</div>\n",
              "      <button class=\"colab-df-convert\" onclick=\"convertToInteractive('df-d93e73d9-2885-47bc-b9d1-7a02e6a7f505')\"\n",
              "              title=\"Convert this dataframe to an interactive table.\"\n",
              "              style=\"display:none;\">\n",
              "        \n",
              "  <svg xmlns=\"http://www.w3.org/2000/svg\" height=\"24px\"viewBox=\"0 0 24 24\"\n",
              "       width=\"24px\">\n",
              "    <path d=\"M0 0h24v24H0V0z\" fill=\"none\"/>\n",
              "    <path d=\"M18.56 5.44l.94 2.06.94-2.06 2.06-.94-2.06-.94-.94-2.06-.94 2.06-2.06.94zm-11 1L8.5 8.5l.94-2.06 2.06-.94-2.06-.94L8.5 2.5l-.94 2.06-2.06.94zm10 10l.94 2.06.94-2.06 2.06-.94-2.06-.94-.94-2.06-.94 2.06-2.06.94z\"/><path d=\"M17.41 7.96l-1.37-1.37c-.4-.4-.92-.59-1.43-.59-.52 0-1.04.2-1.43.59L10.3 9.45l-7.72 7.72c-.78.78-.78 2.05 0 2.83L4 21.41c.39.39.9.59 1.41.59.51 0 1.02-.2 1.41-.59l7.78-7.78 2.81-2.81c.8-.78.8-2.07 0-2.86zM5.41 20L4 18.59l7.72-7.72 1.47 1.35L5.41 20z\"/>\n",
              "  </svg>\n",
              "      </button>\n",
              "      \n",
              "  <style>\n",
              "    .colab-df-container {\n",
              "      display:flex;\n",
              "      flex-wrap:wrap;\n",
              "      gap: 12px;\n",
              "    }\n",
              "\n",
              "    .colab-df-convert {\n",
              "      background-color: #E8F0FE;\n",
              "      border: none;\n",
              "      border-radius: 50%;\n",
              "      cursor: pointer;\n",
              "      display: none;\n",
              "      fill: #1967D2;\n",
              "      height: 32px;\n",
              "      padding: 0 0 0 0;\n",
              "      width: 32px;\n",
              "    }\n",
              "\n",
              "    .colab-df-convert:hover {\n",
              "      background-color: #E2EBFA;\n",
              "      box-shadow: 0px 1px 2px rgba(60, 64, 67, 0.3), 0px 1px 3px 1px rgba(60, 64, 67, 0.15);\n",
              "      fill: #174EA6;\n",
              "    }\n",
              "\n",
              "    [theme=dark] .colab-df-convert {\n",
              "      background-color: #3B4455;\n",
              "      fill: #D2E3FC;\n",
              "    }\n",
              "\n",
              "    [theme=dark] .colab-df-convert:hover {\n",
              "      background-color: #434B5C;\n",
              "      box-shadow: 0px 1px 3px 1px rgba(0, 0, 0, 0.15);\n",
              "      filter: drop-shadow(0px 1px 2px rgba(0, 0, 0, 0.3));\n",
              "      fill: #FFFFFF;\n",
              "    }\n",
              "  </style>\n",
              "\n",
              "      <script>\n",
              "        const buttonEl =\n",
              "          document.querySelector('#df-d93e73d9-2885-47bc-b9d1-7a02e6a7f505 button.colab-df-convert');\n",
              "        buttonEl.style.display =\n",
              "          google.colab.kernel.accessAllowed ? 'block' : 'none';\n",
              "\n",
              "        async function convertToInteractive(key) {\n",
              "          const element = document.querySelector('#df-d93e73d9-2885-47bc-b9d1-7a02e6a7f505');\n",
              "          const dataTable =\n",
              "            await google.colab.kernel.invokeFunction('convertToInteractive',\n",
              "                                                     [key], {});\n",
              "          if (!dataTable) return;\n",
              "\n",
              "          const docLinkHtml = 'Like what you see? Visit the ' +\n",
              "            '<a target=\"_blank\" href=https://colab.research.google.com/notebooks/data_table.ipynb>data table notebook</a>'\n",
              "            + ' to learn more about interactive tables.';\n",
              "          element.innerHTML = '';\n",
              "          dataTable['output_type'] = 'display_data';\n",
              "          await google.colab.output.renderOutput(dataTable, element);\n",
              "          const docLink = document.createElement('div');\n",
              "          docLink.innerHTML = docLinkHtml;\n",
              "          element.appendChild(docLink);\n",
              "        }\n",
              "      </script>\n",
              "    </div>\n",
              "  </div>\n",
              "  "
            ]
          },
          "metadata": {},
          "execution_count": 3
        }
      ],
      "source": [
        "import pandas as pd\n",
        "\n",
        "dataset = pd.read_csv('dados.csv')\n",
        "\n",
        "dataset.head( )"
      ]
    },
    {
      "cell_type": "markdown",
      "source": [
        "In this dataset, we have information regarding:\n",
        "\n",
        "*   State from Brazil (UF)\n",
        "*   Sex (Sexo)\n",
        "*   Age (Idade)\n",
        "*   Color (Cor)\n",
        "*   Years of study (Anos de estudo)\n",
        "*   Monthly income (Renda)\n",
        "*   Height (Altura)\n",
        "\n",
        "For some of these, our data is encoded. The code can be seen in the following:\n"
      ],
      "metadata": {
        "id": "8Wgfo0TLm6Ht"
      }
    },
    {
      "cell_type": "markdown",
      "source": [
        "**State from Brazil:**"
      ],
      "metadata": {
        "id": "N_PBLENbm-l9"
      }
    },
    {
      "cell_type": "code",
      "source": [
        "map_state = {11: \"Rondônia\",\n",
        "             12: \"Acre\",\n",
        "             13: \"Amazonas\",\n",
        "             14: \"Roraima\",\n",
        "             15: \"Pará\",\n",
        "             16: \"Amapá\",\n",
        "             17: \"Tocantins\",\n",
        "             21: \"Maranhão\",\n",
        "             22: \"Piauí\",\n",
        "             23: \"Ceará\",\n",
        "             24: \"Rio Grande do Norte\",\n",
        "             25: \"Paraíba\",\n",
        "             26: \"Pernambuco\",\n",
        "             27: \"Alagoas\",\n",
        "             28: \"Sergipe\",\n",
        "             29: \"Bahia\",\n",
        "             31: \"Minas Gerais\",\n",
        "             32: \"Espírito Santo\",\n",
        "             33: \"Rio de Janeiro\",\n",
        "             35: \"São Paulo\",\n",
        "             41: \"Paraná\",\n",
        "             42: \"Santa Catarina\",\n",
        "             43: \"Rio Grande do Sul\",\n",
        "             50: \"Mato Grosso do Sul\",\n",
        "             51: \"Mato Grosso\",\n",
        "             52: \"Goiás\",\n",
        "             53: \"Distrito Federal\"}"
      ],
      "metadata": {
        "id": "NMQzJQ-gm1ky"
      },
      "execution_count": 4,
      "outputs": []
    },
    {
      "cell_type": "markdown",
      "source": [
        "**Sex:**"
      ],
      "metadata": {
        "id": "kbqkdYLgUOLy"
      }
    },
    {
      "cell_type": "code",
      "source": [
        "map_sex = {0: \"M\",\n",
        "           1: \"F\"}"
      ],
      "metadata": {
        "id": "H7PiTd8PUO58"
      },
      "execution_count": 5,
      "outputs": []
    },
    {
      "cell_type": "markdown",
      "source": [
        "**Years of study:**"
      ],
      "metadata": {
        "id": "4eklGujAUZSm"
      }
    },
    {
      "cell_type": "code",
      "source": [
        "map_years_study = {1 : \"0 years\",\n",
        "                   2 : \"1 year\",\n",
        "                   3 : \"2 years\",\n",
        "                   4 : \"3 years\",\n",
        "                   5 : \"4 years\",\n",
        "                   6 : \"5 years\",\n",
        "                   7 : \"6 years\",\n",
        "                   8 : \"7 years\",\n",
        "                   9 : \"8 years\",\n",
        "                   10: \"9 years\",\n",
        "                   11: \"10 years\",\n",
        "                   12: \"11 years\",\n",
        "                   13: \"12 years\",\n",
        "                   14: \"13 years\",\n",
        "                   15: \"14 years\",\n",
        "                   16: \"15 years\",\n",
        "                   17: \"Not found\",\n",
        "                   18: \"Not aplicable\"}"
      ],
      "metadata": {
        "id": "uaUspa7OUWYq"
      },
      "execution_count": 6,
      "outputs": []
    },
    {
      "cell_type": "markdown",
      "source": [
        "**Color:**"
      ],
      "metadata": {
        "id": "JAwgKhx-VLxg"
      }
    },
    {
      "cell_type": "code",
      "source": [
        "map_color = {0: \"Indigenous\",\n",
        "             2: \"White\",\n",
        "             4: \"Black\",\n",
        "             6: \"Yellow\",\n",
        "             8: \"Pardo\",\n",
        "             9: \"Not declared\"}"
      ],
      "metadata": {
        "id": "AhOB5IBRVJU9"
      },
      "execution_count": 7,
      "outputs": []
    },
    {
      "cell_type": "markdown",
      "source": [
        "This dataset can be found from IBGE website. However, some data treatment was performed before:\n",
        "\n",
        "\n",
        "*   Invalid entries for monthly income were eliminated (999 999 999 999).\n",
        "*   Missing entries for monthly income were eliminated.\n",
        "*   We considered only data from a person of reference in each house.\n"
      ],
      "metadata": {
        "id": "eUvpLeLBZl36"
      }
    },
    {
      "cell_type": "markdown",
      "source": [
        "# Normality test\n",
        "\n",
        "A normality test can be employed to check if a given variable (or feature) was drawn from a Normal distribution. \n",
        "\n",
        "To do a normality test, we can use the library scipy:\n",
        "\n",
        "https://docs.scipy.org/doc/scipy/reference/generated/scipy.stats.normaltest.html"
      ],
      "metadata": {
        "id": "yJ_Cb1AfH4bS"
      }
    },
    {
      "cell_type": "code",
      "source": [
        "from scipy.stats import normaltest\n",
        "\n",
        "significance = 0.05"
      ],
      "metadata": {
        "id": "F1ePnpP3IdAY"
      },
      "execution_count": 8,
      "outputs": []
    },
    {
      "cell_type": "markdown",
      "source": [
        "Let's test if the variable related to monthly income in our dataset is given by a Normal distribution. Here, we will consider only those incomes lower than R$ 10,000.00."
      ],
      "metadata": {
        "id": "xUVUN6HmJt_E"
      }
    },
    {
      "cell_type": "code",
      "source": [
        "income = dataset.query('Renda < 10000')['Renda']"
      ],
      "metadata": {
        "id": "3QOKQdPsJtVu"
      },
      "execution_count": 9,
      "outputs": []
    },
    {
      "cell_type": "markdown",
      "source": [
        "Let's see the histogram for this variable:"
      ],
      "metadata": {
        "id": "MALutLT8KAO2"
      }
    },
    {
      "cell_type": "code",
      "source": [
        "import seaborn as sns\n",
        "\n",
        "sns.histplot(income, bins = 50, stat = \"density\", kde = True)"
      ],
      "metadata": {
        "colab": {
          "base_uri": "https://localhost:8080/",
          "height": 296
        },
        "id": "_k5o-WAlJ-j5",
        "outputId": "e96592cd-25ec-49be-a6b6-270c8b69cf83"
      },
      "execution_count": 10,
      "outputs": [
        {
          "output_type": "execute_result",
          "data": {
            "text/plain": [
              "<matplotlib.axes._subplots.AxesSubplot at 0x7f04bb093710>"
            ]
          },
          "metadata": {},
          "execution_count": 10
        },
        {
          "output_type": "display_data",
          "data": {
            "text/plain": [
              "<Figure size 432x288 with 1 Axes>"
            ],
            "image/png": "[encoded data removed]"
          },
          "metadata": {
            "needs_background": "light"
          }
        }
      ]
    },
    {
      "cell_type": "markdown",
      "source": [
        "We see that, in this case, our histogram does not resembles the bell-shaped Normal curve. However, we can use a formal test to check for its normality.\n",
        "\n",
        "The function *normaltest( )* tests the null hypothesis $H_0$ that the sample comes from a Normal distribution."
      ],
      "metadata": {
        "id": "Ak4uDwJ8KRsQ"
      }
    },
    {
      "cell_type": "code",
      "source": [
        "normaltest(income)"
      ],
      "metadata": {
        "colab": {
          "base_uri": "https://localhost:8080/"
        },
        "id": "422OIZW0KFdN",
        "outputId": "95b00a0b-4520-4b2e-abd9-998bc8ca7d61"
      },
      "execution_count": 11,
      "outputs": [
        {
          "output_type": "execute_result",
          "data": {
            "text/plain": [
              "NormaltestResult(statistic=32246.864442817496, pvalue=0.0)"
            ]
          },
          "metadata": {},
          "execution_count": 11
        }
      ]
    },
    {
      "cell_type": "markdown",
      "source": [
        "Ok, our test showed as two values. How can we interpret this?\n",
        "\n",
        "Considering a significance level of 5%, if $p < 0.05$, we reject the null hypothesis. Thus, since $p \\approx 0.0$, we do reject the null hypothesis. Thus, **observations for monthly income do not come from a Normal distribution**."
      ],
      "metadata": {
        "id": "reqxLvTAKjWv"
      }
    },
    {
      "cell_type": "markdown",
      "source": [
        "Let's now test another variable: height."
      ],
      "metadata": {
        "id": "5a296_LGLTR_"
      }
    },
    {
      "cell_type": "code",
      "source": [
        "height = dataset.Altura\n",
        "sns.histplot(height, bins = 50, stat = \"density\", kde = True)"
      ],
      "metadata": {
        "colab": {
          "base_uri": "https://localhost:8080/",
          "height": 296
        },
        "id": "IXLsbKHSKit6",
        "outputId": "3f0f6739-dc30-4d67-f966-98f1f80957c7"
      },
      "execution_count": 12,
      "outputs": [
        {
          "output_type": "execute_result",
          "data": {
            "text/plain": [
              "<matplotlib.axes._subplots.AxesSubplot at 0x7f04bb138810>"
            ]
          },
          "metadata": {},
          "execution_count": 12
        },
        {
          "output_type": "display_data",
          "data": {
            "text/plain": [
              "<Figure size 432x288 with 1 Axes>"
            ],
            "image/png": "[encoded data removed]"
          },
          "metadata": {
            "needs_background": "light"
          }
        }
      ]
    },
    {
      "cell_type": "markdown",
      "source": [
        "Now, our variable actually looks a lot like a bell-shaped curve! But let's try to use our normality test."
      ],
      "metadata": {
        "id": "U3e5AtyRLmWw"
      }
    },
    {
      "cell_type": "code",
      "source": [
        "normaltest(height)"
      ],
      "metadata": {
        "colab": {
          "base_uri": "https://localhost:8080/"
        },
        "id": "PjkfMz-cLlVo",
        "outputId": "25bb2fc3-38a8-47c9-dc24-c779513f7b34"
      },
      "execution_count": 13,
      "outputs": [
        {
          "output_type": "execute_result",
          "data": {
            "text/plain": [
              "NormaltestResult(statistic=0.19973093957002253, pvalue=0.9049591541967501)"
            ]
          },
          "metadata": {},
          "execution_count": 13
        }
      ]
    },
    {
      "cell_type": "markdown",
      "source": [
        "Now, our $p > 0.05$, which was our significance level. This time, we **do not** reject the null hypothesis. Thus, we can say that **the height may come from a Normal distribution**."
      ],
      "metadata": {
        "id": "4Mq-bMzqLt-4"
      }
    },
    {
      "cell_type": "markdown",
      "source": [
        "## Phases of a test\n",
        "\n",
        "Ok, now that we showed an example of a statistical test and understood what information it is giving us, let's slowly build our knowledge. First, let's discuss what are the phases of a test.\n",
        "\n",
        "**1. Formulation of the hypothesis**\n",
        "\n",
        "First, we will formulate our null hypothesis $H_0$ and our alternative hypothesis $H_1$. Some important points:\n",
        "\n",
        "*   In general, the goal of the study should be formulated as the alternative hypothesis.\n",
        "*   The null hypothesis always says an equality or populational property, and the alternative hypothesis is the inequality that denies $H_0$.\n",
        "*   The $H_0$ and $H_1$ are always complementary to each other.\n",
        "\n",
        "**2. Choosing an adequate sampling distribution**\n",
        "\n",
        "Then, we have to choose an adequate distribution. Usually, this distribution is the Normal distribution, but, in some cases, other distributions might be more adequate. Some important points:\n",
        "\n",
        "* When the sample size is higher than 30, the Normal is almost always preferred (due to the Central Tendency Theorem).\n",
        "* When the sample size is lower than 30, if we think that the distribution is very close to a Normal, and the population standard deviation is known, we can still use the Normal.\n",
        "* When the sample size is lower than 30, if we think that the distribution is very close to a Normal, and the population standard deviation is unknown, we should use the t-Student distribution.\n",
        "\n",
        "**3. Choosing the test significance**\n",
        "\n",
        "Here, we will choose the test significance level ($\\alpha$). Usually, this comes from intuition and experience. Some important points:\n",
        "\n",
        "*   The confidence level ($1 - \\alpha$) represents the probability of hitting an estimate, while the significance level ($\\alpha$) represents the probability of missing this estimate.\n",
        "*   Tests can be one-tailed, when $H_1$ has a sign > or <, or two-tailed, when $H_1$ has a sign $\\neq$. \n",
        "\n",
        "**4. Evaluate the test statistics**\n",
        "\n",
        "Now, we perform the test and verify the aceptance and rejection areas of this test. \n",
        "\n",
        "* In this step we obtain sample statistics required to the test execution (mean, standard deviation, degrees of freedom, and others).\n",
        "\n",
        "**5. Accept or reject the null hypothesis**\n",
        "\n",
        "According to a rule of decision, we will accept or reject the null hypothesis. \n",
        "\n",
        "* If the interval contains the test statistics, we accept $H_0$ and reject $H_1$.\n",
        "* If the interval does not contain the test statistics, we reject $H_0$ and accept $H_1$.\n",
        "* Usually, it is easier to verify this using the p-value. If $p > \\alpha$, then we accept the null hypothesis."
      ],
      "metadata": {
        "id": "gudP_gfxMg-o"
      }
    },
    {
      "cell_type": "markdown",
      "source": [
        "# Parametric tests\n",
        "\n",
        "First, we will study parametric tests. These tests make some premises over the distribution of the population parameters. We will first discuss two-tailed tests."
      ],
      "metadata": {
        "id": "3NNnKxmqRHRO"
      }
    },
    {
      "cell_type": "markdown",
      "source": [
        "## Two-tailed tests\n",
        "\n",
        "A two-tailed test is the one where the null hypothesis is formulated using a $=$ sign. Let's see an example:\n",
        "\n",
        "**A juice company works with packages of 500 ml. The process of production is fully automatized. To guarantee that packages have the right amount, the company has a quality control department. This department takes 50 packages, and makes a hypothesis test, considering a significance level of 5%. If the mean amount of juice in each package was 503.24 ml, is this difference high enough for us to reject the hypothesis that the mean value is 500 ml?**"
      ],
      "metadata": {
        "id": "Nw0oW20bxlmM"
      }
    },
    {
      "cell_type": "code",
      "source": [
        "sample = [509, 505, 495, 510, 496, 509, 497, 502, 503, 505,\n",
        "          501, 505, 510, 505, 504, 497, 506, 506, 508, 505,\n",
        "          497, 504, 500, 498, 506, 496, 508, 497, 503, 501,\n",
        "          503, 506, 499, 498, 509, 507, 503, 499, 509, 495,\n",
        "          502, 505, 504, 509, 508, 501, 505, 497, 508, 507]"
      ],
      "metadata": {
        "id": "5z7P0RYGsJVt"
      },
      "execution_count": 14,
      "outputs": []
    },
    {
      "cell_type": "code",
      "source": [
        "sample_df = pd.DataFrame(sample, columns = ['Sample'])"
      ],
      "metadata": {
        "id": "qw2w7b84tkxV"
      },
      "execution_count": 15,
      "outputs": []
    },
    {
      "cell_type": "markdown",
      "source": [
        "First, let's evaluate some estimates for our sample."
      ],
      "metadata": {
        "id": "wHvcO9Zzt1FK"
      }
    },
    {
      "cell_type": "code",
      "source": [
        "mean_s = sample_df.mean( )\n",
        "mean_s"
      ],
      "metadata": {
        "colab": {
          "base_uri": "https://localhost:8080/"
        },
        "id": "cnUXowQytlyV",
        "outputId": "26409449-6eb0-482d-bb0d-519d45638f7e"
      },
      "execution_count": 16,
      "outputs": [
        {
          "output_type": "execute_result",
          "data": {
            "text/plain": [
              "Sample    503.24\n",
              "dtype: float64"
            ]
          },
          "metadata": {},
          "execution_count": 16
        }
      ]
    },
    {
      "cell_type": "code",
      "source": [
        "std_s = sample_df.std( )\n",
        "std_s"
      ],
      "metadata": {
        "colab": {
          "base_uri": "https://localhost:8080/"
        },
        "id": "W7m_CJmXtmCd",
        "outputId": "447a8c0b-6392-45f1-c3e1-608ff9cfa2ab"
      },
      "execution_count": 17,
      "outputs": [
        {
          "output_type": "execute_result",
          "data": {
            "text/plain": [
              "Sample    4.483803\n",
              "dtype: float64"
            ]
          },
          "metadata": {},
          "execution_count": 17
        }
      ]
    },
    {
      "cell_type": "markdown",
      "source": [
        "Now, let's define some important values for our test:"
      ],
      "metadata": {
        "id": "vnF2AykVt6QH"
      }
    },
    {
      "cell_type": "code",
      "source": [
        "desired_mean = 500\n",
        "significance = 0.05\n",
        "confidence = 1 - significance\n",
        "n = 50"
      ],
      "metadata": {
        "id": "ses1hbC_t-ll"
      },
      "execution_count": 18,
      "outputs": []
    },
    {
      "cell_type": "markdown",
      "source": [
        "Now, let's define our hypothesis. Here, we want to check if the population mean **is equal to** 500 ml. Thus, our hypotheses are:\n",
        "\n",
        "\\begin{equation}\n",
        "H_0 : \\mu = 500\n",
        "\\end{equation}\n",
        "\n",
        "\\begin{equation}\n",
        "H_1 : \\mu \\neq 500\n",
        "\\end{equation}"
      ],
      "metadata": {
        "id": "0CidvM6UtqQ3"
      }
    },
    {
      "cell_type": "markdown",
      "source": [
        "Note that, in the case, we can define an acceptance area for our null hypothesis:"
      ],
      "metadata": {
        "id": "JdvMQg9zukPm"
      }
    },
    {
      "cell_type": "markdown",
      "source": [
        "![Teste Bicaudal](https://caelum-online-public.s3.amazonaws.com/1229-estatistica-parte3/01/img005.png)"
      ],
      "metadata": {
        "id": "z7phrk6Es3Le"
      }
    },
    {
      "cell_type": "markdown",
      "source": [
        "Note that, here, our curve is two-tailed, as we will reject the null hypothesis if the test statistics is too high or too low."
      ],
      "metadata": {
        "id": "k7XE5wB7r2HX"
      }
    },
    {
      "cell_type": "markdown",
      "source": [
        "First, let's get the z-score for our significance level:\n",
        "\n"
      ],
      "metadata": {
        "id": "VGfSLzhPvDWL"
      }
    },
    {
      "cell_type": "code",
      "source": [
        "from scipy.stats import norm\n",
        "\n",
        "z_alpha = norm.ppf(1 - significance/2)\n",
        "z_alpha"
      ],
      "metadata": {
        "colab": {
          "base_uri": "https://localhost:8080/"
        },
        "id": "79qhqrdUv_h2",
        "outputId": "53a97742-0ec0-4000-cc07-9caf8bfc585d"
      },
      "execution_count": 19,
      "outputs": [
        {
          "output_type": "execute_result",
          "data": {
            "text/plain": [
              "1.959963984540054"
            ]
          },
          "metadata": {},
          "execution_count": 19
        }
      ]
    },
    {
      "cell_type": "markdown",
      "source": [
        "For a test on the difference of means, the test statistics is given by:\n",
        "\n",
        "\\begin{equation}\n",
        "z=\\frac{\\bar{x}-\\mu_{0}}{\\frac{s}{\\sqrt{n}}}\n",
        "\\end{equation}\n",
        "\n",
        "Thus, let's evaluate the test statistics:"
      ],
      "metadata": {
        "id": "l1NlZ1A4wG4s"
      }
    },
    {
      "cell_type": "code",
      "source": [
        "import numpy as np\n",
        "\n",
        "z = (mean_s - desired_mean)/(std_s/np.sqrt(n))\n",
        "z"
      ],
      "metadata": {
        "colab": {
          "base_uri": "https://localhost:8080/"
        },
        "id": "gHPlAi8VwWCM",
        "outputId": "e15b761d-89fd-4146-b524-6f45c1e1e147"
      },
      "execution_count": 20,
      "outputs": [
        {
          "output_type": "execute_result",
          "data": {
            "text/plain": [
              "Sample    5.10956\n",
              "dtype: float64"
            ]
          },
          "metadata": {},
          "execution_count": 20
        }
      ]
    },
    {
      "cell_type": "markdown",
      "source": [
        "Note that the test statistics is 5.11, which is higher than the z-score for the significance level. Thus, the z-score is outside of the acceptance area:"
      ],
      "metadata": {
        "id": "1gUKjhrhwxx1"
      }
    },
    {
      "cell_type": "markdown",
      "source": [
        "![Estatística-Teste](https://caelum-online-public.s3.amazonaws.com/1229-estatistica-parte3/01/img007.png)"
      ],
      "metadata": {
        "id": "NduAHGAUwtBV"
      }
    },
    {
      "cell_type": "markdown",
      "source": [
        "Thus, we will **reject the null hypothesis**. This means that, with a confidence of 95%, we can say that the mean from the population is actually different from the desired mean."
      ],
      "metadata": {
        "id": "0Bs6JvYqw8EO"
      }
    },
    {
      "cell_type": "markdown",
      "source": [
        "### The p-value criterion\n",
        "\n",
        "Using the test statistics, we can define whether we should accept or reject the null hypothesis. However, there are also another manners of doing so. The most popular one is actually evaluating the p-value. The p-value is related to the **probability of finding a sample with a given test statistics**. After evaluating it, we can compare it with the test significance:\n",
        "\n",
        "*   If the p-value is higher than the test significance, we accept the null hypothesis.\n",
        "*   If the p-value is lower than the test significance, we reject the null hypothesis.\n",
        "\n",
        "Let's remember: our test significance is:"
      ],
      "metadata": {
        "id": "stHx4UcgxfkG"
      }
    },
    {
      "cell_type": "code",
      "source": [
        "significance"
      ],
      "metadata": {
        "colab": {
          "base_uri": "https://localhost:8080/"
        },
        "id": "ApUt3-Prvh3u",
        "outputId": "982d88be-03b0-4bfa-cca4-20339d12ed01"
      },
      "execution_count": 21,
      "outputs": [
        {
          "output_type": "execute_result",
          "data": {
            "text/plain": [
              "0.05"
            ]
          },
          "metadata": {},
          "execution_count": 21
        }
      ]
    },
    {
      "cell_type": "markdown",
      "source": [
        "Then, we can evaluate the p-value using:"
      ],
      "metadata": {
        "id": "xiMJQ4CFzQWY"
      }
    },
    {
      "cell_type": "code",
      "source": [
        "p_value = 2*(1 - norm.cdf(abs(z)))\n",
        "p_value"
      ],
      "metadata": {
        "colab": {
          "base_uri": "https://localhost:8080/"
        },
        "id": "mRuykRltzOik",
        "outputId": "685b904e-220e-4d80-b723-2c16ec4caf9c"
      },
      "execution_count": 22,
      "outputs": [
        {
          "output_type": "execute_result",
          "data": {
            "text/plain": [
              "array([3.22910317e-07])"
            ]
          },
          "metadata": {},
          "execution_count": 22
        }
      ]
    },
    {
      "cell_type": "markdown",
      "source": [
        "Let's understand this equation:\n",
        "\n",
        "*   **norm.cdf(z)** gives the area to the left of the z-score (probability of being less than $z$).\n",
        "*   Since we want the area to the right (more than $z$), we do **1 - norm.cdf(z)**.\n",
        "*   Then, since we area working with a two-tailed test, we multiply by 2.\n",
        "\n",
        "So, our p-value is $3.23 \\times 10^{-7}$, which is lower than the significance level. Thus, we reject the null hypothesis.\n",
        "\n"
      ],
      "metadata": {
        "id": "w1h-CazJzesd"
      }
    },
    {
      "cell_type": "markdown",
      "source": [
        "Now, using statsmodels, we have a much easier way of performing all of this:"
      ],
      "metadata": {
        "id": "mP8RUWgm0Q8P"
      }
    },
    {
      "cell_type": "code",
      "source": [
        "from statsmodels.stats.weightstats import ztest\n",
        "\n",
        "ztest(x1 = sample_df, value = desired_mean)"
      ],
      "metadata": {
        "colab": {
          "base_uri": "https://localhost:8080/"
        },
        "id": "XYKmeJdIzUcp",
        "outputId": "f2cda445-872e-41da-d402-c67dad74c928"
      },
      "execution_count": 23,
      "outputs": [
        {
          "output_type": "stream",
          "name": "stderr",
          "text": [
            "/usr/local/lib/python3.7/dist-packages/statsmodels/tools/_testing.py:19: FutureWarning: pandas.util.testing is deprecated. Use the functions in the public API at pandas.testing instead.\n",
            "  import pandas.util.testing as tm\n"
          ]
        },
        {
          "output_type": "execute_result",
          "data": {
            "text/plain": [
              "(array([5.10955978]), array([3.22910317e-07]))"
            ]
          },
          "metadata": {},
          "execution_count": 23
        }
      ]
    },
    {
      "cell_type": "markdown",
      "source": [
        "The function *ztest( )* returns the test-statistics and the p-value, and they match with those we evaluated before. Nice!"
      ],
      "metadata": {
        "id": "Jl599_430fwM"
      }
    },
    {
      "cell_type": "markdown",
      "source": [
        "Another test we can do is:"
      ],
      "metadata": {
        "id": "n89PTgQS0t_I"
      }
    },
    {
      "cell_type": "code",
      "source": [
        "from statsmodels.stats.weightstats import DescrStatsW\n",
        "\n",
        "test = DescrStatsW(sample_df)\n",
        "\n",
        "test.ztest_mean(value = desired_mean)"
      ],
      "metadata": {
        "colab": {
          "base_uri": "https://localhost:8080/"
        },
        "id": "wCCIaCh60eZh",
        "outputId": "09b87fae-870d-4514-8593-e1ff465c7398"
      },
      "execution_count": 24,
      "outputs": [
        {
          "output_type": "execute_result",
          "data": {
            "text/plain": [
              "(array([5.10955978]), array([3.22910317e-07]))"
            ]
          },
          "metadata": {},
          "execution_count": 24
        }
      ]
    },
    {
      "cell_type": "markdown",
      "source": [
        "Nice! The *DescrStatsW( )* method can also be used to make many other tests, and is a very strong tool from statsmodels. **Also, note that these built-in functions assume a two-tailed test by default!** "
      ],
      "metadata": {
        "id": "RoKJwD_D0-zt"
      }
    },
    {
      "cell_type": "markdown",
      "source": [
        "## One-tailed tests\n",
        "\n",
        "On one-tailed tests, the null hypothesis presents an inequality. Let's see an example:\n",
        "\n",
        "**A famous soda brand say that one can of soda has a maximum of 37 g of sugar. The quality control department checks this with a sample of 25 cans of soda. Considering that the population distribution is close to a Normal and considering a significance level of 5%, is it possible to accept the brand allegation?**"
      ],
      "metadata": {
        "id": "3zA_Y9sT6RIE"
      }
    },
    {
      "cell_type": "markdown",
      "source": [
        "Note that, here, we have 25 samples. Thus, since the population distribution is close to a Normal and we have less than 30 samples, we should consider the **t-Student distribution**.\n",
        "\n",
        "https://docs.scipy.org/doc/scipy/reference/generated/scipy.stats.t.html\n",
        "\n",
        "The t-Student distribution is very close to a Normal. However, its tails are larger. The t-student distribution is also defined by the number of degrees of freedom, which is equal to $n - 1$, where $n$ is the number of samples."
      ],
      "metadata": {
        "id": "987rctjc7DXS"
      }
    },
    {
      "cell_type": "code",
      "source": [
        "sample = [37.27, 36.42, 34.84, 34.60, 37.49,\n",
        "          36.53, 35.49, 36.90, 34.52, 37.30,\n",
        "          34.99, 36.55, 36.29, 36.06, 37.42,\n",
        "          34.47, 36.70, 35.86, 36.80, 36.92,\n",
        "          37.04, 36.39, 37.32, 36.64, 35.45]"
      ],
      "metadata": {
        "id": "iLmJ2Ggu7AFb"
      },
      "execution_count": 25,
      "outputs": []
    },
    {
      "cell_type": "code",
      "source": [
        "sample_df = pd.DataFrame(sample, columns = ['Sample'])"
      ],
      "metadata": {
        "id": "pL3HLsbU7AFc"
      },
      "execution_count": 26,
      "outputs": []
    },
    {
      "cell_type": "markdown",
      "source": [
        "Let's evaluate our estimates:"
      ],
      "metadata": {
        "id": "U-cOpw_R9Sv0"
      }
    },
    {
      "cell_type": "code",
      "source": [
        "mean_s = sample_df.mean( )\n",
        "mean_s"
      ],
      "metadata": {
        "colab": {
          "base_uri": "https://localhost:8080/"
        },
        "id": "ocxrkHXv9Uzx",
        "outputId": "94868057-6b9e-4ed9-a331-85de82f84c6b"
      },
      "execution_count": 27,
      "outputs": [
        {
          "output_type": "execute_result",
          "data": {
            "text/plain": [
              "Sample    36.2504\n",
              "dtype: float64"
            ]
          },
          "metadata": {},
          "execution_count": 27
        }
      ]
    },
    {
      "cell_type": "code",
      "source": [
        "std_s = sample_df.std( )\n",
        "std_s"
      ],
      "metadata": {
        "colab": {
          "base_uri": "https://localhost:8080/"
        },
        "id": "adJf3VwU9VGy",
        "outputId": "25ef2acb-4709-40dc-be69-ffc6f8b73c8d"
      },
      "execution_count": 28,
      "outputs": [
        {
          "output_type": "execute_result",
          "data": {
            "text/plain": [
              "Sample    0.966754\n",
              "dtype: float64"
            ]
          },
          "metadata": {},
          "execution_count": 28
        }
      ]
    },
    {
      "cell_type": "markdown",
      "source": [
        "Now, let's define our null and alternative hypothesis. We want to check if the mass of sugar in each can of soda can be higher than 37 g (with a confidence level of 95%). Thus:\n",
        "\n",
        "\\begin{equation}\n",
        "H_0 : \\mu \\leq 37.0\n",
        "\\end{equation}\n",
        "\n",
        "\\begin{equation}\n",
        "H_1 : \\mu > 37.0\n",
        "\\end{equation}"
      ],
      "metadata": {
        "id": "b2-UrRIM9ids"
      }
    },
    {
      "cell_type": "markdown",
      "source": [
        "<img src='https://caelum-online-public.s3.amazonaws.com/1229-estatistica-parte3/01/img008.png' width='700px'>"
      ],
      "metadata": {
        "id": "Iq71ApSh89jl"
      }
    },
    {
      "cell_type": "markdown",
      "source": [
        "Note that, since our alternative hypothesis is of type >, we will check if our test-statistics is higher than a given z-score, related to the test significance. \n",
        "\n",
        "Since we will use the t-Student distribution, we will actually use a t-score:"
      ],
      "metadata": {
        "id": "WlihHzJb-ESL"
      }
    },
    {
      "cell_type": "code",
      "source": [
        "from scipy.stats import t as t_student\n",
        "\n",
        "n = 25\n",
        "confidence = 0.95\n",
        "dof = n - 1\n",
        "\n",
        "t_alpha = t_student.ppf(confidence, dof)\n",
        "t_alpha"
      ],
      "metadata": {
        "colab": {
          "base_uri": "https://localhost:8080/"
        },
        "id": "festTvsi895L",
        "outputId": "bf1d99b8-4b07-48c9-bdab-05ce7f44c154"
      },
      "execution_count": 29,
      "outputs": [
        {
          "output_type": "execute_result",
          "data": {
            "text/plain": [
              "1.7108820799094275"
            ]
          },
          "metadata": {},
          "execution_count": 29
        }
      ]
    },
    {
      "cell_type": "markdown",
      "source": [
        "Now, let's evaluate the test statistics using:\n",
        "\n",
        "\\begin{equation}\n",
        "t=\\frac{\\bar{x}-\\mu_{0}}{\\frac{s}{\\sqrt{n}}}\n",
        "\\end{equation}"
      ],
      "metadata": {
        "id": "V3zshU1t-2Yr"
      }
    },
    {
      "cell_type": "code",
      "source": [
        "desired_mean = 37\n",
        "\n",
        "t = (mean_s - desired_mean)/(std_s/np.sqrt(n))\n",
        "t"
      ],
      "metadata": {
        "colab": {
          "base_uri": "https://localhost:8080/"
        },
        "id": "pCNcW1oV-dAv",
        "outputId": "eb8ffa2a-97f4-48c8-91d8-dac7d897cc00"
      },
      "execution_count": 30,
      "outputs": [
        {
          "output_type": "execute_result",
          "data": {
            "text/plain": [
              "Sample   -3.876893\n",
              "dtype: float64"
            ]
          },
          "metadata": {},
          "execution_count": 30
        }
      ]
    },
    {
      "cell_type": "markdown",
      "source": [
        "So, since we are dealing with a $H_1$ with >, we accept the null hypothesis when $t$ be lower than $t_{\\alpha}$, which is true:"
      ],
      "metadata": {
        "id": "yXA9um9__VoT"
      }
    },
    {
      "cell_type": "code",
      "source": [
        "t <= t_alpha"
      ],
      "metadata": {
        "colab": {
          "base_uri": "https://localhost:8080/"
        },
        "id": "q2SZa4eV_PLV",
        "outputId": "909c50b9-8167-4415-ce27-703065c8fd28"
      },
      "execution_count": 31,
      "outputs": [
        {
          "output_type": "execute_result",
          "data": {
            "text/plain": [
              "Sample    True\n",
              "dtype: bool"
            ]
          },
          "metadata": {},
          "execution_count": 31
        }
      ]
    },
    {
      "cell_type": "markdown",
      "source": [
        "Now, let's apply the p-value:"
      ],
      "metadata": {
        "id": "YK1y2nLGALXl"
      }
    },
    {
      "cell_type": "code",
      "source": [
        "pvalue = 1 - t_student.cdf(t, dof)\n",
        "\n",
        "pvalue"
      ],
      "metadata": {
        "colab": {
          "base_uri": "https://localhost:8080/"
        },
        "id": "vVRuOWhjACg9",
        "outputId": "55fe5c21-7f9a-42a4-b5ab-c1cb0f56a4f7"
      },
      "execution_count": 32,
      "outputs": [
        {
          "output_type": "execute_result",
          "data": {
            "text/plain": [
              "array([0.99964062])"
            ]
          },
          "metadata": {},
          "execution_count": 32
        }
      ]
    },
    {
      "cell_type": "markdown",
      "source": [
        "Now, since we are working with a one-tailed test, we do not have to multiply it by 2.0. Since the p-value is higher than the significance, we accept the null hypothesis!"
      ],
      "metadata": {
        "id": "fdBmFaTFAjKr"
      }
    },
    {
      "cell_type": "markdown",
      "source": [
        "We can also do the same thing using *DescrStatsW*:"
      ],
      "metadata": {
        "id": "K4yWfkPwAv4E"
      }
    },
    {
      "cell_type": "code",
      "source": [
        "from statsmodels.stats.weightstats import DescrStatsW\n",
        "\n",
        "test = DescrStatsW(sample_df)\n",
        "\n",
        "test.ttest_mean(value = desired_mean, alternative = \"larger\")"
      ],
      "metadata": {
        "colab": {
          "base_uri": "https://localhost:8080/"
        },
        "id": "6He7kN1WAStj",
        "outputId": "c4eaf7e9-2856-43b9-ca58-80aff3644aed"
      },
      "execution_count": 33,
      "outputs": [
        {
          "output_type": "execute_result",
          "data": {
            "text/plain": [
              "(array([-3.87689312]), array([0.99964062]), 24.0)"
            ]
          },
          "metadata": {},
          "execution_count": 33
        }
      ]
    },
    {
      "cell_type": "markdown",
      "source": [
        "Here, note that we used *alternative = \"larger\"* because we are working with a one-tailed test where $H_1 : \\mu > 37.0$. Also, note that the test statistics and the p-value are also the same as the ones we evaluated."
      ],
      "metadata": {
        "id": "JrKpr-7wBI7x"
      }
    },
    {
      "cell_type": "markdown",
      "source": [
        "\\begin{equation}\n",
        "z=\\frac{\\bar{x}-\\mu_{0}}{\\frac{s}{\\sqrt{n}}}\n",
        "\\end{equation}"
      ],
      "metadata": {
        "id": "hXXWjjeeBnJR"
      }
    },
    {
      "cell_type": "markdown",
      "source": [
        "## Tests for two samples\n",
        "\n",
        "When we have two samples, we can do tests comparing both of these samples. For instance, we can check if their means are the same, or if they come from the same distribution. Let's see an example:\n",
        "\n",
        "**On our dataset, we have information about sex and monthly income. Using random samples (each with 500 observations), prove that the monthly income for women is lower than the monthly income for men, considering a significance level of 1%.**"
      ],
      "metadata": {
        "id": "YopdZbXmCKaa"
      }
    },
    {
      "cell_type": "markdown",
      "source": [
        "So, first, let's define our samples:"
      ],
      "metadata": {
        "id": "QRz6nMB8C4Li"
      }
    },
    {
      "cell_type": "code",
      "source": [
        "men = dataset.query(\"Sexo == 0\")\n",
        "sample_m = men.sample(500, random_state = 101).Renda\n",
        "\n",
        "women = dataset.query(\"Sexo == 1\")\n",
        "sample_f = women.sample(500, random_state = 101).Renda"
      ],
      "metadata": {
        "id": "fPtfE4ueB9If"
      },
      "execution_count": 34,
      "outputs": []
    },
    {
      "cell_type": "markdown",
      "source": [
        "So, first, let's evaluate the mean of each sample:"
      ],
      "metadata": {
        "id": "axDXYXRFDXgM"
      }
    },
    {
      "cell_type": "code",
      "source": [
        "mean_m = sample_m.mean( )"
      ],
      "metadata": {
        "id": "cnIPn27PDM4F"
      },
      "execution_count": 35,
      "outputs": []
    },
    {
      "cell_type": "code",
      "source": [
        "mean_f = sample_f.mean( )"
      ],
      "metadata": {
        "id": "BepCw3NpDb3J"
      },
      "execution_count": 36,
      "outputs": []
    },
    {
      "cell_type": "markdown",
      "source": [
        "So, while men make, on average, R\\$ 2,462.19, women make, on average, R\\$ 1,525.57. However, is this difference enough for us to say that the population mean is different?"
      ],
      "metadata": {
        "id": "0FvyeeM7DeYZ"
      }
    },
    {
      "cell_type": "markdown",
      "source": [
        "Let's also calculate the standard deviation of each group and define some parameters of our test:"
      ],
      "metadata": {
        "id": "L8f47OQcD6ZQ"
      }
    },
    {
      "cell_type": "code",
      "source": [
        "std_m = sample_m.std( )\n",
        "std_f = sample_f.std( )\n",
        "\n",
        "significance = 0.01\n",
        "confidence = 1 - significance\n",
        "n_m = 500\n",
        "n_f = 500\n",
        "\n",
        "D_0 = 0 # Difference between means. First, we will assume that there is no difference \n",
        "        # between means (we are testing if the incomes are the same)."
      ],
      "metadata": {
        "id": "k3meuj4CDdpz"
      },
      "execution_count": 37,
      "outputs": []
    },
    {
      "cell_type": "markdown",
      "source": [
        "So, let's formulate our hypotheses:\n",
        "\n",
        "\\begin{equation}\n",
        "H_0 : \\mu_1 - \\mu_2 \\leq 0.0\n",
        "\\end{equation}\n",
        "\n",
        "\\begin{equation}\n",
        "H_1 : \\mu_1 - \\mu_2 > 0.0\n",
        "\\end{equation}\n",
        "where $\\mu_1$ is the mean income for men, and $\\mu_2$ is the mean income for women. Thus, if the null hypothesis is rejected, it means that men indeed make more money than women. It is important to remember that, here, we are considering a significance level of 1%.\n",
        "\n",
        "Since we have more than 30 samples, we will use the z-score from the Normal distribution to perform our test. \n",
        "\n",
        "**Note that, for the t-Student distribution, when we make tests that use two samples, the number of degrees of freedom is $n_1 + n_2 - 2$.**"
      ],
      "metadata": {
        "id": "dEUh2LEuEaOS"
      }
    },
    {
      "cell_type": "markdown",
      "source": [
        "So, let's get the threshold z-score. Since we have a one-tailed test, we do:"
      ],
      "metadata": {
        "id": "sXz5YqIiFfJ4"
      }
    },
    {
      "cell_type": "code",
      "source": [
        "z_alpha = norm.ppf(1 - significance)\n",
        "z_alpha"
      ],
      "metadata": {
        "colab": {
          "base_uri": "https://localhost:8080/"
        },
        "id": "AMXCxsjzEQlv",
        "outputId": "1ecd9848-e486-463b-d6ef-d5b4aff9eee3"
      },
      "execution_count": 38,
      "outputs": [
        {
          "output_type": "execute_result",
          "data": {
            "text/plain": [
              "2.3263478740408408"
            ]
          },
          "metadata": {},
          "execution_count": 38
        }
      ]
    },
    {
      "cell_type": "markdown",
      "source": [
        "![Região de Aceitação](https://caelum-online-public.s3.amazonaws.com/1229-estatistica-parte3/01/img011.png)"
      ],
      "metadata": {
        "id": "z4axMFHLFoPb"
      }
    },
    {
      "cell_type": "markdown",
      "source": [
        "Now, let's evaluate the test statistics. For the difference of means, that is given by:\n",
        "\n",
        "\\begin{equation}\n",
        "z=\\frac{\\left(\\overline{x_{1}}-\\overline{x_{2}}\\right)-D_{0}}{\\sqrt{\\frac{s_{1}^{2}}{n_{1}}+\\frac{s_{2}^{2}}{n_{2}}}}\n",
        "\\end{equation}"
      ],
      "metadata": {
        "id": "TmjkKr4nF31s"
      }
    },
    {
      "cell_type": "markdown",
      "source": [
        "Thus, let's evaluate it:"
      ],
      "metadata": {
        "id": "ZjgUGETKF_qZ"
      }
    },
    {
      "cell_type": "code",
      "source": [
        "z = ((mean_m - mean_f) - D_0)/np.sqrt((std_m*std_m/n_m) + (std_f*std_f/n_f))\n",
        "z"
      ],
      "metadata": {
        "colab": {
          "base_uri": "https://localhost:8080/"
        },
        "id": "0bbuQMiTFoga",
        "outputId": "720a7e8d-3580-4ad9-877d-68d79d5e199c"
      },
      "execution_count": 39,
      "outputs": [
        {
          "output_type": "execute_result",
          "data": {
            "text/plain": [
              "5.86562005776475"
            ]
          },
          "metadata": {},
          "execution_count": 39
        }
      ]
    },
    {
      "cell_type": "markdown",
      "source": [
        "So, since our test-statistics was higher than our threshold ($z_\\alpha \\approx 2.33$), we reject the null hypothesis. Thus, the monthly income for women is indeed lower than for men."
      ],
      "metadata": {
        "id": "Q73ENm9RGxaw"
      }
    },
    {
      "cell_type": "markdown",
      "source": [
        "We can evaluate the p-value using:"
      ],
      "metadata": {
        "id": "lI1U7p-bHEzW"
      }
    },
    {
      "cell_type": "code",
      "source": [
        "p_value = 1 - norm.cdf(z)\n",
        "p_value"
      ],
      "metadata": {
        "colab": {
          "base_uri": "https://localhost:8080/"
        },
        "id": "ccOqgOggGQZ0",
        "outputId": "5c5cb0c6-a643-4238-8b53-d6748ce637ce"
      },
      "execution_count": 40,
      "outputs": [
        {
          "output_type": "execute_result",
          "data": {
            "text/plain": [
              "2.237286800266247e-09"
            ]
          },
          "metadata": {},
          "execution_count": 40
        }
      ]
    },
    {
      "cell_type": "markdown",
      "source": [
        "Which is lower than the test significance, thus rejecting the null hypothesis (once again)."
      ],
      "metadata": {
        "id": "NEiVuZhIHKLY"
      }
    },
    {
      "cell_type": "markdown",
      "source": [
        "We can also perform tests comparing means using built-in functions from statsmodels:"
      ],
      "metadata": {
        "id": "eazU2LK1Jup3"
      }
    },
    {
      "cell_type": "code",
      "source": [
        "from statsmodels.stats.weightstats import DescrStatsW, CompareMeans\n",
        "\n",
        "test_m = DescrStatsW(sample_m)\n",
        "test_f = DescrStatsW(sample_f)"
      ],
      "metadata": {
        "id": "LIKkL880JzSd"
      },
      "execution_count": 41,
      "outputs": []
    },
    {
      "cell_type": "code",
      "source": [
        "test = CompareMeans(test_m, test_f)"
      ],
      "metadata": {
        "id": "6YP7jzZQJ3sX"
      },
      "execution_count": 42,
      "outputs": []
    },
    {
      "cell_type": "code",
      "source": [
        "test.ztest_ind(alternative = \"larger\", value = D_0)"
      ],
      "metadata": {
        "colab": {
          "base_uri": "https://localhost:8080/"
        },
        "id": "42F-CSo6KJN-",
        "outputId": "f34ff421-c841-498a-e263-d72674c7e6a6"
      },
      "execution_count": 43,
      "outputs": [
        {
          "output_type": "execute_result",
          "data": {
            "text/plain": [
              "(5.865620057764754, 2.2372867859458255e-09)"
            ]
          },
          "metadata": {},
          "execution_count": 43
        }
      ]
    },
    {
      "cell_type": "markdown",
      "source": [
        "Great! Again, we found the same test-statistics and the same p-value.\n",
        "\n",
        "We can also simply use the *CompareMeans( )* function:"
      ],
      "metadata": {
        "id": "7FX-H4pyKWmG"
      }
    },
    {
      "cell_type": "markdown",
      "source": [
        "# Non-parametric tests\n",
        "\n",
        "When we our distribution does not follow a Normal, or if we do not have sufficient elements to think that it follows a Normal (usually due do a very low number of sampling points), we can't validate the CLT. In these cases, we have to use non-parametric tests, which make no assumptions over the distribution of our data.\n",
        "\n",
        "Let's see an example:"
      ],
      "metadata": {
        "id": "y5PAK3ByLx7Y"
      }
    },
    {
      "cell_type": "markdown",
      "source": [
        "**Before each match of a championship, the coin used by a referee is tested. The referee throws the coin 50 times, and, in 33 times, it says heads. Considering a significance level of 5%, is it possible to say that the coin is not honest?**\n",
        "\n",
        "We can solve this using the Chi-squared test."
      ],
      "metadata": {
        "id": "VNrpcCdZMmrn"
      }
    },
    {
      "cell_type": "markdown",
      "source": [
        "## Chi-squared test ($\\chi^2$)"
      ],
      "metadata": {
        "id": "y-DiwdTnNXzY"
      }
    },
    {
      "cell_type": "markdown",
      "source": [
        "The chi-squared test checks if there is **no difference between the observed frequencies and the expected frequencies**. "
      ],
      "metadata": {
        "id": "RmOU0vfROFnW"
      }
    },
    {
      "cell_type": "markdown",
      "source": [
        "\n",
        "![Região de Aceitação](https://caelum-online-public.s3.amazonaws.com/1229-estatistica-parte3/01/img017.png)"
      ],
      "metadata": {
        "id": "GGOU1jgQOYVH"
      }
    },
    {
      "cell_type": "markdown",
      "source": [
        "So, if our test statistics is higher than $\\chi^2_p$, we reject the null hypothesis. So, let's try to solve our coin problem using the chi-squared test."
      ],
      "metadata": {
        "id": "Ov9IJEgPOb5Q"
      }
    },
    {
      "cell_type": "markdown",
      "source": [
        "In our coin testing, there are two possible events: heads or tails ($k = 2$). We expect that a coin thrown 50 times shows 25 heads and 25 tails. However, our coin showed heads 33 times. Also, we will consider a significance level of 5%. Let's store this data:"
      ],
      "metadata": {
        "id": "Kva83PhAPONj"
      }
    },
    {
      "cell_type": "code",
      "source": [
        "F_o = [33, 17]\n",
        "F_e = [25, 25]\n",
        "\n",
        "significance = 0.05\n",
        "confidence = 1 - significance\n",
        "k = 2\n",
        "dof = k - 1"
      ],
      "metadata": {
        "id": "Pxaa7a4mLz0D"
      },
      "execution_count": 44,
      "outputs": []
    },
    {
      "cell_type": "markdown",
      "source": [
        "So, let's formulate our hypotheses:\n",
        "\n",
        "\\begin{equation}\n",
        "H_0 : F_{heads} = F_{tails}\n",
        "\\end{equation}\n",
        "\n",
        "\\begin{equation}\n",
        "H_1 : F_{heads} \\neq F_{tails}\n",
        "\\end{equation}"
      ],
      "metadata": {
        "id": "N-eQ65oRP2VC"
      }
    },
    {
      "cell_type": "markdown",
      "source": [
        "Now, let's do our test:"
      ],
      "metadata": {
        "id": "lv_iumcQQBbi"
      }
    },
    {
      "cell_type": "code",
      "source": [
        "from scipy.stats import chi\n",
        "\n",
        "chi_2_alpha = chi.ppf(confidence, dof)**2\n",
        "chi_2_alpha"
      ],
      "metadata": {
        "colab": {
          "base_uri": "https://localhost:8080/"
        },
        "id": "JbNERuW4P0g3",
        "outputId": "94b507e3-7b3d-4474-93f5-3e890aedc76a"
      },
      "execution_count": 45,
      "outputs": [
        {
          "output_type": "execute_result",
          "data": {
            "text/plain": [
              "3.8414588206941245"
            ]
          },
          "metadata": {},
          "execution_count": 45
        }
      ]
    },
    {
      "cell_type": "markdown",
      "source": [
        "The test statistics for the chi-squared test is given by:\n",
        "\n",
        "\\begin{equation}\n",
        "\\chi^{2}=\\sum_{i=1}^{k} \\frac{\\left(F_{i}^{O b s}-F_{i}^{E s p}\\right)^{2}}{F_{i}^{E s p}}\n",
        "\\end{equation}\n",
        "\n",
        "Thus, let's evaluate it:"
      ],
      "metadata": {
        "id": "zFgoHK94QgCB"
      }
    },
    {
      "cell_type": "code",
      "source": [
        "chi_2 = 0\n",
        "\n",
        "for i in range(k):\n",
        "  chi_2 = chi_2 + (F_o[i] - F_e[i])**2/F_e[i] \n",
        "\n",
        "chi_2"
      ],
      "metadata": {
        "colab": {
          "base_uri": "https://localhost:8080/"
        },
        "id": "CStjNWywQVIT",
        "outputId": "860a8003-b0b7-41ce-984b-d2a1616053b7"
      },
      "execution_count": 46,
      "outputs": [
        {
          "output_type": "execute_result",
          "data": {
            "text/plain": [
              "5.12"
            ]
          },
          "metadata": {},
          "execution_count": 46
        }
      ]
    },
    {
      "cell_type": "markdown",
      "source": [
        "So, since our $\\chi^2$ is higher than our threshold for $\\alpha = 0.95$ (where $\\chi^2_\\alpha \\approx 3.84$, we reject our null hypothesis! The coin is not honest. "
      ],
      "metadata": {
        "id": "TmFXQLGIRHK7"
      }
    },
    {
      "cell_type": "markdown",
      "source": [
        "The p-value can be evaluated by:"
      ],
      "metadata": {
        "id": "m9coKnfZRpcH"
      }
    },
    {
      "cell_type": "code",
      "source": [
        "p_value = 1 - chi.cdf(np.sqrt(chi_2), dof)\n",
        "p_value"
      ],
      "metadata": {
        "colab": {
          "base_uri": "https://localhost:8080/"
        },
        "id": "qLcFn1ZXRGNG",
        "outputId": "529907a6-7c70-4ac4-cf45-6cd6a56e2b1a"
      },
      "execution_count": 47,
      "outputs": [
        {
          "output_type": "execute_result",
          "data": {
            "text/plain": [
              "0.023651616655355978"
            ]
          },
          "metadata": {},
          "execution_count": 47
        }
      ]
    },
    {
      "cell_type": "markdown",
      "source": [
        "So, our p_value is lower than our significance. Again, this means that we should reject our null hypothesis."
      ],
      "metadata": {
        "id": "sghbxBz-R4FN"
      }
    },
    {
      "cell_type": "markdown",
      "source": [
        "We can also do the hypothesis test using built-in function from scipy.stats:"
      ],
      "metadata": {
        "id": "LvpFTMn6SGEI"
      }
    },
    {
      "cell_type": "code",
      "source": [
        "from scipy.stats import chisquare\n",
        "\n",
        "chisquare(f_obs = F_o, f_exp = F_e)"
      ],
      "metadata": {
        "colab": {
          "base_uri": "https://localhost:8080/"
        },
        "id": "CTV14dAeRzsd",
        "outputId": "9e6b6036-ddc2-4356-8c23-0d08348033a7"
      },
      "execution_count": 48,
      "outputs": [
        {
          "output_type": "execute_result",
          "data": {
            "text/plain": [
              "Power_divergenceResult(statistic=5.12, pvalue=0.023651616655356)"
            ]
          },
          "metadata": {},
          "execution_count": 48
        }
      ]
    },
    {
      "cell_type": "markdown",
      "source": [
        "## Wilcoxon test\n",
        "\n",
        "The Wilcoxon test can be used to compare two samples. It can be employed to test the difference between two conditions, that is, when the same element is subjected to two measures. Let's see an example.\n",
        "\n",
        "**A new treatment for smoke addiction is being tested in 35 volunteers. The number of cigarettes used in a day before and after the treatment were collected. Assuming a confidence level of 95%, is it possible to say that the new treatment was effective?**"
      ],
      "metadata": {
        "id": "iWqMpWJGewdV"
      }
    },
    {
      "cell_type": "code",
      "source": [
        "before = [39, 25, 24, 50, 13, 52, 21, 29, 10, 22, 50, 15, 36, 39, 52, 48, 24, 15, 40, 41, 17, 12, 21, 49, 14, 55, 46, 22, 28, 23, 37, 17, 31, 49, 49]\n",
        "after = [16, 8, 12, 0, 14, 16, 13, 12, 19, 17, 17, 2, 15, 10, 20, 13, 0, 4, 16, 18, 16, 16, 9, 9, 18, 4, 17, 0, 11, 14, 0, 19, 2, 9, 6]\n",
        "\n",
        "smoke = {'Before' : before,\n",
        "         'After'  : after}\n",
        "\n",
        "smoke_df = pd.DataFrame(smoke)\n",
        "smoke_df.head( )"
      ],
      "metadata": {
        "colab": {
          "base_uri": "https://localhost:8080/",
          "height": 206
        },
        "id": "LpMRF9aQSrYA",
        "outputId": "fc357dff-6cd4-4a8f-ccfa-07d298135654"
      },
      "execution_count": 49,
      "outputs": [
        {
          "output_type": "execute_result",
          "data": {
            "text/plain": [
              "   Before  After\n",
              "0      39     16\n",
              "1      25      8\n",
              "2      24     12\n",
              "3      50      0\n",
              "4      13     14"
            ],
            "text/html": [
              "\n",
              "  <div id=\"df-14e46be8-4a65-4b38-88bf-c51434edecd9\">\n",
              "    <div class=\"colab-df-container\">\n",
              "      <div>\n",
              "<style scoped>\n",
              "    .dataframe tbody tr th:only-of-type {\n",
              "        vertical-align: middle;\n",
              "    }\n",
              "\n",
              "    .dataframe tbody tr th {\n",
              "        vertical-align: top;\n",
              "    }\n",
              "\n",
              "    .dataframe thead th {\n",
              "        text-align: right;\n",
              "    }\n",
              "</style>\n",
              "<table border=\"1\" class=\"dataframe\">\n",
              "  <thead>\n",
              "    <tr style=\"text-align: right;\">\n",
              "      <th></th>\n",
              "      <th>Before</th>\n",
              "      <th>After</th>\n",
              "    </tr>\n",
              "  </thead>\n",
              "  <tbody>\n",
              "    <tr>\n",
              "      <th>0</th>\n",
              "      <td>39</td>\n",
              "      <td>16</td>\n",
              "    </tr>\n",
              "    <tr>\n",
              "      <th>1</th>\n",
              "      <td>25</td>\n",
              "      <td>8</td>\n",
              "    </tr>\n",
              "    <tr>\n",
              "      <th>2</th>\n",
              "      <td>24</td>\n",
              "      <td>12</td>\n",
              "    </tr>\n",
              "    <tr>\n",
              "      <th>3</th>\n",
              "      <td>50</td>\n",
              "      <td>0</td>\n",
              "    </tr>\n",
              "    <tr>\n",
              "      <th>4</th>\n",
              "      <td>13</td>\n",
              "      <td>14</td>\n",
              "    </tr>\n",
              "  </tbody>\n",
              "</table>\n",
              "</div>\n",
              "      <button class=\"colab-df-convert\" onclick=\"convertToInteractive('df-14e46be8-4a65-4b38-88bf-c51434edecd9')\"\n",
              "              title=\"Convert this dataframe to an interactive table.\"\n",
              "              style=\"display:none;\">\n",
              "        \n",
              "  <svg xmlns=\"http://www.w3.org/2000/svg\" height=\"24px\"viewBox=\"0 0 24 24\"\n",
              "       width=\"24px\">\n",
              "    <path d=\"M0 0h24v24H0V0z\" fill=\"none\"/>\n",
              "    <path d=\"M18.56 5.44l.94 2.06.94-2.06 2.06-.94-2.06-.94-.94-2.06-.94 2.06-2.06.94zm-11 1L8.5 8.5l.94-2.06 2.06-.94-2.06-.94L8.5 2.5l-.94 2.06-2.06.94zm10 10l.94 2.06.94-2.06 2.06-.94-2.06-.94-.94-2.06-.94 2.06-2.06.94z\"/><path d=\"M17.41 7.96l-1.37-1.37c-.4-.4-.92-.59-1.43-.59-.52 0-1.04.2-1.43.59L10.3 9.45l-7.72 7.72c-.78.78-.78 2.05 0 2.83L4 21.41c.39.39.9.59 1.41.59.51 0 1.02-.2 1.41-.59l7.78-7.78 2.81-2.81c.8-.78.8-2.07 0-2.86zM5.41 20L4 18.59l7.72-7.72 1.47 1.35L5.41 20z\"/>\n",
              "  </svg>\n",
              "      </button>\n",
              "      \n",
              "  <style>\n",
              "    .colab-df-container {\n",
              "      display:flex;\n",
              "      flex-wrap:wrap;\n",
              "      gap: 12px;\n",
              "    }\n",
              "\n",
              "    .colab-df-convert {\n",
              "      background-color: #E8F0FE;\n",
              "      border: none;\n",
              "      border-radius: 50%;\n",
              "      cursor: pointer;\n",
              "      display: none;\n",
              "      fill: #1967D2;\n",
              "      height: 32px;\n",
              "      padding: 0 0 0 0;\n",
              "      width: 32px;\n",
              "    }\n",
              "\n",
              "    .colab-df-convert:hover {\n",
              "      background-color: #E2EBFA;\n",
              "      box-shadow: 0px 1px 2px rgba(60, 64, 67, 0.3), 0px 1px 3px 1px rgba(60, 64, 67, 0.15);\n",
              "      fill: #174EA6;\n",
              "    }\n",
              "\n",
              "    [theme=dark] .colab-df-convert {\n",
              "      background-color: #3B4455;\n",
              "      fill: #D2E3FC;\n",
              "    }\n",
              "\n",
              "    [theme=dark] .colab-df-convert:hover {\n",
              "      background-color: #434B5C;\n",
              "      box-shadow: 0px 1px 3px 1px rgba(0, 0, 0, 0.15);\n",
              "      filter: drop-shadow(0px 1px 2px rgba(0, 0, 0, 0.3));\n",
              "      fill: #FFFFFF;\n",
              "    }\n",
              "  </style>\n",
              "\n",
              "      <script>\n",
              "        const buttonEl =\n",
              "          document.querySelector('#df-14e46be8-4a65-4b38-88bf-c51434edecd9 button.colab-df-convert');\n",
              "        buttonEl.style.display =\n",
              "          google.colab.kernel.accessAllowed ? 'block' : 'none';\n",
              "\n",
              "        async function convertToInteractive(key) {\n",
              "          const element = document.querySelector('#df-14e46be8-4a65-4b38-88bf-c51434edecd9');\n",
              "          const dataTable =\n",
              "            await google.colab.kernel.invokeFunction('convertToInteractive',\n",
              "                                                     [key], {});\n",
              "          if (!dataTable) return;\n",
              "\n",
              "          const docLinkHtml = 'Like what you see? Visit the ' +\n",
              "            '<a target=\"_blank\" href=https://colab.research.google.com/notebooks/data_table.ipynb>data table notebook</a>'\n",
              "            + ' to learn more about interactive tables.';\n",
              "          element.innerHTML = '';\n",
              "          dataTable['output_type'] = 'display_data';\n",
              "          await google.colab.output.renderOutput(dataTable, element);\n",
              "          const docLink = document.createElement('div');\n",
              "          docLink.innerHTML = docLinkHtml;\n",
              "          element.appendChild(docLink);\n",
              "        }\n",
              "      </script>\n",
              "    </div>\n",
              "  </div>\n",
              "  "
            ]
          },
          "metadata": {},
          "execution_count": 49
        }
      ]
    },
    {
      "cell_type": "code",
      "source": [
        "mean_bef = smoke_df['Before'].mean( )\n",
        "mean_bef"
      ],
      "metadata": {
        "colab": {
          "base_uri": "https://localhost:8080/"
        },
        "id": "AAepfYKtgUNT",
        "outputId": "db07abc3-50e4-439e-85fb-3c97db0b4f96"
      },
      "execution_count": 50,
      "outputs": [
        {
          "output_type": "execute_result",
          "data": {
            "text/plain": [
              "31.857142857142858"
            ]
          },
          "metadata": {},
          "execution_count": 50
        }
      ]
    },
    {
      "cell_type": "code",
      "source": [
        "mean_aft = smoke_df['After'].mean( )\n",
        "mean_aft"
      ],
      "metadata": {
        "colab": {
          "base_uri": "https://localhost:8080/"
        },
        "id": "ZGQrlC0Vg4nx",
        "outputId": "1028532f-e12c-4be0-e90f-2689abcfc9fd"
      },
      "execution_count": 51,
      "outputs": [
        {
          "output_type": "execute_result",
          "data": {
            "text/plain": [
              "11.2"
            ]
          },
          "metadata": {},
          "execution_count": 51
        }
      ]
    },
    {
      "cell_type": "markdown",
      "source": [
        "Now, let's define our hypotheses:\n",
        "\n",
        "\\begin{equation}\n",
        "H_0 : \\text{There is no difference between the groups ($\\mu_1 = \\mu_2$).}\n",
        "\\end{equation}\n",
        "\n",
        "\\begin{equation}\n",
        "H_1 : \\text{There is a difference between the groups ($\\mu_1 \\neq \\mu_2$).}\n",
        "\\end{equation}\n",
        "\n",
        "On the Wilcoxon test, theses are always the chosen hypotheses. The means that the Wilcoxon test is always two-tailed. \n",
        "\n",
        "The Wilcoxon test uses a distribution because its test statistics is close to a Normal distribution (closer as $n$ increases). Thus, since $n > 20$, we will use the Normal distribution. If $n < 20$, we would use the t-Student distribution. \n",
        "\n",
        "Now, let's define some parameters of our test:"
      ],
      "metadata": {
        "id": "H1IpoR71hPpw"
      }
    },
    {
      "cell_type": "code",
      "source": [
        "significance = 0.05\n",
        "confidence = 1 - significance\n",
        "n = smoke_df['Before'].count( ) \n",
        "z_alpha = norm.ppf(1 - significance/2)\n",
        "z_alpha"
      ],
      "metadata": {
        "colab": {
          "base_uri": "https://localhost:8080/"
        },
        "id": "DIqkBQimg7Q6",
        "outputId": "f5744a84-91f9-42a4-b14f-ec67e2f30fda"
      },
      "execution_count": 52,
      "outputs": [
        {
          "output_type": "execute_result",
          "data": {
            "text/plain": [
              "1.959963984540054"
            ]
          },
          "metadata": {},
          "execution_count": 52
        }
      ]
    },
    {
      "cell_type": "markdown",
      "source": [
        "Now, let's evaluate the test statistics:\n",
        "\n",
        "\\begin{equation}\n",
        "Z=\\frac{T-\\mu_{T}}{\\sigma_{T}}\n",
        "\\end{equation}"
      ],
      "metadata": {
        "id": "Djxcn-EHjjCN"
      }
    },
    {
      "cell_type": "markdown",
      "source": [
        "where:\n",
        "\n",
        "\\begin{equation}\n",
        "\\mu_{T}=\\frac{n(n+1)}{4}\n",
        "\\end{equation}\n",
        "\n",
        "\\begin{equation}\n",
        "\\sigma_{T}=\\sqrt{\\frac{n(n+1)(2 n+1)}{24}}\n",
        "\\end{equation}"
      ],
      "metadata": {
        "id": "GA7i7eNlj3eS"
      }
    },
    {
      "cell_type": "markdown",
      "source": [
        "So, let's apply the Wilcoxon test. First, let's evaluate $T$:"
      ],
      "metadata": {
        "id": "V2aGQgk0nZRO"
      }
    },
    {
      "cell_type": "code",
      "source": [
        "smoke_df['Diff'] = smoke_df.After - smoke_df.Before\n",
        "smoke_df['|Diff|'] = smoke_df.Diff.abs( )\n",
        "\n",
        "smoke_df.head( )"
      ],
      "metadata": {
        "colab": {
          "base_uri": "https://localhost:8080/",
          "height": 206
        },
        "id": "5SfJNTsZjb7V",
        "outputId": "eeacdb7b-ae1b-4229-e3ae-48667aa1a8b9"
      },
      "execution_count": 53,
      "outputs": [
        {
          "output_type": "execute_result",
          "data": {
            "text/plain": [
              "   Before  After  Diff  |Diff|\n",
              "0      39     16   -23      23\n",
              "1      25      8   -17      17\n",
              "2      24     12   -12      12\n",
              "3      50      0   -50      50\n",
              "4      13     14     1       1"
            ],
            "text/html": [
              "\n",
              "  <div id=\"df-998d78f0-079c-4bdd-a4f7-b94003d22ccf\">\n",
              "    <div class=\"colab-df-container\">\n",
              "      <div>\n",
              "<style scoped>\n",
              "    .dataframe tbody tr th:only-of-type {\n",
              "        vertical-align: middle;\n",
              "    }\n",
              "\n",
              "    .dataframe tbody tr th {\n",
              "        vertical-align: top;\n",
              "    }\n",
              "\n",
              "    .dataframe thead th {\n",
              "        text-align: right;\n",
              "    }\n",
              "</style>\n",
              "<table border=\"1\" class=\"dataframe\">\n",
              "  <thead>\n",
              "    <tr style=\"text-align: right;\">\n",
              "      <th></th>\n",
              "      <th>Before</th>\n",
              "      <th>After</th>\n",
              "      <th>Diff</th>\n",
              "      <th>|Diff|</th>\n",
              "    </tr>\n",
              "  </thead>\n",
              "  <tbody>\n",
              "    <tr>\n",
              "      <th>0</th>\n",
              "      <td>39</td>\n",
              "      <td>16</td>\n",
              "      <td>-23</td>\n",
              "      <td>23</td>\n",
              "    </tr>\n",
              "    <tr>\n",
              "      <th>1</th>\n",
              "      <td>25</td>\n",
              "      <td>8</td>\n",
              "      <td>-17</td>\n",
              "      <td>17</td>\n",
              "    </tr>\n",
              "    <tr>\n",
              "      <th>2</th>\n",
              "      <td>24</td>\n",
              "      <td>12</td>\n",
              "      <td>-12</td>\n",
              "      <td>12</td>\n",
              "    </tr>\n",
              "    <tr>\n",
              "      <th>3</th>\n",
              "      <td>50</td>\n",
              "      <td>0</td>\n",
              "      <td>-50</td>\n",
              "      <td>50</td>\n",
              "    </tr>\n",
              "    <tr>\n",
              "      <th>4</th>\n",
              "      <td>13</td>\n",
              "      <td>14</td>\n",
              "      <td>1</td>\n",
              "      <td>1</td>\n",
              "    </tr>\n",
              "  </tbody>\n",
              "</table>\n",
              "</div>\n",
              "      <button class=\"colab-df-convert\" onclick=\"convertToInteractive('df-998d78f0-079c-4bdd-a4f7-b94003d22ccf')\"\n",
              "              title=\"Convert this dataframe to an interactive table.\"\n",
              "              style=\"display:none;\">\n",
              "        \n",
              "  <svg xmlns=\"http://www.w3.org/2000/svg\" height=\"24px\"viewBox=\"0 0 24 24\"\n",
              "       width=\"24px\">\n",
              "    <path d=\"M0 0h24v24H0V0z\" fill=\"none\"/>\n",
              "    <path d=\"M18.56 5.44l.94 2.06.94-2.06 2.06-.94-2.06-.94-.94-2.06-.94 2.06-2.06.94zm-11 1L8.5 8.5l.94-2.06 2.06-.94-2.06-.94L8.5 2.5l-.94 2.06-2.06.94zm10 10l.94 2.06.94-2.06 2.06-.94-2.06-.94-.94-2.06-.94 2.06-2.06.94z\"/><path d=\"M17.41 7.96l-1.37-1.37c-.4-.4-.92-.59-1.43-.59-.52 0-1.04.2-1.43.59L10.3 9.45l-7.72 7.72c-.78.78-.78 2.05 0 2.83L4 21.41c.39.39.9.59 1.41.59.51 0 1.02-.2 1.41-.59l7.78-7.78 2.81-2.81c.8-.78.8-2.07 0-2.86zM5.41 20L4 18.59l7.72-7.72 1.47 1.35L5.41 20z\"/>\n",
              "  </svg>\n",
              "      </button>\n",
              "      \n",
              "  <style>\n",
              "    .colab-df-container {\n",
              "      display:flex;\n",
              "      flex-wrap:wrap;\n",
              "      gap: 12px;\n",
              "    }\n",
              "\n",
              "    .colab-df-convert {\n",
              "      background-color: #E8F0FE;\n",
              "      border: none;\n",
              "      border-radius: 50%;\n",
              "      cursor: pointer;\n",
              "      display: none;\n",
              "      fill: #1967D2;\n",
              "      height: 32px;\n",
              "      padding: 0 0 0 0;\n",
              "      width: 32px;\n",
              "    }\n",
              "\n",
              "    .colab-df-convert:hover {\n",
              "      background-color: #E2EBFA;\n",
              "      box-shadow: 0px 1px 2px rgba(60, 64, 67, 0.3), 0px 1px 3px 1px rgba(60, 64, 67, 0.15);\n",
              "      fill: #174EA6;\n",
              "    }\n",
              "\n",
              "    [theme=dark] .colab-df-convert {\n",
              "      background-color: #3B4455;\n",
              "      fill: #D2E3FC;\n",
              "    }\n",
              "\n",
              "    [theme=dark] .colab-df-convert:hover {\n",
              "      background-color: #434B5C;\n",
              "      box-shadow: 0px 1px 3px 1px rgba(0, 0, 0, 0.15);\n",
              "      filter: drop-shadow(0px 1px 2px rgba(0, 0, 0, 0.3));\n",
              "      fill: #FFFFFF;\n",
              "    }\n",
              "  </style>\n",
              "\n",
              "      <script>\n",
              "        const buttonEl =\n",
              "          document.querySelector('#df-998d78f0-079c-4bdd-a4f7-b94003d22ccf button.colab-df-convert');\n",
              "        buttonEl.style.display =\n",
              "          google.colab.kernel.accessAllowed ? 'block' : 'none';\n",
              "\n",
              "        async function convertToInteractive(key) {\n",
              "          const element = document.querySelector('#df-998d78f0-079c-4bdd-a4f7-b94003d22ccf');\n",
              "          const dataTable =\n",
              "            await google.colab.kernel.invokeFunction('convertToInteractive',\n",
              "                                                     [key], {});\n",
              "          if (!dataTable) return;\n",
              "\n",
              "          const docLinkHtml = 'Like what you see? Visit the ' +\n",
              "            '<a target=\"_blank\" href=https://colab.research.google.com/notebooks/data_table.ipynb>data table notebook</a>'\n",
              "            + ' to learn more about interactive tables.';\n",
              "          element.innerHTML = '';\n",
              "          dataTable['output_type'] = 'display_data';\n",
              "          await google.colab.output.renderOutput(dataTable, element);\n",
              "          const docLink = document.createElement('div');\n",
              "          docLink.innerHTML = docLinkHtml;\n",
              "          element.appendChild(docLink);\n",
              "        }\n",
              "      </script>\n",
              "    </div>\n",
              "  </div>\n",
              "  "
            ]
          },
          "metadata": {},
          "execution_count": 53
        }
      ]
    },
    {
      "cell_type": "markdown",
      "source": [
        "Now, let's sort the values according to the absolute difference:"
      ],
      "metadata": {
        "id": "6FVIMDyAn4Uk"
      }
    },
    {
      "cell_type": "code",
      "source": [
        "smoke_df.sort_values('|Diff|', inplace = True)\n",
        "smoke_df"
      ],
      "metadata": {
        "colab": {
          "base_uri": "https://localhost:8080/",
          "height": 1000
        },
        "id": "PCr0ez1fj2Kf",
        "outputId": "9e979c53-bc19-47eb-9033-bce70fe7ac1d"
      },
      "execution_count": 54,
      "outputs": [
        {
          "output_type": "execute_result",
          "data": {
            "text/plain": [
              "    Before  After  Diff  |Diff|\n",
              "4       13     14     1       1\n",
              "20      17     16    -1       1\n",
              "31      17     19     2       2\n",
              "21      12     16     4       4\n",
              "24      14     18     4       4\n",
              "9       22     17    -5       5\n",
              "6       21     13    -8       8\n",
              "29      23     14    -9       9\n",
              "8       10     19     9       9\n",
              "17      15      4   -11      11\n",
              "2       24     12   -12      12\n",
              "22      21      9   -12      12\n",
              "11      15      2   -13      13\n",
              "28      28     11   -17      17\n",
              "1       25      8   -17      17\n",
              "7       29     12   -17      17\n",
              "12      36     15   -21      21\n",
              "27      22      0   -22      22\n",
              "19      41     18   -23      23\n",
              "0       39     16   -23      23\n",
              "16      24      0   -24      24\n",
              "18      40     16   -24      24\n",
              "26      46     17   -29      29\n",
              "13      39     10   -29      29\n",
              "32      31      2   -29      29\n",
              "14      52     20   -32      32\n",
              "10      50     17   -33      33\n",
              "15      48     13   -35      35\n",
              "5       52     16   -36      36\n",
              "30      37      0   -37      37\n",
              "33      49      9   -40      40\n",
              "23      49      9   -40      40\n",
              "34      49      6   -43      43\n",
              "3       50      0   -50      50\n",
              "25      55      4   -51      51"
            ],
            "text/html": [
              "\n",
              "  <div id=\"df-6eb00e01-dde3-443f-ba5e-6ba6aee21242\">\n",
              "    <div class=\"colab-df-container\">\n",
              "      <div>\n",
              "<style scoped>\n",
              "    .dataframe tbody tr th:only-of-type {\n",
              "        vertical-align: middle;\n",
              "    }\n",
              "\n",
              "    .dataframe tbody tr th {\n",
              "        vertical-align: top;\n",
              "    }\n",
              "\n",
              "    .dataframe thead th {\n",
              "        text-align: right;\n",
              "    }\n",
              "</style>\n",
              "<table border=\"1\" class=\"dataframe\">\n",
              "  <thead>\n",
              "    <tr style=\"text-align: right;\">\n",
              "      <th></th>\n",
              "      <th>Before</th>\n",
              "      <th>After</th>\n",
              "      <th>Diff</th>\n",
              "      <th>|Diff|</th>\n",
              "    </tr>\n",
              "  </thead>\n",
              "  <tbody>\n",
              "    <tr>\n",
              "      <th>4</th>\n",
              "      <td>13</td>\n",
              "      <td>14</td>\n",
              "      <td>1</td>\n",
              "      <td>1</td>\n",
              "    </tr>\n",
              "    <tr>\n",
              "      <th>20</th>\n",
              "      <td>17</td>\n",
              "      <td>16</td>\n",
              "      <td>-1</td>\n",
              "      <td>1</td>\n",
              "    </tr>\n",
              "    <tr>\n",
              "      <th>31</th>\n",
              "      <td>17</td>\n",
              "      <td>19</td>\n",
              "      <td>2</td>\n",
              "      <td>2</td>\n",
              "    </tr>\n",
              "    <tr>\n",
              "      <th>21</th>\n",
              "      <td>12</td>\n",
              "      <td>16</td>\n",
              "      <td>4</td>\n",
              "      <td>4</td>\n",
              "    </tr>\n",
              "    <tr>\n",
              "      <th>24</th>\n",
              "      <td>14</td>\n",
              "      <td>18</td>\n",
              "      <td>4</td>\n",
              "      <td>4</td>\n",
              "    </tr>\n",
              "    <tr>\n",
              "      <th>9</th>\n",
              "      <td>22</td>\n",
              "      <td>17</td>\n",
              "      <td>-5</td>\n",
              "      <td>5</td>\n",
              "    </tr>\n",
              "    <tr>\n",
              "      <th>6</th>\n",
              "      <td>21</td>\n",
              "      <td>13</td>\n",
              "      <td>-8</td>\n",
              "      <td>8</td>\n",
              "    </tr>\n",
              "    <tr>\n",
              "      <th>29</th>\n",
              "      <td>23</td>\n",
              "      <td>14</td>\n",
              "      <td>-9</td>\n",
              "      <td>9</td>\n",
              "    </tr>\n",
              "    <tr>\n",
              "      <th>8</th>\n",
              "      <td>10</td>\n",
              "      <td>19</td>\n",
              "      <td>9</td>\n",
              "      <td>9</td>\n",
              "    </tr>\n",
              "    <tr>\n",
              "      <th>17</th>\n",
              "      <td>15</td>\n",
              "      <td>4</td>\n",
              "      <td>-11</td>\n",
              "      <td>11</td>\n",
              "    </tr>\n",
              "    <tr>\n",
              "      <th>2</th>\n",
              "      <td>24</td>\n",
              "      <td>12</td>\n",
              "      <td>-12</td>\n",
              "      <td>12</td>\n",
              "    </tr>\n",
              "    <tr>\n",
              "      <th>22</th>\n",
              "      <td>21</td>\n",
              "      <td>9</td>\n",
              "      <td>-12</td>\n",
              "      <td>12</td>\n",
              "    </tr>\n",
              "    <tr>\n",
              "      <th>11</th>\n",
              "      <td>15</td>\n",
              "      <td>2</td>\n",
              "      <td>-13</td>\n",
              "      <td>13</td>\n",
              "    </tr>\n",
              "    <tr>\n",
              "      <th>28</th>\n",
              "      <td>28</td>\n",
              "      <td>11</td>\n",
              "      <td>-17</td>\n",
              "      <td>17</td>\n",
              "    </tr>\n",
              "    <tr>\n",
              "      <th>1</th>\n",
              "      <td>25</td>\n",
              "      <td>8</td>\n",
              "      <td>-17</td>\n",
              "      <td>17</td>\n",
              "    </tr>\n",
              "    <tr>\n",
              "      <th>7</th>\n",
              "      <td>29</td>\n",
              "      <td>12</td>\n",
              "      <td>-17</td>\n",
              "      <td>17</td>\n",
              "    </tr>\n",
              "    <tr>\n",
              "      <th>12</th>\n",
              "      <td>36</td>\n",
              "      <td>15</td>\n",
              "      <td>-21</td>\n",
              "      <td>21</td>\n",
              "    </tr>\n",
              "    <tr>\n",
              "      <th>27</th>\n",
              "      <td>22</td>\n",
              "      <td>0</td>\n",
              "      <td>-22</td>\n",
              "      <td>22</td>\n",
              "    </tr>\n",
              "    <tr>\n",
              "      <th>19</th>\n",
              "      <td>41</td>\n",
              "      <td>18</td>\n",
              "      <td>-23</td>\n",
              "      <td>23</td>\n",
              "    </tr>\n",
              "    <tr>\n",
              "      <th>0</th>\n",
              "      <td>39</td>\n",
              "      <td>16</td>\n",
              "      <td>-23</td>\n",
              "      <td>23</td>\n",
              "    </tr>\n",
              "    <tr>\n",
              "      <th>16</th>\n",
              "      <td>24</td>\n",
              "      <td>0</td>\n",
              "      <td>-24</td>\n",
              "      <td>24</td>\n",
              "    </tr>\n",
              "    <tr>\n",
              "      <th>18</th>\n",
              "      <td>40</td>\n",
              "      <td>16</td>\n",
              "      <td>-24</td>\n",
              "      <td>24</td>\n",
              "    </tr>\n",
              "    <tr>\n",
              "      <th>26</th>\n",
              "      <td>46</td>\n",
              "      <td>17</td>\n",
              "      <td>-29</td>\n",
              "      <td>29</td>\n",
              "    </tr>\n",
              "    <tr>\n",
              "      <th>13</th>\n",
              "      <td>39</td>\n",
              "      <td>10</td>\n",
              "      <td>-29</td>\n",
              "      <td>29</td>\n",
              "    </tr>\n",
              "    <tr>\n",
              "      <th>32</th>\n",
              "      <td>31</td>\n",
              "      <td>2</td>\n",
              "      <td>-29</td>\n",
              "      <td>29</td>\n",
              "    </tr>\n",
              "    <tr>\n",
              "      <th>14</th>\n",
              "      <td>52</td>\n",
              "      <td>20</td>\n",
              "      <td>-32</td>\n",
              "      <td>32</td>\n",
              "    </tr>\n",
              "    <tr>\n",
              "      <th>10</th>\n",
              "      <td>50</td>\n",
              "      <td>17</td>\n",
              "      <td>-33</td>\n",
              "      <td>33</td>\n",
              "    </tr>\n",
              "    <tr>\n",
              "      <th>15</th>\n",
              "      <td>48</td>\n",
              "      <td>13</td>\n",
              "      <td>-35</td>\n",
              "      <td>35</td>\n",
              "    </tr>\n",
              "    <tr>\n",
              "      <th>5</th>\n",
              "      <td>52</td>\n",
              "      <td>16</td>\n",
              "      <td>-36</td>\n",
              "      <td>36</td>\n",
              "    </tr>\n",
              "    <tr>\n",
              "      <th>30</th>\n",
              "      <td>37</td>\n",
              "      <td>0</td>\n",
              "      <td>-37</td>\n",
              "      <td>37</td>\n",
              "    </tr>\n",
              "    <tr>\n",
              "      <th>33</th>\n",
              "      <td>49</td>\n",
              "      <td>9</td>\n",
              "      <td>-40</td>\n",
              "      <td>40</td>\n",
              "    </tr>\n",
              "    <tr>\n",
              "      <th>23</th>\n",
              "      <td>49</td>\n",
              "      <td>9</td>\n",
              "      <td>-40</td>\n",
              "      <td>40</td>\n",
              "    </tr>\n",
              "    <tr>\n",
              "      <th>34</th>\n",
              "      <td>49</td>\n",
              "      <td>6</td>\n",
              "      <td>-43</td>\n",
              "      <td>43</td>\n",
              "    </tr>\n",
              "    <tr>\n",
              "      <th>3</th>\n",
              "      <td>50</td>\n",
              "      <td>0</td>\n",
              "      <td>-50</td>\n",
              "      <td>50</td>\n",
              "    </tr>\n",
              "    <tr>\n",
              "      <th>25</th>\n",
              "      <td>55</td>\n",
              "      <td>4</td>\n",
              "      <td>-51</td>\n",
              "      <td>51</td>\n",
              "    </tr>\n",
              "  </tbody>\n",
              "</table>\n",
              "</div>\n",
              "      <button class=\"colab-df-convert\" onclick=\"convertToInteractive('df-6eb00e01-dde3-443f-ba5e-6ba6aee21242')\"\n",
              "              title=\"Convert this dataframe to an interactive table.\"\n",
              "              style=\"display:none;\">\n",
              "        \n",
              "  <svg xmlns=\"http://www.w3.org/2000/svg\" height=\"24px\"viewBox=\"0 0 24 24\"\n",
              "       width=\"24px\">\n",
              "    <path d=\"M0 0h24v24H0V0z\" fill=\"none\"/>\n",
              "    <path d=\"M18.56 5.44l.94 2.06.94-2.06 2.06-.94-2.06-.94-.94-2.06-.94 2.06-2.06.94zm-11 1L8.5 8.5l.94-2.06 2.06-.94-2.06-.94L8.5 2.5l-.94 2.06-2.06.94zm10 10l.94 2.06.94-2.06 2.06-.94-2.06-.94-.94-2.06-.94 2.06-2.06.94z\"/><path d=\"M17.41 7.96l-1.37-1.37c-.4-.4-.92-.59-1.43-.59-.52 0-1.04.2-1.43.59L10.3 9.45l-7.72 7.72c-.78.78-.78 2.05 0 2.83L4 21.41c.39.39.9.59 1.41.59.51 0 1.02-.2 1.41-.59l7.78-7.78 2.81-2.81c.8-.78.8-2.07 0-2.86zM5.41 20L4 18.59l7.72-7.72 1.47 1.35L5.41 20z\"/>\n",
              "  </svg>\n",
              "      </button>\n",
              "      \n",
              "  <style>\n",
              "    .colab-df-container {\n",
              "      display:flex;\n",
              "      flex-wrap:wrap;\n",
              "      gap: 12px;\n",
              "    }\n",
              "\n",
              "    .colab-df-convert {\n",
              "      background-color: #E8F0FE;\n",
              "      border: none;\n",
              "      border-radius: 50%;\n",
              "      cursor: pointer;\n",
              "      display: none;\n",
              "      fill: #1967D2;\n",
              "      height: 32px;\n",
              "      padding: 0 0 0 0;\n",
              "      width: 32px;\n",
              "    }\n",
              "\n",
              "    .colab-df-convert:hover {\n",
              "      background-color: #E2EBFA;\n",
              "      box-shadow: 0px 1px 2px rgba(60, 64, 67, 0.3), 0px 1px 3px 1px rgba(60, 64, 67, 0.15);\n",
              "      fill: #174EA6;\n",
              "    }\n",
              "\n",
              "    [theme=dark] .colab-df-convert {\n",
              "      background-color: #3B4455;\n",
              "      fill: #D2E3FC;\n",
              "    }\n",
              "\n",
              "    [theme=dark] .colab-df-convert:hover {\n",
              "      background-color: #434B5C;\n",
              "      box-shadow: 0px 1px 3px 1px rgba(0, 0, 0, 0.15);\n",
              "      filter: drop-shadow(0px 1px 2px rgba(0, 0, 0, 0.3));\n",
              "      fill: #FFFFFF;\n",
              "    }\n",
              "  </style>\n",
              "\n",
              "      <script>\n",
              "        const buttonEl =\n",
              "          document.querySelector('#df-6eb00e01-dde3-443f-ba5e-6ba6aee21242 button.colab-df-convert');\n",
              "        buttonEl.style.display =\n",
              "          google.colab.kernel.accessAllowed ? 'block' : 'none';\n",
              "\n",
              "        async function convertToInteractive(key) {\n",
              "          const element = document.querySelector('#df-6eb00e01-dde3-443f-ba5e-6ba6aee21242');\n",
              "          const dataTable =\n",
              "            await google.colab.kernel.invokeFunction('convertToInteractive',\n",
              "                                                     [key], {});\n",
              "          if (!dataTable) return;\n",
              "\n",
              "          const docLinkHtml = 'Like what you see? Visit the ' +\n",
              "            '<a target=\"_blank\" href=https://colab.research.google.com/notebooks/data_table.ipynb>data table notebook</a>'\n",
              "            + ' to learn more about interactive tables.';\n",
              "          element.innerHTML = '';\n",
              "          dataTable['output_type'] = 'display_data';\n",
              "          await google.colab.output.renderOutput(dataTable, element);\n",
              "          const docLink = document.createElement('div');\n",
              "          docLink.innerHTML = docLinkHtml;\n",
              "          element.appendChild(docLink);\n",
              "        }\n",
              "      </script>\n",
              "    </div>\n",
              "  </div>\n",
              "  "
            ]
          },
          "metadata": {},
          "execution_count": 54
        }
      ]
    },
    {
      "cell_type": "markdown",
      "source": [
        "Now, let's create a new column, which will define the rank of each pair:"
      ],
      "metadata": {
        "id": "hdOO03q0otDQ"
      }
    },
    {
      "cell_type": "code",
      "source": [
        "smoke_df['Rank'] = [i for i in range(1, smoke_df.shape[0]+1)]"
      ],
      "metadata": {
        "id": "G6JZbkd9oBkl"
      },
      "execution_count": 55,
      "outputs": []
    },
    {
      "cell_type": "markdown",
      "source": [
        "And then, for the same absolute difference, let's get the average rank."
      ],
      "metadata": {
        "id": "lfnpisZHp8_Z"
      }
    },
    {
      "cell_type": "code",
      "source": [
        "rank = smoke_df[['|Diff|', 'Rank']].groupby(['|Diff|']).mean( )\n",
        "rank.reset_index(inplace = True)\n",
        "rank"
      ],
      "metadata": {
        "colab": {
          "base_uri": "https://localhost:8080/",
          "height": 802
        },
        "id": "kY5bOEi9pUOF",
        "outputId": "a7145cb4-252c-4498-873e-94c74689c789"
      },
      "execution_count": 56,
      "outputs": [
        {
          "output_type": "execute_result",
          "data": {
            "text/plain": [
              "    |Diff|  Rank\n",
              "0        1   1.5\n",
              "1        2   3.0\n",
              "2        4   4.5\n",
              "3        5   6.0\n",
              "4        8   7.0\n",
              "5        9   8.5\n",
              "6       11  10.0\n",
              "7       12  11.5\n",
              "8       13  13.0\n",
              "9       17  15.0\n",
              "10      21  17.0\n",
              "11      22  18.0\n",
              "12      23  19.5\n",
              "13      24  21.5\n",
              "14      29  24.0\n",
              "15      32  26.0\n",
              "16      33  27.0\n",
              "17      35  28.0\n",
              "18      36  29.0\n",
              "19      37  30.0\n",
              "20      40  31.5\n",
              "21      43  33.0\n",
              "22      50  34.0\n",
              "23      51  35.0"
            ],
            "text/html": [
              "\n",
              "  <div id=\"df-6d6fb654-e044-482a-a50b-f6752aa00580\">\n",
              "    <div class=\"colab-df-container\">\n",
              "      <div>\n",
              "<style scoped>\n",
              "    .dataframe tbody tr th:only-of-type {\n",
              "        vertical-align: middle;\n",
              "    }\n",
              "\n",
              "    .dataframe tbody tr th {\n",
              "        vertical-align: top;\n",
              "    }\n",
              "\n",
              "    .dataframe thead th {\n",
              "        text-align: right;\n",
              "    }\n",
              "</style>\n",
              "<table border=\"1\" class=\"dataframe\">\n",
              "  <thead>\n",
              "    <tr style=\"text-align: right;\">\n",
              "      <th></th>\n",
              "      <th>|Diff|</th>\n",
              "      <th>Rank</th>\n",
              "    </tr>\n",
              "  </thead>\n",
              "  <tbody>\n",
              "    <tr>\n",
              "      <th>0</th>\n",
              "      <td>1</td>\n",
              "      <td>1.5</td>\n",
              "    </tr>\n",
              "    <tr>\n",
              "      <th>1</th>\n",
              "      <td>2</td>\n",
              "      <td>3.0</td>\n",
              "    </tr>\n",
              "    <tr>\n",
              "      <th>2</th>\n",
              "      <td>4</td>\n",
              "      <td>4.5</td>\n",
              "    </tr>\n",
              "    <tr>\n",
              "      <th>3</th>\n",
              "      <td>5</td>\n",
              "      <td>6.0</td>\n",
              "    </tr>\n",
              "    <tr>\n",
              "      <th>4</th>\n",
              "      <td>8</td>\n",
              "      <td>7.0</td>\n",
              "    </tr>\n",
              "    <tr>\n",
              "      <th>5</th>\n",
              "      <td>9</td>\n",
              "      <td>8.5</td>\n",
              "    </tr>\n",
              "    <tr>\n",
              "      <th>6</th>\n",
              "      <td>11</td>\n",
              "      <td>10.0</td>\n",
              "    </tr>\n",
              "    <tr>\n",
              "      <th>7</th>\n",
              "      <td>12</td>\n",
              "      <td>11.5</td>\n",
              "    </tr>\n",
              "    <tr>\n",
              "      <th>8</th>\n",
              "      <td>13</td>\n",
              "      <td>13.0</td>\n",
              "    </tr>\n",
              "    <tr>\n",
              "      <th>9</th>\n",
              "      <td>17</td>\n",
              "      <td>15.0</td>\n",
              "    </tr>\n",
              "    <tr>\n",
              "      <th>10</th>\n",
              "      <td>21</td>\n",
              "      <td>17.0</td>\n",
              "    </tr>\n",
              "    <tr>\n",
              "      <th>11</th>\n",
              "      <td>22</td>\n",
              "      <td>18.0</td>\n",
              "    </tr>\n",
              "    <tr>\n",
              "      <th>12</th>\n",
              "      <td>23</td>\n",
              "      <td>19.5</td>\n",
              "    </tr>\n",
              "    <tr>\n",
              "      <th>13</th>\n",
              "      <td>24</td>\n",
              "      <td>21.5</td>\n",
              "    </tr>\n",
              "    <tr>\n",
              "      <th>14</th>\n",
              "      <td>29</td>\n",
              "      <td>24.0</td>\n",
              "    </tr>\n",
              "    <tr>\n",
              "      <th>15</th>\n",
              "      <td>32</td>\n",
              "      <td>26.0</td>\n",
              "    </tr>\n",
              "    <tr>\n",
              "      <th>16</th>\n",
              "      <td>33</td>\n",
              "      <td>27.0</td>\n",
              "    </tr>\n",
              "    <tr>\n",
              "      <th>17</th>\n",
              "      <td>35</td>\n",
              "      <td>28.0</td>\n",
              "    </tr>\n",
              "    <tr>\n",
              "      <th>18</th>\n",
              "      <td>36</td>\n",
              "      <td>29.0</td>\n",
              "    </tr>\n",
              "    <tr>\n",
              "      <th>19</th>\n",
              "      <td>37</td>\n",
              "      <td>30.0</td>\n",
              "    </tr>\n",
              "    <tr>\n",
              "      <th>20</th>\n",
              "      <td>40</td>\n",
              "      <td>31.5</td>\n",
              "    </tr>\n",
              "    <tr>\n",
              "      <th>21</th>\n",
              "      <td>43</td>\n",
              "      <td>33.0</td>\n",
              "    </tr>\n",
              "    <tr>\n",
              "      <th>22</th>\n",
              "      <td>50</td>\n",
              "      <td>34.0</td>\n",
              "    </tr>\n",
              "    <tr>\n",
              "      <th>23</th>\n",
              "      <td>51</td>\n",
              "      <td>35.0</td>\n",
              "    </tr>\n",
              "  </tbody>\n",
              "</table>\n",
              "</div>\n",
              "      <button class=\"colab-df-convert\" onclick=\"convertToInteractive('df-6d6fb654-e044-482a-a50b-f6752aa00580')\"\n",
              "              title=\"Convert this dataframe to an interactive table.\"\n",
              "              style=\"display:none;\">\n",
              "        \n",
              "  <svg xmlns=\"http://www.w3.org/2000/svg\" height=\"24px\"viewBox=\"0 0 24 24\"\n",
              "       width=\"24px\">\n",
              "    <path d=\"M0 0h24v24H0V0z\" fill=\"none\"/>\n",
              "    <path d=\"M18.56 5.44l.94 2.06.94-2.06 2.06-.94-2.06-.94-.94-2.06-.94 2.06-2.06.94zm-11 1L8.5 8.5l.94-2.06 2.06-.94-2.06-.94L8.5 2.5l-.94 2.06-2.06.94zm10 10l.94 2.06.94-2.06 2.06-.94-2.06-.94-.94-2.06-.94 2.06-2.06.94z\"/><path d=\"M17.41 7.96l-1.37-1.37c-.4-.4-.92-.59-1.43-.59-.52 0-1.04.2-1.43.59L10.3 9.45l-7.72 7.72c-.78.78-.78 2.05 0 2.83L4 21.41c.39.39.9.59 1.41.59.51 0 1.02-.2 1.41-.59l7.78-7.78 2.81-2.81c.8-.78.8-2.07 0-2.86zM5.41 20L4 18.59l7.72-7.72 1.47 1.35L5.41 20z\"/>\n",
              "  </svg>\n",
              "      </button>\n",
              "      \n",
              "  <style>\n",
              "    .colab-df-container {\n",
              "      display:flex;\n",
              "      flex-wrap:wrap;\n",
              "      gap: 12px;\n",
              "    }\n",
              "\n",
              "    .colab-df-convert {\n",
              "      background-color: #E8F0FE;\n",
              "      border: none;\n",
              "      border-radius: 50%;\n",
              "      cursor: pointer;\n",
              "      display: none;\n",
              "      fill: #1967D2;\n",
              "      height: 32px;\n",
              "      padding: 0 0 0 0;\n",
              "      width: 32px;\n",
              "    }\n",
              "\n",
              "    .colab-df-convert:hover {\n",
              "      background-color: #E2EBFA;\n",
              "      box-shadow: 0px 1px 2px rgba(60, 64, 67, 0.3), 0px 1px 3px 1px rgba(60, 64, 67, 0.15);\n",
              "      fill: #174EA6;\n",
              "    }\n",
              "\n",
              "    [theme=dark] .colab-df-convert {\n",
              "      background-color: #3B4455;\n",
              "      fill: #D2E3FC;\n",
              "    }\n",
              "\n",
              "    [theme=dark] .colab-df-convert:hover {\n",
              "      background-color: #434B5C;\n",
              "      box-shadow: 0px 1px 3px 1px rgba(0, 0, 0, 0.15);\n",
              "      filter: drop-shadow(0px 1px 2px rgba(0, 0, 0, 0.3));\n",
              "      fill: #FFFFFF;\n",
              "    }\n",
              "  </style>\n",
              "\n",
              "      <script>\n",
              "        const buttonEl =\n",
              "          document.querySelector('#df-6d6fb654-e044-482a-a50b-f6752aa00580 button.colab-df-convert');\n",
              "        buttonEl.style.display =\n",
              "          google.colab.kernel.accessAllowed ? 'block' : 'none';\n",
              "\n",
              "        async function convertToInteractive(key) {\n",
              "          const element = document.querySelector('#df-6d6fb654-e044-482a-a50b-f6752aa00580');\n",
              "          const dataTable =\n",
              "            await google.colab.kernel.invokeFunction('convertToInteractive',\n",
              "                                                     [key], {});\n",
              "          if (!dataTable) return;\n",
              "\n",
              "          const docLinkHtml = 'Like what you see? Visit the ' +\n",
              "            '<a target=\"_blank\" href=https://colab.research.google.com/notebooks/data_table.ipynb>data table notebook</a>'\n",
              "            + ' to learn more about interactive tables.';\n",
              "          element.innerHTML = '';\n",
              "          dataTable['output_type'] = 'display_data';\n",
              "          await google.colab.output.renderOutput(dataTable, element);\n",
              "          const docLink = document.createElement('div');\n",
              "          docLink.innerHTML = docLinkHtml;\n",
              "          element.appendChild(docLink);\n",
              "        }\n",
              "      </script>\n",
              "    </div>\n",
              "  </div>\n",
              "  "
            ]
          },
          "metadata": {},
          "execution_count": 56
        }
      ]
    },
    {
      "cell_type": "markdown",
      "source": [
        "Now, let's add this to the former dataframe:"
      ],
      "metadata": {
        "id": "7Vacnmo6sBms"
      }
    },
    {
      "cell_type": "code",
      "source": [
        "smoke_df.drop(['Rank'], axis = 1, inplace = True)\n",
        "smoke_df = smoke_df.merge(rank, left_on = '|Diff|', right_on = '|Diff|', how = 'left')\n",
        "smoke_df"
      ],
      "metadata": {
        "colab": {
          "base_uri": "https://localhost:8080/",
          "height": 1000
        },
        "id": "gRe-R8gzp3Kz",
        "outputId": "97cf9a30-7b0d-4a79-bc19-d1f32104190a"
      },
      "execution_count": 57,
      "outputs": [
        {
          "output_type": "execute_result",
          "data": {
            "text/plain": [
              "    Before  After  Diff  |Diff|  Rank\n",
              "0       13     14     1       1   1.5\n",
              "1       17     16    -1       1   1.5\n",
              "2       17     19     2       2   3.0\n",
              "3       12     16     4       4   4.5\n",
              "4       14     18     4       4   4.5\n",
              "5       22     17    -5       5   6.0\n",
              "6       21     13    -8       8   7.0\n",
              "7       23     14    -9       9   8.5\n",
              "8       10     19     9       9   8.5\n",
              "9       15      4   -11      11  10.0\n",
              "10      24     12   -12      12  11.5\n",
              "11      21      9   -12      12  11.5\n",
              "12      15      2   -13      13  13.0\n",
              "13      28     11   -17      17  15.0\n",
              "14      25      8   -17      17  15.0\n",
              "15      29     12   -17      17  15.0\n",
              "16      36     15   -21      21  17.0\n",
              "17      22      0   -22      22  18.0\n",
              "18      41     18   -23      23  19.5\n",
              "19      39     16   -23      23  19.5\n",
              "20      24      0   -24      24  21.5\n",
              "21      40     16   -24      24  21.5\n",
              "22      46     17   -29      29  24.0\n",
              "23      39     10   -29      29  24.0\n",
              "24      31      2   -29      29  24.0\n",
              "25      52     20   -32      32  26.0\n",
              "26      50     17   -33      33  27.0\n",
              "27      48     13   -35      35  28.0\n",
              "28      52     16   -36      36  29.0\n",
              "29      37      0   -37      37  30.0\n",
              "30      49      9   -40      40  31.5\n",
              "31      49      9   -40      40  31.5\n",
              "32      49      6   -43      43  33.0\n",
              "33      50      0   -50      50  34.0\n",
              "34      55      4   -51      51  35.0"
            ],
            "text/html": [
              "\n",
              "  <div id=\"df-1da7d396-1fea-4b04-83f4-14b80177444a\">\n",
              "    <div class=\"colab-df-container\">\n",
              "      <div>\n",
              "<style scoped>\n",
              "    .dataframe tbody tr th:only-of-type {\n",
              "        vertical-align: middle;\n",
              "    }\n",
              "\n",
              "    .dataframe tbody tr th {\n",
              "        vertical-align: top;\n",
              "    }\n",
              "\n",
              "    .dataframe thead th {\n",
              "        text-align: right;\n",
              "    }\n",
              "</style>\n",
              "<table border=\"1\" class=\"dataframe\">\n",
              "  <thead>\n",
              "    <tr style=\"text-align: right;\">\n",
              "      <th></th>\n",
              "      <th>Before</th>\n",
              "      <th>After</th>\n",
              "      <th>Diff</th>\n",
              "      <th>|Diff|</th>\n",
              "      <th>Rank</th>\n",
              "    </tr>\n",
              "  </thead>\n",
              "  <tbody>\n",
              "    <tr>\n",
              "      <th>0</th>\n",
              "      <td>13</td>\n",
              "      <td>14</td>\n",
              "      <td>1</td>\n",
              "      <td>1</td>\n",
              "      <td>1.5</td>\n",
              "    </tr>\n",
              "    <tr>\n",
              "      <th>1</th>\n",
              "      <td>17</td>\n",
              "      <td>16</td>\n",
              "      <td>-1</td>\n",
              "      <td>1</td>\n",
              "      <td>1.5</td>\n",
              "    </tr>\n",
              "    <tr>\n",
              "      <th>2</th>\n",
              "      <td>17</td>\n",
              "      <td>19</td>\n",
              "      <td>2</td>\n",
              "      <td>2</td>\n",
              "      <td>3.0</td>\n",
              "    </tr>\n",
              "    <tr>\n",
              "      <th>3</th>\n",
              "      <td>12</td>\n",
              "      <td>16</td>\n",
              "      <td>4</td>\n",
              "      <td>4</td>\n",
              "      <td>4.5</td>\n",
              "    </tr>\n",
              "    <tr>\n",
              "      <th>4</th>\n",
              "      <td>14</td>\n",
              "      <td>18</td>\n",
              "      <td>4</td>\n",
              "      <td>4</td>\n",
              "      <td>4.5</td>\n",
              "    </tr>\n",
              "    <tr>\n",
              "      <th>5</th>\n",
              "      <td>22</td>\n",
              "      <td>17</td>\n",
              "      <td>-5</td>\n",
              "      <td>5</td>\n",
              "      <td>6.0</td>\n",
              "    </tr>\n",
              "    <tr>\n",
              "      <th>6</th>\n",
              "      <td>21</td>\n",
              "      <td>13</td>\n",
              "      <td>-8</td>\n",
              "      <td>8</td>\n",
              "      <td>7.0</td>\n",
              "    </tr>\n",
              "    <tr>\n",
              "      <th>7</th>\n",
              "      <td>23</td>\n",
              "      <td>14</td>\n",
              "      <td>-9</td>\n",
              "      <td>9</td>\n",
              "      <td>8.5</td>\n",
              "    </tr>\n",
              "    <tr>\n",
              "      <th>8</th>\n",
              "      <td>10</td>\n",
              "      <td>19</td>\n",
              "      <td>9</td>\n",
              "      <td>9</td>\n",
              "      <td>8.5</td>\n",
              "    </tr>\n",
              "    <tr>\n",
              "      <th>9</th>\n",
              "      <td>15</td>\n",
              "      <td>4</td>\n",
              "      <td>-11</td>\n",
              "      <td>11</td>\n",
              "      <td>10.0</td>\n",
              "    </tr>\n",
              "    <tr>\n",
              "      <th>10</th>\n",
              "      <td>24</td>\n",
              "      <td>12</td>\n",
              "      <td>-12</td>\n",
              "      <td>12</td>\n",
              "      <td>11.5</td>\n",
              "    </tr>\n",
              "    <tr>\n",
              "      <th>11</th>\n",
              "      <td>21</td>\n",
              "      <td>9</td>\n",
              "      <td>-12</td>\n",
              "      <td>12</td>\n",
              "      <td>11.5</td>\n",
              "    </tr>\n",
              "    <tr>\n",
              "      <th>12</th>\n",
              "      <td>15</td>\n",
              "      <td>2</td>\n",
              "      <td>-13</td>\n",
              "      <td>13</td>\n",
              "      <td>13.0</td>\n",
              "    </tr>\n",
              "    <tr>\n",
              "      <th>13</th>\n",
              "      <td>28</td>\n",
              "      <td>11</td>\n",
              "      <td>-17</td>\n",
              "      <td>17</td>\n",
              "      <td>15.0</td>\n",
              "    </tr>\n",
              "    <tr>\n",
              "      <th>14</th>\n",
              "      <td>25</td>\n",
              "      <td>8</td>\n",
              "      <td>-17</td>\n",
              "      <td>17</td>\n",
              "      <td>15.0</td>\n",
              "    </tr>\n",
              "    <tr>\n",
              "      <th>15</th>\n",
              "      <td>29</td>\n",
              "      <td>12</td>\n",
              "      <td>-17</td>\n",
              "      <td>17</td>\n",
              "      <td>15.0</td>\n",
              "    </tr>\n",
              "    <tr>\n",
              "      <th>16</th>\n",
              "      <td>36</td>\n",
              "      <td>15</td>\n",
              "      <td>-21</td>\n",
              "      <td>21</td>\n",
              "      <td>17.0</td>\n",
              "    </tr>\n",
              "    <tr>\n",
              "      <th>17</th>\n",
              "      <td>22</td>\n",
              "      <td>0</td>\n",
              "      <td>-22</td>\n",
              "      <td>22</td>\n",
              "      <td>18.0</td>\n",
              "    </tr>\n",
              "    <tr>\n",
              "      <th>18</th>\n",
              "      <td>41</td>\n",
              "      <td>18</td>\n",
              "      <td>-23</td>\n",
              "      <td>23</td>\n",
              "      <td>19.5</td>\n",
              "    </tr>\n",
              "    <tr>\n",
              "      <th>19</th>\n",
              "      <td>39</td>\n",
              "      <td>16</td>\n",
              "      <td>-23</td>\n",
              "      <td>23</td>\n",
              "      <td>19.5</td>\n",
              "    </tr>\n",
              "    <tr>\n",
              "      <th>20</th>\n",
              "      <td>24</td>\n",
              "      <td>0</td>\n",
              "      <td>-24</td>\n",
              "      <td>24</td>\n",
              "      <td>21.5</td>\n",
              "    </tr>\n",
              "    <tr>\n",
              "      <th>21</th>\n",
              "      <td>40</td>\n",
              "      <td>16</td>\n",
              "      <td>-24</td>\n",
              "      <td>24</td>\n",
              "      <td>21.5</td>\n",
              "    </tr>\n",
              "    <tr>\n",
              "      <th>22</th>\n",
              "      <td>46</td>\n",
              "      <td>17</td>\n",
              "      <td>-29</td>\n",
              "      <td>29</td>\n",
              "      <td>24.0</td>\n",
              "    </tr>\n",
              "    <tr>\n",
              "      <th>23</th>\n",
              "      <td>39</td>\n",
              "      <td>10</td>\n",
              "      <td>-29</td>\n",
              "      <td>29</td>\n",
              "      <td>24.0</td>\n",
              "    </tr>\n",
              "    <tr>\n",
              "      <th>24</th>\n",
              "      <td>31</td>\n",
              "      <td>2</td>\n",
              "      <td>-29</td>\n",
              "      <td>29</td>\n",
              "      <td>24.0</td>\n",
              "    </tr>\n",
              "    <tr>\n",
              "      <th>25</th>\n",
              "      <td>52</td>\n",
              "      <td>20</td>\n",
              "      <td>-32</td>\n",
              "      <td>32</td>\n",
              "      <td>26.0</td>\n",
              "    </tr>\n",
              "    <tr>\n",
              "      <th>26</th>\n",
              "      <td>50</td>\n",
              "      <td>17</td>\n",
              "      <td>-33</td>\n",
              "      <td>33</td>\n",
              "      <td>27.0</td>\n",
              "    </tr>\n",
              "    <tr>\n",
              "      <th>27</th>\n",
              "      <td>48</td>\n",
              "      <td>13</td>\n",
              "      <td>-35</td>\n",
              "      <td>35</td>\n",
              "      <td>28.0</td>\n",
              "    </tr>\n",
              "    <tr>\n",
              "      <th>28</th>\n",
              "      <td>52</td>\n",
              "      <td>16</td>\n",
              "      <td>-36</td>\n",
              "      <td>36</td>\n",
              "      <td>29.0</td>\n",
              "    </tr>\n",
              "    <tr>\n",
              "      <th>29</th>\n",
              "      <td>37</td>\n",
              "      <td>0</td>\n",
              "      <td>-37</td>\n",
              "      <td>37</td>\n",
              "      <td>30.0</td>\n",
              "    </tr>\n",
              "    <tr>\n",
              "      <th>30</th>\n",
              "      <td>49</td>\n",
              "      <td>9</td>\n",
              "      <td>-40</td>\n",
              "      <td>40</td>\n",
              "      <td>31.5</td>\n",
              "    </tr>\n",
              "    <tr>\n",
              "      <th>31</th>\n",
              "      <td>49</td>\n",
              "      <td>9</td>\n",
              "      <td>-40</td>\n",
              "      <td>40</td>\n",
              "      <td>31.5</td>\n",
              "    </tr>\n",
              "    <tr>\n",
              "      <th>32</th>\n",
              "      <td>49</td>\n",
              "      <td>6</td>\n",
              "      <td>-43</td>\n",
              "      <td>43</td>\n",
              "      <td>33.0</td>\n",
              "    </tr>\n",
              "    <tr>\n",
              "      <th>33</th>\n",
              "      <td>50</td>\n",
              "      <td>0</td>\n",
              "      <td>-50</td>\n",
              "      <td>50</td>\n",
              "      <td>34.0</td>\n",
              "    </tr>\n",
              "    <tr>\n",
              "      <th>34</th>\n",
              "      <td>55</td>\n",
              "      <td>4</td>\n",
              "      <td>-51</td>\n",
              "      <td>51</td>\n",
              "      <td>35.0</td>\n",
              "    </tr>\n",
              "  </tbody>\n",
              "</table>\n",
              "</div>\n",
              "      <button class=\"colab-df-convert\" onclick=\"convertToInteractive('df-1da7d396-1fea-4b04-83f4-14b80177444a')\"\n",
              "              title=\"Convert this dataframe to an interactive table.\"\n",
              "              style=\"display:none;\">\n",
              "        \n",
              "  <svg xmlns=\"http://www.w3.org/2000/svg\" height=\"24px\"viewBox=\"0 0 24 24\"\n",
              "       width=\"24px\">\n",
              "    <path d=\"M0 0h24v24H0V0z\" fill=\"none\"/>\n",
              "    <path d=\"M18.56 5.44l.94 2.06.94-2.06 2.06-.94-2.06-.94-.94-2.06-.94 2.06-2.06.94zm-11 1L8.5 8.5l.94-2.06 2.06-.94-2.06-.94L8.5 2.5l-.94 2.06-2.06.94zm10 10l.94 2.06.94-2.06 2.06-.94-2.06-.94-.94-2.06-.94 2.06-2.06.94z\"/><path d=\"M17.41 7.96l-1.37-1.37c-.4-.4-.92-.59-1.43-.59-.52 0-1.04.2-1.43.59L10.3 9.45l-7.72 7.72c-.78.78-.78 2.05 0 2.83L4 21.41c.39.39.9.59 1.41.59.51 0 1.02-.2 1.41-.59l7.78-7.78 2.81-2.81c.8-.78.8-2.07 0-2.86zM5.41 20L4 18.59l7.72-7.72 1.47 1.35L5.41 20z\"/>\n",
              "  </svg>\n",
              "      </button>\n",
              "      \n",
              "  <style>\n",
              "    .colab-df-container {\n",
              "      display:flex;\n",
              "      flex-wrap:wrap;\n",
              "      gap: 12px;\n",
              "    }\n",
              "\n",
              "    .colab-df-convert {\n",
              "      background-color: #E8F0FE;\n",
              "      border: none;\n",
              "      border-radius: 50%;\n",
              "      cursor: pointer;\n",
              "      display: none;\n",
              "      fill: #1967D2;\n",
              "      height: 32px;\n",
              "      padding: 0 0 0 0;\n",
              "      width: 32px;\n",
              "    }\n",
              "\n",
              "    .colab-df-convert:hover {\n",
              "      background-color: #E2EBFA;\n",
              "      box-shadow: 0px 1px 2px rgba(60, 64, 67, 0.3), 0px 1px 3px 1px rgba(60, 64, 67, 0.15);\n",
              "      fill: #174EA6;\n",
              "    }\n",
              "\n",
              "    [theme=dark] .colab-df-convert {\n",
              "      background-color: #3B4455;\n",
              "      fill: #D2E3FC;\n",
              "    }\n",
              "\n",
              "    [theme=dark] .colab-df-convert:hover {\n",
              "      background-color: #434B5C;\n",
              "      box-shadow: 0px 1px 3px 1px rgba(0, 0, 0, 0.15);\n",
              "      filter: drop-shadow(0px 1px 2px rgba(0, 0, 0, 0.3));\n",
              "      fill: #FFFFFF;\n",
              "    }\n",
              "  </style>\n",
              "\n",
              "      <script>\n",
              "        const buttonEl =\n",
              "          document.querySelector('#df-1da7d396-1fea-4b04-83f4-14b80177444a button.colab-df-convert');\n",
              "        buttonEl.style.display =\n",
              "          google.colab.kernel.accessAllowed ? 'block' : 'none';\n",
              "\n",
              "        async function convertToInteractive(key) {\n",
              "          const element = document.querySelector('#df-1da7d396-1fea-4b04-83f4-14b80177444a');\n",
              "          const dataTable =\n",
              "            await google.colab.kernel.invokeFunction('convertToInteractive',\n",
              "                                                     [key], {});\n",
              "          if (!dataTable) return;\n",
              "\n",
              "          const docLinkHtml = 'Like what you see? Visit the ' +\n",
              "            '<a target=\"_blank\" href=https://colab.research.google.com/notebooks/data_table.ipynb>data table notebook</a>'\n",
              "            + ' to learn more about interactive tables.';\n",
              "          element.innerHTML = '';\n",
              "          dataTable['output_type'] = 'display_data';\n",
              "          await google.colab.output.renderOutput(dataTable, element);\n",
              "          const docLink = document.createElement('div');\n",
              "          docLink.innerHTML = docLinkHtml;\n",
              "          element.appendChild(docLink);\n",
              "        }\n",
              "      </script>\n",
              "    </div>\n",
              "  </div>\n",
              "  "
            ]
          },
          "metadata": {},
          "execution_count": 57
        }
      ]
    },
    {
      "cell_type": "markdown",
      "source": [
        "Finally, we will create two new columns: Rank (+), for those cases where the difference is positive, and Rank (-), for those cases where the difference is negative."
      ],
      "metadata": {
        "id": "A4BFlgh4sHHm"
      }
    },
    {
      "cell_type": "code",
      "source": [
        "smoke_df['Rank (+)'] = smoke_df.apply(lambda x : x.Rank if x.Diff > 0 else 0, axis = 1)\n",
        "smoke_df['Rank (-)'] = smoke_df.apply(lambda x : x.Rank if x.Diff < 0 else 0, axis = 1)\n",
        "smoke_df.drop(['Rank'], axis = 1, inplace = True)\n",
        "smoke_df"
      ],
      "metadata": {
        "colab": {
          "base_uri": "https://localhost:8080/",
          "height": 1000
        },
        "id": "2e-zTDukqMe3",
        "outputId": "9ebde518-ef26-4ec2-c73d-750c00cbd056"
      },
      "execution_count": 58,
      "outputs": [
        {
          "output_type": "execute_result",
          "data": {
            "text/plain": [
              "    Before  After  Diff  |Diff|  Rank (+)  Rank (-)\n",
              "0       13     14     1       1       1.5       0.0\n",
              "1       17     16    -1       1       0.0       1.5\n",
              "2       17     19     2       2       3.0       0.0\n",
              "3       12     16     4       4       4.5       0.0\n",
              "4       14     18     4       4       4.5       0.0\n",
              "5       22     17    -5       5       0.0       6.0\n",
              "6       21     13    -8       8       0.0       7.0\n",
              "7       23     14    -9       9       0.0       8.5\n",
              "8       10     19     9       9       8.5       0.0\n",
              "9       15      4   -11      11       0.0      10.0\n",
              "10      24     12   -12      12       0.0      11.5\n",
              "11      21      9   -12      12       0.0      11.5\n",
              "12      15      2   -13      13       0.0      13.0\n",
              "13      28     11   -17      17       0.0      15.0\n",
              "14      25      8   -17      17       0.0      15.0\n",
              "15      29     12   -17      17       0.0      15.0\n",
              "16      36     15   -21      21       0.0      17.0\n",
              "17      22      0   -22      22       0.0      18.0\n",
              "18      41     18   -23      23       0.0      19.5\n",
              "19      39     16   -23      23       0.0      19.5\n",
              "20      24      0   -24      24       0.0      21.5\n",
              "21      40     16   -24      24       0.0      21.5\n",
              "22      46     17   -29      29       0.0      24.0\n",
              "23      39     10   -29      29       0.0      24.0\n",
              "24      31      2   -29      29       0.0      24.0\n",
              "25      52     20   -32      32       0.0      26.0\n",
              "26      50     17   -33      33       0.0      27.0\n",
              "27      48     13   -35      35       0.0      28.0\n",
              "28      52     16   -36      36       0.0      29.0\n",
              "29      37      0   -37      37       0.0      30.0\n",
              "30      49      9   -40      40       0.0      31.5\n",
              "31      49      9   -40      40       0.0      31.5\n",
              "32      49      6   -43      43       0.0      33.0\n",
              "33      50      0   -50      50       0.0      34.0\n",
              "34      55      4   -51      51       0.0      35.0"
            ],
            "text/html": [
              "\n",
              "  <div id=\"df-26b596bb-bb76-4ca9-a1e3-6cba1925b41c\">\n",
              "    <div class=\"colab-df-container\">\n",
              "      <div>\n",
              "<style scoped>\n",
              "    .dataframe tbody tr th:only-of-type {\n",
              "        vertical-align: middle;\n",
              "    }\n",
              "\n",
              "    .dataframe tbody tr th {\n",
              "        vertical-align: top;\n",
              "    }\n",
              "\n",
              "    .dataframe thead th {\n",
              "        text-align: right;\n",
              "    }\n",
              "</style>\n",
              "<table border=\"1\" class=\"dataframe\">\n",
              "  <thead>\n",
              "    <tr style=\"text-align: right;\">\n",
              "      <th></th>\n",
              "      <th>Before</th>\n",
              "      <th>After</th>\n",
              "      <th>Diff</th>\n",
              "      <th>|Diff|</th>\n",
              "      <th>Rank (+)</th>\n",
              "      <th>Rank (-)</th>\n",
              "    </tr>\n",
              "  </thead>\n",
              "  <tbody>\n",
              "    <tr>\n",
              "      <th>0</th>\n",
              "      <td>13</td>\n",
              "      <td>14</td>\n",
              "      <td>1</td>\n",
              "      <td>1</td>\n",
              "      <td>1.5</td>\n",
              "      <td>0.0</td>\n",
              "    </tr>\n",
              "    <tr>\n",
              "      <th>1</th>\n",
              "      <td>17</td>\n",
              "      <td>16</td>\n",
              "      <td>-1</td>\n",
              "      <td>1</td>\n",
              "      <td>0.0</td>\n",
              "      <td>1.5</td>\n",
              "    </tr>\n",
              "    <tr>\n",
              "      <th>2</th>\n",
              "      <td>17</td>\n",
              "      <td>19</td>\n",
              "      <td>2</td>\n",
              "      <td>2</td>\n",
              "      <td>3.0</td>\n",
              "      <td>0.0</td>\n",
              "    </tr>\n",
              "    <tr>\n",
              "      <th>3</th>\n",
              "      <td>12</td>\n",
              "      <td>16</td>\n",
              "      <td>4</td>\n",
              "      <td>4</td>\n",
              "      <td>4.5</td>\n",
              "      <td>0.0</td>\n",
              "    </tr>\n",
              "    <tr>\n",
              "      <th>4</th>\n",
              "      <td>14</td>\n",
              "      <td>18</td>\n",
              "      <td>4</td>\n",
              "      <td>4</td>\n",
              "      <td>4.5</td>\n",
              "      <td>0.0</td>\n",
              "    </tr>\n",
              "    <tr>\n",
              "      <th>5</th>\n",
              "      <td>22</td>\n",
              "      <td>17</td>\n",
              "      <td>-5</td>\n",
              "      <td>5</td>\n",
              "      <td>0.0</td>\n",
              "      <td>6.0</td>\n",
              "    </tr>\n",
              "    <tr>\n",
              "      <th>6</th>\n",
              "      <td>21</td>\n",
              "      <td>13</td>\n",
              "      <td>-8</td>\n",
              "      <td>8</td>\n",
              "      <td>0.0</td>\n",
              "      <td>7.0</td>\n",
              "    </tr>\n",
              "    <tr>\n",
              "      <th>7</th>\n",
              "      <td>23</td>\n",
              "      <td>14</td>\n",
              "      <td>-9</td>\n",
              "      <td>9</td>\n",
              "      <td>0.0</td>\n",
              "      <td>8.5</td>\n",
              "    </tr>\n",
              "    <tr>\n",
              "      <th>8</th>\n",
              "      <td>10</td>\n",
              "      <td>19</td>\n",
              "      <td>9</td>\n",
              "      <td>9</td>\n",
              "      <td>8.5</td>\n",
              "      <td>0.0</td>\n",
              "    </tr>\n",
              "    <tr>\n",
              "      <th>9</th>\n",
              "      <td>15</td>\n",
              "      <td>4</td>\n",
              "      <td>-11</td>\n",
              "      <td>11</td>\n",
              "      <td>0.0</td>\n",
              "      <td>10.0</td>\n",
              "    </tr>\n",
              "    <tr>\n",
              "      <th>10</th>\n",
              "      <td>24</td>\n",
              "      <td>12</td>\n",
              "      <td>-12</td>\n",
              "      <td>12</td>\n",
              "      <td>0.0</td>\n",
              "      <td>11.5</td>\n",
              "    </tr>\n",
              "    <tr>\n",
              "      <th>11</th>\n",
              "      <td>21</td>\n",
              "      <td>9</td>\n",
              "      <td>-12</td>\n",
              "      <td>12</td>\n",
              "      <td>0.0</td>\n",
              "      <td>11.5</td>\n",
              "    </tr>\n",
              "    <tr>\n",
              "      <th>12</th>\n",
              "      <td>15</td>\n",
              "      <td>2</td>\n",
              "      <td>-13</td>\n",
              "      <td>13</td>\n",
              "      <td>0.0</td>\n",
              "      <td>13.0</td>\n",
              "    </tr>\n",
              "    <tr>\n",
              "      <th>13</th>\n",
              "      <td>28</td>\n",
              "      <td>11</td>\n",
              "      <td>-17</td>\n",
              "      <td>17</td>\n",
              "      <td>0.0</td>\n",
              "      <td>15.0</td>\n",
              "    </tr>\n",
              "    <tr>\n",
              "      <th>14</th>\n",
              "      <td>25</td>\n",
              "      <td>8</td>\n",
              "      <td>-17</td>\n",
              "      <td>17</td>\n",
              "      <td>0.0</td>\n",
              "      <td>15.0</td>\n",
              "    </tr>\n",
              "    <tr>\n",
              "      <th>15</th>\n",
              "      <td>29</td>\n",
              "      <td>12</td>\n",
              "      <td>-17</td>\n",
              "      <td>17</td>\n",
              "      <td>0.0</td>\n",
              "      <td>15.0</td>\n",
              "    </tr>\n",
              "    <tr>\n",
              "      <th>16</th>\n",
              "      <td>36</td>\n",
              "      <td>15</td>\n",
              "      <td>-21</td>\n",
              "      <td>21</td>\n",
              "      <td>0.0</td>\n",
              "      <td>17.0</td>\n",
              "    </tr>\n",
              "    <tr>\n",
              "      <th>17</th>\n",
              "      <td>22</td>\n",
              "      <td>0</td>\n",
              "      <td>-22</td>\n",
              "      <td>22</td>\n",
              "      <td>0.0</td>\n",
              "      <td>18.0</td>\n",
              "    </tr>\n",
              "    <tr>\n",
              "      <th>18</th>\n",
              "      <td>41</td>\n",
              "      <td>18</td>\n",
              "      <td>-23</td>\n",
              "      <td>23</td>\n",
              "      <td>0.0</td>\n",
              "      <td>19.5</td>\n",
              "    </tr>\n",
              "    <tr>\n",
              "      <th>19</th>\n",
              "      <td>39</td>\n",
              "      <td>16</td>\n",
              "      <td>-23</td>\n",
              "      <td>23</td>\n",
              "      <td>0.0</td>\n",
              "      <td>19.5</td>\n",
              "    </tr>\n",
              "    <tr>\n",
              "      <th>20</th>\n",
              "      <td>24</td>\n",
              "      <td>0</td>\n",
              "      <td>-24</td>\n",
              "      <td>24</td>\n",
              "      <td>0.0</td>\n",
              "      <td>21.5</td>\n",
              "    </tr>\n",
              "    <tr>\n",
              "      <th>21</th>\n",
              "      <td>40</td>\n",
              "      <td>16</td>\n",
              "      <td>-24</td>\n",
              "      <td>24</td>\n",
              "      <td>0.0</td>\n",
              "      <td>21.5</td>\n",
              "    </tr>\n",
              "    <tr>\n",
              "      <th>22</th>\n",
              "      <td>46</td>\n",
              "      <td>17</td>\n",
              "      <td>-29</td>\n",
              "      <td>29</td>\n",
              "      <td>0.0</td>\n",
              "      <td>24.0</td>\n",
              "    </tr>\n",
              "    <tr>\n",
              "      <th>23</th>\n",
              "      <td>39</td>\n",
              "      <td>10</td>\n",
              "      <td>-29</td>\n",
              "      <td>29</td>\n",
              "      <td>0.0</td>\n",
              "      <td>24.0</td>\n",
              "    </tr>\n",
              "    <tr>\n",
              "      <th>24</th>\n",
              "      <td>31</td>\n",
              "      <td>2</td>\n",
              "      <td>-29</td>\n",
              "      <td>29</td>\n",
              "      <td>0.0</td>\n",
              "      <td>24.0</td>\n",
              "    </tr>\n",
              "    <tr>\n",
              "      <th>25</th>\n",
              "      <td>52</td>\n",
              "      <td>20</td>\n",
              "      <td>-32</td>\n",
              "      <td>32</td>\n",
              "      <td>0.0</td>\n",
              "      <td>26.0</td>\n",
              "    </tr>\n",
              "    <tr>\n",
              "      <th>26</th>\n",
              "      <td>50</td>\n",
              "      <td>17</td>\n",
              "      <td>-33</td>\n",
              "      <td>33</td>\n",
              "      <td>0.0</td>\n",
              "      <td>27.0</td>\n",
              "    </tr>\n",
              "    <tr>\n",
              "      <th>27</th>\n",
              "      <td>48</td>\n",
              "      <td>13</td>\n",
              "      <td>-35</td>\n",
              "      <td>35</td>\n",
              "      <td>0.0</td>\n",
              "      <td>28.0</td>\n",
              "    </tr>\n",
              "    <tr>\n",
              "      <th>28</th>\n",
              "      <td>52</td>\n",
              "      <td>16</td>\n",
              "      <td>-36</td>\n",
              "      <td>36</td>\n",
              "      <td>0.0</td>\n",
              "      <td>29.0</td>\n",
              "    </tr>\n",
              "    <tr>\n",
              "      <th>29</th>\n",
              "      <td>37</td>\n",
              "      <td>0</td>\n",
              "      <td>-37</td>\n",
              "      <td>37</td>\n",
              "      <td>0.0</td>\n",
              "      <td>30.0</td>\n",
              "    </tr>\n",
              "    <tr>\n",
              "      <th>30</th>\n",
              "      <td>49</td>\n",
              "      <td>9</td>\n",
              "      <td>-40</td>\n",
              "      <td>40</td>\n",
              "      <td>0.0</td>\n",
              "      <td>31.5</td>\n",
              "    </tr>\n",
              "    <tr>\n",
              "      <th>31</th>\n",
              "      <td>49</td>\n",
              "      <td>9</td>\n",
              "      <td>-40</td>\n",
              "      <td>40</td>\n",
              "      <td>0.0</td>\n",
              "      <td>31.5</td>\n",
              "    </tr>\n",
              "    <tr>\n",
              "      <th>32</th>\n",
              "      <td>49</td>\n",
              "      <td>6</td>\n",
              "      <td>-43</td>\n",
              "      <td>43</td>\n",
              "      <td>0.0</td>\n",
              "      <td>33.0</td>\n",
              "    </tr>\n",
              "    <tr>\n",
              "      <th>33</th>\n",
              "      <td>50</td>\n",
              "      <td>0</td>\n",
              "      <td>-50</td>\n",
              "      <td>50</td>\n",
              "      <td>0.0</td>\n",
              "      <td>34.0</td>\n",
              "    </tr>\n",
              "    <tr>\n",
              "      <th>34</th>\n",
              "      <td>55</td>\n",
              "      <td>4</td>\n",
              "      <td>-51</td>\n",
              "      <td>51</td>\n",
              "      <td>0.0</td>\n",
              "      <td>35.0</td>\n",
              "    </tr>\n",
              "  </tbody>\n",
              "</table>\n",
              "</div>\n",
              "      <button class=\"colab-df-convert\" onclick=\"convertToInteractive('df-26b596bb-bb76-4ca9-a1e3-6cba1925b41c')\"\n",
              "              title=\"Convert this dataframe to an interactive table.\"\n",
              "              style=\"display:none;\">\n",
              "        \n",
              "  <svg xmlns=\"http://www.w3.org/2000/svg\" height=\"24px\"viewBox=\"0 0 24 24\"\n",
              "       width=\"24px\">\n",
              "    <path d=\"M0 0h24v24H0V0z\" fill=\"none\"/>\n",
              "    <path d=\"M18.56 5.44l.94 2.06.94-2.06 2.06-.94-2.06-.94-.94-2.06-.94 2.06-2.06.94zm-11 1L8.5 8.5l.94-2.06 2.06-.94-2.06-.94L8.5 2.5l-.94 2.06-2.06.94zm10 10l.94 2.06.94-2.06 2.06-.94-2.06-.94-.94-2.06-.94 2.06-2.06.94z\"/><path d=\"M17.41 7.96l-1.37-1.37c-.4-.4-.92-.59-1.43-.59-.52 0-1.04.2-1.43.59L10.3 9.45l-7.72 7.72c-.78.78-.78 2.05 0 2.83L4 21.41c.39.39.9.59 1.41.59.51 0 1.02-.2 1.41-.59l7.78-7.78 2.81-2.81c.8-.78.8-2.07 0-2.86zM5.41 20L4 18.59l7.72-7.72 1.47 1.35L5.41 20z\"/>\n",
              "  </svg>\n",
              "      </button>\n",
              "      \n",
              "  <style>\n",
              "    .colab-df-container {\n",
              "      display:flex;\n",
              "      flex-wrap:wrap;\n",
              "      gap: 12px;\n",
              "    }\n",
              "\n",
              "    .colab-df-convert {\n",
              "      background-color: #E8F0FE;\n",
              "      border: none;\n",
              "      border-radius: 50%;\n",
              "      cursor: pointer;\n",
              "      display: none;\n",
              "      fill: #1967D2;\n",
              "      height: 32px;\n",
              "      padding: 0 0 0 0;\n",
              "      width: 32px;\n",
              "    }\n",
              "\n",
              "    .colab-df-convert:hover {\n",
              "      background-color: #E2EBFA;\n",
              "      box-shadow: 0px 1px 2px rgba(60, 64, 67, 0.3), 0px 1px 3px 1px rgba(60, 64, 67, 0.15);\n",
              "      fill: #174EA6;\n",
              "    }\n",
              "\n",
              "    [theme=dark] .colab-df-convert {\n",
              "      background-color: #3B4455;\n",
              "      fill: #D2E3FC;\n",
              "    }\n",
              "\n",
              "    [theme=dark] .colab-df-convert:hover {\n",
              "      background-color: #434B5C;\n",
              "      box-shadow: 0px 1px 3px 1px rgba(0, 0, 0, 0.15);\n",
              "      filter: drop-shadow(0px 1px 2px rgba(0, 0, 0, 0.3));\n",
              "      fill: #FFFFFF;\n",
              "    }\n",
              "  </style>\n",
              "\n",
              "      <script>\n",
              "        const buttonEl =\n",
              "          document.querySelector('#df-26b596bb-bb76-4ca9-a1e3-6cba1925b41c button.colab-df-convert');\n",
              "        buttonEl.style.display =\n",
              "          google.colab.kernel.accessAllowed ? 'block' : 'none';\n",
              "\n",
              "        async function convertToInteractive(key) {\n",
              "          const element = document.querySelector('#df-26b596bb-bb76-4ca9-a1e3-6cba1925b41c');\n",
              "          const dataTable =\n",
              "            await google.colab.kernel.invokeFunction('convertToInteractive',\n",
              "                                                     [key], {});\n",
              "          if (!dataTable) return;\n",
              "\n",
              "          const docLinkHtml = 'Like what you see? Visit the ' +\n",
              "            '<a target=\"_blank\" href=https://colab.research.google.com/notebooks/data_table.ipynb>data table notebook</a>'\n",
              "            + ' to learn more about interactive tables.';\n",
              "          element.innerHTML = '';\n",
              "          dataTable['output_type'] = 'display_data';\n",
              "          await google.colab.output.renderOutput(dataTable, element);\n",
              "          const docLink = document.createElement('div');\n",
              "          docLink.innerHTML = docLinkHtml;\n",
              "          element.appendChild(docLink);\n",
              "        }\n",
              "      </script>\n",
              "    </div>\n",
              "  </div>\n",
              "  "
            ]
          },
          "metadata": {},
          "execution_count": 58
        }
      ]
    },
    {
      "cell_type": "markdown",
      "source": [
        "Ok, so now we have the rank for the two cases. Now, $T$ is given by the lowest value between the sum of Rank (+) and Rank (-):"
      ],
      "metadata": {
        "id": "LwjdO3Knsz4L"
      }
    },
    {
      "cell_type": "code",
      "source": [
        "smoke_df['Rank (+)'].sum( )"
      ],
      "metadata": {
        "colab": {
          "base_uri": "https://localhost:8080/"
        },
        "id": "dxwytITcshgm",
        "outputId": "b08aa64b-0a38-44b7-db9e-f1591751cff0"
      },
      "execution_count": 59,
      "outputs": [
        {
          "output_type": "execute_result",
          "data": {
            "text/plain": [
              "22.0"
            ]
          },
          "metadata": {},
          "execution_count": 59
        }
      ]
    },
    {
      "cell_type": "code",
      "source": [
        "smoke_df['Rank (-)'].sum( )"
      ],
      "metadata": {
        "colab": {
          "base_uri": "https://localhost:8080/"
        },
        "id": "UVQU15pXtQgn",
        "outputId": "2c6e3d08-b79f-4093-b166-f04491e5802c"
      },
      "execution_count": 60,
      "outputs": [
        {
          "output_type": "execute_result",
          "data": {
            "text/plain": [
              "608.0"
            ]
          },
          "metadata": {},
          "execution_count": 60
        }
      ]
    },
    {
      "cell_type": "markdown",
      "source": [
        "So, $T$ is:"
      ],
      "metadata": {
        "id": "fHZFJSWCtUDk"
      }
    },
    {
      "cell_type": "code",
      "source": [
        "T = min(smoke_df[['Rank (+)', 'Rank (-)']].sum( ))\n",
        "T"
      ],
      "metadata": {
        "colab": {
          "base_uri": "https://localhost:8080/"
        },
        "id": "NbevvSD3tSk0",
        "outputId": "a1e4ab31-789d-4df5-c4eb-1819e45b9899"
      },
      "execution_count": 61,
      "outputs": [
        {
          "output_type": "execute_result",
          "data": {
            "text/plain": [
              "22.0"
            ]
          },
          "metadata": {},
          "execution_count": 61
        }
      ]
    },
    {
      "cell_type": "markdown",
      "source": [
        "Now, let's evaluate the other parameters:"
      ],
      "metadata": {
        "id": "FEWYE5rBtpDw"
      }
    },
    {
      "cell_type": "code",
      "source": [
        "mu_T = (n * (n + 1))/4\n",
        "mu_T"
      ],
      "metadata": {
        "colab": {
          "base_uri": "https://localhost:8080/"
        },
        "id": "KdRxWyAQteEg",
        "outputId": "b449e684-c5ae-44f9-8359-ebeae033b7ba"
      },
      "execution_count": 62,
      "outputs": [
        {
          "output_type": "execute_result",
          "data": {
            "text/plain": [
              "315.0"
            ]
          },
          "metadata": {},
          "execution_count": 62
        }
      ]
    },
    {
      "cell_type": "code",
      "source": [
        "sig_T = np.sqrt( n*(n + 1)*(2*n + 1)/24 )\n",
        "sig_T"
      ],
      "metadata": {
        "colab": {
          "base_uri": "https://localhost:8080/"
        },
        "id": "E6fedbELtuxT",
        "outputId": "ab52f45b-8243-476a-dc15-3bf96d9fffb0"
      },
      "execution_count": 63,
      "outputs": [
        {
          "output_type": "execute_result",
          "data": {
            "text/plain": [
              "61.053255441458646"
            ]
          },
          "metadata": {},
          "execution_count": 63
        }
      ]
    },
    {
      "cell_type": "markdown",
      "source": [
        "Now, evaluating the test statistics:"
      ],
      "metadata": {
        "id": "ryjKD3wJt-H-"
      }
    },
    {
      "cell_type": "code",
      "source": [
        "Z = (T - mu_T)/sig_T\n",
        "Z"
      ],
      "metadata": {
        "colab": {
          "base_uri": "https://localhost:8080/"
        },
        "id": "_0nBQ0jJt60V",
        "outputId": "181bc85d-d800-4a57-fbd4-cbc962374e39"
      },
      "execution_count": 64,
      "outputs": [
        {
          "output_type": "execute_result",
          "data": {
            "text/plain": [
              "-4.799088891843698"
            ]
          },
          "metadata": {},
          "execution_count": 64
        }
      ]
    },
    {
      "cell_type": "markdown",
      "source": [
        "So, our test statistics is outside of the acceptance area. Thus, we reject the null hypothesis, and we can consider that the distributions are not the same.\n",
        "\n",
        "![Estatística-Teste](https://caelum-online-public.s3.amazonaws.com/1229-estatistica-parte3/01/img021.png)"
      ],
      "metadata": {
        "id": "b7P6gnBEuKL7"
      }
    },
    {
      "cell_type": "markdown",
      "source": [
        "We can also attest this by looking at the p-value:"
      ],
      "metadata": {
        "id": "bI1miaQnuZg2"
      }
    },
    {
      "cell_type": "code",
      "source": [
        "p_value = 2*(1 - norm.cdf(abs(Z)))\n",
        "p_value"
      ],
      "metadata": {
        "colab": {
          "base_uri": "https://localhost:8080/"
        },
        "id": "X1JLlFx9uBux",
        "outputId": "34c99201-d1ff-4476-860c-6ee5470eaf87"
      },
      "execution_count": 65,
      "outputs": [
        {
          "output_type": "execute_result",
          "data": {
            "text/plain": [
              "1.593890453843727e-06"
            ]
          },
          "metadata": {},
          "execution_count": 65
        }
      ]
    },
    {
      "cell_type": "markdown",
      "source": [
        "Once again, there is a very clean built-in function that allows us to perform the Wilcoxon test very quickly:"
      ],
      "metadata": {
        "id": "CKTC02KwutkV"
      }
    },
    {
      "cell_type": "code",
      "source": [
        "from scipy.stats import wilcoxon\n",
        "\n",
        "wilcoxon(smoke_df.Before, smoke_df.After)"
      ],
      "metadata": {
        "colab": {
          "base_uri": "https://localhost:8080/"
        },
        "id": "cGXNyGRJufh8",
        "outputId": "283b9ad4-e3d3-4fb9-c48b-84bbb8350b08"
      },
      "execution_count": 66,
      "outputs": [
        {
          "output_type": "execute_result",
          "data": {
            "text/plain": [
              "WilcoxonResult(statistic=22.0, pvalue=1.584310018505865e-06)"
            ]
          },
          "metadata": {},
          "execution_count": 66
        }
      ]
    },
    {
      "cell_type": "markdown",
      "source": [
        "## Mann-Whitney test\n",
        "\n",
        "This test is used to verify if two independent samples were taken from a population with the same mean. It is analogous to the parametric test of comparison between means. The Mann-Whitney test can also be used if our samples have different size.\n",
        "\n",
        "**On our dataset, we have information about sex and monthly income. Using random samples (one with 6 and the other with 8 observations), prove that the monthly income for women is lower than the monthly income for men, considering a significance level of 5%.**"
      ],
      "metadata": {
        "id": "4c1D2owpZ97t"
      }
    },
    {
      "cell_type": "markdown",
      "source": [
        "So, first, let's get our samples:"
      ],
      "metadata": {
        "id": "1JcwckN1a6WJ"
      }
    },
    {
      "cell_type": "code",
      "source": [
        "sample_f = dataset.query(\"Sexo == 1\").sample(n = 8, random_state = 201).Renda\n",
        "sample_m = dataset.query(\"Sexo == 0\").sample(n = 6, random_state = 201).Renda"
      ],
      "metadata": {
        "id": "FnXkQsTdvkne"
      },
      "execution_count": 67,
      "outputs": []
    },
    {
      "cell_type": "code",
      "source": [
        "sample_f.head( )"
      ],
      "metadata": {
        "colab": {
          "base_uri": "https://localhost:8080/"
        },
        "id": "itoyHfXla4Tn",
        "outputId": "f92d8405-e47b-4c8d-b463-dbddebf49984"
      },
      "execution_count": 68,
      "outputs": [
        {
          "output_type": "execute_result",
          "data": {
            "text/plain": [
              "67529    1000\n",
              "30348    1600\n",
              "21513     788\n",
              "69557    1050\n",
              "18825     200\n",
              "Name: Renda, dtype: int64"
            ]
          },
          "metadata": {},
          "execution_count": 68
        }
      ]
    },
    {
      "cell_type": "code",
      "source": [
        "sample_m.head( )"
      ],
      "metadata": {
        "colab": {
          "base_uri": "https://localhost:8080/"
        },
        "id": "4bcU2oQ0bFLz",
        "outputId": "d4afdfc9-8eeb-475b-ce42-057d5498cbb7"
      },
      "execution_count": 69,
      "outputs": [
        {
          "output_type": "execute_result",
          "data": {
            "text/plain": [
              "70494    3100\n",
              "38559    1900\n",
              "12386     500\n",
              "32253    1700\n",
              "36350     800\n",
              "Name: Renda, dtype: int64"
            ]
          },
          "metadata": {},
          "execution_count": 69
        }
      ]
    },
    {
      "cell_type": "markdown",
      "source": [
        "Now, let's get the estimators from our sample:"
      ],
      "metadata": {
        "id": "ex16jGXabJic"
      }
    },
    {
      "cell_type": "code",
      "source": [
        "mean_f = sample_f.mean( )\n",
        "mean_f"
      ],
      "metadata": {
        "colab": {
          "base_uri": "https://localhost:8080/"
        },
        "id": "jQolHFTnbG1D",
        "outputId": "0a192fa3-27a3-479a-ce4d-375ef3f06fc9"
      },
      "execution_count": 70,
      "outputs": [
        {
          "output_type": "execute_result",
          "data": {
            "text/plain": [
              "634.75"
            ]
          },
          "metadata": {},
          "execution_count": 70
        }
      ]
    },
    {
      "cell_type": "code",
      "source": [
        "std_f = sample_f.std( )\n",
        "std_f"
      ],
      "metadata": {
        "colab": {
          "base_uri": "https://localhost:8080/"
        },
        "id": "4octo_nibTyP",
        "outputId": "033f3e8b-538d-4721-8c7d-3ccb94b07a1e"
      },
      "execution_count": 71,
      "outputs": [
        {
          "output_type": "execute_result",
          "data": {
            "text/plain": [
              "558.695355269757"
            ]
          },
          "metadata": {},
          "execution_count": 71
        }
      ]
    },
    {
      "cell_type": "code",
      "source": [
        "mean_m = sample_m.mean( )\n",
        "mean_m"
      ],
      "metadata": {
        "colab": {
          "base_uri": "https://localhost:8080/"
        },
        "id": "loBPxRWubO7F",
        "outputId": "23894df6-fe7a-4e0c-f448-f9c9516a32eb"
      },
      "execution_count": 72,
      "outputs": [
        {
          "output_type": "execute_result",
          "data": {
            "text/plain": [
              "4333.333333333333"
            ]
          },
          "metadata": {},
          "execution_count": 72
        }
      ]
    },
    {
      "cell_type": "code",
      "source": [
        "std_m = sample_m.std( )\n",
        "std_m"
      ],
      "metadata": {
        "colab": {
          "base_uri": "https://localhost:8080/"
        },
        "id": "YzBc0_2-bYQ4",
        "outputId": "bc3e3876-3394-4f33-a84c-5cc003b80c17"
      },
      "execution_count": 73,
      "outputs": [
        {
          "output_type": "execute_result",
          "data": {
            "text/plain": [
              "6757.711644237765"
            ]
          },
          "metadata": {},
          "execution_count": 73
        }
      ]
    },
    {
      "cell_type": "markdown",
      "source": [
        "So, let's define the parameters of our test:"
      ],
      "metadata": {
        "id": "pz4QFF21bmyN"
      }
    },
    {
      "cell_type": "code",
      "source": [
        "significance = 0.05\n",
        "confidence = 1 - significance\n",
        "n_1 = len(sample_m)\n",
        "n_2 = len(sample_f)"
      ],
      "metadata": {
        "id": "uOE0MI0aba_t"
      },
      "execution_count": 74,
      "outputs": []
    },
    {
      "cell_type": "markdown",
      "source": [
        "Note that $n_1$ should always be the sample the lowest number of observations. Now, let's formulate our hypotheses:\n",
        "\n",
        "\\begin{equation}\n",
        "H_0 : \\mu_F \\geq \\mu_M\n",
        "\\end{equation}\n",
        "\n",
        "\\begin{equation}\n",
        "H_0 : \\mu_F < \\mu_M\n",
        "\\end{equation}\n",
        "where $\\mu_M$ and $\\mu_F$ and the mean for women and men, respectively."
      ],
      "metadata": {
        "id": "Q0LfkJNSbxzz"
      }
    },
    {
      "cell_type": "markdown",
      "source": [
        "Since our number of samples is very low, we have to work with the t-Student distribution:"
      ],
      "metadata": {
        "id": "JSqAasgscZoM"
      }
    },
    {
      "cell_type": "code",
      "source": [
        "dof = n_1 + n_2 - 2"
      ],
      "metadata": {
        "id": "QGGQDm3vbxVx"
      },
      "execution_count": 75,
      "outputs": []
    },
    {
      "cell_type": "code",
      "source": [
        "t_alpha = t_student.ppf(significance, dof)\n",
        "t_alpha"
      ],
      "metadata": {
        "colab": {
          "base_uri": "https://localhost:8080/"
        },
        "id": "Bq_dl8lBchdC",
        "outputId": "06711987-49e6-45da-ae9c-06b5bda1e972"
      },
      "execution_count": 76,
      "outputs": [
        {
          "output_type": "execute_result",
          "data": {
            "text/plain": [
              "-1.7822875556491593"
            ]
          },
          "metadata": {},
          "execution_count": 76
        }
      ]
    },
    {
      "cell_type": "markdown",
      "source": [
        "Now, let's evaluate the test statistics. For the Mann-Whitney test, this is:\n",
        "\n",
        "\\begin{equation}\n",
        "Z=\\frac{u-\\mu(u)}{\\sigma(u)}\n",
        "\\end{equation}\n",
        "\n",
        "\\begin{equation}\n",
        "\\mu(u)=\\frac{n_{1} \\times n_{2}}{2}\n",
        "\\end{equation}\n",
        "\n",
        "\\begin{equation}\n",
        "\\sigma(u)=\\sqrt{\\frac{n_{1} \\times n_{2} \\times\\left(n_{1}+n_{2}+1\\right)}{12}}\n",
        "\\end{equation}\n",
        "\n",
        "\\begin{equation}\n",
        "u = \\min(u_1, u_2)\n",
        "\\end{equation}\n",
        "\n",
        "\\begin{equation}\n",
        "u_{1}=n_{1} \\times n_{2}+\\frac{n_{1} \\times\\left(n_{1}+1\\right)}{2}-R_{1}\n",
        "\\end{equation}\n",
        "\n",
        "\\begin{equation}\n",
        "u_{2}=n_{1} \\times n_{2}+\\frac{n_{2} \\times\\left(n_{2}+1\\right)}{2}-R_{2}\n",
        "\\end{equation}\n",
        "where $R_i$ is the sum of ranks for group $i$. It is worth to remember that group 1 refers to the group with the lowest number of observation."
      ],
      "metadata": {
        "id": "Q5j8nZFMyezr"
      }
    },
    {
      "cell_type": "markdown",
      "source": [
        "So, let's start evaluating our ranks. First, let's create DataFrame for our variables:"
      ],
      "metadata": {
        "id": "_12Fdwv9zuTV"
      }
    },
    {
      "cell_type": "code",
      "source": [
        "M = pd.DataFrame(sample_m)\n",
        "M['Sexo'] = 'M'\n",
        "F = pd.DataFrame(sample_f)\n",
        "F['Sexo'] = 'F'\n",
        "\n",
        "F.head( )"
      ],
      "metadata": {
        "colab": {
          "base_uri": "https://localhost:8080/",
          "height": 206
        },
        "id": "jXC88iSeyQKv",
        "outputId": "7ad782cf-4eb1-489f-96c3-db037a705e4b"
      },
      "execution_count": 77,
      "outputs": [
        {
          "output_type": "execute_result",
          "data": {
            "text/plain": [
              "       Renda Sexo\n",
              "67529   1000    F\n",
              "30348   1600    F\n",
              "21513    788    F\n",
              "69557   1050    F\n",
              "18825    200    F"
            ],
            "text/html": [
              "\n",
              "  <div id=\"df-72fe39d8-9b6d-4d9c-a276-262c41b253a9\">\n",
              "    <div class=\"colab-df-container\">\n",
              "      <div>\n",
              "<style scoped>\n",
              "    .dataframe tbody tr th:only-of-type {\n",
              "        vertical-align: middle;\n",
              "    }\n",
              "\n",
              "    .dataframe tbody tr th {\n",
              "        vertical-align: top;\n",
              "    }\n",
              "\n",
              "    .dataframe thead th {\n",
              "        text-align: right;\n",
              "    }\n",
              "</style>\n",
              "<table border=\"1\" class=\"dataframe\">\n",
              "  <thead>\n",
              "    <tr style=\"text-align: right;\">\n",
              "      <th></th>\n",
              "      <th>Renda</th>\n",
              "      <th>Sexo</th>\n",
              "    </tr>\n",
              "  </thead>\n",
              "  <tbody>\n",
              "    <tr>\n",
              "      <th>67529</th>\n",
              "      <td>1000</td>\n",
              "      <td>F</td>\n",
              "    </tr>\n",
              "    <tr>\n",
              "      <th>30348</th>\n",
              "      <td>1600</td>\n",
              "      <td>F</td>\n",
              "    </tr>\n",
              "    <tr>\n",
              "      <th>21513</th>\n",
              "      <td>788</td>\n",
              "      <td>F</td>\n",
              "    </tr>\n",
              "    <tr>\n",
              "      <th>69557</th>\n",
              "      <td>1050</td>\n",
              "      <td>F</td>\n",
              "    </tr>\n",
              "    <tr>\n",
              "      <th>18825</th>\n",
              "      <td>200</td>\n",
              "      <td>F</td>\n",
              "    </tr>\n",
              "  </tbody>\n",
              "</table>\n",
              "</div>\n",
              "      <button class=\"colab-df-convert\" onclick=\"convertToInteractive('df-72fe39d8-9b6d-4d9c-a276-262c41b253a9')\"\n",
              "              title=\"Convert this dataframe to an interactive table.\"\n",
              "              style=\"display:none;\">\n",
              "        \n",
              "  <svg xmlns=\"http://www.w3.org/2000/svg\" height=\"24px\"viewBox=\"0 0 24 24\"\n",
              "       width=\"24px\">\n",
              "    <path d=\"M0 0h24v24H0V0z\" fill=\"none\"/>\n",
              "    <path d=\"M18.56 5.44l.94 2.06.94-2.06 2.06-.94-2.06-.94-.94-2.06-.94 2.06-2.06.94zm-11 1L8.5 8.5l.94-2.06 2.06-.94-2.06-.94L8.5 2.5l-.94 2.06-2.06.94zm10 10l.94 2.06.94-2.06 2.06-.94-2.06-.94-.94-2.06-.94 2.06-2.06.94z\"/><path d=\"M17.41 7.96l-1.37-1.37c-.4-.4-.92-.59-1.43-.59-.52 0-1.04.2-1.43.59L10.3 9.45l-7.72 7.72c-.78.78-.78 2.05 0 2.83L4 21.41c.39.39.9.59 1.41.59.51 0 1.02-.2 1.41-.59l7.78-7.78 2.81-2.81c.8-.78.8-2.07 0-2.86zM5.41 20L4 18.59l7.72-7.72 1.47 1.35L5.41 20z\"/>\n",
              "  </svg>\n",
              "      </button>\n",
              "      \n",
              "  <style>\n",
              "    .colab-df-container {\n",
              "      display:flex;\n",
              "      flex-wrap:wrap;\n",
              "      gap: 12px;\n",
              "    }\n",
              "\n",
              "    .colab-df-convert {\n",
              "      background-color: #E8F0FE;\n",
              "      border: none;\n",
              "      border-radius: 50%;\n",
              "      cursor: pointer;\n",
              "      display: none;\n",
              "      fill: #1967D2;\n",
              "      height: 32px;\n",
              "      padding: 0 0 0 0;\n",
              "      width: 32px;\n",
              "    }\n",
              "\n",
              "    .colab-df-convert:hover {\n",
              "      background-color: #E2EBFA;\n",
              "      box-shadow: 0px 1px 2px rgba(60, 64, 67, 0.3), 0px 1px 3px 1px rgba(60, 64, 67, 0.15);\n",
              "      fill: #174EA6;\n",
              "    }\n",
              "\n",
              "    [theme=dark] .colab-df-convert {\n",
              "      background-color: #3B4455;\n",
              "      fill: #D2E3FC;\n",
              "    }\n",
              "\n",
              "    [theme=dark] .colab-df-convert:hover {\n",
              "      background-color: #434B5C;\n",
              "      box-shadow: 0px 1px 3px 1px rgba(0, 0, 0, 0.15);\n",
              "      filter: drop-shadow(0px 1px 2px rgba(0, 0, 0, 0.3));\n",
              "      fill: #FFFFFF;\n",
              "    }\n",
              "  </style>\n",
              "\n",
              "      <script>\n",
              "        const buttonEl =\n",
              "          document.querySelector('#df-72fe39d8-9b6d-4d9c-a276-262c41b253a9 button.colab-df-convert');\n",
              "        buttonEl.style.display =\n",
              "          google.colab.kernel.accessAllowed ? 'block' : 'none';\n",
              "\n",
              "        async function convertToInteractive(key) {\n",
              "          const element = document.querySelector('#df-72fe39d8-9b6d-4d9c-a276-262c41b253a9');\n",
              "          const dataTable =\n",
              "            await google.colab.kernel.invokeFunction('convertToInteractive',\n",
              "                                                     [key], {});\n",
              "          if (!dataTable) return;\n",
              "\n",
              "          const docLinkHtml = 'Like what you see? Visit the ' +\n",
              "            '<a target=\"_blank\" href=https://colab.research.google.com/notebooks/data_table.ipynb>data table notebook</a>'\n",
              "            + ' to learn more about interactive tables.';\n",
              "          element.innerHTML = '';\n",
              "          dataTable['output_type'] = 'display_data';\n",
              "          await google.colab.output.renderOutput(dataTable, element);\n",
              "          const docLink = document.createElement('div');\n",
              "          docLink.innerHTML = docLinkHtml;\n",
              "          element.appendChild(docLink);\n",
              "        }\n",
              "      </script>\n",
              "    </div>\n",
              "  </div>\n",
              "  "
            ]
          },
          "metadata": {},
          "execution_count": 77
        }
      ]
    },
    {
      "cell_type": "markdown",
      "source": [
        "Now, let's append those dataframes:"
      ],
      "metadata": {
        "id": "So-5O9H40GF5"
      }
    },
    {
      "cell_type": "code",
      "source": [
        "sex_income = M.append(F)\n",
        "sex_income.reset_index(inplace = True, drop = True)\n",
        "sex_income"
      ],
      "metadata": {
        "colab": {
          "base_uri": "https://localhost:8080/",
          "height": 488
        },
        "id": "sgRG-T_Sz4d7",
        "outputId": "7736b562-9acc-425b-efaf-47359cc70d12"
      },
      "execution_count": 78,
      "outputs": [
        {
          "output_type": "execute_result",
          "data": {
            "text/plain": [
              "    Renda Sexo\n",
              "0    3100    M\n",
              "1    1900    M\n",
              "2     500    M\n",
              "3    1700    M\n",
              "4     800    M\n",
              "5   18000    M\n",
              "6    1000    F\n",
              "7    1600    F\n",
              "8     788    F\n",
              "9    1050    F\n",
              "10    200    F\n",
              "11    160    F\n",
              "12     40    F\n",
              "13    240    F"
            ],
            "text/html": [
              "\n",
              "  <div id=\"df-1a671540-71d7-4b52-9280-dfd93b94d770\">\n",
              "    <div class=\"colab-df-container\">\n",
              "      <div>\n",
              "<style scoped>\n",
              "    .dataframe tbody tr th:only-of-type {\n",
              "        vertical-align: middle;\n",
              "    }\n",
              "\n",
              "    .dataframe tbody tr th {\n",
              "        vertical-align: top;\n",
              "    }\n",
              "\n",
              "    .dataframe thead th {\n",
              "        text-align: right;\n",
              "    }\n",
              "</style>\n",
              "<table border=\"1\" class=\"dataframe\">\n",
              "  <thead>\n",
              "    <tr style=\"text-align: right;\">\n",
              "      <th></th>\n",
              "      <th>Renda</th>\n",
              "      <th>Sexo</th>\n",
              "    </tr>\n",
              "  </thead>\n",
              "  <tbody>\n",
              "    <tr>\n",
              "      <th>0</th>\n",
              "      <td>3100</td>\n",
              "      <td>M</td>\n",
              "    </tr>\n",
              "    <tr>\n",
              "      <th>1</th>\n",
              "      <td>1900</td>\n",
              "      <td>M</td>\n",
              "    </tr>\n",
              "    <tr>\n",
              "      <th>2</th>\n",
              "      <td>500</td>\n",
              "      <td>M</td>\n",
              "    </tr>\n",
              "    <tr>\n",
              "      <th>3</th>\n",
              "      <td>1700</td>\n",
              "      <td>M</td>\n",
              "    </tr>\n",
              "    <tr>\n",
              "      <th>4</th>\n",
              "      <td>800</td>\n",
              "      <td>M</td>\n",
              "    </tr>\n",
              "    <tr>\n",
              "      <th>5</th>\n",
              "      <td>18000</td>\n",
              "      <td>M</td>\n",
              "    </tr>\n",
              "    <tr>\n",
              "      <th>6</th>\n",
              "      <td>1000</td>\n",
              "      <td>F</td>\n",
              "    </tr>\n",
              "    <tr>\n",
              "      <th>7</th>\n",
              "      <td>1600</td>\n",
              "      <td>F</td>\n",
              "    </tr>\n",
              "    <tr>\n",
              "      <th>8</th>\n",
              "      <td>788</td>\n",
              "      <td>F</td>\n",
              "    </tr>\n",
              "    <tr>\n",
              "      <th>9</th>\n",
              "      <td>1050</td>\n",
              "      <td>F</td>\n",
              "    </tr>\n",
              "    <tr>\n",
              "      <th>10</th>\n",
              "      <td>200</td>\n",
              "      <td>F</td>\n",
              "    </tr>\n",
              "    <tr>\n",
              "      <th>11</th>\n",
              "      <td>160</td>\n",
              "      <td>F</td>\n",
              "    </tr>\n",
              "    <tr>\n",
              "      <th>12</th>\n",
              "      <td>40</td>\n",
              "      <td>F</td>\n",
              "    </tr>\n",
              "    <tr>\n",
              "      <th>13</th>\n",
              "      <td>240</td>\n",
              "      <td>F</td>\n",
              "    </tr>\n",
              "  </tbody>\n",
              "</table>\n",
              "</div>\n",
              "      <button class=\"colab-df-convert\" onclick=\"convertToInteractive('df-1a671540-71d7-4b52-9280-dfd93b94d770')\"\n",
              "              title=\"Convert this dataframe to an interactive table.\"\n",
              "              style=\"display:none;\">\n",
              "        \n",
              "  <svg xmlns=\"http://www.w3.org/2000/svg\" height=\"24px\"viewBox=\"0 0 24 24\"\n",
              "       width=\"24px\">\n",
              "    <path d=\"M0 0h24v24H0V0z\" fill=\"none\"/>\n",
              "    <path d=\"M18.56 5.44l.94 2.06.94-2.06 2.06-.94-2.06-.94-.94-2.06-.94 2.06-2.06.94zm-11 1L8.5 8.5l.94-2.06 2.06-.94-2.06-.94L8.5 2.5l-.94 2.06-2.06.94zm10 10l.94 2.06.94-2.06 2.06-.94-2.06-.94-.94-2.06-.94 2.06-2.06.94z\"/><path d=\"M17.41 7.96l-1.37-1.37c-.4-.4-.92-.59-1.43-.59-.52 0-1.04.2-1.43.59L10.3 9.45l-7.72 7.72c-.78.78-.78 2.05 0 2.83L4 21.41c.39.39.9.59 1.41.59.51 0 1.02-.2 1.41-.59l7.78-7.78 2.81-2.81c.8-.78.8-2.07 0-2.86zM5.41 20L4 18.59l7.72-7.72 1.47 1.35L5.41 20z\"/>\n",
              "  </svg>\n",
              "      </button>\n",
              "      \n",
              "  <style>\n",
              "    .colab-df-container {\n",
              "      display:flex;\n",
              "      flex-wrap:wrap;\n",
              "      gap: 12px;\n",
              "    }\n",
              "\n",
              "    .colab-df-convert {\n",
              "      background-color: #E8F0FE;\n",
              "      border: none;\n",
              "      border-radius: 50%;\n",
              "      cursor: pointer;\n",
              "      display: none;\n",
              "      fill: #1967D2;\n",
              "      height: 32px;\n",
              "      padding: 0 0 0 0;\n",
              "      width: 32px;\n",
              "    }\n",
              "\n",
              "    .colab-df-convert:hover {\n",
              "      background-color: #E2EBFA;\n",
              "      box-shadow: 0px 1px 2px rgba(60, 64, 67, 0.3), 0px 1px 3px 1px rgba(60, 64, 67, 0.15);\n",
              "      fill: #174EA6;\n",
              "    }\n",
              "\n",
              "    [theme=dark] .colab-df-convert {\n",
              "      background-color: #3B4455;\n",
              "      fill: #D2E3FC;\n",
              "    }\n",
              "\n",
              "    [theme=dark] .colab-df-convert:hover {\n",
              "      background-color: #434B5C;\n",
              "      box-shadow: 0px 1px 3px 1px rgba(0, 0, 0, 0.15);\n",
              "      filter: drop-shadow(0px 1px 2px rgba(0, 0, 0, 0.3));\n",
              "      fill: #FFFFFF;\n",
              "    }\n",
              "  </style>\n",
              "\n",
              "      <script>\n",
              "        const buttonEl =\n",
              "          document.querySelector('#df-1a671540-71d7-4b52-9280-dfd93b94d770 button.colab-df-convert');\n",
              "        buttonEl.style.display =\n",
              "          google.colab.kernel.accessAllowed ? 'block' : 'none';\n",
              "\n",
              "        async function convertToInteractive(key) {\n",
              "          const element = document.querySelector('#df-1a671540-71d7-4b52-9280-dfd93b94d770');\n",
              "          const dataTable =\n",
              "            await google.colab.kernel.invokeFunction('convertToInteractive',\n",
              "                                                     [key], {});\n",
              "          if (!dataTable) return;\n",
              "\n",
              "          const docLinkHtml = 'Like what you see? Visit the ' +\n",
              "            '<a target=\"_blank\" href=https://colab.research.google.com/notebooks/data_table.ipynb>data table notebook</a>'\n",
              "            + ' to learn more about interactive tables.';\n",
              "          element.innerHTML = '';\n",
              "          dataTable['output_type'] = 'display_data';\n",
              "          await google.colab.output.renderOutput(dataTable, element);\n",
              "          const docLink = document.createElement('div');\n",
              "          docLink.innerHTML = docLinkHtml;\n",
              "          element.appendChild(docLink);\n",
              "        }\n",
              "      </script>\n",
              "    </div>\n",
              "  </div>\n",
              "  "
            ]
          },
          "metadata": {},
          "execution_count": 78
        }
      ]
    },
    {
      "cell_type": "markdown",
      "source": [
        "Since we have 6 men and 8 women, our dataframe now has 14 observations. Now, let's rank our dataframe:"
      ],
      "metadata": {
        "id": "w_x3EdF_0bW7"
      }
    },
    {
      "cell_type": "code",
      "source": [
        "sex_income.sort_values('Renda', inplace = True)\n",
        "sex_income"
      ],
      "metadata": {
        "colab": {
          "base_uri": "https://localhost:8080/",
          "height": 488
        },
        "id": "AJ9rD_dY0SaZ",
        "outputId": "000844d4-aa2e-40b5-8b34-1ce07f3b1c41"
      },
      "execution_count": 79,
      "outputs": [
        {
          "output_type": "execute_result",
          "data": {
            "text/plain": [
              "    Renda Sexo\n",
              "12     40    F\n",
              "11    160    F\n",
              "10    200    F\n",
              "13    240    F\n",
              "2     500    M\n",
              "8     788    F\n",
              "4     800    M\n",
              "6    1000    F\n",
              "9    1050    F\n",
              "7    1600    F\n",
              "3    1700    M\n",
              "1    1900    M\n",
              "0    3100    M\n",
              "5   18000    M"
            ],
            "text/html": [
              "\n",
              "  <div id=\"df-06501c38-569a-43c8-9cbd-a203b7076ecb\">\n",
              "    <div class=\"colab-df-container\">\n",
              "      <div>\n",
              "<style scoped>\n",
              "    .dataframe tbody tr th:only-of-type {\n",
              "        vertical-align: middle;\n",
              "    }\n",
              "\n",
              "    .dataframe tbody tr th {\n",
              "        vertical-align: top;\n",
              "    }\n",
              "\n",
              "    .dataframe thead th {\n",
              "        text-align: right;\n",
              "    }\n",
              "</style>\n",
              "<table border=\"1\" class=\"dataframe\">\n",
              "  <thead>\n",
              "    <tr style=\"text-align: right;\">\n",
              "      <th></th>\n",
              "      <th>Renda</th>\n",
              "      <th>Sexo</th>\n",
              "    </tr>\n",
              "  </thead>\n",
              "  <tbody>\n",
              "    <tr>\n",
              "      <th>12</th>\n",
              "      <td>40</td>\n",
              "      <td>F</td>\n",
              "    </tr>\n",
              "    <tr>\n",
              "      <th>11</th>\n",
              "      <td>160</td>\n",
              "      <td>F</td>\n",
              "    </tr>\n",
              "    <tr>\n",
              "      <th>10</th>\n",
              "      <td>200</td>\n",
              "      <td>F</td>\n",
              "    </tr>\n",
              "    <tr>\n",
              "      <th>13</th>\n",
              "      <td>240</td>\n",
              "      <td>F</td>\n",
              "    </tr>\n",
              "    <tr>\n",
              "      <th>2</th>\n",
              "      <td>500</td>\n",
              "      <td>M</td>\n",
              "    </tr>\n",
              "    <tr>\n",
              "      <th>8</th>\n",
              "      <td>788</td>\n",
              "      <td>F</td>\n",
              "    </tr>\n",
              "    <tr>\n",
              "      <th>4</th>\n",
              "      <td>800</td>\n",
              "      <td>M</td>\n",
              "    </tr>\n",
              "    <tr>\n",
              "      <th>6</th>\n",
              "      <td>1000</td>\n",
              "      <td>F</td>\n",
              "    </tr>\n",
              "    <tr>\n",
              "      <th>9</th>\n",
              "      <td>1050</td>\n",
              "      <td>F</td>\n",
              "    </tr>\n",
              "    <tr>\n",
              "      <th>7</th>\n",
              "      <td>1600</td>\n",
              "      <td>F</td>\n",
              "    </tr>\n",
              "    <tr>\n",
              "      <th>3</th>\n",
              "      <td>1700</td>\n",
              "      <td>M</td>\n",
              "    </tr>\n",
              "    <tr>\n",
              "      <th>1</th>\n",
              "      <td>1900</td>\n",
              "      <td>M</td>\n",
              "    </tr>\n",
              "    <tr>\n",
              "      <th>0</th>\n",
              "      <td>3100</td>\n",
              "      <td>M</td>\n",
              "    </tr>\n",
              "    <tr>\n",
              "      <th>5</th>\n",
              "      <td>18000</td>\n",
              "      <td>M</td>\n",
              "    </tr>\n",
              "  </tbody>\n",
              "</table>\n",
              "</div>\n",
              "      <button class=\"colab-df-convert\" onclick=\"convertToInteractive('df-06501c38-569a-43c8-9cbd-a203b7076ecb')\"\n",
              "              title=\"Convert this dataframe to an interactive table.\"\n",
              "              style=\"display:none;\">\n",
              "        \n",
              "  <svg xmlns=\"http://www.w3.org/2000/svg\" height=\"24px\"viewBox=\"0 0 24 24\"\n",
              "       width=\"24px\">\n",
              "    <path d=\"M0 0h24v24H0V0z\" fill=\"none\"/>\n",
              "    <path d=\"M18.56 5.44l.94 2.06.94-2.06 2.06-.94-2.06-.94-.94-2.06-.94 2.06-2.06.94zm-11 1L8.5 8.5l.94-2.06 2.06-.94-2.06-.94L8.5 2.5l-.94 2.06-2.06.94zm10 10l.94 2.06.94-2.06 2.06-.94-2.06-.94-.94-2.06-.94 2.06-2.06.94z\"/><path d=\"M17.41 7.96l-1.37-1.37c-.4-.4-.92-.59-1.43-.59-.52 0-1.04.2-1.43.59L10.3 9.45l-7.72 7.72c-.78.78-.78 2.05 0 2.83L4 21.41c.39.39.9.59 1.41.59.51 0 1.02-.2 1.41-.59l7.78-7.78 2.81-2.81c.8-.78.8-2.07 0-2.86zM5.41 20L4 18.59l7.72-7.72 1.47 1.35L5.41 20z\"/>\n",
              "  </svg>\n",
              "      </button>\n",
              "      \n",
              "  <style>\n",
              "    .colab-df-container {\n",
              "      display:flex;\n",
              "      flex-wrap:wrap;\n",
              "      gap: 12px;\n",
              "    }\n",
              "\n",
              "    .colab-df-convert {\n",
              "      background-color: #E8F0FE;\n",
              "      border: none;\n",
              "      border-radius: 50%;\n",
              "      cursor: pointer;\n",
              "      display: none;\n",
              "      fill: #1967D2;\n",
              "      height: 32px;\n",
              "      padding: 0 0 0 0;\n",
              "      width: 32px;\n",
              "    }\n",
              "\n",
              "    .colab-df-convert:hover {\n",
              "      background-color: #E2EBFA;\n",
              "      box-shadow: 0px 1px 2px rgba(60, 64, 67, 0.3), 0px 1px 3px 1px rgba(60, 64, 67, 0.15);\n",
              "      fill: #174EA6;\n",
              "    }\n",
              "\n",
              "    [theme=dark] .colab-df-convert {\n",
              "      background-color: #3B4455;\n",
              "      fill: #D2E3FC;\n",
              "    }\n",
              "\n",
              "    [theme=dark] .colab-df-convert:hover {\n",
              "      background-color: #434B5C;\n",
              "      box-shadow: 0px 1px 3px 1px rgba(0, 0, 0, 0.15);\n",
              "      filter: drop-shadow(0px 1px 2px rgba(0, 0, 0, 0.3));\n",
              "      fill: #FFFFFF;\n",
              "    }\n",
              "  </style>\n",
              "\n",
              "      <script>\n",
              "        const buttonEl =\n",
              "          document.querySelector('#df-06501c38-569a-43c8-9cbd-a203b7076ecb button.colab-df-convert');\n",
              "        buttonEl.style.display =\n",
              "          google.colab.kernel.accessAllowed ? 'block' : 'none';\n",
              "\n",
              "        async function convertToInteractive(key) {\n",
              "          const element = document.querySelector('#df-06501c38-569a-43c8-9cbd-a203b7076ecb');\n",
              "          const dataTable =\n",
              "            await google.colab.kernel.invokeFunction('convertToInteractive',\n",
              "                                                     [key], {});\n",
              "          if (!dataTable) return;\n",
              "\n",
              "          const docLinkHtml = 'Like what you see? Visit the ' +\n",
              "            '<a target=\"_blank\" href=https://colab.research.google.com/notebooks/data_table.ipynb>data table notebook</a>'\n",
              "            + ' to learn more about interactive tables.';\n",
              "          element.innerHTML = '';\n",
              "          dataTable['output_type'] = 'display_data';\n",
              "          await google.colab.output.renderOutput(dataTable, element);\n",
              "          const docLink = document.createElement('div');\n",
              "          docLink.innerHTML = docLinkHtml;\n",
              "          element.appendChild(docLink);\n",
              "        }\n",
              "      </script>\n",
              "    </div>\n",
              "  </div>\n",
              "  "
            ]
          },
          "metadata": {},
          "execution_count": 79
        }
      ]
    },
    {
      "cell_type": "markdown",
      "source": [
        "And let's create a new column with the rank:"
      ],
      "metadata": {
        "id": "jgqtfUQM0mqr"
      }
    },
    {
      "cell_type": "code",
      "source": [
        "sex_income['Rank'] = [i for i in range(1, sex_income.shape[0]+1)]\n",
        "sex_income"
      ],
      "metadata": {
        "colab": {
          "base_uri": "https://localhost:8080/",
          "height": 488
        },
        "id": "0JUUjyTb0lbz",
        "outputId": "4cd78197-c172-487f-b5ae-75b9b05e07d1"
      },
      "execution_count": 80,
      "outputs": [
        {
          "output_type": "execute_result",
          "data": {
            "text/plain": [
              "    Renda Sexo  Rank\n",
              "12     40    F     1\n",
              "11    160    F     2\n",
              "10    200    F     3\n",
              "13    240    F     4\n",
              "2     500    M     5\n",
              "8     788    F     6\n",
              "4     800    M     7\n",
              "6    1000    F     8\n",
              "9    1050    F     9\n",
              "7    1600    F    10\n",
              "3    1700    M    11\n",
              "1    1900    M    12\n",
              "0    3100    M    13\n",
              "5   18000    M    14"
            ],
            "text/html": [
              "\n",
              "  <div id=\"df-491ec78a-97a1-4b2e-95a2-891cac9361e8\">\n",
              "    <div class=\"colab-df-container\">\n",
              "      <div>\n",
              "<style scoped>\n",
              "    .dataframe tbody tr th:only-of-type {\n",
              "        vertical-align: middle;\n",
              "    }\n",
              "\n",
              "    .dataframe tbody tr th {\n",
              "        vertical-align: top;\n",
              "    }\n",
              "\n",
              "    .dataframe thead th {\n",
              "        text-align: right;\n",
              "    }\n",
              "</style>\n",
              "<table border=\"1\" class=\"dataframe\">\n",
              "  <thead>\n",
              "    <tr style=\"text-align: right;\">\n",
              "      <th></th>\n",
              "      <th>Renda</th>\n",
              "      <th>Sexo</th>\n",
              "      <th>Rank</th>\n",
              "    </tr>\n",
              "  </thead>\n",
              "  <tbody>\n",
              "    <tr>\n",
              "      <th>12</th>\n",
              "      <td>40</td>\n",
              "      <td>F</td>\n",
              "      <td>1</td>\n",
              "    </tr>\n",
              "    <tr>\n",
              "      <th>11</th>\n",
              "      <td>160</td>\n",
              "      <td>F</td>\n",
              "      <td>2</td>\n",
              "    </tr>\n",
              "    <tr>\n",
              "      <th>10</th>\n",
              "      <td>200</td>\n",
              "      <td>F</td>\n",
              "      <td>3</td>\n",
              "    </tr>\n",
              "    <tr>\n",
              "      <th>13</th>\n",
              "      <td>240</td>\n",
              "      <td>F</td>\n",
              "      <td>4</td>\n",
              "    </tr>\n",
              "    <tr>\n",
              "      <th>2</th>\n",
              "      <td>500</td>\n",
              "      <td>M</td>\n",
              "      <td>5</td>\n",
              "    </tr>\n",
              "    <tr>\n",
              "      <th>8</th>\n",
              "      <td>788</td>\n",
              "      <td>F</td>\n",
              "      <td>6</td>\n",
              "    </tr>\n",
              "    <tr>\n",
              "      <th>4</th>\n",
              "      <td>800</td>\n",
              "      <td>M</td>\n",
              "      <td>7</td>\n",
              "    </tr>\n",
              "    <tr>\n",
              "      <th>6</th>\n",
              "      <td>1000</td>\n",
              "      <td>F</td>\n",
              "      <td>8</td>\n",
              "    </tr>\n",
              "    <tr>\n",
              "      <th>9</th>\n",
              "      <td>1050</td>\n",
              "      <td>F</td>\n",
              "      <td>9</td>\n",
              "    </tr>\n",
              "    <tr>\n",
              "      <th>7</th>\n",
              "      <td>1600</td>\n",
              "      <td>F</td>\n",
              "      <td>10</td>\n",
              "    </tr>\n",
              "    <tr>\n",
              "      <th>3</th>\n",
              "      <td>1700</td>\n",
              "      <td>M</td>\n",
              "      <td>11</td>\n",
              "    </tr>\n",
              "    <tr>\n",
              "      <th>1</th>\n",
              "      <td>1900</td>\n",
              "      <td>M</td>\n",
              "      <td>12</td>\n",
              "    </tr>\n",
              "    <tr>\n",
              "      <th>0</th>\n",
              "      <td>3100</td>\n",
              "      <td>M</td>\n",
              "      <td>13</td>\n",
              "    </tr>\n",
              "    <tr>\n",
              "      <th>5</th>\n",
              "      <td>18000</td>\n",
              "      <td>M</td>\n",
              "      <td>14</td>\n",
              "    </tr>\n",
              "  </tbody>\n",
              "</table>\n",
              "</div>\n",
              "      <button class=\"colab-df-convert\" onclick=\"convertToInteractive('df-491ec78a-97a1-4b2e-95a2-891cac9361e8')\"\n",
              "              title=\"Convert this dataframe to an interactive table.\"\n",
              "              style=\"display:none;\">\n",
              "        \n",
              "  <svg xmlns=\"http://www.w3.org/2000/svg\" height=\"24px\"viewBox=\"0 0 24 24\"\n",
              "       width=\"24px\">\n",
              "    <path d=\"M0 0h24v24H0V0z\" fill=\"none\"/>\n",
              "    <path d=\"M18.56 5.44l.94 2.06.94-2.06 2.06-.94-2.06-.94-.94-2.06-.94 2.06-2.06.94zm-11 1L8.5 8.5l.94-2.06 2.06-.94-2.06-.94L8.5 2.5l-.94 2.06-2.06.94zm10 10l.94 2.06.94-2.06 2.06-.94-2.06-.94-.94-2.06-.94 2.06-2.06.94z\"/><path d=\"M17.41 7.96l-1.37-1.37c-.4-.4-.92-.59-1.43-.59-.52 0-1.04.2-1.43.59L10.3 9.45l-7.72 7.72c-.78.78-.78 2.05 0 2.83L4 21.41c.39.39.9.59 1.41.59.51 0 1.02-.2 1.41-.59l7.78-7.78 2.81-2.81c.8-.78.8-2.07 0-2.86zM5.41 20L4 18.59l7.72-7.72 1.47 1.35L5.41 20z\"/>\n",
              "  </svg>\n",
              "      </button>\n",
              "      \n",
              "  <style>\n",
              "    .colab-df-container {\n",
              "      display:flex;\n",
              "      flex-wrap:wrap;\n",
              "      gap: 12px;\n",
              "    }\n",
              "\n",
              "    .colab-df-convert {\n",
              "      background-color: #E8F0FE;\n",
              "      border: none;\n",
              "      border-radius: 50%;\n",
              "      cursor: pointer;\n",
              "      display: none;\n",
              "      fill: #1967D2;\n",
              "      height: 32px;\n",
              "      padding: 0 0 0 0;\n",
              "      width: 32px;\n",
              "    }\n",
              "\n",
              "    .colab-df-convert:hover {\n",
              "      background-color: #E2EBFA;\n",
              "      box-shadow: 0px 1px 2px rgba(60, 64, 67, 0.3), 0px 1px 3px 1px rgba(60, 64, 67, 0.15);\n",
              "      fill: #174EA6;\n",
              "    }\n",
              "\n",
              "    [theme=dark] .colab-df-convert {\n",
              "      background-color: #3B4455;\n",
              "      fill: #D2E3FC;\n",
              "    }\n",
              "\n",
              "    [theme=dark] .colab-df-convert:hover {\n",
              "      background-color: #434B5C;\n",
              "      box-shadow: 0px 1px 3px 1px rgba(0, 0, 0, 0.15);\n",
              "      filter: drop-shadow(0px 1px 2px rgba(0, 0, 0, 0.3));\n",
              "      fill: #FFFFFF;\n",
              "    }\n",
              "  </style>\n",
              "\n",
              "      <script>\n",
              "        const buttonEl =\n",
              "          document.querySelector('#df-491ec78a-97a1-4b2e-95a2-891cac9361e8 button.colab-df-convert');\n",
              "        buttonEl.style.display =\n",
              "          google.colab.kernel.accessAllowed ? 'block' : 'none';\n",
              "\n",
              "        async function convertToInteractive(key) {\n",
              "          const element = document.querySelector('#df-491ec78a-97a1-4b2e-95a2-891cac9361e8');\n",
              "          const dataTable =\n",
              "            await google.colab.kernel.invokeFunction('convertToInteractive',\n",
              "                                                     [key], {});\n",
              "          if (!dataTable) return;\n",
              "\n",
              "          const docLinkHtml = 'Like what you see? Visit the ' +\n",
              "            '<a target=\"_blank\" href=https://colab.research.google.com/notebooks/data_table.ipynb>data table notebook</a>'\n",
              "            + ' to learn more about interactive tables.';\n",
              "          element.innerHTML = '';\n",
              "          dataTable['output_type'] = 'display_data';\n",
              "          await google.colab.output.renderOutput(dataTable, element);\n",
              "          const docLink = document.createElement('div');\n",
              "          docLink.innerHTML = docLinkHtml;\n",
              "          element.appendChild(docLink);\n",
              "        }\n",
              "      </script>\n",
              "    </div>\n",
              "  </div>\n",
              "  "
            ]
          },
          "metadata": {},
          "execution_count": 80
        }
      ]
    },
    {
      "cell_type": "markdown",
      "source": [
        "Now, as we did before, we will group this dataframe by income and get the mean rank of each income:"
      ],
      "metadata": {
        "id": "pvzzLfBl013a"
      }
    },
    {
      "cell_type": "code",
      "source": [
        "rank = sex_income[['Renda', 'Rank']].groupby('Renda').mean( )\n",
        "rank.reset_index(inplace = True)\n",
        "rank"
      ],
      "metadata": {
        "colab": {
          "base_uri": "https://localhost:8080/",
          "height": 488
        },
        "id": "nYRf-G_s0wWQ",
        "outputId": "85017c54-2eec-4d3e-afa4-1ebe2735b54a"
      },
      "execution_count": 81,
      "outputs": [
        {
          "output_type": "execute_result",
          "data": {
            "text/plain": [
              "    Renda  Rank\n",
              "0      40   1.0\n",
              "1     160   2.0\n",
              "2     200   3.0\n",
              "3     240   4.0\n",
              "4     500   5.0\n",
              "5     788   6.0\n",
              "6     800   7.0\n",
              "7    1000   8.0\n",
              "8    1050   9.0\n",
              "9    1600  10.0\n",
              "10   1700  11.0\n",
              "11   1900  12.0\n",
              "12   3100  13.0\n",
              "13  18000  14.0"
            ],
            "text/html": [
              "\n",
              "  <div id=\"df-4bb2a20a-dad1-4300-b292-f499fc942636\">\n",
              "    <div class=\"colab-df-container\">\n",
              "      <div>\n",
              "<style scoped>\n",
              "    .dataframe tbody tr th:only-of-type {\n",
              "        vertical-align: middle;\n",
              "    }\n",
              "\n",
              "    .dataframe tbody tr th {\n",
              "        vertical-align: top;\n",
              "    }\n",
              "\n",
              "    .dataframe thead th {\n",
              "        text-align: right;\n",
              "    }\n",
              "</style>\n",
              "<table border=\"1\" class=\"dataframe\">\n",
              "  <thead>\n",
              "    <tr style=\"text-align: right;\">\n",
              "      <th></th>\n",
              "      <th>Renda</th>\n",
              "      <th>Rank</th>\n",
              "    </tr>\n",
              "  </thead>\n",
              "  <tbody>\n",
              "    <tr>\n",
              "      <th>0</th>\n",
              "      <td>40</td>\n",
              "      <td>1.0</td>\n",
              "    </tr>\n",
              "    <tr>\n",
              "      <th>1</th>\n",
              "      <td>160</td>\n",
              "      <td>2.0</td>\n",
              "    </tr>\n",
              "    <tr>\n",
              "      <th>2</th>\n",
              "      <td>200</td>\n",
              "      <td>3.0</td>\n",
              "    </tr>\n",
              "    <tr>\n",
              "      <th>3</th>\n",
              "      <td>240</td>\n",
              "      <td>4.0</td>\n",
              "    </tr>\n",
              "    <tr>\n",
              "      <th>4</th>\n",
              "      <td>500</td>\n",
              "      <td>5.0</td>\n",
              "    </tr>\n",
              "    <tr>\n",
              "      <th>5</th>\n",
              "      <td>788</td>\n",
              "      <td>6.0</td>\n",
              "    </tr>\n",
              "    <tr>\n",
              "      <th>6</th>\n",
              "      <td>800</td>\n",
              "      <td>7.0</td>\n",
              "    </tr>\n",
              "    <tr>\n",
              "      <th>7</th>\n",
              "      <td>1000</td>\n",
              "      <td>8.0</td>\n",
              "    </tr>\n",
              "    <tr>\n",
              "      <th>8</th>\n",
              "      <td>1050</td>\n",
              "      <td>9.0</td>\n",
              "    </tr>\n",
              "    <tr>\n",
              "      <th>9</th>\n",
              "      <td>1600</td>\n",
              "      <td>10.0</td>\n",
              "    </tr>\n",
              "    <tr>\n",
              "      <th>10</th>\n",
              "      <td>1700</td>\n",
              "      <td>11.0</td>\n",
              "    </tr>\n",
              "    <tr>\n",
              "      <th>11</th>\n",
              "      <td>1900</td>\n",
              "      <td>12.0</td>\n",
              "    </tr>\n",
              "    <tr>\n",
              "      <th>12</th>\n",
              "      <td>3100</td>\n",
              "      <td>13.0</td>\n",
              "    </tr>\n",
              "    <tr>\n",
              "      <th>13</th>\n",
              "      <td>18000</td>\n",
              "      <td>14.0</td>\n",
              "    </tr>\n",
              "  </tbody>\n",
              "</table>\n",
              "</div>\n",
              "      <button class=\"colab-df-convert\" onclick=\"convertToInteractive('df-4bb2a20a-dad1-4300-b292-f499fc942636')\"\n",
              "              title=\"Convert this dataframe to an interactive table.\"\n",
              "              style=\"display:none;\">\n",
              "        \n",
              "  <svg xmlns=\"http://www.w3.org/2000/svg\" height=\"24px\"viewBox=\"0 0 24 24\"\n",
              "       width=\"24px\">\n",
              "    <path d=\"M0 0h24v24H0V0z\" fill=\"none\"/>\n",
              "    <path d=\"M18.56 5.44l.94 2.06.94-2.06 2.06-.94-2.06-.94-.94-2.06-.94 2.06-2.06.94zm-11 1L8.5 8.5l.94-2.06 2.06-.94-2.06-.94L8.5 2.5l-.94 2.06-2.06.94zm10 10l.94 2.06.94-2.06 2.06-.94-2.06-.94-.94-2.06-.94 2.06-2.06.94z\"/><path d=\"M17.41 7.96l-1.37-1.37c-.4-.4-.92-.59-1.43-.59-.52 0-1.04.2-1.43.59L10.3 9.45l-7.72 7.72c-.78.78-.78 2.05 0 2.83L4 21.41c.39.39.9.59 1.41.59.51 0 1.02-.2 1.41-.59l7.78-7.78 2.81-2.81c.8-.78.8-2.07 0-2.86zM5.41 20L4 18.59l7.72-7.72 1.47 1.35L5.41 20z\"/>\n",
              "  </svg>\n",
              "      </button>\n",
              "      \n",
              "  <style>\n",
              "    .colab-df-container {\n",
              "      display:flex;\n",
              "      flex-wrap:wrap;\n",
              "      gap: 12px;\n",
              "    }\n",
              "\n",
              "    .colab-df-convert {\n",
              "      background-color: #E8F0FE;\n",
              "      border: none;\n",
              "      border-radius: 50%;\n",
              "      cursor: pointer;\n",
              "      display: none;\n",
              "      fill: #1967D2;\n",
              "      height: 32px;\n",
              "      padding: 0 0 0 0;\n",
              "      width: 32px;\n",
              "    }\n",
              "\n",
              "    .colab-df-convert:hover {\n",
              "      background-color: #E2EBFA;\n",
              "      box-shadow: 0px 1px 2px rgba(60, 64, 67, 0.3), 0px 1px 3px 1px rgba(60, 64, 67, 0.15);\n",
              "      fill: #174EA6;\n",
              "    }\n",
              "\n",
              "    [theme=dark] .colab-df-convert {\n",
              "      background-color: #3B4455;\n",
              "      fill: #D2E3FC;\n",
              "    }\n",
              "\n",
              "    [theme=dark] .colab-df-convert:hover {\n",
              "      background-color: #434B5C;\n",
              "      box-shadow: 0px 1px 3px 1px rgba(0, 0, 0, 0.15);\n",
              "      filter: drop-shadow(0px 1px 2px rgba(0, 0, 0, 0.3));\n",
              "      fill: #FFFFFF;\n",
              "    }\n",
              "  </style>\n",
              "\n",
              "      <script>\n",
              "        const buttonEl =\n",
              "          document.querySelector('#df-4bb2a20a-dad1-4300-b292-f499fc942636 button.colab-df-convert');\n",
              "        buttonEl.style.display =\n",
              "          google.colab.kernel.accessAllowed ? 'block' : 'none';\n",
              "\n",
              "        async function convertToInteractive(key) {\n",
              "          const element = document.querySelector('#df-4bb2a20a-dad1-4300-b292-f499fc942636');\n",
              "          const dataTable =\n",
              "            await google.colab.kernel.invokeFunction('convertToInteractive',\n",
              "                                                     [key], {});\n",
              "          if (!dataTable) return;\n",
              "\n",
              "          const docLinkHtml = 'Like what you see? Visit the ' +\n",
              "            '<a target=\"_blank\" href=https://colab.research.google.com/notebooks/data_table.ipynb>data table notebook</a>'\n",
              "            + ' to learn more about interactive tables.';\n",
              "          element.innerHTML = '';\n",
              "          dataTable['output_type'] = 'display_data';\n",
              "          await google.colab.output.renderOutput(dataTable, element);\n",
              "          const docLink = document.createElement('div');\n",
              "          docLink.innerHTML = docLinkHtml;\n",
              "          element.appendChild(docLink);\n",
              "        }\n",
              "      </script>\n",
              "    </div>\n",
              "  </div>\n",
              "  "
            ]
          },
          "metadata": {},
          "execution_count": 81
        }
      ]
    },
    {
      "cell_type": "markdown",
      "source": [
        "Now, let's do a left join with the former table. First, let's drop the rank from the first dataframe:"
      ],
      "metadata": {
        "id": "S61aI6q61Uxi"
      }
    },
    {
      "cell_type": "code",
      "source": [
        "sex_income.drop(['Rank'], axis = 1, inplace = True)\n",
        "\n",
        "sex_income = sex_income.merge(rank, left_on = 'Renda', right_on = 'Renda', how = 'left')\n",
        "sex_income"
      ],
      "metadata": {
        "colab": {
          "base_uri": "https://localhost:8080/",
          "height": 488
        },
        "id": "D58XZeym1FHm",
        "outputId": "996d51c5-cc83-4da4-84d4-da676c6d5390"
      },
      "execution_count": 82,
      "outputs": [
        {
          "output_type": "execute_result",
          "data": {
            "text/plain": [
              "    Renda Sexo  Rank\n",
              "0      40    F   1.0\n",
              "1     160    F   2.0\n",
              "2     200    F   3.0\n",
              "3     240    F   4.0\n",
              "4     500    M   5.0\n",
              "5     788    F   6.0\n",
              "6     800    M   7.0\n",
              "7    1000    F   8.0\n",
              "8    1050    F   9.0\n",
              "9    1600    F  10.0\n",
              "10   1700    M  11.0\n",
              "11   1900    M  12.0\n",
              "12   3100    M  13.0\n",
              "13  18000    M  14.0"
            ],
            "text/html": [
              "\n",
              "  <div id=\"df-5da446b7-7e92-409b-be16-e70cdbfa3fe4\">\n",
              "    <div class=\"colab-df-container\">\n",
              "      <div>\n",
              "<style scoped>\n",
              "    .dataframe tbody tr th:only-of-type {\n",
              "        vertical-align: middle;\n",
              "    }\n",
              "\n",
              "    .dataframe tbody tr th {\n",
              "        vertical-align: top;\n",
              "    }\n",
              "\n",
              "    .dataframe thead th {\n",
              "        text-align: right;\n",
              "    }\n",
              "</style>\n",
              "<table border=\"1\" class=\"dataframe\">\n",
              "  <thead>\n",
              "    <tr style=\"text-align: right;\">\n",
              "      <th></th>\n",
              "      <th>Renda</th>\n",
              "      <th>Sexo</th>\n",
              "      <th>Rank</th>\n",
              "    </tr>\n",
              "  </thead>\n",
              "  <tbody>\n",
              "    <tr>\n",
              "      <th>0</th>\n",
              "      <td>40</td>\n",
              "      <td>F</td>\n",
              "      <td>1.0</td>\n",
              "    </tr>\n",
              "    <tr>\n",
              "      <th>1</th>\n",
              "      <td>160</td>\n",
              "      <td>F</td>\n",
              "      <td>2.0</td>\n",
              "    </tr>\n",
              "    <tr>\n",
              "      <th>2</th>\n",
              "      <td>200</td>\n",
              "      <td>F</td>\n",
              "      <td>3.0</td>\n",
              "    </tr>\n",
              "    <tr>\n",
              "      <th>3</th>\n",
              "      <td>240</td>\n",
              "      <td>F</td>\n",
              "      <td>4.0</td>\n",
              "    </tr>\n",
              "    <tr>\n",
              "      <th>4</th>\n",
              "      <td>500</td>\n",
              "      <td>M</td>\n",
              "      <td>5.0</td>\n",
              "    </tr>\n",
              "    <tr>\n",
              "      <th>5</th>\n",
              "      <td>788</td>\n",
              "      <td>F</td>\n",
              "      <td>6.0</td>\n",
              "    </tr>\n",
              "    <tr>\n",
              "      <th>6</th>\n",
              "      <td>800</td>\n",
              "      <td>M</td>\n",
              "      <td>7.0</td>\n",
              "    </tr>\n",
              "    <tr>\n",
              "      <th>7</th>\n",
              "      <td>1000</td>\n",
              "      <td>F</td>\n",
              "      <td>8.0</td>\n",
              "    </tr>\n",
              "    <tr>\n",
              "      <th>8</th>\n",
              "      <td>1050</td>\n",
              "      <td>F</td>\n",
              "      <td>9.0</td>\n",
              "    </tr>\n",
              "    <tr>\n",
              "      <th>9</th>\n",
              "      <td>1600</td>\n",
              "      <td>F</td>\n",
              "      <td>10.0</td>\n",
              "    </tr>\n",
              "    <tr>\n",
              "      <th>10</th>\n",
              "      <td>1700</td>\n",
              "      <td>M</td>\n",
              "      <td>11.0</td>\n",
              "    </tr>\n",
              "    <tr>\n",
              "      <th>11</th>\n",
              "      <td>1900</td>\n",
              "      <td>M</td>\n",
              "      <td>12.0</td>\n",
              "    </tr>\n",
              "    <tr>\n",
              "      <th>12</th>\n",
              "      <td>3100</td>\n",
              "      <td>M</td>\n",
              "      <td>13.0</td>\n",
              "    </tr>\n",
              "    <tr>\n",
              "      <th>13</th>\n",
              "      <td>18000</td>\n",
              "      <td>M</td>\n",
              "      <td>14.0</td>\n",
              "    </tr>\n",
              "  </tbody>\n",
              "</table>\n",
              "</div>\n",
              "      <button class=\"colab-df-convert\" onclick=\"convertToInteractive('df-5da446b7-7e92-409b-be16-e70cdbfa3fe4')\"\n",
              "              title=\"Convert this dataframe to an interactive table.\"\n",
              "              style=\"display:none;\">\n",
              "        \n",
              "  <svg xmlns=\"http://www.w3.org/2000/svg\" height=\"24px\"viewBox=\"0 0 24 24\"\n",
              "       width=\"24px\">\n",
              "    <path d=\"M0 0h24v24H0V0z\" fill=\"none\"/>\n",
              "    <path d=\"M18.56 5.44l.94 2.06.94-2.06 2.06-.94-2.06-.94-.94-2.06-.94 2.06-2.06.94zm-11 1L8.5 8.5l.94-2.06 2.06-.94-2.06-.94L8.5 2.5l-.94 2.06-2.06.94zm10 10l.94 2.06.94-2.06 2.06-.94-2.06-.94-.94-2.06-.94 2.06-2.06.94z\"/><path d=\"M17.41 7.96l-1.37-1.37c-.4-.4-.92-.59-1.43-.59-.52 0-1.04.2-1.43.59L10.3 9.45l-7.72 7.72c-.78.78-.78 2.05 0 2.83L4 21.41c.39.39.9.59 1.41.59.51 0 1.02-.2 1.41-.59l7.78-7.78 2.81-2.81c.8-.78.8-2.07 0-2.86zM5.41 20L4 18.59l7.72-7.72 1.47 1.35L5.41 20z\"/>\n",
              "  </svg>\n",
              "      </button>\n",
              "      \n",
              "  <style>\n",
              "    .colab-df-container {\n",
              "      display:flex;\n",
              "      flex-wrap:wrap;\n",
              "      gap: 12px;\n",
              "    }\n",
              "\n",
              "    .colab-df-convert {\n",
              "      background-color: #E8F0FE;\n",
              "      border: none;\n",
              "      border-radius: 50%;\n",
              "      cursor: pointer;\n",
              "      display: none;\n",
              "      fill: #1967D2;\n",
              "      height: 32px;\n",
              "      padding: 0 0 0 0;\n",
              "      width: 32px;\n",
              "    }\n",
              "\n",
              "    .colab-df-convert:hover {\n",
              "      background-color: #E2EBFA;\n",
              "      box-shadow: 0px 1px 2px rgba(60, 64, 67, 0.3), 0px 1px 3px 1px rgba(60, 64, 67, 0.15);\n",
              "      fill: #174EA6;\n",
              "    }\n",
              "\n",
              "    [theme=dark] .colab-df-convert {\n",
              "      background-color: #3B4455;\n",
              "      fill: #D2E3FC;\n",
              "    }\n",
              "\n",
              "    [theme=dark] .colab-df-convert:hover {\n",
              "      background-color: #434B5C;\n",
              "      box-shadow: 0px 1px 3px 1px rgba(0, 0, 0, 0.15);\n",
              "      filter: drop-shadow(0px 1px 2px rgba(0, 0, 0, 0.3));\n",
              "      fill: #FFFFFF;\n",
              "    }\n",
              "  </style>\n",
              "\n",
              "      <script>\n",
              "        const buttonEl =\n",
              "          document.querySelector('#df-5da446b7-7e92-409b-be16-e70cdbfa3fe4 button.colab-df-convert');\n",
              "        buttonEl.style.display =\n",
              "          google.colab.kernel.accessAllowed ? 'block' : 'none';\n",
              "\n",
              "        async function convertToInteractive(key) {\n",
              "          const element = document.querySelector('#df-5da446b7-7e92-409b-be16-e70cdbfa3fe4');\n",
              "          const dataTable =\n",
              "            await google.colab.kernel.invokeFunction('convertToInteractive',\n",
              "                                                     [key], {});\n",
              "          if (!dataTable) return;\n",
              "\n",
              "          const docLinkHtml = 'Like what you see? Visit the ' +\n",
              "            '<a target=\"_blank\" href=https://colab.research.google.com/notebooks/data_table.ipynb>data table notebook</a>'\n",
              "            + ' to learn more about interactive tables.';\n",
              "          element.innerHTML = '';\n",
              "          dataTable['output_type'] = 'display_data';\n",
              "          await google.colab.output.renderOutput(dataTable, element);\n",
              "          const docLink = document.createElement('div');\n",
              "          docLink.innerHTML = docLinkHtml;\n",
              "          element.appendChild(docLink);\n",
              "        }\n",
              "      </script>\n",
              "    </div>\n",
              "  </div>\n",
              "  "
            ]
          },
          "metadata": {},
          "execution_count": 82
        }
      ]
    },
    {
      "cell_type": "markdown",
      "source": [
        "Great! We have built our dataframe. So, let's evaluate $R_1$ and $R_2$:"
      ],
      "metadata": {
        "id": "uLTTszjb1rEk"
      }
    },
    {
      "cell_type": "code",
      "source": [
        "temp = sex_income[['Sexo', 'Rank']].groupby('Sexo').sum( )\n",
        "temp"
      ],
      "metadata": {
        "colab": {
          "base_uri": "https://localhost:8080/",
          "height": 143
        },
        "id": "KlepBt-J1pgG",
        "outputId": "a05c73cb-a4ab-4496-b0b9-67bf3ee9db87"
      },
      "execution_count": 83,
      "outputs": [
        {
          "output_type": "execute_result",
          "data": {
            "text/plain": [
              "      Rank\n",
              "Sexo      \n",
              "F     43.0\n",
              "M     62.0"
            ],
            "text/html": [
              "\n",
              "  <div id=\"df-c71c1867-d43b-4088-93eb-281762db27a1\">\n",
              "    <div class=\"colab-df-container\">\n",
              "      <div>\n",
              "<style scoped>\n",
              "    .dataframe tbody tr th:only-of-type {\n",
              "        vertical-align: middle;\n",
              "    }\n",
              "\n",
              "    .dataframe tbody tr th {\n",
              "        vertical-align: top;\n",
              "    }\n",
              "\n",
              "    .dataframe thead th {\n",
              "        text-align: right;\n",
              "    }\n",
              "</style>\n",
              "<table border=\"1\" class=\"dataframe\">\n",
              "  <thead>\n",
              "    <tr style=\"text-align: right;\">\n",
              "      <th></th>\n",
              "      <th>Rank</th>\n",
              "    </tr>\n",
              "    <tr>\n",
              "      <th>Sexo</th>\n",
              "      <th></th>\n",
              "    </tr>\n",
              "  </thead>\n",
              "  <tbody>\n",
              "    <tr>\n",
              "      <th>F</th>\n",
              "      <td>43.0</td>\n",
              "    </tr>\n",
              "    <tr>\n",
              "      <th>M</th>\n",
              "      <td>62.0</td>\n",
              "    </tr>\n",
              "  </tbody>\n",
              "</table>\n",
              "</div>\n",
              "      <button class=\"colab-df-convert\" onclick=\"convertToInteractive('df-c71c1867-d43b-4088-93eb-281762db27a1')\"\n",
              "              title=\"Convert this dataframe to an interactive table.\"\n",
              "              style=\"display:none;\">\n",
              "        \n",
              "  <svg xmlns=\"http://www.w3.org/2000/svg\" height=\"24px\"viewBox=\"0 0 24 24\"\n",
              "       width=\"24px\">\n",
              "    <path d=\"M0 0h24v24H0V0z\" fill=\"none\"/>\n",
              "    <path d=\"M18.56 5.44l.94 2.06.94-2.06 2.06-.94-2.06-.94-.94-2.06-.94 2.06-2.06.94zm-11 1L8.5 8.5l.94-2.06 2.06-.94-2.06-.94L8.5 2.5l-.94 2.06-2.06.94zm10 10l.94 2.06.94-2.06 2.06-.94-2.06-.94-.94-2.06-.94 2.06-2.06.94z\"/><path d=\"M17.41 7.96l-1.37-1.37c-.4-.4-.92-.59-1.43-.59-.52 0-1.04.2-1.43.59L10.3 9.45l-7.72 7.72c-.78.78-.78 2.05 0 2.83L4 21.41c.39.39.9.59 1.41.59.51 0 1.02-.2 1.41-.59l7.78-7.78 2.81-2.81c.8-.78.8-2.07 0-2.86zM5.41 20L4 18.59l7.72-7.72 1.47 1.35L5.41 20z\"/>\n",
              "  </svg>\n",
              "      </button>\n",
              "      \n",
              "  <style>\n",
              "    .colab-df-container {\n",
              "      display:flex;\n",
              "      flex-wrap:wrap;\n",
              "      gap: 12px;\n",
              "    }\n",
              "\n",
              "    .colab-df-convert {\n",
              "      background-color: #E8F0FE;\n",
              "      border: none;\n",
              "      border-radius: 50%;\n",
              "      cursor: pointer;\n",
              "      display: none;\n",
              "      fill: #1967D2;\n",
              "      height: 32px;\n",
              "      padding: 0 0 0 0;\n",
              "      width: 32px;\n",
              "    }\n",
              "\n",
              "    .colab-df-convert:hover {\n",
              "      background-color: #E2EBFA;\n",
              "      box-shadow: 0px 1px 2px rgba(60, 64, 67, 0.3), 0px 1px 3px 1px rgba(60, 64, 67, 0.15);\n",
              "      fill: #174EA6;\n",
              "    }\n",
              "\n",
              "    [theme=dark] .colab-df-convert {\n",
              "      background-color: #3B4455;\n",
              "      fill: #D2E3FC;\n",
              "    }\n",
              "\n",
              "    [theme=dark] .colab-df-convert:hover {\n",
              "      background-color: #434B5C;\n",
              "      box-shadow: 0px 1px 3px 1px rgba(0, 0, 0, 0.15);\n",
              "      filter: drop-shadow(0px 1px 2px rgba(0, 0, 0, 0.3));\n",
              "      fill: #FFFFFF;\n",
              "    }\n",
              "  </style>\n",
              "\n",
              "      <script>\n",
              "        const buttonEl =\n",
              "          document.querySelector('#df-c71c1867-d43b-4088-93eb-281762db27a1 button.colab-df-convert');\n",
              "        buttonEl.style.display =\n",
              "          google.colab.kernel.accessAllowed ? 'block' : 'none';\n",
              "\n",
              "        async function convertToInteractive(key) {\n",
              "          const element = document.querySelector('#df-c71c1867-d43b-4088-93eb-281762db27a1');\n",
              "          const dataTable =\n",
              "            await google.colab.kernel.invokeFunction('convertToInteractive',\n",
              "                                                     [key], {});\n",
              "          if (!dataTable) return;\n",
              "\n",
              "          const docLinkHtml = 'Like what you see? Visit the ' +\n",
              "            '<a target=\"_blank\" href=https://colab.research.google.com/notebooks/data_table.ipynb>data table notebook</a>'\n",
              "            + ' to learn more about interactive tables.';\n",
              "          element.innerHTML = '';\n",
              "          dataTable['output_type'] = 'display_data';\n",
              "          await google.colab.output.renderOutput(dataTable, element);\n",
              "          const docLink = document.createElement('div');\n",
              "          docLink.innerHTML = docLinkHtml;\n",
              "          element.appendChild(docLink);\n",
              "        }\n",
              "      </script>\n",
              "    </div>\n",
              "  </div>\n",
              "  "
            ]
          },
          "metadata": {},
          "execution_count": 83
        }
      ]
    },
    {
      "cell_type": "code",
      "source": [
        "R1 = temp.loc['M'][0]\n",
        "R2 = temp.loc['F'][0]"
      ],
      "metadata": {
        "id": "pa6ruzsI15AR"
      },
      "execution_count": 84,
      "outputs": []
    },
    {
      "cell_type": "markdown",
      "source": [
        "Now, evaluating $u$:"
      ],
      "metadata": {
        "id": "FHRaTbjd2rEA"
      }
    },
    {
      "cell_type": "markdown",
      "source": [
        "\n",
        "\n",
        "\\begin{equation}\n",
        "u = \\min(u_1, u_2)\n",
        "\\end{equation}\n",
        "\n",
        "\\begin{equation}\n",
        "u_{1}=n_{1} \\times n_{2}+\\frac{n_{1} \\times\\left(n_{1}+1\\right)}{2}-R_{1}\n",
        "\\end{equation}\n",
        "\n",
        "\\begin{equation}\n",
        "u_{2}=n_{1} \\times n_{2}+\\frac{n_{2} \\times\\left(n_{2}+1\\right)}{2}-R_{2}\n",
        "\\end{equation}"
      ],
      "metadata": {
        "id": "uHj65F562_yj"
      }
    },
    {
      "cell_type": "code",
      "source": [
        "u1 = n_1*n_2 + (n_1 * (n_1 + 1))/2 - R1\n",
        "u2 = n_1*n_2 + (n_2 * (n_2 + 1))/2 - R2\n",
        "u = min(u1, u2)\n",
        "u"
      ],
      "metadata": {
        "colab": {
          "base_uri": "https://localhost:8080/"
        },
        "id": "gnkiCHMN2mAI",
        "outputId": "c28cfcb0-7279-4d30-dd6d-38106f77c3f2"
      },
      "execution_count": 85,
      "outputs": [
        {
          "output_type": "execute_result",
          "data": {
            "text/plain": [
              "7.0"
            ]
          },
          "metadata": {},
          "execution_count": 85
        }
      ]
    },
    {
      "cell_type": "markdown",
      "source": [
        "Now, the estimate for the test parameters:"
      ],
      "metadata": {
        "id": "4PSIrsGo3Dqu"
      }
    },
    {
      "cell_type": "markdown",
      "source": [
        "\n",
        "\\begin{equation}\n",
        "\\mu(u)=\\frac{n_{1} \\times n_{2}}{2}\n",
        "\\end{equation}\n",
        "\n",
        "\\begin{equation}\n",
        "\\sigma(u)=\\sqrt{\\frac{n_{1} \\times n_{2} \\times\\left(n_{1}+n_{2}+1\\right)}{12}}\n",
        "\\end{equation}"
      ],
      "metadata": {
        "id": "nC0-HD9E3WB4"
      }
    },
    {
      "cell_type": "code",
      "source": [
        "mu_u = n_1*n_2/2\n",
        "mu_u"
      ],
      "metadata": {
        "colab": {
          "base_uri": "https://localhost:8080/"
        },
        "id": "eG5LpcNC25VE",
        "outputId": "649107e3-6e77-47b8-c629-78a7fca7eca0"
      },
      "execution_count": 86,
      "outputs": [
        {
          "output_type": "execute_result",
          "data": {
            "text/plain": [
              "24.0"
            ]
          },
          "metadata": {},
          "execution_count": 86
        }
      ]
    },
    {
      "cell_type": "code",
      "source": [
        "sig_u = np.sqrt(n_1*n_2*(n_1 + n_2 + 1)/12)\n",
        "sig_u"
      ],
      "metadata": {
        "colab": {
          "base_uri": "https://localhost:8080/"
        },
        "id": "x10QT8B43J_M",
        "outputId": "13e274e5-77d0-4cc4-8306-d3a6c7f2c867"
      },
      "execution_count": 87,
      "outputs": [
        {
          "output_type": "execute_result",
          "data": {
            "text/plain": [
              "7.745966692414834"
            ]
          },
          "metadata": {},
          "execution_count": 87
        }
      ]
    },
    {
      "cell_type": "markdown",
      "source": [
        "And now evaluating $Z$:\n",
        "\n",
        "\n",
        "\n",
        "\\begin{equation}\n",
        "Z=\\frac{u-\\mu(u)}{\\sigma(u)}\n",
        "\\end{equation}\n"
      ],
      "metadata": {
        "id": "eKY52Z9I3XTT"
      }
    },
    {
      "cell_type": "code",
      "source": [
        "Z = (u - mu_u)/sig_u\n",
        "Z"
      ],
      "metadata": {
        "colab": {
          "base_uri": "https://localhost:8080/"
        },
        "id": "t2_X6jVU3PbP",
        "outputId": "ef473c1d-71ca-4213-8c84-22c64ab0be46"
      },
      "execution_count": 88,
      "outputs": [
        {
          "output_type": "execute_result",
          "data": {
            "text/plain": [
              "-2.1946905628508695"
            ]
          },
          "metadata": {},
          "execution_count": 88
        }
      ]
    },
    {
      "cell_type": "markdown",
      "source": [
        "Let's remember: considering our confidence level and sample size, we had:"
      ],
      "metadata": {
        "id": "t_RJ3Vcm3fHi"
      }
    },
    {
      "cell_type": "code",
      "source": [
        "t_alpha"
      ],
      "metadata": {
        "colab": {
          "base_uri": "https://localhost:8080/"
        },
        "id": "hL7BrllD3cYi",
        "outputId": "6bede861-621f-4884-cd7c-0b05456fd537"
      },
      "execution_count": 89,
      "outputs": [
        {
          "output_type": "execute_result",
          "data": {
            "text/plain": [
              "-1.7822875556491593"
            ]
          },
          "metadata": {},
          "execution_count": 89
        }
      ]
    },
    {
      "cell_type": "code",
      "source": [
        "Z < t_alpha"
      ],
      "metadata": {
        "colab": {
          "base_uri": "https://localhost:8080/"
        },
        "id": "p-02P-V23xZg",
        "outputId": "14dcdd80-24df-4c7a-fba4-66b1210a0072"
      },
      "execution_count": 90,
      "outputs": [
        {
          "output_type": "execute_result",
          "data": {
            "text/plain": [
              "True"
            ]
          },
          "metadata": {},
          "execution_count": 90
        }
      ]
    },
    {
      "cell_type": "markdown",
      "source": [
        "So, since, $Z$ is lower than $t_{\\alpha}$, we reject the null hypothesis."
      ],
      "metadata": {
        "id": "j154No533q8a"
      }
    },
    {
      "cell_type": "markdown",
      "source": [
        "Now, using scipy.stats, we have a much easier way of performing all of this:"
      ],
      "metadata": {
        "id": "-R-uYTl64CS8"
      }
    },
    {
      "cell_type": "code",
      "source": [
        "from scipy.stats import mannwhitneyu\n",
        "\n",
        "mannwhitneyu(sample_f, sample_m, alternative = 'less')"
      ],
      "metadata": {
        "colab": {
          "base_uri": "https://localhost:8080/"
        },
        "id": "UnhJn5uW3jqS",
        "outputId": "bbf29c22-b0d5-4f3c-e3f2-ba9760bbd6e9"
      },
      "execution_count": 91,
      "outputs": [
        {
          "output_type": "execute_result",
          "data": {
            "text/plain": [
              "MannwhitneyuResult(statistic=7.0, pvalue=0.016579993729423884)"
            ]
          },
          "metadata": {},
          "execution_count": 91
        }
      ]
    },
    {
      "cell_type": "markdown",
      "source": [
        "Nice! The test statistics $u = 7.0$ was the same as the one we evaluated by hand, and the p_value also shows that the null hypothesis should be rejected."
      ],
      "metadata": {
        "id": "Jmi5kGHe4RuT"
      }
    },
    {
      "cell_type": "markdown",
      "source": [
        "# Reviewing everything we have learned\n",
        "\n",
        "So, in this courses, we learned more about how to perform a hypothesis test using Python. In summary, we learned how to:\n",
        "\n",
        "*   Use normality tests.\n",
        "*   Use parametric tests to check populational parameters (mean) from a sample.\n",
        "*   Use parametric tests to check if the difference between two means is great enough for us to say that their population means are different.\n",
        "*   Use non-parametric tests to check if there is any difference between an expected frequency and the observer frequency (Chi-squared test).\n",
        "*   Use non-parametric tests to compare if two samples are drawn from the same distribution - dependent samples (Wilcoxon test).\n",
        "*   Use non-parametric tests to compare if the difference between populational means is higher than a value, usually zero - independent samples (Mann-Whitney test).\n",
        "\n",
        "We should also always remember the phases of a test:\n",
        "\n",
        "**1. Formulation of the hypothesis**\n",
        "\n",
        "**2. Choosing an adequate sampling distribution**\n",
        "\n",
        "**3. Choosing the test significance**\n",
        "\n",
        "**4. Evaluate the test statistics**\n",
        "\n",
        "**5. Accept or reject the null hypothesis**\n",
        "\n",
        "Also, to choose which distribution to consider, we can look for the following sheet:\n",
        "\n",
        "<img src='https://caelum-online-public.s3.amazonaws.com/1229-estatistica-parte3/01/img003.png' width=70%>"
      ],
      "metadata": {
        "id": "E9fM-3-Zu1WL"
      }
    },
    {
      "cell_type": "markdown",
      "source": [
        "Now, we are going to practice with an exercise. In this problem, we will use our dataset:"
      ],
      "metadata": {
        "id": "udHmS5d0xoU8"
      }
    },
    {
      "cell_type": "code",
      "source": [
        "dataset"
      ],
      "metadata": {
        "colab": {
          "base_uri": "https://localhost:8080/",
          "height": 424
        },
        "id": "TSEY5ix64oLt",
        "outputId": "93137b2a-d403-4dfa-a5da-7243d9472c21"
      },
      "execution_count": 135,
      "outputs": [
        {
          "output_type": "execute_result",
          "data": {
            "text/plain": [
              "       UF  Sexo  Idade  Cor  Anos de Estudo  Renda    Altura\n",
              "0      11     0     23    8              12    800  1.603808\n",
              "1      11     1     23    2              12   1150  1.739790\n",
              "2      11     1     35    8              15    880  1.760444\n",
              "3      11     0     46    2               6   3500  1.783158\n",
              "4      11     1     47    8               9    150  1.690631\n",
              "...    ..   ...    ...  ...             ...    ...       ...\n",
              "76835  53     1     46    2              11    812  1.687030\n",
              "76836  53     0     30    4               7   1500  1.792934\n",
              "76837  53     0     32    8              12   1300  1.830587\n",
              "76838  53     0     57    8               4   1500  1.726344\n",
              "76839  53     0     38    8               4    900  1.658305\n",
              "\n",
              "[76840 rows x 7 columns]"
            ],
            "text/html": [
              "\n",
              "  <div id=\"df-efdaee21-720a-4cb7-bbae-849880194d02\">\n",
              "    <div class=\"colab-df-container\">\n",
              "      <div>\n",
              "<style scoped>\n",
              "    .dataframe tbody tr th:only-of-type {\n",
              "        vertical-align: middle;\n",
              "    }\n",
              "\n",
              "    .dataframe tbody tr th {\n",
              "        vertical-align: top;\n",
              "    }\n",
              "\n",
              "    .dataframe thead th {\n",
              "        text-align: right;\n",
              "    }\n",
              "</style>\n",
              "<table border=\"1\" class=\"dataframe\">\n",
              "  <thead>\n",
              "    <tr style=\"text-align: right;\">\n",
              "      <th></th>\n",
              "      <th>UF</th>\n",
              "      <th>Sexo</th>\n",
              "      <th>Idade</th>\n",
              "      <th>Cor</th>\n",
              "      <th>Anos de Estudo</th>\n",
              "      <th>Renda</th>\n",
              "      <th>Altura</th>\n",
              "    </tr>\n",
              "  </thead>\n",
              "  <tbody>\n",
              "    <tr>\n",
              "      <th>0</th>\n",
              "      <td>11</td>\n",
              "      <td>0</td>\n",
              "      <td>23</td>\n",
              "      <td>8</td>\n",
              "      <td>12</td>\n",
              "      <td>800</td>\n",
              "      <td>1.603808</td>\n",
              "    </tr>\n",
              "    <tr>\n",
              "      <th>1</th>\n",
              "      <td>11</td>\n",
              "      <td>1</td>\n",
              "      <td>23</td>\n",
              "      <td>2</td>\n",
              "      <td>12</td>\n",
              "      <td>1150</td>\n",
              "      <td>1.739790</td>\n",
              "    </tr>\n",
              "    <tr>\n",
              "      <th>2</th>\n",
              "      <td>11</td>\n",
              "      <td>1</td>\n",
              "      <td>35</td>\n",
              "      <td>8</td>\n",
              "      <td>15</td>\n",
              "      <td>880</td>\n",
              "      <td>1.760444</td>\n",
              "    </tr>\n",
              "    <tr>\n",
              "      <th>3</th>\n",
              "      <td>11</td>\n",
              "      <td>0</td>\n",
              "      <td>46</td>\n",
              "      <td>2</td>\n",
              "      <td>6</td>\n",
              "      <td>3500</td>\n",
              "      <td>1.783158</td>\n",
              "    </tr>\n",
              "    <tr>\n",
              "      <th>4</th>\n",
              "      <td>11</td>\n",
              "      <td>1</td>\n",
              "      <td>47</td>\n",
              "      <td>8</td>\n",
              "      <td>9</td>\n",
              "      <td>150</td>\n",
              "      <td>1.690631</td>\n",
              "    </tr>\n",
              "    <tr>\n",
              "      <th>...</th>\n",
              "      <td>...</td>\n",
              "      <td>...</td>\n",
              "      <td>...</td>\n",
              "      <td>...</td>\n",
              "      <td>...</td>\n",
              "      <td>...</td>\n",
              "      <td>...</td>\n",
              "    </tr>\n",
              "    <tr>\n",
              "      <th>76835</th>\n",
              "      <td>53</td>\n",
              "      <td>1</td>\n",
              "      <td>46</td>\n",
              "      <td>2</td>\n",
              "      <td>11</td>\n",
              "      <td>812</td>\n",
              "      <td>1.687030</td>\n",
              "    </tr>\n",
              "    <tr>\n",
              "      <th>76836</th>\n",
              "      <td>53</td>\n",
              "      <td>0</td>\n",
              "      <td>30</td>\n",
              "      <td>4</td>\n",
              "      <td>7</td>\n",
              "      <td>1500</td>\n",
              "      <td>1.792934</td>\n",
              "    </tr>\n",
              "    <tr>\n",
              "      <th>76837</th>\n",
              "      <td>53</td>\n",
              "      <td>0</td>\n",
              "      <td>32</td>\n",
              "      <td>8</td>\n",
              "      <td>12</td>\n",
              "      <td>1300</td>\n",
              "      <td>1.830587</td>\n",
              "    </tr>\n",
              "    <tr>\n",
              "      <th>76838</th>\n",
              "      <td>53</td>\n",
              "      <td>0</td>\n",
              "      <td>57</td>\n",
              "      <td>8</td>\n",
              "      <td>4</td>\n",
              "      <td>1500</td>\n",
              "      <td>1.726344</td>\n",
              "    </tr>\n",
              "    <tr>\n",
              "      <th>76839</th>\n",
              "      <td>53</td>\n",
              "      <td>0</td>\n",
              "      <td>38</td>\n",
              "      <td>8</td>\n",
              "      <td>4</td>\n",
              "      <td>900</td>\n",
              "      <td>1.658305</td>\n",
              "    </tr>\n",
              "  </tbody>\n",
              "</table>\n",
              "<p>76840 rows × 7 columns</p>\n",
              "</div>\n",
              "      <button class=\"colab-df-convert\" onclick=\"convertToInteractive('df-efdaee21-720a-4cb7-bbae-849880194d02')\"\n",
              "              title=\"Convert this dataframe to an interactive table.\"\n",
              "              style=\"display:none;\">\n",
              "        \n",
              "  <svg xmlns=\"http://www.w3.org/2000/svg\" height=\"24px\"viewBox=\"0 0 24 24\"\n",
              "       width=\"24px\">\n",
              "    <path d=\"M0 0h24v24H0V0z\" fill=\"none\"/>\n",
              "    <path d=\"M18.56 5.44l.94 2.06.94-2.06 2.06-.94-2.06-.94-.94-2.06-.94 2.06-2.06.94zm-11 1L8.5 8.5l.94-2.06 2.06-.94-2.06-.94L8.5 2.5l-.94 2.06-2.06.94zm10 10l.94 2.06.94-2.06 2.06-.94-2.06-.94-.94-2.06-.94 2.06-2.06.94z\"/><path d=\"M17.41 7.96l-1.37-1.37c-.4-.4-.92-.59-1.43-.59-.52 0-1.04.2-1.43.59L10.3 9.45l-7.72 7.72c-.78.78-.78 2.05 0 2.83L4 21.41c.39.39.9.59 1.41.59.51 0 1.02-.2 1.41-.59l7.78-7.78 2.81-2.81c.8-.78.8-2.07 0-2.86zM5.41 20L4 18.59l7.72-7.72 1.47 1.35L5.41 20z\"/>\n",
              "  </svg>\n",
              "      </button>\n",
              "      \n",
              "  <style>\n",
              "    .colab-df-container {\n",
              "      display:flex;\n",
              "      flex-wrap:wrap;\n",
              "      gap: 12px;\n",
              "    }\n",
              "\n",
              "    .colab-df-convert {\n",
              "      background-color: #E8F0FE;\n",
              "      border: none;\n",
              "      border-radius: 50%;\n",
              "      cursor: pointer;\n",
              "      display: none;\n",
              "      fill: #1967D2;\n",
              "      height: 32px;\n",
              "      padding: 0 0 0 0;\n",
              "      width: 32px;\n",
              "    }\n",
              "\n",
              "    .colab-df-convert:hover {\n",
              "      background-color: #E2EBFA;\n",
              "      box-shadow: 0px 1px 2px rgba(60, 64, 67, 0.3), 0px 1px 3px 1px rgba(60, 64, 67, 0.15);\n",
              "      fill: #174EA6;\n",
              "    }\n",
              "\n",
              "    [theme=dark] .colab-df-convert {\n",
              "      background-color: #3B4455;\n",
              "      fill: #D2E3FC;\n",
              "    }\n",
              "\n",
              "    [theme=dark] .colab-df-convert:hover {\n",
              "      background-color: #434B5C;\n",
              "      box-shadow: 0px 1px 3px 1px rgba(0, 0, 0, 0.15);\n",
              "      filter: drop-shadow(0px 1px 2px rgba(0, 0, 0, 0.3));\n",
              "      fill: #FFFFFF;\n",
              "    }\n",
              "  </style>\n",
              "\n",
              "      <script>\n",
              "        const buttonEl =\n",
              "          document.querySelector('#df-efdaee21-720a-4cb7-bbae-849880194d02 button.colab-df-convert');\n",
              "        buttonEl.style.display =\n",
              "          google.colab.kernel.accessAllowed ? 'block' : 'none';\n",
              "\n",
              "        async function convertToInteractive(key) {\n",
              "          const element = document.querySelector('#df-efdaee21-720a-4cb7-bbae-849880194d02');\n",
              "          const dataTable =\n",
              "            await google.colab.kernel.invokeFunction('convertToInteractive',\n",
              "                                                     [key], {});\n",
              "          if (!dataTable) return;\n",
              "\n",
              "          const docLinkHtml = 'Like what you see? Visit the ' +\n",
              "            '<a target=\"_blank\" href=https://colab.research.google.com/notebooks/data_table.ipynb>data table notebook</a>'\n",
              "            + ' to learn more about interactive tables.';\n",
              "          element.innerHTML = '';\n",
              "          dataTable['output_type'] = 'display_data';\n",
              "          await google.colab.output.renderOutput(dataTable, element);\n",
              "          const docLink = document.createElement('div');\n",
              "          docLink.innerHTML = docLinkHtml;\n",
              "          element.appendChild(docLink);\n",
              "        }\n",
              "      </script>\n",
              "    </div>\n",
              "  </div>\n",
              "  "
            ]
          },
          "metadata": {},
          "execution_count": 135
        }
      ]
    },
    {
      "cell_type": "markdown",
      "source": [
        "**You are a researcher who wants to study the differency in monthly income for Rio de Janeiro and São Paulo. During your research, you verified that the monthly income for workers from Rio is seemingly lower than those from São Paulo. To accept this hypothesis, perform a test of hypothesis for the difference between means for the sample of each state.**\n",
        "\n",
        "So, we have to:\n",
        "\n",
        "* Select two random samples with 500 workers each, one for each state.\n",
        "* Consider a significance level of 5%.\n",
        "* Test the hypothesis that the monthly income for Rio workers is lower than for São Paulo workers.\n",
        "\n"
      ],
      "metadata": {
        "id": "Fo8nKcaSyFTF"
      }
    },
    {
      "cell_type": "markdown",
      "source": [
        "First, let's select two random samples. It is important to remember that UF 33 corresponds to Rio de Janeiro, while UF 35 corresponds to São Paulo:"
      ],
      "metadata": {
        "id": "yxXtMLEOy3ty"
      }
    },
    {
      "cell_type": "code",
      "source": [
        "rj_income = dataset.query('UF == 33')[['UF', 'Renda']].sample(500, random_state = 101).reset_index(drop = True)\n",
        "sp_income = dataset.query('UF == 35')[['UF', 'Renda']].sample(500, random_state = 101).reset_index(drop = True)"
      ],
      "metadata": {
        "id": "apAN65TYx-7d"
      },
      "execution_count": 113,
      "outputs": []
    },
    {
      "cell_type": "markdown",
      "source": [
        "Let's append those datasets and draw a boxplot:"
      ],
      "metadata": {
        "id": "b4Zlhkggzs8s"
      }
    },
    {
      "cell_type": "code",
      "source": [
        "import seaborn as sns\n",
        "\n",
        "state_income = rj_income.append(sp_income)\n",
        "                           \n",
        "ax = sns.boxplot(x = 'Renda', y = 'UF', data = state_income, orient = 'h')\n",
        "ax.set(xlim=(0, 20000))"
      ],
      "metadata": {
        "colab": {
          "base_uri": "https://localhost:8080/",
          "height": 296
        },
        "id": "_Zo26fhBzKzR",
        "outputId": "e971e361-6367-454c-8d95-c39e1deb460c"
      },
      "execution_count": 114,
      "outputs": [
        {
          "output_type": "execute_result",
          "data": {
            "text/plain": [
              "[(0.0, 20000.0)]"
            ]
          },
          "metadata": {},
          "execution_count": 114
        },
        {
          "output_type": "display_data",
          "data": {
            "text/plain": [
              "<Figure size 432x288 with 1 Axes>"
            ],
            "image/png": "[encoded data removed]"
          },
          "metadata": {
            "needs_background": "light"
          }
        }
      ]
    },
    {
      "cell_type": "markdown",
      "source": [
        "Looking at the boxplot, the monthly income for São Paulo seems to be slightly higher. We can also see this by taking the mean:"
      ],
      "metadata": {
        "id": "pgcYu-MB07P1"
      }
    },
    {
      "cell_type": "code",
      "source": [
        "rj_mean = rj_income['Renda'].mean( )\n",
        "rj_mean"
      ],
      "metadata": {
        "colab": {
          "base_uri": "https://localhost:8080/"
        },
        "id": "Cd45xPbV0cx3",
        "outputId": "1207e3ee-84f3-4165-d868-14fb59ee719d"
      },
      "execution_count": 116,
      "outputs": [
        {
          "output_type": "execute_result",
          "data": {
            "text/plain": [
              "2240.518"
            ]
          },
          "metadata": {},
          "execution_count": 116
        }
      ]
    },
    {
      "cell_type": "code",
      "source": [
        "sp_mean = sp_income['Renda'].mean( )\n",
        "sp_mean"
      ],
      "metadata": {
        "colab": {
          "base_uri": "https://localhost:8080/"
        },
        "id": "DssosrNk0fKN",
        "outputId": "6df1eef2-cb88-42c2-d729-502e64120430"
      },
      "execution_count": 117,
      "outputs": [
        {
          "output_type": "execute_result",
          "data": {
            "text/plain": [
              "2839.352"
            ]
          },
          "metadata": {},
          "execution_count": 117
        }
      ]
    },
    {
      "cell_type": "markdown",
      "source": [
        "To test it, let's use a Hypothesis test. So, let's follow each phase:"
      ],
      "metadata": {
        "id": "XXWzdwid1TgI"
      }
    },
    {
      "cell_type": "markdown",
      "source": [
        "**1. Formulation of the hypothesis**\n",
        "\n",
        "We will test the hypothesis that the monthly income for Rio workers is lower than the monthly income for São Paulo workers. Thus, our hypothesis are:\n",
        "\n",
        "\\begin{equation}\n",
        "H_0 : \\mu_1 - \\mu_2 \\geq 0\n",
        "\\end{equation}\n",
        "\n",
        "\\begin{equation}\n",
        "H_1 : \\mu_1 - \\mu_2 < 0\n",
        "\\end{equation}\n",
        "\n",
        "where, here, index $1$ is related to Rio and $2$ is related to São Paulo.\n",
        "\n",
        "**2. Choosing an adequate sampling distribution**\n",
        "\n",
        "Since we have a high number of data points (500 for each sample), we will use a Normal distribution.\n",
        "\n",
        "**3. Choosing the test significance**\n",
        "\n",
        "The test significance will be 5%."
      ],
      "metadata": {
        "id": "8ytnvIU51dNF"
      }
    },
    {
      "cell_type": "code",
      "source": [
        "significance = 0.05"
      ],
      "metadata": {
        "id": "8xQbICSJ3O3m"
      },
      "execution_count": 130,
      "outputs": []
    },
    {
      "cell_type": "markdown",
      "source": [
        "\n",
        "\n",
        "**4. Evaluate the test statistics**\n",
        "\n",
        "We can evaluate the test statistics by:"
      ],
      "metadata": {
        "id": "SBQgrCnO3OQC"
      }
    },
    {
      "cell_type": "code",
      "source": [
        "from statsmodels.stats.weightstats import DescrStatsW, CompareMeans\n",
        "\n",
        "test_rj = DescrStatsW(rj_income['Renda'])\n",
        "test_sp = DescrStatsW(sp_income['Renda'])\n",
        "\n",
        "D_0 = 0"
      ],
      "metadata": {
        "id": "_7zv5Kxf2ZsL"
      },
      "execution_count": 136,
      "outputs": []
    },
    {
      "cell_type": "code",
      "source": [
        "test = CompareMeans(test_rj, test_sp)"
      ],
      "metadata": {
        "id": "SHkejfWv2ZsM"
      },
      "execution_count": 137,
      "outputs": []
    },
    {
      "cell_type": "code",
      "source": [
        "test.ztest_ind(alternative = \"smaller\", value = D_0)"
      ],
      "metadata": {
        "colab": {
          "base_uri": "https://localhost:8080/"
        },
        "outputId": "2301e7dd-f178-4fe9-e738-32d985bff078",
        "id": "qrFQO5Rv2ZsM"
      },
      "execution_count": 138,
      "outputs": [
        {
          "output_type": "execute_result",
          "data": {
            "text/plain": [
              "(-2.255318273608558, 0.012056679215693396)"
            ]
          },
          "metadata": {},
          "execution_count": 138
        }
      ]
    },
    {
      "cell_type": "markdown",
      "source": [
        "So, we have a $z = -2.255$. Considering our significance level:"
      ],
      "metadata": {
        "id": "-yGkKz1_28bu"
      }
    },
    {
      "cell_type": "code",
      "source": [
        "z_alpha = norm.ppf(significance)\n",
        "z_alpha"
      ],
      "metadata": {
        "colab": {
          "base_uri": "https://localhost:8080/"
        },
        "id": "lpI0BsvF3CjR",
        "outputId": "ce1c2dd9-52ac-4abe-b927-acfbf87fe294"
      },
      "execution_count": 140,
      "outputs": [
        {
          "output_type": "execute_result",
          "data": {
            "text/plain": [
              "-1.6448536269514729"
            ]
          },
          "metadata": {},
          "execution_count": 140
        }
      ]
    },
    {
      "cell_type": "markdown",
      "source": [
        "\n",
        "\n",
        "**5. Accept or reject the null hypothesis**"
      ],
      "metadata": {
        "id": "WPqHzoJU2Tnt"
      }
    },
    {
      "cell_type": "markdown",
      "source": [
        "Thus, since $|z|$ is higher than $z_\\alpha$, we reject the null hypothesis. We also come to the same conclusion by analyzing the p-value, which is lower than the test significance ($p = 0.012$)."
      ],
      "metadata": {
        "id": "fP9_t-VZ3nxk"
      }
    }
  ]
}