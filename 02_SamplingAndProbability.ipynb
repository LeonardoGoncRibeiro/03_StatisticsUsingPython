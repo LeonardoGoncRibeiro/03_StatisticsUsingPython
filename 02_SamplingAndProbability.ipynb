{
  "nbformat": 4,
  "nbformat_minor": 0,
  "metadata": {
    "colab": {
      "name": "02_SamplingAndProbability.ipynb",
      "provenance": [],
      "collapsed_sections": [],
      "toc_visible": true,
      "authorship_tag": "ABX9TyP7gG+SKZRDzreLBmAl8pzx",
      "include_colab_link": true
    },
    "kernelspec": {
      "name": "python3",
      "display_name": "Python 3"
    },
    "language_info": {
      "name": "python"
    }
  },
  "cells": [
    {
      "cell_type": "markdown",
      "metadata": {
        "id": "view-in-github",
        "colab_type": "text"
      },
      "source": [
        "<a href=\"https://colab.research.google.com/github/LeonardoGoncRibeiro/03_StatisticsUsingPython/blob/main/02_SamplingAndProbability.ipynb\" target=\"_parent\"><img src=\"https://colab.research.google.com/assets/colab-badge.svg\" alt=\"Open In Colab\"/></a>"
      ]
    },
    {
      "cell_type": "markdown",
      "source": [
        "# Statistics Using Python: Sampling and Probability\n",
        "\n",
        "In this course, we will discuss more about sampling techniques and probability theory. We will understand what are probability distributions and how to measure a confidence interval. Then, we will get to know some sampling techniques, as well as understand how to evaluate an appropriate sampling size."
      ],
      "metadata": {
        "id": "lRceRLMMk3iA"
      }
    },
    {
      "cell_type": "markdown",
      "source": [
        "In this project, we will use a dataset from PNAD 2015. First, let's import this data using:"
      ],
      "metadata": {
        "id": "FWth0Qkll8MJ"
      }
    },
    {
      "cell_type": "code",
      "execution_count": 2,
      "metadata": {
        "colab": {
          "base_uri": "https://localhost:8080/",
          "height": 206
        },
        "id": "mZc6o72_krZG",
        "outputId": "717c7646-f6ae-4b2f-cab0-95beb727bc9a"
      },
      "outputs": [
        {
          "output_type": "execute_result",
          "data": {
            "text/plain": [
              "   UF  Sexo  Idade  Cor  Anos de Estudo  Renda    Altura\n",
              "0  11     0     23    8              12    800  1.603808\n",
              "1  11     1     23    2              12   1150  1.739790\n",
              "2  11     1     35    8              15    880  1.760444\n",
              "3  11     0     46    2               6   3500  1.783158\n",
              "4  11     1     47    8               9    150  1.690631"
            ],
            "text/html": [
              "\n",
              "  <div id=\"df-39721b23-8814-4d9d-83e2-a76431e8c554\">\n",
              "    <div class=\"colab-df-container\">\n",
              "      <div>\n",
              "<style scoped>\n",
              "    .dataframe tbody tr th:only-of-type {\n",
              "        vertical-align: middle;\n",
              "    }\n",
              "\n",
              "    .dataframe tbody tr th {\n",
              "        vertical-align: top;\n",
              "    }\n",
              "\n",
              "    .dataframe thead th {\n",
              "        text-align: right;\n",
              "    }\n",
              "</style>\n",
              "<table border=\"1\" class=\"dataframe\">\n",
              "  <thead>\n",
              "    <tr style=\"text-align: right;\">\n",
              "      <th></th>\n",
              "      <th>UF</th>\n",
              "      <th>Sexo</th>\n",
              "      <th>Idade</th>\n",
              "      <th>Cor</th>\n",
              "      <th>Anos de Estudo</th>\n",
              "      <th>Renda</th>\n",
              "      <th>Altura</th>\n",
              "    </tr>\n",
              "  </thead>\n",
              "  <tbody>\n",
              "    <tr>\n",
              "      <th>0</th>\n",
              "      <td>11</td>\n",
              "      <td>0</td>\n",
              "      <td>23</td>\n",
              "      <td>8</td>\n",
              "      <td>12</td>\n",
              "      <td>800</td>\n",
              "      <td>1.603808</td>\n",
              "    </tr>\n",
              "    <tr>\n",
              "      <th>1</th>\n",
              "      <td>11</td>\n",
              "      <td>1</td>\n",
              "      <td>23</td>\n",
              "      <td>2</td>\n",
              "      <td>12</td>\n",
              "      <td>1150</td>\n",
              "      <td>1.739790</td>\n",
              "    </tr>\n",
              "    <tr>\n",
              "      <th>2</th>\n",
              "      <td>11</td>\n",
              "      <td>1</td>\n",
              "      <td>35</td>\n",
              "      <td>8</td>\n",
              "      <td>15</td>\n",
              "      <td>880</td>\n",
              "      <td>1.760444</td>\n",
              "    </tr>\n",
              "    <tr>\n",
              "      <th>3</th>\n",
              "      <td>11</td>\n",
              "      <td>0</td>\n",
              "      <td>46</td>\n",
              "      <td>2</td>\n",
              "      <td>6</td>\n",
              "      <td>3500</td>\n",
              "      <td>1.783158</td>\n",
              "    </tr>\n",
              "    <tr>\n",
              "      <th>4</th>\n",
              "      <td>11</td>\n",
              "      <td>1</td>\n",
              "      <td>47</td>\n",
              "      <td>8</td>\n",
              "      <td>9</td>\n",
              "      <td>150</td>\n",
              "      <td>1.690631</td>\n",
              "    </tr>\n",
              "  </tbody>\n",
              "</table>\n",
              "</div>\n",
              "      <button class=\"colab-df-convert\" onclick=\"convertToInteractive('df-39721b23-8814-4d9d-83e2-a76431e8c554')\"\n",
              "              title=\"Convert this dataframe to an interactive table.\"\n",
              "              style=\"display:none;\">\n",
              "        \n",
              "  <svg xmlns=\"http://www.w3.org/2000/svg\" height=\"24px\"viewBox=\"0 0 24 24\"\n",
              "       width=\"24px\">\n",
              "    <path d=\"M0 0h24v24H0V0z\" fill=\"none\"/>\n",
              "    <path d=\"M18.56 5.44l.94 2.06.94-2.06 2.06-.94-2.06-.94-.94-2.06-.94 2.06-2.06.94zm-11 1L8.5 8.5l.94-2.06 2.06-.94-2.06-.94L8.5 2.5l-.94 2.06-2.06.94zm10 10l.94 2.06.94-2.06 2.06-.94-2.06-.94-.94-2.06-.94 2.06-2.06.94z\"/><path d=\"M17.41 7.96l-1.37-1.37c-.4-.4-.92-.59-1.43-.59-.52 0-1.04.2-1.43.59L10.3 9.45l-7.72 7.72c-.78.78-.78 2.05 0 2.83L4 21.41c.39.39.9.59 1.41.59.51 0 1.02-.2 1.41-.59l7.78-7.78 2.81-2.81c.8-.78.8-2.07 0-2.86zM5.41 20L4 18.59l7.72-7.72 1.47 1.35L5.41 20z\"/>\n",
              "  </svg>\n",
              "      </button>\n",
              "      \n",
              "  <style>\n",
              "    .colab-df-container {\n",
              "      display:flex;\n",
              "      flex-wrap:wrap;\n",
              "      gap: 12px;\n",
              "    }\n",
              "\n",
              "    .colab-df-convert {\n",
              "      background-color: #E8F0FE;\n",
              "      border: none;\n",
              "      border-radius: 50%;\n",
              "      cursor: pointer;\n",
              "      display: none;\n",
              "      fill: #1967D2;\n",
              "      height: 32px;\n",
              "      padding: 0 0 0 0;\n",
              "      width: 32px;\n",
              "    }\n",
              "\n",
              "    .colab-df-convert:hover {\n",
              "      background-color: #E2EBFA;\n",
              "      box-shadow: 0px 1px 2px rgba(60, 64, 67, 0.3), 0px 1px 3px 1px rgba(60, 64, 67, 0.15);\n",
              "      fill: #174EA6;\n",
              "    }\n",
              "\n",
              "    [theme=dark] .colab-df-convert {\n",
              "      background-color: #3B4455;\n",
              "      fill: #D2E3FC;\n",
              "    }\n",
              "\n",
              "    [theme=dark] .colab-df-convert:hover {\n",
              "      background-color: #434B5C;\n",
              "      box-shadow: 0px 1px 3px 1px rgba(0, 0, 0, 0.15);\n",
              "      filter: drop-shadow(0px 1px 2px rgba(0, 0, 0, 0.3));\n",
              "      fill: #FFFFFF;\n",
              "    }\n",
              "  </style>\n",
              "\n",
              "      <script>\n",
              "        const buttonEl =\n",
              "          document.querySelector('#df-39721b23-8814-4d9d-83e2-a76431e8c554 button.colab-df-convert');\n",
              "        buttonEl.style.display =\n",
              "          google.colab.kernel.accessAllowed ? 'block' : 'none';\n",
              "\n",
              "        async function convertToInteractive(key) {\n",
              "          const element = document.querySelector('#df-39721b23-8814-4d9d-83e2-a76431e8c554');\n",
              "          const dataTable =\n",
              "            await google.colab.kernel.invokeFunction('convertToInteractive',\n",
              "                                                     [key], {});\n",
              "          if (!dataTable) return;\n",
              "\n",
              "          const docLinkHtml = 'Like what you see? Visit the ' +\n",
              "            '<a target=\"_blank\" href=https://colab.research.google.com/notebooks/data_table.ipynb>data table notebook</a>'\n",
              "            + ' to learn more about interactive tables.';\n",
              "          element.innerHTML = '';\n",
              "          dataTable['output_type'] = 'display_data';\n",
              "          await google.colab.output.renderOutput(dataTable, element);\n",
              "          const docLink = document.createElement('div');\n",
              "          docLink.innerHTML = docLinkHtml;\n",
              "          element.appendChild(docLink);\n",
              "        }\n",
              "      </script>\n",
              "    </div>\n",
              "  </div>\n",
              "  "
            ]
          },
          "metadata": {},
          "execution_count": 2
        }
      ],
      "source": [
        "import pandas as pd\n",
        "\n",
        "dataset = pd.read_csv('dados.csv')\n",
        "\n",
        "dataset.head( )"
      ]
    },
    {
      "cell_type": "markdown",
      "source": [
        "In this dataset, we have information regarding:\n",
        "\n",
        "*   State from Brazil (UF)\n",
        "*   Sex (Sexo)\n",
        "*   Age (Idade)\n",
        "*   Color (Cor)\n",
        "*   Years of study (Anos de estudo)\n",
        "*   Monthly income (Renda)\n",
        "*   Height (Altura)\n",
        "\n",
        "For some of these, our data is encoded. The code can be seen in the following:\n"
      ],
      "metadata": {
        "id": "8Wgfo0TLm6Ht"
      }
    },
    {
      "cell_type": "markdown",
      "source": [
        "**State from Brazil:**"
      ],
      "metadata": {
        "id": "N_PBLENbm-l9"
      }
    },
    {
      "cell_type": "code",
      "source": [
        "map_state = {11: \"Rondônia\",\n",
        "             12: \"Acre\",\n",
        "             13: \"Amazonas\",\n",
        "             14: \"Roraima\",\n",
        "             15: \"Pará\",\n",
        "             16: \"Amapá\",\n",
        "             17: \"Tocantins\",\n",
        "             21: \"Maranhão\",\n",
        "             22: \"Piauí\",\n",
        "             23: \"Ceará\",\n",
        "             24: \"Rio Grande do Norte\",\n",
        "             25: \"Paraíba\",\n",
        "             26: \"Pernambuco\",\n",
        "             27: \"Alagoas\",\n",
        "             28: \"Sergipe\",\n",
        "             29: \"Bahia\",\n",
        "             31: \"Minas Gerais\",\n",
        "             32: \"Espírito Santo\",\n",
        "             33: \"Rio de Janeiro\",\n",
        "             35: \"São Paulo\",\n",
        "             41: \"Paraná\",\n",
        "             42: \"Santa Catarina\",\n",
        "             43: \"Rio Grande do Sul\",\n",
        "             50: \"Mato Grosso do Sul\",\n",
        "             51: \"Mato Grosso\",\n",
        "             52: \"Goiás\",\n",
        "             53: \"Distrito Federal\"}"
      ],
      "metadata": {
        "id": "NMQzJQ-gm1ky"
      },
      "execution_count": 3,
      "outputs": []
    },
    {
      "cell_type": "markdown",
      "source": [
        "**Sex:**"
      ],
      "metadata": {
        "id": "kbqkdYLgUOLy"
      }
    },
    {
      "cell_type": "code",
      "source": [
        "map_sex = {0: \"M\",\n",
        "           1: \"F\"}"
      ],
      "metadata": {
        "id": "H7PiTd8PUO58"
      },
      "execution_count": null,
      "outputs": []
    },
    {
      "cell_type": "markdown",
      "source": [
        "**Years of study:**"
      ],
      "metadata": {
        "id": "4eklGujAUZSm"
      }
    },
    {
      "cell_type": "code",
      "source": [
        "map_years_study = {1 : \"0 years\",\n",
        "                   2 : \"1 year\",\n",
        "                   3 : \"2 years\",\n",
        "                   4 : \"3 years\",\n",
        "                   5 : \"4 years\",\n",
        "                   6 : \"5 years\",\n",
        "                   7 : \"6 years\",\n",
        "                   8 : \"7 years\",\n",
        "                   9 : \"8 years\",\n",
        "                   10: \"9 years\",\n",
        "                   11: \"10 years\",\n",
        "                   12: \"11 years\",\n",
        "                   13: \"12 years\",\n",
        "                   14: \"13 years\",\n",
        "                   15: \"14 years\",\n",
        "                   16: \"15 years\",\n",
        "                   17: \"Not found\",\n",
        "                   18: \"Not aplicable\"}"
      ],
      "metadata": {
        "id": "uaUspa7OUWYq"
      },
      "execution_count": null,
      "outputs": []
    },
    {
      "cell_type": "markdown",
      "source": [
        "**Color:**"
      ],
      "metadata": {
        "id": "JAwgKhx-VLxg"
      }
    },
    {
      "cell_type": "code",
      "source": [
        "map_color = {0: \"Indigenous\",\n",
        "             2: \"White\",\n",
        "             4: \"Black\",\n",
        "             6: \"Yellow\",\n",
        "             8: \"Pardo\",\n",
        "             9: \"Not declared\"}"
      ],
      "metadata": {
        "id": "AhOB5IBRVJU9"
      },
      "execution_count": null,
      "outputs": []
    },
    {
      "cell_type": "markdown",
      "source": [
        "This dataset can be found from IBGE website. However, some data treatment was performed before:\n",
        "\n",
        "\n",
        "*   Invalid entries for monthly income were eliminated (999 999 999 999).\n",
        "*   Missing entries for monthly income were eliminated.\n",
        "*   We considered only data from a person of reference in each house.\n"
      ],
      "metadata": {
        "id": "eUvpLeLBZl36"
      }
    },
    {
      "cell_type": "markdown",
      "source": [
        "# Probability Distributions\n",
        "\n",
        "When we work with random variables, we usually deal with probability distributions. These distributions define \"probabilities of occurrence of different possible outcomes for an experiment\". More about Probability Distributions can be found in:\n",
        "\n",
        "https://en.wikipedia.org/wiki/Probability_distribution\n",
        "\n",
        "Here, we will take a look at the three most popular PDs: Binominal, Poisson and Normal."
      ],
      "metadata": {
        "id": "-Pcd5y8tnJgH"
      }
    },
    {
      "cell_type": "markdown",
      "source": [
        "## Binomial distribution\n",
        "\n",
        "A binomial distribution is characterized by the possibility of only two different outcomes, denominated as Success (1) or Failure (0). For instance, if we toss a coin, and can either be heads or tails. In statistics, probability using the binomial distribution can be evaluated by:\n",
        "\n",
        "\\begin{equation}\n",
        "P(k)=\\left(\\begin{array}{l}\n",
        "n \\\\\n",
        "k\n",
        "\\end{array}\\right) p^{k} q^{n-k}\n",
        "\\end{equation}\n",
        "where $p$ is the probability of success, $q = (1 - p)$ is the probability of failure, $n$ is the number of possible outcomes, and $k$ is the number of events with a good outcome (success).\n"
      ],
      "metadata": {
        "id": "x_MpE1mVn5dk"
      }
    },
    {
      "cell_type": "markdown",
      "source": [
        "Note that, for the binomial distribution to work, we have some premises:\n",
        "* All tests are identical.\n",
        "* All tests are independent.\n",
        "* There are only two possible outcomes in each test (success or failure).\n",
        "* All tests have the same $p$ and $q$."
      ],
      "metadata": {
        "id": "ZgK_-BNJqKtM"
      }
    },
    {
      "cell_type": "markdown",
      "source": [
        "The mean and the standard deviation for the binomial distribution can be evaluated by:\n",
        "\n",
        "\\begin{equation}\n",
        "\\mu = n \\, p\n",
        "\\end{equation}\n",
        "\n",
        "\\begin{equation}\n",
        "\\sigma = (n \\, p \\, q)^{0.5}\n",
        "\\end{equation}"
      ],
      "metadata": {
        "id": "PMriKUd5qksN"
      }
    },
    {
      "cell_type": "markdown",
      "source": [
        "### Example: Binomial distribution"
      ],
      "metadata": {
        "id": "uT11VP6arCh8"
      }
    },
    {
      "cell_type": "markdown",
      "source": [
        "\n",
        "\n",
        "For instance, if a student does not know the answer of an objective problem with 5 items, the probability of success and the probability of failure are:\n",
        "\\begin{equation}\n",
        "p = \\dfrac{1}{5} = 0.20 \\quad \\text{ and } \\quad q = (1 - p) = 0.80\n",
        "\\end{equation}\n",
        "\n",
        "If there are 10 problems in the test and the student has to choose the correct answer in 7 of them, the probability of passing the test can be evaluated as:\n",
        "\n",
        "\\begin{equation}\n",
        "P(7)=\\left(\\begin{array}{l}\n",
        "10 \\\\\n",
        "\\, \\, 7\n",
        "\\end{array}\\right) 0.20^{7} \\, 0.80^{3}\n",
        "\\end{equation}\n",
        "\n",
        "First, let's evaluate the combination, which denote the number of possible outcomes:"
      ],
      "metadata": {
        "id": "DsrePI6frBAM"
      }
    },
    {
      "cell_type": "code",
      "source": [
        "from scipy.special import comb\n",
        "C = comb(10, 7)\n",
        "C"
      ],
      "metadata": {
        "colab": {
          "base_uri": "https://localhost:8080/"
        },
        "id": "PPnc3BkjqD9f",
        "outputId": "1a36bd29-d6c1-4fd5-e076-28ebc39924ee"
      },
      "execution_count": 8,
      "outputs": [
        {
          "output_type": "execute_result",
          "data": {
            "text/plain": [
              "120.0"
            ]
          },
          "metadata": {},
          "execution_count": 8
        }
      ]
    },
    {
      "cell_type": "markdown",
      "source": [
        "Then, lets evaluate the probability:"
      ],
      "metadata": {
        "id": "AbsVNFidrtzn"
      }
    },
    {
      "cell_type": "code",
      "source": [
        "print(f\"The probability is {round(C*(0.20**7)*(0.80**3)*100, 3)}%\")"
      ],
      "metadata": {
        "colab": {
          "base_uri": "https://localhost:8080/"
        },
        "id": "AerahNFzroM8",
        "outputId": "8d441ba8-ccb1-4e47-f1dd-07fdcf7c6a46"
      },
      "execution_count": 12,
      "outputs": [
        {
          "output_type": "stream",
          "name": "stdout",
          "text": [
            "The probability is 0.079%\n"
          ]
        }
      ]
    },
    {
      "cell_type": "markdown",
      "source": [
        "So, it is very unlikely that the student passes without knowing anything about the test ($P = 0.079\\%$). But what if he only needs to hit 5 of the 10 problems, and if there are only 4 options in each problem?"
      ],
      "metadata": {
        "id": "hv9FovYlsDxO"
      }
    },
    {
      "cell_type": "code",
      "source": [
        "C = comb(10, 5)\n",
        "\n",
        "print(f\"The probability is {round(C*((1/4)**5)*((3/4)**5)*100, 3)}%\")"
      ],
      "metadata": {
        "colab": {
          "base_uri": "https://localhost:8080/"
        },
        "id": "7WRx5DbSrzGT",
        "outputId": "38b53ea0-a921-4186-9d01-feadf722794c"
      },
      "execution_count": 14,
      "outputs": [
        {
          "output_type": "stream",
          "name": "stdout",
          "text": [
            "The probability is 5.84%\n"
          ]
        }
      ]
    },
    {
      "cell_type": "markdown",
      "source": [
        "The probability greatly increases, as it is now easier for the student to pass the test."
      ],
      "metadata": {
        "id": "y50mvwF1sdx1"
      }
    },
    {
      "cell_type": "markdown",
      "source": [
        "Note that the binomial distribution can also be evaluated using the Probability Mass Function (PMF) for the *binom( )* function.\n",
        "\n",
        "https://docs.scipy.org/doc/scipy/reference/generated/scipy.stats.binom.html"
      ],
      "metadata": {
        "id": "28NFm5E2ua0v"
      }
    },
    {
      "cell_type": "code",
      "source": [
        "from scipy.stats import binom\n",
        "\n",
        "k = 7\n",
        "n = 10\n",
        "p = 0.20\n",
        "\n",
        "print(f\"The probability is {round(binom.pmf(k, n, p)*100, 3)}%\")\n",
        "\n"
      ],
      "metadata": {
        "colab": {
          "base_uri": "https://localhost:8080/"
        },
        "id": "UYe1GiOes7Va",
        "outputId": "ec941d9c-4107-483c-9428-22aaaa019451"
      },
      "execution_count": 19,
      "outputs": [
        {
          "output_type": "stream",
          "name": "stdout",
          "text": [
            "The probability is 0.079%\n"
          ]
        }
      ]
    },
    {
      "cell_type": "markdown",
      "source": [
        "Now, we actually made a mistake here: when we consider $k = 7$, we are evaluating the probability of the candidate hitting exactly 7 problems. However, the student also passes if he hits 8, 9 or 10 problems. Thus, the probability of the student passing is actually:"
      ],
      "metadata": {
        "id": "ry8pr1DzvDjA"
      }
    },
    {
      "cell_type": "code",
      "source": [
        "n = 10\n",
        "p = 0.20\n",
        "\n",
        "P7  = binom.pmf(7 , n, p)\n",
        "P8  = binom.pmf(8 , n, p)\n",
        "P9  = binom.pmf(9 , n, p)\n",
        "P10 = binom.pmf(10, n, p)\n",
        "\n",
        "print(f\"The probability is {round((P7 + P8 + P9 + P10)*100, 3)}%\")"
      ],
      "metadata": {
        "colab": {
          "base_uri": "https://localhost:8080/"
        },
        "id": "1fFgrmqTu5d_",
        "outputId": "5796c337-9291-425e-c2e1-08918a96993e"
      },
      "execution_count": 20,
      "outputs": [
        {
          "output_type": "stream",
          "name": "stdout",
          "text": [
            "The probability is 0.086%\n"
          ]
        }
      ]
    },
    {
      "cell_type": "markdown",
      "source": [
        "So, the probability is actually slightly higher. Another option is to pass a list when calling the PMF, and then add the values from the list:"
      ],
      "metadata": {
        "id": "97-d6oCDvlFg"
      }
    },
    {
      "cell_type": "code",
      "source": [
        "Ps = binom.pmf([7, 8, 9, 10], n, p)\n",
        "Ps"
      ],
      "metadata": {
        "colab": {
          "base_uri": "https://localhost:8080/"
        },
        "id": "PGy4HpzHvj9E",
        "outputId": "051c0b14-11a5-49cb-8c09-c31e3e411104"
      },
      "execution_count": 21,
      "outputs": [
        {
          "output_type": "execute_result",
          "data": {
            "text/plain": [
              "array([7.86432e-04, 7.37280e-05, 4.09600e-06, 1.02400e-07])"
            ]
          },
          "metadata": {},
          "execution_count": 21
        }
      ]
    },
    {
      "cell_type": "code",
      "source": [
        "Psum = sum(Ps)\n",
        "\n",
        "print(f\"The probability is {round(Psum*100, 3)}%\")"
      ],
      "metadata": {
        "colab": {
          "base_uri": "https://localhost:8080/"
        },
        "id": "kIBblwhFwAMt",
        "outputId": "fb2887b3-e74d-4731-9596-d481147031fa"
      },
      "execution_count": 22,
      "outputs": [
        {
          "output_type": "stream",
          "name": "stdout",
          "text": [
            "The probability is 0.086%\n"
          ]
        }
      ]
    },
    {
      "cell_type": "markdown",
      "source": [
        "Great! We returned the same result. However, the best approach is to actually use the Cumulative Distribution Function (CDF):"
      ],
      "metadata": {
        "id": "gzuxgiQhwHAr"
      }
    },
    {
      "cell_type": "code",
      "source": [
        "binom.cdf(6, n, p)"
      ],
      "metadata": {
        "colab": {
          "base_uri": "https://localhost:8080/"
        },
        "id": "mzKTTd2bwFmn",
        "outputId": "d04f3a5e-f565-40cf-97cc-224ad618cf51"
      },
      "execution_count": 23,
      "outputs": [
        {
          "output_type": "execute_result",
          "data": {
            "text/plain": [
              "0.9991356416"
            ]
          },
          "metadata": {},
          "execution_count": 23
        }
      ]
    },
    {
      "cell_type": "markdown",
      "source": [
        "This function gives the cumulative probability, that is, the probability of the student hitting 0, 1, 2, 3, 4, 5, or 6 problems. Since we want to get the probability of the student hitting 7 or more problems, we simply do:"
      ],
      "metadata": {
        "id": "eJk4pNlEwX5t"
      }
    },
    {
      "cell_type": "code",
      "source": [
        "print(f\"The probability is {round((1 - binom.cdf(6, n, p))*100, 3)}%\")"
      ],
      "metadata": {
        "colab": {
          "base_uri": "https://localhost:8080/"
        },
        "id": "FMQTLJZgwXId",
        "outputId": "d61d49d9-82ee-4e02-a36f-a58f005cda22"
      },
      "execution_count": 24,
      "outputs": [
        {
          "output_type": "stream",
          "name": "stdout",
          "text": [
            "The probability is 0.086%\n"
          ]
        }
      ]
    },
    {
      "cell_type": "markdown",
      "source": [
        "Or we can simply use the Survival Function, which is actually 1 - CDF:"
      ],
      "metadata": {
        "id": "EjVq6Mz1wqWG"
      }
    },
    {
      "cell_type": "code",
      "source": [
        "print(f\"The probability is {round((binom.sf(6, n, p))*100, 3)}%\")"
      ],
      "metadata": {
        "colab": {
          "base_uri": "https://localhost:8080/"
        },
        "id": "f-9mluTrwpOq",
        "outputId": "86ea857f-9ddc-411f-ccc6-aa7d384cbf3c"
      },
      "execution_count": 27,
      "outputs": [
        {
          "output_type": "stream",
          "name": "stdout",
          "text": [
            "The probability is 0.086%\n"
          ]
        }
      ]
    },
    {
      "cell_type": "markdown",
      "source": [
        "Great! Everything worked out."
      ],
      "metadata": {
        "id": "c_h3-lPTxAdV"
      }
    },
    {
      "cell_type": "markdown",
      "source": [
        "Now, what is the average number of problems this student will do? We can use the equation for the mean of the binomial distribution:"
      ],
      "metadata": {
        "id": "STs95nZhznYa"
      }
    },
    {
      "cell_type": "code",
      "source": [
        "n = 10\n",
        "p = 0.20\n",
        "\n",
        "mean_bin = n*p\n",
        "mean_bin"
      ],
      "metadata": {
        "colab": {
          "base_uri": "https://localhost:8080/"
        },
        "id": "8FZmsTfFziZa",
        "outputId": "01d5bbd7-5487-40fc-d5fb-4262d9f358a1"
      },
      "execution_count": 32,
      "outputs": [
        {
          "output_type": "execute_result",
          "data": {
            "text/plain": [
              "2.0"
            ]
          },
          "metadata": {},
          "execution_count": 32
        }
      ]
    },
    {
      "cell_type": "markdown",
      "source": [
        "So, on average, the student will hit 2 problems. This result follows the intuition. \n",
        "\n",
        "And what is the standard deviation?"
      ],
      "metadata": {
        "id": "PlwFzBrkzzkc"
      }
    },
    {
      "cell_type": "code",
      "source": [
        "q = 1 - p\n",
        "\n",
        "std_bin = (n*p*q)**0.5\n",
        "std_bin"
      ],
      "metadata": {
        "colab": {
          "base_uri": "https://localhost:8080/"
        },
        "id": "HxyiJeYNzzAa",
        "outputId": "ffafd192-1ced-4f90-8156-a9709bc9b841"
      },
      "execution_count": 34,
      "outputs": [
        {
          "output_type": "execute_result",
          "data": {
            "text/plain": [
              "1.2649110640673518"
            ]
          },
          "metadata": {},
          "execution_count": 34
        }
      ]
    },
    {
      "cell_type": "markdown",
      "source": [
        "## Poisson distribution\n",
        "\n",
        "The Poisson distribution is used to find the **number of occurrences** in a time interval. The events are evaluated by counting the successes in this interval. The Poisson distribution is a discrete probability distribution. The Poisson distribution can be evalauted by:\n",
        "\n",
        "\\begin{equation}\n",
        "P(k)=\\frac{e^{-\\mu}(\\mu)^{k}}{k !}\n",
        "\\end{equation}\n",
        "where $e$ is the Euler's constant, $\\mu$ is the mean number of occurrences in a given time interval, and $k$ is the number of successes.\n",
        "\n"
      ],
      "metadata": {
        "id": "DiJhxJx_1Xv_"
      }
    },
    {
      "cell_type": "markdown",
      "source": [
        "Note that, for the Poisson distribution to work, we have some premises:\n",
        "* Probability of occurrence is the same in the entire interval.\n",
        "* Number of occurrences in a given interval is independent of the number of occurrences in other interval.\n",
        "* Probability of occurrence is the same in intervals of the same size."
      ],
      "metadata": {
        "id": "UtOzKp5C2zqo"
      }
    },
    {
      "cell_type": "markdown",
      "source": [
        "The mean and the standard deviation for the Poisson distribution can be evaluated by:\n",
        "\n",
        "\\begin{equation}\n",
        "\\mu = \\mu\n",
        "\\end{equation}\n",
        "\n",
        "\\begin{equation}\n",
        "\\sigma = \\mu^{0.5}\n",
        "\\end{equation}\n",
        "\n",
        "Note that $\\mu$ is a parameter for the Poisson distribution, and has to be evaluated beforehand."
      ],
      "metadata": {
        "id": "Y9AxK-wl2zqx"
      }
    },
    {
      "cell_type": "markdown",
      "source": [
        "### Example: Poisson distribution\n",
        "\n",
        "Let's say that our restaurant receives, on average, 20 orders per hour. What is the probability that our restaurant gets 15 orders in a given hour?"
      ],
      "metadata": {
        "id": "AxGT7n9F3Rw9"
      }
    },
    {
      "cell_type": "code",
      "source": [
        "import numpy as np\n",
        "\n",
        "euler_num = np.e\n",
        "euler_num"
      ],
      "metadata": {
        "colab": {
          "base_uri": "https://localhost:8080/"
        },
        "id": "PgghUQYd1NbE",
        "outputId": "ebbf15a3-76d4-4f2d-a23b-46738ab6e6f3"
      },
      "execution_count": 39,
      "outputs": [
        {
          "output_type": "execute_result",
          "data": {
            "text/plain": [
              "2.718281828459045"
            ]
          },
          "metadata": {},
          "execution_count": 39
        }
      ]
    },
    {
      "cell_type": "code",
      "source": [
        "mu = 20\n",
        "k = 15\n",
        "\n",
        "P = (euler_num**(-mu))*(mu**k)/np.math.factorial(k)\n",
        "print(f\"The probability is {round(P*100, 3)}%\")"
      ],
      "metadata": {
        "colab": {
          "base_uri": "https://localhost:8080/"
        },
        "id": "KFui76RP3mjC",
        "outputId": "3f5fef7f-f334-439b-cb47-95b351deb72b"
      },
      "execution_count": 44,
      "outputs": [
        {
          "output_type": "stream",
          "name": "stdout",
          "text": [
            "The probability is 5.165%\n"
          ]
        }
      ]
    },
    {
      "cell_type": "markdown",
      "source": [
        "Using scipy, we can also simply use:"
      ],
      "metadata": {
        "id": "vgd2sRI14tjD"
      }
    },
    {
      "cell_type": "code",
      "source": [
        "from scipy.stats import poisson\n",
        "\n",
        "P = poisson.pmf(k, mu)"
      ],
      "metadata": {
        "id": "WHyrfUT9374i"
      },
      "execution_count": 45,
      "outputs": []
    },
    {
      "cell_type": "code",
      "source": [
        "print(f\"The probability is {round(P*100, 3)}%\")"
      ],
      "metadata": {
        "colab": {
          "base_uri": "https://localhost:8080/"
        },
        "id": "CMFv1jME413I",
        "outputId": "b723841d-4974-4ad9-d4f6-a12ad22df757"
      },
      "execution_count": 46,
      "outputs": [
        {
          "output_type": "stream",
          "name": "stdout",
          "text": [
            "The probability is 5.165%\n"
          ]
        }
      ]
    },
    {
      "cell_type": "markdown",
      "source": [
        "Great! We got the same result."
      ],
      "metadata": {
        "id": "fNTJOUxw44Sk"
      }
    },
    {
      "cell_type": "markdown",
      "source": [
        "## Normal distribution\n",
        "\n",
        "The Normal Distribution is one of the most popular DFs in statistics. This is a continuous distribution function where the frequency distribution is given by a bell-shaped function. This function is symmetric, and the central value is the mean (and also the mode and the median). More about the Normal distribution can be found in:\n",
        "\n",
        "https://en.wikipedia.org/wiki/Normal_distribution\n",
        "\n"
      ],
      "metadata": {
        "id": "arw4I5gX5Pp6"
      }
    },
    {
      "cell_type": "markdown",
      "source": [
        "Important characteristics for the Normal distribution:\n",
        "\n",
        "* The Normal distribution is symmetric.\n",
        "* The area under the curve is 1 (or 100\\%).\n",
        "* All central tendency measures (mean, median, and mode) are equal.\n",
        "* Curve extreme values tend to the infinite in both directions (theoretically, they never touch the x-axis).\n",
        "* When we have a high standard deviation $\\sigma$, the bell-shape is larger and flatter.\n",
        "* The distribution is defined solely by its mean and standard deviation. \n",
        "* Since it is a countinuous distribution function, probability is always defined by a lower and upper bound, and probability is defined by the area between these bounds (integral).\n",
        "\n",
        "The Probability Density Function (PDF) for the Normal distribution is given by:\n",
        "\n",
        "\\begin{equation}\n",
        "f(x)=\\frac{1}{\\sqrt{2 \\pi \\sigma}} e^{-\\frac{1}{2}\\left(\\frac{x-\\mu}{\\sigma}\\right)^{2}}\n",
        "\\end{equation}\n",
        "where $x$ is the Normal variable, $\\sigma$ is the standard deviation, and $\\mu$ is the mean."
      ],
      "metadata": {
        "id": "YyglSce_6RQS"
      }
    },
    {
      "cell_type": "markdown",
      "source": [
        "To get the area under the curve, we can use an integral. However, there are standard tables that can help use to evaluate probabilities. To use these tables, we first standardize our Normal variable by:\n",
        "\n",
        "\\begin{equation}\n",
        "Z = \\frac{x - \\mu}{\\sigma}\n",
        "\\end{equation}\n",
        "Note that standardization is also a very common procedure so that our variable unit does not affect our final result. This, it is very important to know how it can be performed.\n",
        "\n",
        "To get the area to the **left** of a given value, we can use a standardized table, such as:\n",
        "\n",
        "https://www.math.arizona.edu/~rsims/ma464/standardnormaltable.pdf\n",
        "\n",
        "These tables give the probability for a given $Z$."
      ],
      "metadata": {
        "id": "ZCg9i93m7n1D"
      }
    },
    {
      "cell_type": "markdown",
      "source": [
        "### Example: Normal distribution\n",
        "\n",
        "Using Python, we can get the probability very easily using the *scipy.stats* library.\n",
        "\n",
        "Let's say that, on average, a person is 1.70 m tall, and the standard deviation is 0.10 m. What is the probability that one measures less than 1.80 m?\n",
        "\n",
        "Note that, when we ask for less the 1.80 m, we want the area to the left of the Normal curve. Thus, we can simply do:"
      ],
      "metadata": {
        "id": "A7WcXFSZ9J_b"
      }
    },
    {
      "cell_type": "code",
      "source": [
        "from scipy.stats import norm\n",
        "\n",
        "mu_n  = 1.70\n",
        "std_n = 0.10\n",
        "x = 1.80\n",
        "Z = (x - mu_n)/std_n\n",
        "P = norm.cdf(Z)\n",
        "\n",
        "print(f\"The probability is {round(P*100, 3)}%\")"
      ],
      "metadata": {
        "colab": {
          "base_uri": "https://localhost:8080/"
        },
        "id": "gGIbaHgz5Jia",
        "outputId": "1d73eb40-c2be-4453-d4c2-f9a3191df85d"
      },
      "execution_count": 50,
      "outputs": [
        {
          "output_type": "stream",
          "name": "stdout",
          "text": [
            "The probability is 84.134%\n"
          ]
        }
      ]
    },
    {
      "cell_type": "markdown",
      "source": [
        "Now, what if we want to get the probability of one's height being more than 1.60 m and and less than 1.80 m?\n",
        "\n",
        "In this case, we can simply subtract the probability of being less than 1.60 m from the probability of being less than 1.80 m."
      ],
      "metadata": {
        "id": "YvLmmZjY-xlj"
      }
    },
    {
      "cell_type": "code",
      "source": [
        "mu_n  = 1.70\n",
        "std_n = 0.10\n",
        "x1 = 1.80\n",
        "Z1 = (x1 - mu_n)/std_n\n",
        "P1 = norm.cdf(Z1)\n",
        "\n",
        "x2 = 1.60\n",
        "Z2 = (x2 - mu_n)/std_n\n",
        "P2 = norm.cdf(Z2)\n",
        "\n",
        "P = P1 - P2\n",
        "print(f\"The probability is {round(P*100, 3)}%\")"
      ],
      "metadata": {
        "colab": {
          "base_uri": "https://localhost:8080/"
        },
        "id": "mo96EJUy-n8Q",
        "outputId": "5139c822-15d8-444c-8c13-bb4b6635bb52"
      },
      "execution_count": 58,
      "outputs": [
        {
          "output_type": "stream",
          "name": "stdout",
          "text": [
            "The probability is 68.269%\n"
          ]
        }
      ]
    },
    {
      "cell_type": "markdown",
      "source": [
        "And how do we get the probability of a person being **more** than 1.90 m? We can simply do 100\\% (or 1) minus the probability of being less than 1.90 m."
      ],
      "metadata": {
        "id": "GTSjoTeqBrD-"
      }
    },
    {
      "cell_type": "code",
      "source": [
        "mu_n  = 1.70\n",
        "std_n = 0.10\n",
        "x = 1.90\n",
        "Z = (x - mu_n)/std_n\n",
        "P1 = norm.cdf(Z)\n",
        "\n",
        "P = 1 - P1\n",
        "print(f\"The probability is {round(P*100, 3)}%\")"
      ],
      "metadata": {
        "colab": {
          "base_uri": "https://localhost:8080/"
        },
        "id": "mRcVVp0R_pbr",
        "outputId": "4fd195e5-5001-4c37-ab69-52be06477f4a"
      },
      "execution_count": 59,
      "outputs": [
        {
          "output_type": "stream",
          "name": "stdout",
          "text": [
            "The probability is 2.275%\n"
          ]
        }
      ]
    },
    {
      "cell_type": "markdown",
      "source": [
        "# Sampling techniques\n",
        "\n",
        "In statistics, we rarely have data for an entire population. Thus, we usually deal with samples from this population. Here, we have some very important concepts:\n",
        "\n",
        "* Population: Entire set of elements of interest in a given study. A population can be finite (when we can count those elements) or infinite (when we can not count).\n",
        "* Sample: A representative set of the population. To use a sample, we have to understand if this sample is representative of the entire population, which means that it should be **large enough** and also **keep the most important properties and proportions from the population itself**.\n",
        "\n",
        "And when should we use a sample of our population?\n",
        "\n",
        "* When we have an infinite population (or a very large finite population).\n",
        "* When our tests destroy our element (destructive tests).\n",
        "* When we want to get faster results.\n",
        "* When our tests are very costly.\n",
        "\n"
      ],
      "metadata": {
        "id": "M69a93ONExrL"
      }
    },
    {
      "cell_type": "markdown",
      "source": [
        "## Simple Random Sampling\n",
        "\n",
        "Simple Random Sampling (SRS) is one of the most popular (if not the most popular) sampling technique. Here, all elements from the population have the same probability to be selected. As the number of sampling points grows, the sample better represents the population."
      ],
      "metadata": {
        "id": "Y2zvcPr4VPRT"
      }
    },
    {
      "cell_type": "markdown",
      "source": [
        "Let's see how we can do a SRS from our dataset using Pandas."
      ],
      "metadata": {
        "id": "d_SQJQHjV9D2"
      }
    },
    {
      "cell_type": "markdown",
      "source": [
        "Our dataset has 76840 observations"
      ],
      "metadata": {
        "id": "G2KmHFSVWEFB"
      }
    },
    {
      "cell_type": "code",
      "source": [
        "dataset.shape[0]"
      ],
      "metadata": {
        "colab": {
          "base_uri": "https://localhost:8080/"
        },
        "id": "TnVwbglNEBlF",
        "outputId": "bb1b14fd-9777-4703-bd7a-ad644972cd99"
      },
      "execution_count": 85,
      "outputs": [
        {
          "output_type": "execute_result",
          "data": {
            "text/plain": [
              "76840"
            ]
          },
          "metadata": {},
          "execution_count": 85
        }
      ]
    },
    {
      "cell_type": "markdown",
      "source": [
        "Let's assume that our dataset represents our population. If we take the mean monthly income of our population, we have:"
      ],
      "metadata": {
        "id": "ThL5b8RCWtNQ"
      }
    },
    {
      "cell_type": "code",
      "source": [
        "mean_pop = dataset.Renda.mean( )\n",
        "mean_pop"
      ],
      "metadata": {
        "colab": {
          "base_uri": "https://localhost:8080/"
        },
        "id": "diCxrhW_W2co",
        "outputId": "7cbe2317-7a78-4d95-c14f-b33842fe443e"
      },
      "execution_count": 86,
      "outputs": [
        {
          "output_type": "execute_result",
          "data": {
            "text/plain": [
              "2000.3831988547631"
            ]
          },
          "metadata": {},
          "execution_count": 86
        }
      ]
    },
    {
      "cell_type": "markdown",
      "source": [
        "Let's say we want to make a sample with only 100 observations. We can do:"
      ],
      "metadata": {
        "id": "NJzX1E2lWKOe"
      }
    },
    {
      "cell_type": "code",
      "source": [
        "SEED = 101\n",
        "\n",
        "sample_1 = dataset.sample(100, random_state = 101)"
      ],
      "metadata": {
        "id": "_PVKpNk8V3Ql"
      },
      "execution_count": 87,
      "outputs": []
    },
    {
      "cell_type": "markdown",
      "source": [
        "Here, the random_state parameter simply passes a random seed, so that, everytime we run a code, we get the same result."
      ],
      "metadata": {
        "id": "mZ2PYzjFWZM7"
      }
    },
    {
      "cell_type": "markdown",
      "source": [
        "Now, let's evaluate the average monthly income from our sample:"
      ],
      "metadata": {
        "id": "x9Vlft1FWjuX"
      }
    },
    {
      "cell_type": "code",
      "source": [
        "mean_smp1 = sample_1.Renda.mean( )\n",
        "mean_smp1"
      ],
      "metadata": {
        "colab": {
          "base_uri": "https://localhost:8080/"
        },
        "id": "77qVqV_5We1j",
        "outputId": "8e661d35-6e21-4465-e3c4-1b659062070c"
      },
      "execution_count": 88,
      "outputs": [
        {
          "output_type": "execute_result",
          "data": {
            "text/plain": [
              "2150.85"
            ]
          },
          "metadata": {},
          "execution_count": 88
        }
      ]
    },
    {
      "cell_type": "markdown",
      "source": [
        "Note that the mean of our sample is 2150.85, which differs from the mean population. We can evaluate the error using:"
      ],
      "metadata": {
        "id": "MQblMz4oXCVr"
      }
    },
    {
      "cell_type": "code",
      "source": [
        "(mean_smp1 - mean_pop)/mean_pop"
      ],
      "metadata": {
        "colab": {
          "base_uri": "https://localhost:8080/"
        },
        "id": "ljKVGe2cWrsW",
        "outputId": "603a9ce1-d879-4e90-9248-5d34131b14f5"
      },
      "execution_count": 89,
      "outputs": [
        {
          "output_type": "execute_result",
          "data": {
            "text/plain": [
              "0.0752189886574634"
            ]
          },
          "metadata": {},
          "execution_count": 89
        }
      ]
    },
    {
      "cell_type": "markdown",
      "source": [
        "So, our error is 7.5%. Let's try again using a sample with 1,000 observations:"
      ],
      "metadata": {
        "id": "3jmX0vuhXaDH"
      }
    },
    {
      "cell_type": "code",
      "source": [
        "sample_2 = dataset.sample(1000, random_state = 201)\n",
        "mean_smp2 = sample_2.Renda.mean( )\n",
        "mean_smp2"
      ],
      "metadata": {
        "colab": {
          "base_uri": "https://localhost:8080/"
        },
        "id": "NgUzVs7CXRKD",
        "outputId": "4c4c638a-30ab-4268-bcfa-b0d5ce94a369"
      },
      "execution_count": 90,
      "outputs": [
        {
          "output_type": "execute_result",
          "data": {
            "text/plain": [
              "2018.311"
            ]
          },
          "metadata": {},
          "execution_count": 90
        }
      ]
    },
    {
      "cell_type": "code",
      "source": [
        "(mean_smp2 - mean_pop)/mean_pop"
      ],
      "metadata": {
        "colab": {
          "base_uri": "https://localhost:8080/"
        },
        "id": "3uUlh0LzXnt-",
        "outputId": "7cb58dcc-c269-4e92-bd34-02b0f6356b32"
      },
      "execution_count": 91,
      "outputs": [
        {
          "output_type": "execute_result",
          "data": {
            "text/plain": [
              "0.008962183423406387"
            ]
          },
          "metadata": {},
          "execution_count": 91
        }
      ]
    },
    {
      "cell_type": "markdown",
      "source": [
        "Now, our error is only 0.8%. Note that our sample is now a much better representation of our population."
      ],
      "metadata": {
        "id": "xUqvZu_2Xq1L"
      }
    },
    {
      "cell_type": "markdown",
      "source": [
        "Now, let's check the proportion of men and women in our dataset. On our population, this proportion is:"
      ],
      "metadata": {
        "id": "V5O1304CX-b4"
      }
    },
    {
      "cell_type": "code",
      "source": [
        "dataset.Sexo.value_counts(normalize = True)"
      ],
      "metadata": {
        "colab": {
          "base_uri": "https://localhost:8080/"
        },
        "id": "zHSkfMBMXqR7",
        "outputId": "6830fcb2-1def-45fe-ac54-167ecb2eb3f8"
      },
      "execution_count": 93,
      "outputs": [
        {
          "output_type": "execute_result",
          "data": {
            "text/plain": [
              "0    0.692998\n",
              "1    0.307002\n",
              "Name: Sexo, dtype: float64"
            ]
          },
          "metadata": {},
          "execution_count": 93
        }
      ]
    },
    {
      "cell_type": "markdown",
      "source": [
        "Then, if we do the same on our sample of 100 observations:"
      ],
      "metadata": {
        "id": "jEEydogdYIOf"
      }
    },
    {
      "cell_type": "code",
      "source": [
        "sample_1.Sexo.value_counts(normalize = True)"
      ],
      "metadata": {
        "colab": {
          "base_uri": "https://localhost:8080/"
        },
        "id": "AD-BcX_iYF42",
        "outputId": "568a5f97-3571-4ad7-c5cc-806c8aaa4d61"
      },
      "execution_count": 94,
      "outputs": [
        {
          "output_type": "execute_result",
          "data": {
            "text/plain": [
              "0    0.69\n",
              "1    0.31\n",
              "Name: Sexo, dtype: float64"
            ]
          },
          "metadata": {},
          "execution_count": 94
        }
      ]
    },
    {
      "cell_type": "markdown",
      "source": [
        "Actually, this sample seems to represent very well our population.\n",
        "\n",
        "Thus, it is hard to define, by trial and error, an adequate (and representative) size of our sample. Is there any statistical measure that can better define an adequate sample size for our analysis?"
      ],
      "metadata": {
        "id": "VkxVPrSHYRDO"
      }
    },
    {
      "cell_type": "markdown",
      "source": [
        "Before going further into this topic, let's see two other sampling techniques.\n",
        "\n",
        "## Stratified Sampling\n",
        "\n",
        "It is an improvement over the process where, first, we separe the population in homogeneous groups and, inside these homogeneous groups, we make a SRS.\n",
        "\n",
        "For instance, if our population has 2% of people with a given religion. In our sample, we have to ensure that this part of our population is represented in our sample. Thus, we first stratify our population, and then sample on these subgroups.\n",
        "\n",
        "This idea can also be performed for classes of income, color, gender, and others."
      ],
      "metadata": {
        "id": "cM7BZz_EYrZj"
      }
    },
    {
      "cell_type": "markdown",
      "source": [
        "## Cluster Sampling\n",
        "\n",
        "Similar to the stratified sampling, cluster sampling also first divides the sample in different groups. However, here, these groups are mostly heterogeneous. Inside these groups, one can then apply a stratified sampling, for instance.\n",
        "\n",
        "An example is when we first divide our population in different states, where our sample is still very heterogeneous, and then apply a stratified sampling."
      ],
      "metadata": {
        "id": "dpJE5kRUbHb2"
      }
    },
    {
      "cell_type": "markdown",
      "source": [
        "# Confidence level and intervals of confidence\n",
        "\n",
        "When we work with samples from a population, we will **never** be able to know the mean of the population with certainty. Using samples, the best thing to do is to have an **interval of confidence** for the mean (or any another measure), which is associated to a confidence level. The higher the confidence level, the higher the interval. The lower the sample size, the higher the interval.\n",
        "\n",
        "So, considering a given confidence level, we can make educated guesses over the population parameters using information from the sample. Here, we have to different concepts:\n",
        "\n",
        "\n",
        "*   Parameters are defined by the population, such as the mean ($\\mu$) and the standard deviation ($\\sigma$).\n",
        "*   Estimates are evaluated using the sample, such as the sample mean ($\\overline{x}$) and the sample standard deviation ($s$).\n",
        "\n"
      ],
      "metadata": {
        "id": "aUnYS5XIc0R-"
      }
    },
    {
      "cell_type": "markdown",
      "source": [
        "## Central Limit Theorem\n",
        "\n",
        "The Central Limit Theorem (CLT) states that, when we increase the sample size, the distribution of sample means becomes very close to a normal distribution (bell-shaped). This normal distribution has mean equals to the population mean and standard deviation equals to:\n",
        "\n",
        "\\begin{equation}\n",
        "\\sigma_{\\bar{x}}=\\frac{\\sigma}{\\sqrt{n}}\n",
        "\\end{equation}\n",
        "which is known as the standard error of the mean."
      ],
      "metadata": {
        "id": "OuXGaDRXm-ky"
      }
    },
    {
      "cell_type": "markdown",
      "source": [
        "Let's try to understand more about the CLT.\n",
        "\n",
        "The CLT states that the **distribution of sample means** follows a normal bell-shaped curve. How can we get this distribution?\n",
        "\n",
        "Previously, we have taken a sample from our population. Now, let's do something more: let's take 1500 samples from our population, each sample containing 1000 random observations:"
      ],
      "metadata": {
        "id": "EgzWPn7KnqjN"
      }
    },
    {
      "cell_type": "code",
      "source": [
        "n = 1000\n",
        "total_samp = 1500"
      ],
      "metadata": {
        "id": "iUNGd_MYYP-h"
      },
      "execution_count": 95,
      "outputs": []
    },
    {
      "cell_type": "code",
      "source": [
        "samples = pd.DataFrame( )"
      ],
      "metadata": {
        "id": "WErxEqHKpInZ"
      },
      "execution_count": 96,
      "outputs": []
    },
    {
      "cell_type": "code",
      "source": [
        "for i in range(total_samp):\n",
        "  _ = dataset.Idade.sample(n)\n",
        "  _.index = range(0, len(_))\n",
        "  samples['Sample_'+str(i+1)] = _"
      ],
      "metadata": {
        "colab": {
          "base_uri": "https://localhost:8080/"
        },
        "id": "_rgK3ENopLfB",
        "outputId": "1c329759-53a8-4eb4-9fae-adec2658752b"
      },
      "execution_count": 97,
      "outputs": [
        {
          "output_type": "stream",
          "name": "stderr",
          "text": [
            "/usr/local/lib/python3.7/dist-packages/ipykernel_launcher.py:4: PerformanceWarning: DataFrame is highly fragmented.  This is usually the result of calling `frame.insert` many times, which has poor performance.  Consider joining all columns at once using pd.concat(axis=1) instead.  To get a de-fragmented frame, use `newframe = frame.copy()`\n",
            "  after removing the cwd from sys.path.\n"
          ]
        }
      ]
    },
    {
      "cell_type": "code",
      "source": [
        "samples.shape"
      ],
      "metadata": {
        "colab": {
          "base_uri": "https://localhost:8080/"
        },
        "id": "0bSv_jWApiWx",
        "outputId": "b5b5cc7e-54a4-4c98-bd02-b2afcf662a22"
      },
      "execution_count": 99,
      "outputs": [
        {
          "output_type": "execute_result",
          "data": {
            "text/plain": [
              "(1000, 1500)"
            ]
          },
          "metadata": {},
          "execution_count": 99
        }
      ]
    },
    {
      "cell_type": "markdown",
      "source": [
        "Ok, we have created 1500 sample, each containing 1000 observations.\n",
        "\n",
        "Now, let's get the mean of each sample:"
      ],
      "metadata": {
        "id": "8gaih_qXppwc"
      }
    },
    {
      "cell_type": "code",
      "source": [
        "samples.mean( )"
      ],
      "metadata": {
        "colab": {
          "base_uri": "https://localhost:8080/"
        },
        "id": "_n5iZjmrplzI",
        "outputId": "f4613b55-a33f-45ae-b31e-d66f4f7b54c0"
      },
      "execution_count": 100,
      "outputs": [
        {
          "output_type": "execute_result",
          "data": {
            "text/plain": [
              "Sample_1       44.435\n",
              "Sample_2       44.110\n",
              "Sample_3       43.984\n",
              "Sample_4       43.462\n",
              "Sample_5       44.333\n",
              "                ...  \n",
              "Sample_1496    43.862\n",
              "Sample_1497    44.247\n",
              "Sample_1498    43.857\n",
              "Sample_1499    43.860\n",
              "Sample_1500    44.308\n",
              "Length: 1500, dtype: float64"
            ]
          },
          "metadata": {},
          "execution_count": 100
        }
      ]
    },
    {
      "cell_type": "markdown",
      "source": [
        "So, as the samples grow, the distribution of sample means is close to a Normal distribution. Let's see an histogram for our sample means:"
      ],
      "metadata": {
        "id": "aIKeuNPvp21c"
      }
    },
    {
      "cell_type": "code",
      "source": [
        "import seaborn as sns\n",
        "\n",
        "sns.histplot(x = samples.mean( ), stat = 'density', bins = 50, kde = True)"
      ],
      "metadata": {
        "colab": {
          "base_uri": "https://localhost:8080/",
          "height": 282
        },
        "id": "g9LEsQZVpyio",
        "outputId": "04733cac-5938-429a-dcb6-467dbaaed4df"
      },
      "execution_count": 112,
      "outputs": [
        {
          "output_type": "execute_result",
          "data": {
            "text/plain": [
              "<matplotlib.axes._subplots.AxesSubplot at 0x7f93c1c47450>"
            ]
          },
          "metadata": {},
          "execution_count": 112
        },
        {
          "output_type": "display_data",
          "data": {
            "text/plain": [
              "<Figure size 432x288 with 1 Axes>"
            ],
            "image/png": "[encoded data removed]"
          },
          "metadata": {
            "needs_background": "light"
          }
        }
      ]
    },
    {
      "cell_type": "markdown",
      "source": [
        "So, our distribution is close to a bell-shape. We could still improve this by increasing the number of samples or increasing the number of observations in each sample. Let's see the mean of this distribution:"
      ],
      "metadata": {
        "id": "DmmpazWUqmEf"
      }
    },
    {
      "cell_type": "code",
      "source": [
        "samples.mean( ).mean( )"
      ],
      "metadata": {
        "colab": {
          "base_uri": "https://localhost:8080/"
        },
        "id": "wI_3HfirqLG_",
        "outputId": "1460b0ba-11dc-45c0-c281-c9ed206a6346"
      },
      "execution_count": 116,
      "outputs": [
        {
          "output_type": "execute_result",
          "data": {
            "text/plain": [
              "44.08447266666667"
            ]
          },
          "metadata": {},
          "execution_count": 116
        }
      ]
    },
    {
      "cell_type": "markdown",
      "source": [
        "While our population mean is:"
      ],
      "metadata": {
        "id": "KE5sRL8Wqwbk"
      }
    },
    {
      "cell_type": "code",
      "source": [
        "dataset.Idade.mean( )"
      ],
      "metadata": {
        "colab": {
          "base_uri": "https://localhost:8080/"
        },
        "id": "Wq3YN4Aaqvh2",
        "outputId": "f22605f9-a276-4634-9e98-965ebd0288c1"
      },
      "execution_count": 117,
      "outputs": [
        {
          "output_type": "execute_result",
          "data": {
            "text/plain": [
              "44.07142113482561"
            ]
          },
          "metadata": {},
          "execution_count": 117
        }
      ]
    },
    {
      "cell_type": "markdown",
      "source": [
        "Indeed, the mean of our sample means is very close to our population mean!"
      ],
      "metadata": {
        "id": "QYw5Nu8wq570"
      }
    },
    {
      "cell_type": "markdown",
      "source": [
        "Let's now try to estimate the population standard deviation from the sampled means. We now that:\n",
        "\n",
        "\\begin{equation}\n",
        "\\sigma_{\\bar{x}}=\\frac{\\sigma}{\\sqrt{n}}\n",
        "\\end{equation}\n",
        "\n",
        "Thus, we can do:"
      ],
      "metadata": {
        "id": "BvMYq0TTrG_G"
      }
    },
    {
      "cell_type": "code",
      "source": [
        "samples.mean( ).std( )*np.sqrt(n)"
      ],
      "metadata": {
        "colab": {
          "base_uri": "https://localhost:8080/"
        },
        "id": "OU0huCBmq5KU",
        "outputId": "924176b2-327e-4035-f75f-1c3c76650e9c"
      },
      "execution_count": 118,
      "outputs": [
        {
          "output_type": "execute_result",
          "data": {
            "text/plain": [
              "12.459601158420224"
            ]
          },
          "metadata": {},
          "execution_count": 118
        }
      ]
    },
    {
      "cell_type": "code",
      "source": [
        "dataset.Idade.std( )"
      ],
      "metadata": {
        "colab": {
          "base_uri": "https://localhost:8080/"
        },
        "id": "CVrYGWwxrYYi",
        "outputId": "0eacedaf-705d-46a0-d4cc-a3c267e2aa74"
      },
      "execution_count": 119,
      "outputs": [
        {
          "output_type": "execute_result",
          "data": {
            "text/plain": [
              "12.480583465360187"
            ]
          },
          "metadata": {},
          "execution_count": 119
        }
      ]
    },
    {
      "cell_type": "markdown",
      "source": [
        "Again, this is a very close estimate for the population standard deviation!"
      ],
      "metadata": {
        "id": "NG2bSU_lrm00"
      }
    },
    {
      "cell_type": "markdown",
      "source": [
        "## Confidence and significance levels\n",
        "\n",
        "The confidence level ($1 - \\alpha$) represents the probability of being right about an estimate. Here, $\\alpha$ is the significance level, which expresses the probability of being wrong.\n",
        "\n",
        "Usually, we consider a confidence level of 95% in our analysis as a standard. That means that there is a chance of 95% that our estimate is correct.\n",
        "\n",
        "The confidence level can be found by the area under a normal curve. More about the confidence level can be found in:\n",
        "\n",
        "https://en.wikipedia.org/wiki/Confidence_interval\n",
        "\n"
      ],
      "metadata": {
        "id": "pWcYjb1fsToi"
      }
    },
    {
      "cell_type": "markdown",
      "source": [
        "In that sense, the inference error (margin of error) is determined by the standard deviation of sample means and by the confidence level defined, which is here related to $z$:\n",
        "\n",
        "\\begin{equation}\n",
        "e = z \\, \\sigma_{\\bar{x}}= z \\, \\frac{\\sigma}{\\sqrt{n}}\n",
        "\\end{equation}"
      ],
      "metadata": {
        "id": "codEwvOauCFH"
      }
    },
    {
      "cell_type": "markdown",
      "source": [
        "Thus, the confidence interval for the population mean is:\n",
        "\n",
        "\\begin{equation}\n",
        "\\mu = \\bar{x} \\pm e =  \\bar{x} \\pm z \\, \\frac{\\sigma}{\\sqrt{n}}\n",
        "\\end{equation}\n"
      ],
      "metadata": {
        "id": "A27hY4wxumS6"
      }
    },
    {
      "cell_type": "markdown",
      "source": [
        "Usually, we don't know the population standard deviation. Then, we can use the sample standard deviation as an estimate for it:\n",
        "\n",
        "\\begin{equation}\n",
        "\\mu = \\bar{x} \\pm z \\, \\frac{s}{\\sqrt{n}}\n",
        "\\end{equation}\n",
        "\n"
      ],
      "metadata": {
        "id": "i1LM9dAbvOsM"
      }
    },
    {
      "cell_type": "markdown",
      "source": [
        "### Example: Confidence level\n",
        "\n",
        "Let's say that a company takes 20 of their products, weights them, and checks that the mean and the standard deviation of the weight are 5,050 g and 150 g, respectively. \n",
        "\n",
        "Let's build a confidence interval considering a significance level of 5% (which means that our confidence level is 95%)."
      ],
      "metadata": {
        "id": "suGujBF5vnCt"
      }
    },
    {
      "cell_type": "code",
      "source": [
        "samp_mean = 5050\n",
        "samp_std  = 150\n",
        "n_s = 20\n",
        "\n",
        "sig  = 0.05\n",
        "conf = 1 - sig"
      ],
      "metadata": {
        "id": "d2j8suUDrac4"
      },
      "execution_count": 131,
      "outputs": []
    },
    {
      "cell_type": "markdown",
      "source": [
        "To get the z-score, we can use:"
      ],
      "metadata": {
        "id": "qsLendsrwq5m"
      }
    },
    {
      "cell_type": "code",
      "source": [
        "z = norm.ppf(1 - sig/2)\n",
        "z"
      ],
      "metadata": {
        "colab": {
          "base_uri": "https://localhost:8080/"
        },
        "id": "AVRGAYRYwqlr",
        "outputId": "b8503abe-ea07-41ff-d25e-43d2e6385c61"
      },
      "execution_count": 124,
      "outputs": [
        {
          "output_type": "execute_result",
          "data": {
            "text/plain": [
              "1.959963984540054"
            ]
          },
          "metadata": {},
          "execution_count": 124
        }
      ]
    },
    {
      "cell_type": "markdown",
      "source": [
        "Ok, but why $1 - \\alpha/2$?\n",
        "\n",
        "Our confidence interval will have an upper and a lower bound. Thus, our confidence interval will go from the probability 2.5% to 97.5%. Thus, the probability between these bounds is 95% (confidence level). Thus, to get the right $z$ score, we have to use $1 - \\alpha/2$. \n",
        "\n",
        "The most popular confidence intervals and their respective $z$-scores are:"
      ],
      "metadata": {
        "id": "8BSm-gptw_Gn"
      }
    },
    {
      "cell_type": "code",
      "source": [
        "# Confidence level: 90%\n",
        "\n",
        "z_90 = norm.ppf(1 - 0.05)\n",
        "round(z_90, 3)"
      ],
      "metadata": {
        "colab": {
          "base_uri": "https://localhost:8080/"
        },
        "id": "sPdhGdjcww9A",
        "outputId": "62cba2e3-3c9b-4a84-a0aa-e9a67077cfad"
      },
      "execution_count": 128,
      "outputs": [
        {
          "output_type": "execute_result",
          "data": {
            "text/plain": [
              "1.645"
            ]
          },
          "metadata": {},
          "execution_count": 128
        }
      ]
    },
    {
      "cell_type": "code",
      "source": [
        "# Confidence level: 95%\n",
        "\n",
        "z_95 = norm.ppf(1 - 0.025)\n",
        "round(z_95, 3)"
      ],
      "metadata": {
        "colab": {
          "base_uri": "https://localhost:8080/"
        },
        "id": "v9ZQAA1_xszj",
        "outputId": "d747e981-a4fc-48e7-cb0a-fcfbdc9c02dd"
      },
      "execution_count": 129,
      "outputs": [
        {
          "output_type": "execute_result",
          "data": {
            "text/plain": [
              "1.96"
            ]
          },
          "metadata": {},
          "execution_count": 129
        }
      ]
    },
    {
      "cell_type": "code",
      "source": [
        "# Confidence level: 99%\n",
        "\n",
        "z_99 = norm.ppf(1 - 0.005)\n",
        "round(z_99, 3)"
      ],
      "metadata": {
        "colab": {
          "base_uri": "https://localhost:8080/"
        },
        "id": "ZN6szYQ6xuyL",
        "outputId": "bc9d0379-44ac-44b5-994c-387bc822968f"
      },
      "execution_count": 130,
      "outputs": [
        {
          "output_type": "execute_result",
          "data": {
            "text/plain": [
              "2.576"
            ]
          },
          "metadata": {},
          "execution_count": 130
        }
      ]
    },
    {
      "cell_type": "markdown",
      "source": [
        "Finally, since we got to have a confidence level of 95%, we can do:"
      ],
      "metadata": {
        "id": "e7HMfrQTx6CM"
      }
    },
    {
      "cell_type": "code",
      "source": [
        "z = norm.ppf(1 - sig/2)\n",
        "\n",
        "e = z*samp_std/np.sqrt(n_s)\n",
        "mean_lb = samp_mean - e\n",
        "mean_ub = samp_mean + e\n",
        "\n",
        "confidence_interval = (mean_lb, mean_ub)\n",
        "\n",
        "print(f'{confidence_interval[0].round(2)} < pop. mean < {confidence_interval[1].round(2)}')"
      ],
      "metadata": {
        "colab": {
          "base_uri": "https://localhost:8080/"
        },
        "id": "Z42LtaZtxzxV",
        "outputId": "36fc7e09-8199-41d7-9c37-120810f9a166"
      },
      "execution_count": 135,
      "outputs": [
        {
          "output_type": "stream",
          "name": "stdout",
          "text": [
            "4984.26 < pop. mean < 5115.74\n"
          ]
        }
      ]
    },
    {
      "cell_type": "markdown",
      "source": [
        "So, we can assure, with 95% of confidence, that our population mean is between 4984.26 g and 5115.74 g"
      ],
      "metadata": {
        "id": "IHDxDH6vyebD"
      }
    },
    {
      "cell_type": "markdown",
      "source": [
        "Instead, using scipy, we can simply do:"
      ],
      "metadata": {
        "id": "db12rxOd0vuw"
      }
    },
    {
      "cell_type": "code",
      "source": [
        "sig = samp_std/np.sqrt(n_s)\n",
        "confidence_interval = norm.interval(alpha = 0.95, loc = samp_mean, scale = sig)\n",
        "\n",
        "print(f'{confidence_interval[0].round(2)} < pop. mean < {confidence_interval[1].round(2)}')"
      ],
      "metadata": {
        "colab": {
          "base_uri": "https://localhost:8080/"
        },
        "id": "3qsMe4v-yYRN",
        "outputId": "90193327-6ded-4603-b85e-b3beba64fe42"
      },
      "execution_count": 141,
      "outputs": [
        {
          "output_type": "stream",
          "name": "stdout",
          "text": [
            "4984.26 < pop. mean < 5115.74\n"
          ]
        }
      ]
    },
    {
      "cell_type": "markdown",
      "source": [
        "Nice! The results found were the same. Thus, using scipy, we have a very easy way of evaluating a confidence interval!"
      ],
      "metadata": {
        "id": "AVLeF80j1eU7"
      }
    },
    {
      "cell_type": "markdown",
      "source": [
        "# Sample size \n",
        "\n",
        "So, how to we define an adequate sample size? It depends on how much we want to be exposed to errors (margin of error).\n",
        "\n",
        "We saw that the margin of error is given by:\n",
        "\n",
        "\\begin{equation}\n",
        "e=z \\frac{\\sigma}{\\sqrt{n}}\n",
        "\\end{equation}\n",
        "Note that, as we increase $n$, we lower our margin of error. Thus, knowing the standard deviation (or at least an estimate for it) and the required margin of error, we can find an adequate sample size ($n$):\n",
        "\n",
        "\\begin{equation}\n",
        "n=\\left(z \\frac{s}{e}\\right)^{2}\n",
        "\\end{equation}\n",
        "\n",
        "**Note that these equations serve for an infinite population.**"
      ],
      "metadata": {
        "id": "TXzBAIng2fMF"
      }
    },
    {
      "cell_type": "markdown",
      "source": [
        "## Example: Determination of sample size\n",
        "\n",
        "Let's say that we want to estimate the average monthly income in Brazil. We know that the standard deviation is R\\$ 3,323.39, and we want the maximum error (with relation to the mean) to be R\\$ 100.00. We also want a confidence level of 95%. \n",
        "\n",
        "To solve this, we can do:"
      ],
      "metadata": {
        "id": "O-Ho_ko63aOJ"
      }
    },
    {
      "cell_type": "code",
      "source": [
        "z = norm.ppf(0.975)\n",
        "s = 3323.39\n",
        "e = 100\n",
        "\n",
        "n = (z*s/e)**2\n",
        "np.ceil(n)\n",
        "\n"
      ],
      "metadata": {
        "colab": {
          "base_uri": "https://localhost:8080/"
        },
        "id": "wP4OUUbf19zB",
        "outputId": "0ad8944f-6893-4204-c495-52d1cb92d502"
      },
      "execution_count": 147,
      "outputs": [
        {
          "output_type": "execute_result",
          "data": {
            "text/plain": [
              "4243.0"
            ]
          },
          "metadata": {},
          "execution_count": 147
        }
      ]
    },
    {
      "cell_type": "markdown",
      "source": [
        "Thus, we need ate least 4243 sampling points (rounded up)."
      ],
      "metadata": {
        "id": "XZvJX1Sk4B65"
      }
    },
    {
      "cell_type": "markdown",
      "source": [
        "## What about a finite population?\n",
        "\n",
        "When we have a finite population, we need to include a correction factor in our equation:\n",
        "\n",
        "\\begin{equation}\n",
        "n=\\frac{z^{2} \\sigma^{2} N}{z^{2} \\sigma^{2}+e^{2}(N-1)}\n",
        "\\end{equation}\n",
        "or, when we don't know the population standard deviation:\n",
        "\\begin{equation}\n",
        "n=\\frac{z^{2} s^{2} N}{z^{2} s^{2}+e^{2}(N-1)}\n",
        "\\end{equation}\n",
        "where $N$ is the population size."
      ],
      "metadata": {
        "id": "N4T2hHjd5OJ9"
      }
    },
    {
      "cell_type": "markdown",
      "source": [
        "For instance, let's say that we are trying to analyze an specific batch of products from our soda company. The batch has 10,000 cans of soda, and we make a simple random sampling, taking 100 observations (amount of soda in each can). The standard deviation is 12 ml, and the maximum error from the mean allowed is 5 ml. Let's evaluate the required sample size which guarantees a confidence level of 95%."
      ],
      "metadata": {
        "id": "RE2bfhRe56aR"
      }
    },
    {
      "cell_type": "code",
      "source": [
        "N = 10000\n",
        "n = 100\n",
        "s = 12\n",
        "e = 5\n",
        "sig = 0.05\n",
        "\n",
        "z = norm.ppf(1 - sig/2)\n",
        "n = (z*z*s*s*N)/((z*z*s*s) + (e*e*(N - 1)))\n",
        "np.ceil(n)"
      ],
      "metadata": {
        "colab": {
          "base_uri": "https://localhost:8080/"
        },
        "id": "28irZUIx5JfJ",
        "outputId": "0a1b8d7a-2bc2-4ff0-f705-c514879e42b9"
      },
      "execution_count": 155,
      "outputs": [
        {
          "output_type": "execute_result",
          "data": {
            "text/plain": [
              "23.0"
            ]
          },
          "metadata": {},
          "execution_count": 155
        }
      ]
    },
    {
      "cell_type": "markdown",
      "source": [
        "So, to get a margin of error of 5 ml with a confidence level of 95% we need at least 23 cans of soda. Let's see how much cans of soda would be necessary if we considered our population to be infinite:"
      ],
      "metadata": {
        "id": "Jtu0xeIq65oq"
      }
    },
    {
      "cell_type": "code",
      "source": [
        "n = (z*s/e)**2\n",
        "np.ceil(n)"
      ],
      "metadata": {
        "colab": {
          "base_uri": "https://localhost:8080/"
        },
        "id": "3cgMJ1-e6u_6",
        "outputId": "2ac62e00-3755-42e6-9f7f-6d984739bee6"
      },
      "execution_count": 153,
      "outputs": [
        {
          "output_type": "execute_result",
          "data": {
            "text/plain": [
              "23.0"
            ]
          },
          "metadata": {},
          "execution_count": 153
        }
      ]
    },
    {
      "cell_type": "markdown",
      "source": [
        "Also 23. In fact, as $N$ increases, the value found for a finite population tends to the value found for an infinite population. Since our finite population is very large (10,000), the difference is very minor."
      ],
      "metadata": {
        "id": "rl94NUa77oL_"
      }
    },
    {
      "cell_type": "markdown",
      "source": [
        "# Applications\n",
        "\n",
        "In this section, we will apply what we learned here in analyses using our dataset from PNAD 2015."
      ],
      "metadata": {
        "id": "nrou8J7DTrJI"
      }
    },
    {
      "cell_type": "markdown",
      "source": [
        "**First, let's get information about the monthly income. Let's say that we want to get the average monthly income for those with monthly income lower than 5000. We know that the standard deviation is R\\$ 1,082.79, and the maximum error in relation to the mean is considered to be R\\$ 10.00. Considering that we want a confidence level of 95\\%, how many sampling points do we need?**"
      ],
      "metadata": {
        "id": "fKhIICLFT0j-"
      }
    },
    {
      "cell_type": "markdown",
      "source": [
        "Considering that our population is infinite, the number of sampling points required is:\n",
        "\n",
        "\\begin{equation}\n",
        "n = \\left( \\dfrac{z \\, \\sigma}{e} \\right)^2\n",
        "\\end{equation}\n",
        "\n",
        "Thus, we can do:"
      ],
      "metadata": {
        "id": "DKfNGQoJUbJY"
      }
    },
    {
      "cell_type": "code",
      "source": [
        "sigma = 1082.79\n",
        "e = 10\n",
        "cnf_lvl = 0.95\n",
        "\n",
        "sig_level = 1 - cnf_lvl\n",
        "z = norm.ppf(1 - sig_level/2)\n",
        "\n",
        "n = (z*sigma/e)**2\n",
        "print(f'The number of samples required is {int(np.ceil(n))}')"
      ],
      "metadata": {
        "colab": {
          "base_uri": "https://localhost:8080/"
        },
        "id": "EaxZFt4R8SUj",
        "outputId": "26cf2a41-f381-4927-f76e-94f3435bc0f0"
      },
      "execution_count": 162,
      "outputs": [
        {
          "output_type": "stream",
          "name": "stdout",
          "text": [
            "The number of samples required is 45039\n"
          ]
        }
      ]
    },
    {
      "cell_type": "markdown",
      "source": [
        "So, we need 45039 samples to get such a margin of error."
      ],
      "metadata": {
        "id": "M0SESrU8VR4v"
      }
    },
    {
      "cell_type": "markdown",
      "source": [
        "**Now, let's consider that, using such a number of samples, we find that the mean is R\\$ 1,426.53. We can evaluate the confidence interval by:**"
      ],
      "metadata": {
        "id": "COZU-35UVksx"
      }
    },
    {
      "cell_type": "code",
      "source": [
        "income_mean = 1426.53\n",
        "\n",
        "interv = norm.interval(alpha = 0.95, loc = income_mean, scale = sigma/np.sqrt(n))\n",
        "interv"
      ],
      "metadata": {
        "colab": {
          "base_uri": "https://localhost:8080/"
        },
        "id": "0gqWFgDuVK0N",
        "outputId": "6c309244-1d42-4ae4-f0d8-7df8f54c4aef"
      },
      "execution_count": 165,
      "outputs": [
        {
          "output_type": "execute_result",
          "data": {
            "text/plain": [
              "(1416.53, 1436.53)"
            ]
          },
          "metadata": {},
          "execution_count": 165
        }
      ]
    },
    {
      "cell_type": "markdown",
      "source": [
        "Indeed, note that the lower bound is the same as the mean minus and plus 10!"
      ],
      "metadata": {
        "id": "-WgIWYvCWR7H"
      }
    },
    {
      "cell_type": "markdown",
      "source": [
        "Let's try to visualize the confidence interval. Here, we will get the mean of 1000 simulations, and we will show that, in most cases (close to 95\\%) this mean is inside our confidence interval."
      ],
      "metadata": {
        "id": "K6etmjEHWpD_"
      }
    },
    {
      "cell_type": "code",
      "source": [
        "import matplotlib.pyplot as plt\n",
        "\n",
        "num_sims = 1000\n",
        "\n",
        "income_5000 = dataset.query('Renda <= 5000')['Renda']\n",
        "\n",
        "means = [income_5000.sample(int(np.ceil(n)), random_state = (400 + i)).mean( ) for i in range(num_sims)]\n",
        "\n",
        "means = pd.DataFrame(means)\n",
        "\n",
        "ax = means.plot(style = '.')\n",
        "ax.figure.set_size_inches(12, 6)\n",
        "ax.hlines(y = income_mean, xmin = 0, xmax = num_sims, colors = 'black', linestyles = 'dashed')\n",
        "ax.hlines(y = interv[0], xmin = 0, xmax = num_sims, colors = 'r', linestyles = 'dashed')\n",
        "ax.hlines(y = interv[1], xmin = 0, xmax = num_sims, colors = 'r', linestyles = 'dashed')"
      ],
      "metadata": {
        "colab": {
          "base_uri": "https://localhost:8080/",
          "height": 391
        },
        "id": "JlvxCcwxWJNe",
        "outputId": "616f36ee-d40c-4a59-87a0-9e5fbd22de7b"
      },
      "execution_count": 177,
      "outputs": [
        {
          "output_type": "execute_result",
          "data": {
            "text/plain": [
              "<matplotlib.collections.LineCollection at 0x7f93be04f2d0>"
            ]
          },
          "metadata": {},
          "execution_count": 177
        },
        {
          "output_type": "display_data",
          "data": {
            "text/plain": [
              "<Figure size 864x432 with 1 Axes>"
            ],
            "image/png": "[encoded data removed]"
          },
          "metadata": {
            "needs_background": "light"
          }
        }
      ]
    },
    {
      "cell_type": "markdown",
      "source": [
        "Note that, indeed, from the 1,000 means evaluated, a very low number was not in the bounds delimited by the confidence interval."
      ],
      "metadata": {
        "id": "grBdsQ2YYjzZ"
      }
    },
    {
      "cell_type": "markdown",
      "source": [
        "**Most entries of our dataset (70\\%) have 'Sex = 0', referred to men. We need to randomly select groups of 10 people to verify differences in their income. What is the probability of selecting a group with 7 men and 3 women?**"
      ],
      "metadata": {
        "id": "b26kGsEqZ9GJ"
      }
    },
    {
      "cell_type": "markdown",
      "source": [
        "The real proportion between men and women in our dataset is:"
      ],
      "metadata": {
        "id": "3RMAPvFtbFTg"
      }
    },
    {
      "cell_type": "code",
      "source": [
        "rel_freq = dataset.Sexo.value_counts( normalize = True )\n",
        "rel_freq"
      ],
      "metadata": {
        "colab": {
          "base_uri": "https://localhost:8080/"
        },
        "id": "Epm4FmGIbEPB",
        "outputId": "2bf6b994-5872-4425-ca50-98eecd23305e"
      },
      "execution_count": 180,
      "outputs": [
        {
          "output_type": "execute_result",
          "data": {
            "text/plain": [
              "0    0.692998\n",
              "1    0.307002\n",
              "Name: Sexo, dtype: float64"
            ]
          },
          "metadata": {},
          "execution_count": 180
        }
      ]
    },
    {
      "cell_type": "markdown",
      "source": [
        "Now, let's evaluate the probability of selecting 7 men and 3 women:"
      ],
      "metadata": {
        "id": "575_aeskbQSN"
      }
    },
    {
      "cell_type": "code",
      "source": [
        "p = rel_freq[0]\n",
        "q = 1 - p\n",
        "n = 10\n",
        "k = 7\n",
        "P = binom.pmf(k, n, p)\n",
        "P"
      ],
      "metadata": {
        "colab": {
          "base_uri": "https://localhost:8080/"
        },
        "id": "FIoRnf1PXQm2",
        "outputId": "89d8c0c5-a065-4e2e-aa40-20e5c524bee0"
      },
      "execution_count": 182,
      "outputs": [
        {
          "output_type": "execute_result",
          "data": {
            "text/plain": [
              "0.2665193783299737"
            ]
          },
          "metadata": {},
          "execution_count": 182
        }
      ]
    },
    {
      "cell_type": "markdown",
      "source": [
        "So, the probability of selecting a group with exactly 7 men and 3 women is 26.65%."
      ],
      "metadata": {
        "id": "tcnZVbXGa4sO"
      }
    },
    {
      "cell_type": "markdown",
      "source": [
        "**How many groups should we select to get, on average, 100 groups made of 7 men and 3 women?**"
      ],
      "metadata": {
        "id": "rWLFEMqCa-E4"
      }
    },
    {
      "cell_type": "markdown",
      "source": [
        "The average of the binomial distribution is given by:\n",
        "\n",
        "\\begin{equation}\n",
        "\\mu = n \\, p\n",
        "\\end{equation}"
      ],
      "metadata": {
        "id": "1Lzp37vQbhvG"
      }
    },
    {
      "cell_type": "markdown",
      "source": [
        "Since the probability of finding one group with 7 men and 3 women is 26.65%, we can do:"
      ],
      "metadata": {
        "id": "Z-JCC3i4b21h"
      }
    },
    {
      "cell_type": "code",
      "source": [
        "100.0/P"
      ],
      "metadata": {
        "colab": {
          "base_uri": "https://localhost:8080/"
        },
        "id": "Lksm1es3axVS",
        "outputId": "df69a2b8-bc3f-4f7c-d278-437822c5026a"
      },
      "execution_count": 184,
      "outputs": [
        {
          "output_type": "execute_result",
          "data": {
            "text/plain": [
              "375.20723868788065"
            ]
          },
          "metadata": {},
          "execution_count": 184
        }
      ]
    },
    {
      "cell_type": "markdown",
      "source": [
        "So, we need, on average, 375 groups of 100 individuals so that, on average, we have 100 groups with 7 men and 3 women."
      ],
      "metadata": {
        "id": "m5tJx_d6cE8i"
      }
    },
    {
      "cell_type": "markdown",
      "source": [
        "**We have to do a new research about the monthly income of Brazilian people. To do so, we have R\\$ 150,000.00 at our disposal, and the average cost per person interviewed is R$ 100.00. We would like to get a margin of error of less than 10\\% with respect to the estimated mean. Preferrably, we would like a confidence level of 95\\%**.\n",
        "\n",
        " * First, let's make an estimate of the population parameters. For that end, we will make a random sampling with only 200 observations:"
      ],
      "metadata": {
        "id": "PgWP902AcNlZ"
      }
    },
    {
      "cell_type": "code",
      "source": [
        "sample_200 = dataset.Renda.sample(200, random_state = 101)\n",
        "\n",
        "est_mean = sample_200.mean( )\n",
        "est_std  = sample_200.std( )\n",
        "print(f\"Mean: {round(est_mean, 2)}\")\n",
        "print(f\"Std: {round(est_std, 2)} \")\n"
      ],
      "metadata": {
        "colab": {
          "base_uri": "https://localhost:8080/"
        },
        "id": "4HyAcV5mcCWm",
        "outputId": "3057f84a-f541-45ab-a2df-e41c9c1c2137"
      },
      "execution_count": 188,
      "outputs": [
        {
          "output_type": "stream",
          "name": "stdout",
          "text": [
            "Mean: 1964.2\n",
            "Std: 3139.89 \n"
          ]
        }
      ]
    },
    {
      "cell_type": "markdown",
      "source": [
        "* Using our estimates, let's get the sample size necessary for a confidence level of 90\\%, 95\\%, and 99\\%. For that end, we will consider that our population is infinite."
      ],
      "metadata": {
        "id": "FeMUrOMxdnN7"
      }
    },
    {
      "cell_type": "code",
      "source": [
        "sigma = est_std\n",
        "e = 0.10*est_mean\n",
        "\n",
        "z_90 = norm.ppf(0.95)\n",
        "z_95 = norm.ppf(0.975)\n",
        "z_99 = norm.ppf(0.995)\n",
        "\n",
        "n_90 = int(np.ceil((z_90*sigma/e)**2))\n",
        "n_95 = int(np.ceil((z_95*sigma/e)**2))\n",
        "n_99 = int(np.ceil((z_99*sigma/e)**2))\n",
        "\n",
        "print(f\"For a confidence level of 90%, we need {n_90} samples.\")\n",
        "print(f\"For a confidence level of 95%, we need {n_95} samples.\")\n",
        "print(f\"For a confidence level of 99%, we need {n_99} samples.\")"
      ],
      "metadata": {
        "colab": {
          "base_uri": "https://localhost:8080/"
        },
        "id": "tuVKxAshdeBL",
        "outputId": "c781c89f-4017-4dcf-e99c-47f7a9568e4c"
      },
      "execution_count": 191,
      "outputs": [
        {
          "output_type": "stream",
          "name": "stdout",
          "text": [
            "For a confidence level of 90%, we need 692 samples.\n",
            "For a confidence level of 95%, we need 982 samples.\n",
            "For a confidence level of 99%, we need 1696 samples.\n"
          ]
        }
      ]
    },
    {
      "cell_type": "markdown",
      "source": [
        "* Now, let's evaluate the cost of the research for each confidence level. We need to remember that we only have R\\$ 150,000.00 at our disposal."
      ],
      "metadata": {
        "id": "U5nMsA6jeqEV"
      }
    },
    {
      "cell_type": "code",
      "source": [
        "print(\"For a confidence level of 90%, the cost of the research is R$ {:,.2f}.\" .format(n_90*100))\n",
        "print(\"For a confidence level of 95%, the cost of the research is R$ {:,.2f}.\" .format(n_95*100))\n",
        "print(\"For a confidence level of 99%, the cost of the research is R$ {:,.2f}.\" .format(n_99*100))"
      ],
      "metadata": {
        "colab": {
          "base_uri": "https://localhost:8080/"
        },
        "id": "SYqfqip0eYZB",
        "outputId": "2cac0273-7270-4c45-8dbe-02bd28a12589"
      },
      "execution_count": 195,
      "outputs": [
        {
          "output_type": "stream",
          "name": "stdout",
          "text": [
            "For a confidence level of 90%, the cost of the research is R$ 69,200.00.\n",
            "For a confidence level of 95%, the cost of the research is R$ 98,200.00.\n",
            "For a confidence level of 99%, the cost of the research is R$ 169,600.00.\n"
          ]
        }
      ]
    },
    {
      "cell_type": "markdown",
      "source": [
        "So, the highest confidence level that is inside our budget is 95\\%."
      ],
      "metadata": {
        "id": "6ZJKqeSzhN8Z"
      }
    },
    {
      "cell_type": "markdown",
      "source": [
        "* Assuming the confidence level of 95\\%, we can now evaluate the confidence interval for the population mean."
      ],
      "metadata": {
        "id": "lB_HyaywhXZF"
      }
    },
    {
      "cell_type": "code",
      "source": [
        "n = 982\n",
        "sample_982 = dataset.Renda.sample(n, random_state = 101)\n",
        "\n",
        "est_mean_982 = sample_982.mean( )\n",
        "est_std_982  = sample_982.std( )\n",
        "\n",
        "sigma_982 = est_std_982/np.sqrt(n)\n",
        "\n",
        "interv = norm.interval(0.95, loc = est_mean_982, scale = sigma_982)\n",
        "interv"
      ],
      "metadata": {
        "colab": {
          "base_uri": "https://localhost:8080/"
        },
        "id": "L9hpEO6ffBwY",
        "outputId": "e4a6fa80-348a-4508-fd08-edc704c09d81"
      },
      "execution_count": 198,
      "outputs": [
        {
          "output_type": "execute_result",
          "data": {
            "text/plain": [
              "(1804.949081269165, 2195.2892079365374)"
            ]
          },
          "metadata": {},
          "execution_count": 198
        }
      ]
    },
    {
      "cell_type": "markdown",
      "source": [
        "So, considering a 95\\% confidence interval, the population mean is inside these bounds:\n",
        "\n",
        "\\begin{equation}\n",
        "1804.95 < \\mu < 2195.29\n",
        "\\end{equation}"
      ],
      "metadata": {
        "id": "V2KJV9OoiUmt"
      }
    },
    {
      "cell_type": "markdown",
      "source": [
        "* Note that we spent less than the total budget, and our margin of error was of R\\$ 195.17. What is the margin of error if we spend the entire budget at our disposal?"
      ],
      "metadata": {
        "id": "VAe5lrkYisYJ"
      }
    },
    {
      "cell_type": "code",
      "source": [
        "max_cost = 150000\n",
        "cost_per_interview = 100\n",
        "\n",
        "num_max = max_cost/cost_per_interview\n",
        "num_max"
      ],
      "metadata": {
        "colab": {
          "base_uri": "https://localhost:8080/"
        },
        "id": "853SFAQ-hyfJ",
        "outputId": "51e47a38-89f1-47d1-b865-2a95dfeb1443"
      },
      "execution_count": 201,
      "outputs": [
        {
          "output_type": "execute_result",
          "data": {
            "text/plain": [
              "1500.0"
            ]
          },
          "metadata": {},
          "execution_count": 201
        }
      ]
    },
    {
      "cell_type": "markdown",
      "source": [
        "So, we can do 1500 interviews. We can evaluate the error using:"
      ],
      "metadata": {
        "id": "mM7FyNhojOgb"
      }
    },
    {
      "cell_type": "code",
      "source": [
        "z = norm.ppf(0.975)\n",
        "\n",
        "e = z*(est_std/np.sqrt(num_max))\n",
        "e"
      ],
      "metadata": {
        "colab": {
          "base_uri": "https://localhost:8080/"
        },
        "id": "ZPd8yZmhjNIP",
        "outputId": "ee3b7619-9745-45da-8d4a-54f32974daae"
      },
      "execution_count": 202,
      "outputs": [
        {
          "output_type": "execute_result",
          "data": {
            "text/plain": [
              "158.89721122673737"
            ]
          },
          "metadata": {},
          "execution_count": 202
        }
      ]
    },
    {
      "cell_type": "markdown",
      "source": [
        "So, using the entire budget, our new margin of error is of R\\$ 158.89."
      ],
      "metadata": {
        "id": "3aKACVOAjgLf"
      }
    },
    {
      "cell_type": "markdown",
      "source": [
        "* Assuming a confidence level of 95%, how much would the research cost if we want a margin of error of only 5% (in relation to the mean)?"
      ],
      "metadata": {
        "id": "4ASZVXJ4jsPJ"
      }
    },
    {
      "cell_type": "code",
      "source": [
        "z = norm.ppf(0.975)\n",
        "e = est_mean*0.05\n",
        "\n",
        "n = int(np.ceil((z*est_std/e)**2))\n",
        "n"
      ],
      "metadata": {
        "colab": {
          "base_uri": "https://localhost:8080/"
        },
        "id": "3Qhu6mE-jdN-",
        "outputId": "47a68853-8ce2-4692-fbe4-40938a2e6951"
      },
      "execution_count": 205,
      "outputs": [
        {
          "output_type": "execute_result",
          "data": {
            "text/plain": [
              "3927"
            ]
          },
          "metadata": {},
          "execution_count": 205
        }
      ]
    },
    {
      "cell_type": "markdown",
      "source": [
        "So, we would need 3927 observations..."
      ],
      "metadata": {
        "id": "z7AjCJ2VkF4w"
      }
    },
    {
      "cell_type": "code",
      "source": [
        "n*100"
      ],
      "metadata": {
        "colab": {
          "base_uri": "https://localhost:8080/"
        },
        "id": "RycoId92kECH",
        "outputId": "0516401b-3d23-4612-e1a4-9da3c7da018b"
      },
      "execution_count": 206,
      "outputs": [
        {
          "output_type": "execute_result",
          "data": {
            "text/plain": [
              "392700"
            ]
          },
          "metadata": {},
          "execution_count": 206
        }
      ]
    },
    {
      "cell_type": "markdown",
      "source": [
        "which would cost R\\$ 392,700.00!"
      ],
      "metadata": {
        "id": "14GaHNALkPON"
      }
    }
  ]
}