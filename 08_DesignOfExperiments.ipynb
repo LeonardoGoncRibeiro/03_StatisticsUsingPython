{
  "nbformat": 4,
  "nbformat_minor": 0,
  "metadata": {
    "colab": {
      "name": "08_DesignOfExperiments.ipynb",
      "provenance": [],
      "collapsed_sections": [],
      "toc_visible": true,
      "authorship_tag": "ABX9TyPipM6nifUJQm/GfKs0Xykd",
      "include_colab_link": true
    },
    "kernelspec": {
      "name": "python3",
      "display_name": "Python 3"
    },
    "language_info": {
      "name": "python"
    }
  },
  "cells": [
    {
      "cell_type": "markdown",
      "metadata": {
        "id": "view-in-github",
        "colab_type": "text"
      },
      "source": [
        "<a href=\"https://colab.research.google.com/github/LeonardoGoncRibeiro/03_StatisticsUsingPython/blob/main/08_DesignOfExperiments.ipynb\" target=\"_parent\"><img src=\"https://colab.research.google.com/assets/colab-badge.svg\" alt=\"Open In Colab\"/></a>"
      ]
    },
    {
      "cell_type": "markdown",
      "source": [
        "# Statistics Using Python: Experiments - Tests, color maps and data analysis\n",
        "\n",
        "In this course, we will learn more about how to plan and perform experimentation on data. Thus, we will propose mathematical models to understand a given problem, and then we will test the statistical significance of a given model. We will then build a color map to help in interpreting data.\n",
        "\n",
        "During this course, we will use a dataset from a cupcake company, where we will try to understand how the amount of some ingredients used are related to the amount of cupcakes sold. To that end, we used experiments. Thus we will learn how to:\n",
        "\n",
        "*   Plan the experiment\n",
        "*   Collect the data\n",
        "*   Analyse the results\n",
        "\n"
      ],
      "metadata": {
        "id": "m3ZYOxHR90A_"
      }
    },
    {
      "cell_type": "markdown",
      "source": [
        "## Understanding our problem\n",
        "\n",
        "Here, we are worried with one aspect: how does the amount of flour and chocolate affect the number of cupcakes produced? \n",
        "\n",
        "To understand this, we need to make experiments: we will make cupcakes with different quantities of flour and chocolate and, then, we will get a good grasp of how much of each ingredient we need to produce a number of cupcakes. Using experiments, we are even able to create a function tell us the number of cupcakes produced using $x_1$ g of flour and $x_2$ g of chocolate."
      ],
      "metadata": {
        "id": "B-jjv1JF_XYe"
      }
    },
    {
      "cell_type": "markdown",
      "source": [
        "## Design of Experiments\n",
        "\n",
        "So, this experiment can be performed using different quantities of each ingredient. Then, we can use statistical methods to draw conclusions. However, how many experiments do we need? And which experiments are we going to perform? \n",
        "\n",
        "The number of experiments depends on how difficult it it to produce a single experiment. For instance, let's say here that we will use 4 experiments. Also, note that, when defining experiments, we should only change our interest features. If we change something else, we are not able to define if the change in the target was due to the change in our features or not. \n",
        "\n",
        "Thus, to plan an experiment, we need to:\n",
        "\n",
        "*   Define the desired features and the target.\n",
        "*   Have a clear goal in mind. We should only change our desired features, and we should only compare these using our defined target.\n",
        "\n"
      ],
      "metadata": {
        "id": "AhDRR7f3A4Vq"
      }
    },
    {
      "cell_type": "markdown",
      "source": [
        "\n",
        "\n",
        "### Defining our experiments\n",
        "\n",
        "To define our experiments, we first have to define the parameter range that will be tested. We know that we can't have a negative amount of chocolate. However, we also can't test every possible parameter value (until the infinite). So, we have to defined a parameter range that makes sense to our study. \n",
        "\n",
        "This parameter range requires previous knowledge about how data is structured and about previous tests one might have performed before. In some cases, we need to perform a bibliographic review, taking the experience of other people in consideration. After this, we can define that our limits are:\n",
        "\n",
        "*   Flour: 500 g to 1500 g\n",
        "*   Chocolate: 100 g to 500 g\n",
        "\n",
        "Ok. Now, we can define an area (or hypervolume, if we had more dimensions) where we can draw our experiments. However, there are still infinite possibilities for our experiment, since we have continuous values. \n",
        "\n",
        "Here, we can consider that these infinite possibilites are our population, and we have to draw sample from this population to make our tests. This is very similar to the ideia of statistical inferences, where we use samples of our population!\n",
        "\n",
        "And how we define these samples? We should use the lowest number of experiments possible, but this number should also be representative of our population. Also, preferrably, these should be evenly distributed in our design space, so that we can understand how each feature changes our target in the entire space.\n",
        "\n",
        "Thus, to fill these requirements, we can use different sampling schemes. The most simple scheme is the full factorial scheme. Here, we divide each dimension in equal parts, and use every pair possible as our experiments. However, the full factorial scheme requires a high number of experiments. Alternatively, one may simply employ a factorial scheme, where only the corners of the design space are used as experiments. Thus, in our case, we should consider four experiments:\n",
        "\n",
        "*   500 g Flour, 100 g Chocolate;\n",
        "*   1500 g Flour, 100 g Chocolate;\n",
        "*   500 g Flour, 500 g Chocolate;\n",
        "*   1500 g Flour, 500 g Chocolate;\n",
        "\n",
        "Other sampling schemes can be found in:\n",
        "\n",
        "https://en.wikipedia.org/wiki/Sampling_(statistics)\n",
        "\n",
        "https://en.wikipedia.org/wiki/Latin_hypercube_sampling\n",
        "\n",
        "https://en.wikipedia.org/wiki/Low-discrepancy_sequence\n",
        "\n",
        "Finally, usually, we normalize our data points from an experiment. To do so, we can simply put the variables in the range $[-1, 1]$, considering our previously defined bounds.\n"
      ],
      "metadata": {
        "id": "SNYtwkW7iBQG"
      }
    },
    {
      "cell_type": "markdown",
      "source": [
        "Thus, let's define our experiment in Python. For that end, we will use the Pandas and the Numpy libraries."
      ],
      "metadata": {
        "id": "lWazTpW-o3tw"
      }
    },
    {
      "cell_type": "code",
      "execution_count": 1,
      "metadata": {
        "id": "o7rWzeKz9UKn"
      },
      "outputs": [],
      "source": [
        "import pandas as pd\n",
        "import numpy as np"
      ]
    },
    {
      "cell_type": "markdown",
      "source": [
        "Let's say that we did our four experiments, and got the following results:\n",
        "\n",
        "*   500 g Flour, 100 g Chocolate (-1, -1): 19 cupcakes;\n",
        "*   1500 g Flour, 100 g Chocolate (+1, -1): 37 cupcakes;\n",
        "*   500 g Flour, 500 g Chocolate (-1, +1): 24 cupcakes;\n",
        "*   1500 g Flour, 500 g Chocolate (+1, +1): 49 cupcakes;\n",
        "\n",
        "Let's create a table with these results. The creation of a Design of Experiments can be performed in Python using the pyDOE2 library:"
      ],
      "metadata": {
        "id": "NxOgPPEHpQ-5"
      }
    },
    {
      "cell_type": "code",
      "source": [
        "!pip install pyDOE2"
      ],
      "metadata": {
        "colab": {
          "base_uri": "https://localhost:8080/"
        },
        "id": "tnqqaxJAqRFB",
        "outputId": "1db9dff0-c02b-4c52-baee-44e98ba1d43c"
      },
      "execution_count": 2,
      "outputs": [
        {
          "output_type": "stream",
          "name": "stdout",
          "text": [
            "Looking in indexes: https://pypi.org/simple, https://us-python.pkg.dev/colab-wheels/public/simple/\n",
            "Collecting pyDOE2\n",
            "  Downloading pyDOE2-1.3.0.tar.gz (19 kB)\n",
            "Requirement already satisfied: numpy in /usr/local/lib/python3.7/dist-packages (from pyDOE2) (1.21.6)\n",
            "Requirement already satisfied: scipy in /usr/local/lib/python3.7/dist-packages (from pyDOE2) (1.4.1)\n",
            "Building wheels for collected packages: pyDOE2\n",
            "  Building wheel for pyDOE2 (setup.py) ... \u001b[?25l\u001b[?25hdone\n",
            "  Created wheel for pyDOE2: filename=pyDOE2-1.3.0-py3-none-any.whl size=25539 sha256=669eb2b07e9a15adea99bbb78d1b1ba150d23446de6afa9e98ee747c8246034b\n",
            "  Stored in directory: /root/.cache/pip/wheels/49/91/2d/d08e80806bf7756193541f6c03c0492af288fcd6158d3d0998\n",
            "Successfully built pyDOE2\n",
            "Installing collected packages: pyDOE2\n",
            "Successfully installed pyDOE2-1.3.0\n"
          ]
        }
      ]
    },
    {
      "cell_type": "code",
      "source": [
        "import pyDOE2 as doe\n",
        "\n",
        "dim = 2\n",
        "\n",
        "experiments = doe.ff2n(dim)"
      ],
      "metadata": {
        "id": "lG6hyCr2o_gn"
      },
      "execution_count": 3,
      "outputs": []
    },
    {
      "cell_type": "code",
      "source": [
        "experiments"
      ],
      "metadata": {
        "colab": {
          "base_uri": "https://localhost:8080/"
        },
        "id": "CXKypCvyqKD3",
        "outputId": "c7a553f3-141c-41d6-ef59-b01907ed8055"
      },
      "execution_count": 4,
      "outputs": [
        {
          "output_type": "execute_result",
          "data": {
            "text/plain": [
              "array([[-1., -1.],\n",
              "       [ 1., -1.],\n",
              "       [-1.,  1.],\n",
              "       [ 1.,  1.]])"
            ]
          },
          "metadata": {},
          "execution_count": 4
        }
      ]
    },
    {
      "cell_type": "markdown",
      "source": [
        "Nice! Now, let's store this in a DataFrame:"
      ],
      "metadata": {
        "id": "KbKC8xLKqcYi"
      }
    },
    {
      "cell_type": "code",
      "source": [
        "exper = pd.DataFrame(experiments, columns = ['Flour', 'Chocolate'])\n",
        "exper"
      ],
      "metadata": {
        "colab": {
          "base_uri": "https://localhost:8080/",
          "height": 175
        },
        "id": "4viSSjgXqaNf",
        "outputId": "e7185691-ced2-40bd-9a05-72d2f6ad0b46"
      },
      "execution_count": 5,
      "outputs": [
        {
          "output_type": "execute_result",
          "data": {
            "text/plain": [
              "   Flour  Chocolate\n",
              "0   -1.0       -1.0\n",
              "1    1.0       -1.0\n",
              "2   -1.0        1.0\n",
              "3    1.0        1.0"
            ],
            "text/html": [
              "\n",
              "  <div id=\"df-dd53eb48-0092-4ccf-91a9-0defa117b087\">\n",
              "    <div class=\"colab-df-container\">\n",
              "      <div>\n",
              "<style scoped>\n",
              "    .dataframe tbody tr th:only-of-type {\n",
              "        vertical-align: middle;\n",
              "    }\n",
              "\n",
              "    .dataframe tbody tr th {\n",
              "        vertical-align: top;\n",
              "    }\n",
              "\n",
              "    .dataframe thead th {\n",
              "        text-align: right;\n",
              "    }\n",
              "</style>\n",
              "<table border=\"1\" class=\"dataframe\">\n",
              "  <thead>\n",
              "    <tr style=\"text-align: right;\">\n",
              "      <th></th>\n",
              "      <th>Flour</th>\n",
              "      <th>Chocolate</th>\n",
              "    </tr>\n",
              "  </thead>\n",
              "  <tbody>\n",
              "    <tr>\n",
              "      <th>0</th>\n",
              "      <td>-1.0</td>\n",
              "      <td>-1.0</td>\n",
              "    </tr>\n",
              "    <tr>\n",
              "      <th>1</th>\n",
              "      <td>1.0</td>\n",
              "      <td>-1.0</td>\n",
              "    </tr>\n",
              "    <tr>\n",
              "      <th>2</th>\n",
              "      <td>-1.0</td>\n",
              "      <td>1.0</td>\n",
              "    </tr>\n",
              "    <tr>\n",
              "      <th>3</th>\n",
              "      <td>1.0</td>\n",
              "      <td>1.0</td>\n",
              "    </tr>\n",
              "  </tbody>\n",
              "</table>\n",
              "</div>\n",
              "      <button class=\"colab-df-convert\" onclick=\"convertToInteractive('df-dd53eb48-0092-4ccf-91a9-0defa117b087')\"\n",
              "              title=\"Convert this dataframe to an interactive table.\"\n",
              "              style=\"display:none;\">\n",
              "        \n",
              "  <svg xmlns=\"http://www.w3.org/2000/svg\" height=\"24px\"viewBox=\"0 0 24 24\"\n",
              "       width=\"24px\">\n",
              "    <path d=\"M0 0h24v24H0V0z\" fill=\"none\"/>\n",
              "    <path d=\"M18.56 5.44l.94 2.06.94-2.06 2.06-.94-2.06-.94-.94-2.06-.94 2.06-2.06.94zm-11 1L8.5 8.5l.94-2.06 2.06-.94-2.06-.94L8.5 2.5l-.94 2.06-2.06.94zm10 10l.94 2.06.94-2.06 2.06-.94-2.06-.94-.94-2.06-.94 2.06-2.06.94z\"/><path d=\"M17.41 7.96l-1.37-1.37c-.4-.4-.92-.59-1.43-.59-.52 0-1.04.2-1.43.59L10.3 9.45l-7.72 7.72c-.78.78-.78 2.05 0 2.83L4 21.41c.39.39.9.59 1.41.59.51 0 1.02-.2 1.41-.59l7.78-7.78 2.81-2.81c.8-.78.8-2.07 0-2.86zM5.41 20L4 18.59l7.72-7.72 1.47 1.35L5.41 20z\"/>\n",
              "  </svg>\n",
              "      </button>\n",
              "      \n",
              "  <style>\n",
              "    .colab-df-container {\n",
              "      display:flex;\n",
              "      flex-wrap:wrap;\n",
              "      gap: 12px;\n",
              "    }\n",
              "\n",
              "    .colab-df-convert {\n",
              "      background-color: #E8F0FE;\n",
              "      border: none;\n",
              "      border-radius: 50%;\n",
              "      cursor: pointer;\n",
              "      display: none;\n",
              "      fill: #1967D2;\n",
              "      height: 32px;\n",
              "      padding: 0 0 0 0;\n",
              "      width: 32px;\n",
              "    }\n",
              "\n",
              "    .colab-df-convert:hover {\n",
              "      background-color: #E2EBFA;\n",
              "      box-shadow: 0px 1px 2px rgba(60, 64, 67, 0.3), 0px 1px 3px 1px rgba(60, 64, 67, 0.15);\n",
              "      fill: #174EA6;\n",
              "    }\n",
              "\n",
              "    [theme=dark] .colab-df-convert {\n",
              "      background-color: #3B4455;\n",
              "      fill: #D2E3FC;\n",
              "    }\n",
              "\n",
              "    [theme=dark] .colab-df-convert:hover {\n",
              "      background-color: #434B5C;\n",
              "      box-shadow: 0px 1px 3px 1px rgba(0, 0, 0, 0.15);\n",
              "      filter: drop-shadow(0px 1px 2px rgba(0, 0, 0, 0.3));\n",
              "      fill: #FFFFFF;\n",
              "    }\n",
              "  </style>\n",
              "\n",
              "      <script>\n",
              "        const buttonEl =\n",
              "          document.querySelector('#df-dd53eb48-0092-4ccf-91a9-0defa117b087 button.colab-df-convert');\n",
              "        buttonEl.style.display =\n",
              "          google.colab.kernel.accessAllowed ? 'block' : 'none';\n",
              "\n",
              "        async function convertToInteractive(key) {\n",
              "          const element = document.querySelector('#df-dd53eb48-0092-4ccf-91a9-0defa117b087');\n",
              "          const dataTable =\n",
              "            await google.colab.kernel.invokeFunction('convertToInteractive',\n",
              "                                                     [key], {});\n",
              "          if (!dataTable) return;\n",
              "\n",
              "          const docLinkHtml = 'Like what you see? Visit the ' +\n",
              "            '<a target=\"_blank\" href=https://colab.research.google.com/notebooks/data_table.ipynb>data table notebook</a>'\n",
              "            + ' to learn more about interactive tables.';\n",
              "          element.innerHTML = '';\n",
              "          dataTable['output_type'] = 'display_data';\n",
              "          await google.colab.output.renderOutput(dataTable, element);\n",
              "          const docLink = document.createElement('div');\n",
              "          docLink.innerHTML = docLinkHtml;\n",
              "          element.appendChild(docLink);\n",
              "        }\n",
              "      </script>\n",
              "    </div>\n",
              "  </div>\n",
              "  "
            ]
          },
          "metadata": {},
          "execution_count": 5
        }
      ]
    },
    {
      "cell_type": "markdown",
      "source": [
        "Now, let's add our results:"
      ],
      "metadata": {
        "id": "KZYnpy-Oqn8t"
      }
    },
    {
      "cell_type": "code",
      "source": [
        "exper['Num_Cupcakes'] = [19, 37, 24, 49]\n",
        "exper"
      ],
      "metadata": {
        "colab": {
          "base_uri": "https://localhost:8080/",
          "height": 175
        },
        "id": "_tfMJ5TsqmD8",
        "outputId": "0ca9bae6-b785-4bfb-804f-00df99208a76"
      },
      "execution_count": 6,
      "outputs": [
        {
          "output_type": "execute_result",
          "data": {
            "text/plain": [
              "   Flour  Chocolate  Num_Cupcakes\n",
              "0   -1.0       -1.0            19\n",
              "1    1.0       -1.0            37\n",
              "2   -1.0        1.0            24\n",
              "3    1.0        1.0            49"
            ],
            "text/html": [
              "\n",
              "  <div id=\"df-99804395-9c7b-4bb1-ab66-2d70d5b9f131\">\n",
              "    <div class=\"colab-df-container\">\n",
              "      <div>\n",
              "<style scoped>\n",
              "    .dataframe tbody tr th:only-of-type {\n",
              "        vertical-align: middle;\n",
              "    }\n",
              "\n",
              "    .dataframe tbody tr th {\n",
              "        vertical-align: top;\n",
              "    }\n",
              "\n",
              "    .dataframe thead th {\n",
              "        text-align: right;\n",
              "    }\n",
              "</style>\n",
              "<table border=\"1\" class=\"dataframe\">\n",
              "  <thead>\n",
              "    <tr style=\"text-align: right;\">\n",
              "      <th></th>\n",
              "      <th>Flour</th>\n",
              "      <th>Chocolate</th>\n",
              "      <th>Num_Cupcakes</th>\n",
              "    </tr>\n",
              "  </thead>\n",
              "  <tbody>\n",
              "    <tr>\n",
              "      <th>0</th>\n",
              "      <td>-1.0</td>\n",
              "      <td>-1.0</td>\n",
              "      <td>19</td>\n",
              "    </tr>\n",
              "    <tr>\n",
              "      <th>1</th>\n",
              "      <td>1.0</td>\n",
              "      <td>-1.0</td>\n",
              "      <td>37</td>\n",
              "    </tr>\n",
              "    <tr>\n",
              "      <th>2</th>\n",
              "      <td>-1.0</td>\n",
              "      <td>1.0</td>\n",
              "      <td>24</td>\n",
              "    </tr>\n",
              "    <tr>\n",
              "      <th>3</th>\n",
              "      <td>1.0</td>\n",
              "      <td>1.0</td>\n",
              "      <td>49</td>\n",
              "    </tr>\n",
              "  </tbody>\n",
              "</table>\n",
              "</div>\n",
              "      <button class=\"colab-df-convert\" onclick=\"convertToInteractive('df-99804395-9c7b-4bb1-ab66-2d70d5b9f131')\"\n",
              "              title=\"Convert this dataframe to an interactive table.\"\n",
              "              style=\"display:none;\">\n",
              "        \n",
              "  <svg xmlns=\"http://www.w3.org/2000/svg\" height=\"24px\"viewBox=\"0 0 24 24\"\n",
              "       width=\"24px\">\n",
              "    <path d=\"M0 0h24v24H0V0z\" fill=\"none\"/>\n",
              "    <path d=\"M18.56 5.44l.94 2.06.94-2.06 2.06-.94-2.06-.94-.94-2.06-.94 2.06-2.06.94zm-11 1L8.5 8.5l.94-2.06 2.06-.94-2.06-.94L8.5 2.5l-.94 2.06-2.06.94zm10 10l.94 2.06.94-2.06 2.06-.94-2.06-.94-.94-2.06-.94 2.06-2.06.94z\"/><path d=\"M17.41 7.96l-1.37-1.37c-.4-.4-.92-.59-1.43-.59-.52 0-1.04.2-1.43.59L10.3 9.45l-7.72 7.72c-.78.78-.78 2.05 0 2.83L4 21.41c.39.39.9.59 1.41.59.51 0 1.02-.2 1.41-.59l7.78-7.78 2.81-2.81c.8-.78.8-2.07 0-2.86zM5.41 20L4 18.59l7.72-7.72 1.47 1.35L5.41 20z\"/>\n",
              "  </svg>\n",
              "      </button>\n",
              "      \n",
              "  <style>\n",
              "    .colab-df-container {\n",
              "      display:flex;\n",
              "      flex-wrap:wrap;\n",
              "      gap: 12px;\n",
              "    }\n",
              "\n",
              "    .colab-df-convert {\n",
              "      background-color: #E8F0FE;\n",
              "      border: none;\n",
              "      border-radius: 50%;\n",
              "      cursor: pointer;\n",
              "      display: none;\n",
              "      fill: #1967D2;\n",
              "      height: 32px;\n",
              "      padding: 0 0 0 0;\n",
              "      width: 32px;\n",
              "    }\n",
              "\n",
              "    .colab-df-convert:hover {\n",
              "      background-color: #E2EBFA;\n",
              "      box-shadow: 0px 1px 2px rgba(60, 64, 67, 0.3), 0px 1px 3px 1px rgba(60, 64, 67, 0.15);\n",
              "      fill: #174EA6;\n",
              "    }\n",
              "\n",
              "    [theme=dark] .colab-df-convert {\n",
              "      background-color: #3B4455;\n",
              "      fill: #D2E3FC;\n",
              "    }\n",
              "\n",
              "    [theme=dark] .colab-df-convert:hover {\n",
              "      background-color: #434B5C;\n",
              "      box-shadow: 0px 1px 3px 1px rgba(0, 0, 0, 0.15);\n",
              "      filter: drop-shadow(0px 1px 2px rgba(0, 0, 0, 0.3));\n",
              "      fill: #FFFFFF;\n",
              "    }\n",
              "  </style>\n",
              "\n",
              "      <script>\n",
              "        const buttonEl =\n",
              "          document.querySelector('#df-99804395-9c7b-4bb1-ab66-2d70d5b9f131 button.colab-df-convert');\n",
              "        buttonEl.style.display =\n",
              "          google.colab.kernel.accessAllowed ? 'block' : 'none';\n",
              "\n",
              "        async function convertToInteractive(key) {\n",
              "          const element = document.querySelector('#df-99804395-9c7b-4bb1-ab66-2d70d5b9f131');\n",
              "          const dataTable =\n",
              "            await google.colab.kernel.invokeFunction('convertToInteractive',\n",
              "                                                     [key], {});\n",
              "          if (!dataTable) return;\n",
              "\n",
              "          const docLinkHtml = 'Like what you see? Visit the ' +\n",
              "            '<a target=\"_blank\" href=https://colab.research.google.com/notebooks/data_table.ipynb>data table notebook</a>'\n",
              "            + ' to learn more about interactive tables.';\n",
              "          element.innerHTML = '';\n",
              "          dataTable['output_type'] = 'display_data';\n",
              "          await google.colab.output.renderOutput(dataTable, element);\n",
              "          const docLink = document.createElement('div');\n",
              "          docLink.innerHTML = docLinkHtml;\n",
              "          element.appendChild(docLink);\n",
              "        }\n",
              "      </script>\n",
              "    </div>\n",
              "  </div>\n",
              "  "
            ]
          },
          "metadata": {},
          "execution_count": 6
        }
      ]
    },
    {
      "cell_type": "markdown",
      "source": [
        "Great! Now, let's try to visualize our experiments. We are going to do this using the seaborn package:"
      ],
      "metadata": {
        "id": "Z1pb_mo-jY38"
      }
    },
    {
      "cell_type": "code",
      "source": [
        "import seaborn as sns\n",
        "\n",
        "sns.set_palette('terrain')\n",
        "sns.set_style('darkgrid')"
      ],
      "metadata": {
        "id": "i2OgSnF5qvko"
      },
      "execution_count": 7,
      "outputs": []
    },
    {
      "cell_type": "markdown",
      "source": [
        "Let's plot a *lmplot( )* for our experiments:"
      ],
      "metadata": {
        "id": "hy5vXB0wj3oH"
      }
    },
    {
      "cell_type": "code",
      "source": [
        "sns.lmplot(data = exper, x = 'Flour', hue = 'Chocolate', y = 'Num_Cupcakes', ci = False)"
      ],
      "metadata": {
        "colab": {
          "base_uri": "https://localhost:8080/",
          "height": 386
        },
        "id": "UvP4FUSHj9Jo",
        "outputId": "2defb9e3-5f06-49fa-fc82-1d45972dc6e8"
      },
      "execution_count": 8,
      "outputs": [
        {
          "output_type": "execute_result",
          "data": {
            "text/plain": [
              "<seaborn.axisgrid.FacetGrid at 0x7f372daceb90>"
            ]
          },
          "metadata": {},
          "execution_count": 8
        },
        {
          "output_type": "display_data",
          "data": {
            "text/plain": [
              "<Figure size 417.75x360 with 1 Axes>"
            ],
            "image/png": "[encoded data removed]"
          },
          "metadata": {}
        }
      ]
    },
    {
      "cell_type": "markdown",
      "source": [
        "Note that we have two lines: one for the lower bound of chocolate, and other for the upper bound. Note that the inclination of the line is different. Let's make a similar graph, now for the chocolate:"
      ],
      "metadata": {
        "id": "cKGdRO0MkaQx"
      }
    },
    {
      "cell_type": "code",
      "source": [
        "sns.lmplot(data = exper, x = 'Chocolate', hue = 'Flour', y = 'Num_Cupcakes', ci = False)"
      ],
      "metadata": {
        "colab": {
          "base_uri": "https://localhost:8080/",
          "height": 386
        },
        "id": "DjE6JdmLkQMw",
        "outputId": "b3fb0241-19fc-4d68-feb7-a53844fc8146"
      },
      "execution_count": 9,
      "outputs": [
        {
          "output_type": "execute_result",
          "data": {
            "text/plain": [
              "<seaborn.axisgrid.FacetGrid at 0x7f372d267d50>"
            ]
          },
          "metadata": {},
          "execution_count": 9
        },
        {
          "output_type": "display_data",
          "data": {
            "text/plain": [
              "<Figure size 415.5x360 with 1 Axes>"
            ],
            "image/png": "[encoded data removed]"
          },
          "metadata": {}
        }
      ]
    },
    {
      "cell_type": "markdown",
      "source": [
        "Note that the inclination of the regression lines is higher when we change flour. We can confirm this hypothesis by creating a model based on our data."
      ],
      "metadata": {
        "id": "V79r7v-mlFr4"
      }
    },
    {
      "cell_type": "markdown",
      "source": [
        "## Creating a model for our data\n",
        "\n",
        "So, how can we do this model? Note that both the flour and the chocolate have an effect on the number of cupcakes produced. Also, note that there is a change in the inclination of the regression line when we change the amount of chocolate or flour. This means that there is an interation between these variables. Thus, we could build a model in the form:\n",
        "\n",
        "\\begin{equation}\n",
        "\\hat{y} = \\beta_0 + \\beta_1 \\, x_{flour} + \\beta_2 \\, x_{choc} + \\beta_3 \\, x_{flour} \\, x_{choc}\n",
        "\\end{equation}\n",
        "\n",
        "Thus, let's create our model using statsmodels:"
      ],
      "metadata": {
        "id": "P8Z-EVd4omm-"
      }
    },
    {
      "cell_type": "code",
      "source": [
        "import statsmodels.api as sm\n",
        "import statsmodels.formula.api as smf"
      ],
      "metadata": {
        "colab": {
          "base_uri": "https://localhost:8080/"
        },
        "id": "NC1MxYxlk9xo",
        "outputId": "4e3b8d25-baf5-4390-c5ff-69c2a78d31e0"
      },
      "execution_count": 10,
      "outputs": [
        {
          "output_type": "stream",
          "name": "stderr",
          "text": [
            "/usr/local/lib/python3.7/dist-packages/statsmodels/tools/_testing.py:19: FutureWarning: pandas.util.testing is deprecated. Use the functions in the public API at pandas.testing instead.\n",
            "  import pandas.util.testing as tm\n"
          ]
        }
      ]
    },
    {
      "cell_type": "markdown",
      "source": [
        "Here, we will use the OLS method for statsmodels:"
      ],
      "metadata": {
        "id": "LSs5xHurnN-C"
      }
    },
    {
      "cell_type": "code",
      "source": [
        "model = smf.ols(data = exper, formula = 'Num_Cupcakes ~ Flour + Chocolate + Flour:Chocolate')"
      ],
      "metadata": {
        "id": "5nRrwdyenDYH"
      },
      "execution_count": 11,
      "outputs": []
    },
    {
      "cell_type": "code",
      "source": [
        "result = model.fit( )"
      ],
      "metadata": {
        "id": "rVDixeFQngEz"
      },
      "execution_count": 12,
      "outputs": []
    },
    {
      "cell_type": "markdown",
      "source": [
        "Now, let's see the results for our model fitting:"
      ],
      "metadata": {
        "id": "bnXv933inn93"
      }
    },
    {
      "cell_type": "code",
      "source": [
        "print(result.summary( ))"
      ],
      "metadata": {
        "colab": {
          "base_uri": "https://localhost:8080/"
        },
        "id": "mJ41b8jUnkOR",
        "outputId": "7a9cd472-96e3-4dfe-d23e-75cf1573b064"
      },
      "execution_count": 13,
      "outputs": [
        {
          "output_type": "stream",
          "name": "stdout",
          "text": [
            "                            OLS Regression Results                            \n",
            "==============================================================================\n",
            "Dep. Variable:           Num_Cupcakes   R-squared:                       1.000\n",
            "Model:                            OLS   Adj. R-squared:                    nan\n",
            "Method:                 Least Squares   F-statistic:                       nan\n",
            "Date:                Mon, 30 May 2022   Prob (F-statistic):                nan\n",
            "Time:                        21:42:15   Log-Likelihood:                    inf\n",
            "No. Observations:                   4   AIC:                              -inf\n",
            "Df Residuals:                       0   BIC:                              -inf\n",
            "Df Model:                           3                                         \n",
            "Covariance Type:            nonrobust                                         \n",
            "===================================================================================\n",
            "                      coef    std err          t      P>|t|      [0.025      0.975]\n",
            "-----------------------------------------------------------------------------------\n",
            "Intercept          32.2500        nan        nan        nan         nan         nan\n",
            "Flour              10.7500        nan        nan        nan         nan         nan\n",
            "Chocolate           4.2500        nan        nan        nan         nan         nan\n",
            "Flour:Chocolate     1.7500        nan        nan        nan         nan         nan\n",
            "==============================================================================\n",
            "Omnibus:                          nan   Durbin-Watson:                     nan\n",
            "Prob(Omnibus):                    nan   Jarque-Bera (JB):                1.500\n",
            "Skew:                           0.000   Prob(JB):                        0.472\n",
            "Kurtosis:                       0.000   Cond. No.                         1.00\n",
            "==============================================================================\n",
            "\n",
            "Warnings:\n",
            "[1] Standard Errors assume that the covariance matrix of the errors is correctly specified.\n"
          ]
        },
        {
          "output_type": "stream",
          "name": "stderr",
          "text": [
            "/usr/local/lib/python3.7/dist-packages/statsmodels/stats/stattools.py:71: ValueWarning: omni_normtest is not valid with less than 8 observations; 4 samples were given.\n",
            "  \"samples were given.\" % int(n), ValueWarning)\n",
            "/usr/local/lib/python3.7/dist-packages/statsmodels/regression/linear_model.py:1648: RuntimeWarning: divide by zero encountered in true_divide\n",
            "  return 1 - (np.divide(self.nobs - self.k_constant, self.df_resid)\n",
            "/usr/local/lib/python3.7/dist-packages/statsmodels/regression/linear_model.py:1649: RuntimeWarning: invalid value encountered in double_scalars\n",
            "  * (1 - self.rsquared))\n",
            "/usr/local/lib/python3.7/dist-packages/statsmodels/regression/linear_model.py:1665: RuntimeWarning: invalid value encountered in double_scalars\n",
            "  return self.ssr/self.df_resid\n",
            "/usr/local/lib/python3.7/dist-packages/statsmodels/regression/linear_model.py:867: RuntimeWarning: divide by zero encountered in log\n",
            "  llf = -nobs2*np.log(2*np.pi) - nobs2*np.log(ssr / nobs) - nobs2\n",
            "/usr/local/lib/python3.7/dist-packages/statsmodels/stats/stattools.py:46: RuntimeWarning: invalid value encountered in double_scalars\n",
            "  dw = np.sum(diff_resids**2, axis=axis) / np.sum(resids**2, axis=axis)\n",
            "/usr/local/lib/python3.7/dist-packages/statsmodels/regression/linear_model.py:1578: RuntimeWarning: invalid value encountered in double_scalars\n",
            "  return np.dot(wresid, wresid) / self.df_resid\n"
          ]
        }
      ]
    },
    {
      "cell_type": "markdown",
      "source": [
        "Analyzing the coefficient for each variable, we have a sense of how important that variable is. Here, we see that flour ($\\beta_1 = 10.75$) is more important than chocolate ($\\beta_2 = 4.25$), which is more important than the interation between the features ($\\beta_3 = 1.75$).\n",
        "\n",
        "Now, let's understand if these coefficients are able to express the behavior of our target. To do this, we need to perfom some tests to analyze our statistical significance. "
      ],
      "metadata": {
        "id": "gZRbx253nxAZ"
      }
    },
    {
      "cell_type": "markdown",
      "source": [
        "# Statistical analyses\n",
        "\n",
        "To perform an analysis of the statistical significance of our model, we need to use data from our experiment. However, the amount of information we got is limited. \n",
        "\n",
        "We did 4 experiments, and our model has 4 parameters ($\\beta_0$, $\\beta_1$, $\\beta_2$, and $\\beta_3$). Thus, the residuals degrees of freedom is 0. To perform statistical analyses, we need the DOF to be higher than 0. From the summary, we see that, indeed, no statistical analyses over the model coefficients where performed.\n",
        "\n",
        "Thus, we have two options: increase the number of experiments, or decrease the number of parameters. Here, we will take the former alternative. \n",
        "\n",
        "Thus, we will do four new experiments, all in the same point (0, 0), which is related to 1000 g of flour and 300 g of chocolate. Let's say that, in these four experiments, we got the following amount of cupcakes: 29, 30, 29, 30. So, let's make these experiments:"
      ],
      "metadata": {
        "id": "guYLQO23oh1v"
      }
    },
    {
      "cell_type": "code",
      "source": [
        "center = np.array([[0, 0, 29],\n",
        "                   [0, 0, 30],\n",
        "                   [0, 0, 29],\n",
        "                   [0, 0, 30]])"
      ],
      "metadata": {
        "id": "BhaBXZannq8P"
      },
      "execution_count": 14,
      "outputs": []
    },
    {
      "cell_type": "code",
      "source": [
        "center_df = pd.DataFrame(center, columns = ['Flour', 'Chocolate', 'Num_Cupcakes'], index = [4, 5, 6, 7])"
      ],
      "metadata": {
        "id": "WE0NaCTqkwBT"
      },
      "execution_count": 15,
      "outputs": []
    },
    {
      "cell_type": "code",
      "source": [
        "exper = exper.append(center_df)\n",
        "exper"
      ],
      "metadata": {
        "colab": {
          "base_uri": "https://localhost:8080/",
          "height": 300
        },
        "id": "a6sZdZnbk6_S",
        "outputId": "68cfed2b-9f87-4b33-af5d-b050c5aee58b"
      },
      "execution_count": 16,
      "outputs": [
        {
          "output_type": "execute_result",
          "data": {
            "text/plain": [
              "   Flour  Chocolate  Num_Cupcakes\n",
              "0   -1.0       -1.0            19\n",
              "1    1.0       -1.0            37\n",
              "2   -1.0        1.0            24\n",
              "3    1.0        1.0            49\n",
              "4    0.0        0.0            29\n",
              "5    0.0        0.0            30\n",
              "6    0.0        0.0            29\n",
              "7    0.0        0.0            30"
            ],
            "text/html": [
              "\n",
              "  <div id=\"df-1b6b29f2-be22-41e6-abe3-b82875db5d72\">\n",
              "    <div class=\"colab-df-container\">\n",
              "      <div>\n",
              "<style scoped>\n",
              "    .dataframe tbody tr th:only-of-type {\n",
              "        vertical-align: middle;\n",
              "    }\n",
              "\n",
              "    .dataframe tbody tr th {\n",
              "        vertical-align: top;\n",
              "    }\n",
              "\n",
              "    .dataframe thead th {\n",
              "        text-align: right;\n",
              "    }\n",
              "</style>\n",
              "<table border=\"1\" class=\"dataframe\">\n",
              "  <thead>\n",
              "    <tr style=\"text-align: right;\">\n",
              "      <th></th>\n",
              "      <th>Flour</th>\n",
              "      <th>Chocolate</th>\n",
              "      <th>Num_Cupcakes</th>\n",
              "    </tr>\n",
              "  </thead>\n",
              "  <tbody>\n",
              "    <tr>\n",
              "      <th>0</th>\n",
              "      <td>-1.0</td>\n",
              "      <td>-1.0</td>\n",
              "      <td>19</td>\n",
              "    </tr>\n",
              "    <tr>\n",
              "      <th>1</th>\n",
              "      <td>1.0</td>\n",
              "      <td>-1.0</td>\n",
              "      <td>37</td>\n",
              "    </tr>\n",
              "    <tr>\n",
              "      <th>2</th>\n",
              "      <td>-1.0</td>\n",
              "      <td>1.0</td>\n",
              "      <td>24</td>\n",
              "    </tr>\n",
              "    <tr>\n",
              "      <th>3</th>\n",
              "      <td>1.0</td>\n",
              "      <td>1.0</td>\n",
              "      <td>49</td>\n",
              "    </tr>\n",
              "    <tr>\n",
              "      <th>4</th>\n",
              "      <td>0.0</td>\n",
              "      <td>0.0</td>\n",
              "      <td>29</td>\n",
              "    </tr>\n",
              "    <tr>\n",
              "      <th>5</th>\n",
              "      <td>0.0</td>\n",
              "      <td>0.0</td>\n",
              "      <td>30</td>\n",
              "    </tr>\n",
              "    <tr>\n",
              "      <th>6</th>\n",
              "      <td>0.0</td>\n",
              "      <td>0.0</td>\n",
              "      <td>29</td>\n",
              "    </tr>\n",
              "    <tr>\n",
              "      <th>7</th>\n",
              "      <td>0.0</td>\n",
              "      <td>0.0</td>\n",
              "      <td>30</td>\n",
              "    </tr>\n",
              "  </tbody>\n",
              "</table>\n",
              "</div>\n",
              "      <button class=\"colab-df-convert\" onclick=\"convertToInteractive('df-1b6b29f2-be22-41e6-abe3-b82875db5d72')\"\n",
              "              title=\"Convert this dataframe to an interactive table.\"\n",
              "              style=\"display:none;\">\n",
              "        \n",
              "  <svg xmlns=\"http://www.w3.org/2000/svg\" height=\"24px\"viewBox=\"0 0 24 24\"\n",
              "       width=\"24px\">\n",
              "    <path d=\"M0 0h24v24H0V0z\" fill=\"none\"/>\n",
              "    <path d=\"M18.56 5.44l.94 2.06.94-2.06 2.06-.94-2.06-.94-.94-2.06-.94 2.06-2.06.94zm-11 1L8.5 8.5l.94-2.06 2.06-.94-2.06-.94L8.5 2.5l-.94 2.06-2.06.94zm10 10l.94 2.06.94-2.06 2.06-.94-2.06-.94-.94-2.06-.94 2.06-2.06.94z\"/><path d=\"M17.41 7.96l-1.37-1.37c-.4-.4-.92-.59-1.43-.59-.52 0-1.04.2-1.43.59L10.3 9.45l-7.72 7.72c-.78.78-.78 2.05 0 2.83L4 21.41c.39.39.9.59 1.41.59.51 0 1.02-.2 1.41-.59l7.78-7.78 2.81-2.81c.8-.78.8-2.07 0-2.86zM5.41 20L4 18.59l7.72-7.72 1.47 1.35L5.41 20z\"/>\n",
              "  </svg>\n",
              "      </button>\n",
              "      \n",
              "  <style>\n",
              "    .colab-df-container {\n",
              "      display:flex;\n",
              "      flex-wrap:wrap;\n",
              "      gap: 12px;\n",
              "    }\n",
              "\n",
              "    .colab-df-convert {\n",
              "      background-color: #E8F0FE;\n",
              "      border: none;\n",
              "      border-radius: 50%;\n",
              "      cursor: pointer;\n",
              "      display: none;\n",
              "      fill: #1967D2;\n",
              "      height: 32px;\n",
              "      padding: 0 0 0 0;\n",
              "      width: 32px;\n",
              "    }\n",
              "\n",
              "    .colab-df-convert:hover {\n",
              "      background-color: #E2EBFA;\n",
              "      box-shadow: 0px 1px 2px rgba(60, 64, 67, 0.3), 0px 1px 3px 1px rgba(60, 64, 67, 0.15);\n",
              "      fill: #174EA6;\n",
              "    }\n",
              "\n",
              "    [theme=dark] .colab-df-convert {\n",
              "      background-color: #3B4455;\n",
              "      fill: #D2E3FC;\n",
              "    }\n",
              "\n",
              "    [theme=dark] .colab-df-convert:hover {\n",
              "      background-color: #434B5C;\n",
              "      box-shadow: 0px 1px 3px 1px rgba(0, 0, 0, 0.15);\n",
              "      filter: drop-shadow(0px 1px 2px rgba(0, 0, 0, 0.3));\n",
              "      fill: #FFFFFF;\n",
              "    }\n",
              "  </style>\n",
              "\n",
              "      <script>\n",
              "        const buttonEl =\n",
              "          document.querySelector('#df-1b6b29f2-be22-41e6-abe3-b82875db5d72 button.colab-df-convert');\n",
              "        buttonEl.style.display =\n",
              "          google.colab.kernel.accessAllowed ? 'block' : 'none';\n",
              "\n",
              "        async function convertToInteractive(key) {\n",
              "          const element = document.querySelector('#df-1b6b29f2-be22-41e6-abe3-b82875db5d72');\n",
              "          const dataTable =\n",
              "            await google.colab.kernel.invokeFunction('convertToInteractive',\n",
              "                                                     [key], {});\n",
              "          if (!dataTable) return;\n",
              "\n",
              "          const docLinkHtml = 'Like what you see? Visit the ' +\n",
              "            '<a target=\"_blank\" href=https://colab.research.google.com/notebooks/data_table.ipynb>data table notebook</a>'\n",
              "            + ' to learn more about interactive tables.';\n",
              "          element.innerHTML = '';\n",
              "          dataTable['output_type'] = 'display_data';\n",
              "          await google.colab.output.renderOutput(dataTable, element);\n",
              "          const docLink = document.createElement('div');\n",
              "          docLink.innerHTML = docLinkHtml;\n",
              "          element.appendChild(docLink);\n",
              "        }\n",
              "      </script>\n",
              "    </div>\n",
              "  </div>\n",
              "  "
            ]
          },
          "metadata": {},
          "execution_count": 16
        }
      ]
    },
    {
      "cell_type": "markdown",
      "source": [
        "Nice! Now, let's proceed with the statistical analyses. First, let's fit the model again:"
      ],
      "metadata": {
        "id": "bdFoDDsilRx_"
      }
    },
    {
      "cell_type": "code",
      "source": [
        "model = smf.ols(data = exper, formula = 'Num_Cupcakes ~ Flour + Chocolate + Flour:Chocolate')\n",
        "result = model.fit( )"
      ],
      "metadata": {
        "id": "L_bmgl8PlOyv"
      },
      "execution_count": 17,
      "outputs": []
    },
    {
      "cell_type": "markdown",
      "source": [
        "Taking the summary once again:"
      ],
      "metadata": {
        "id": "SJozsfe6mVpG"
      }
    },
    {
      "cell_type": "code",
      "source": [
        "print(result.summary( ))"
      ],
      "metadata": {
        "colab": {
          "base_uri": "https://localhost:8080/"
        },
        "id": "af0r2Q6AleDv",
        "outputId": "b48ba296-0842-4afa-9384-c12b122c4042"
      },
      "execution_count": 18,
      "outputs": [
        {
          "output_type": "stream",
          "name": "stdout",
          "text": [
            "                            OLS Regression Results                            \n",
            "==============================================================================\n",
            "Dep. Variable:           Num_Cupcakes   R-squared:                       0.971\n",
            "Model:                            OLS   Adj. R-squared:                  0.950\n",
            "Method:                 Least Squares   F-statistic:                     45.21\n",
            "Date:                Mon, 30 May 2022   Prob (F-statistic):            0.00152\n",
            "Time:                        21:42:15   Log-Likelihood:                -14.155\n",
            "No. Observations:                   8   AIC:                             36.31\n",
            "Df Residuals:                       4   BIC:                             36.63\n",
            "Df Model:                           3                                         \n",
            "Covariance Type:            nonrobust                                         \n",
            "===================================================================================\n",
            "                      coef    std err          t      P>|t|      [0.025      0.975]\n",
            "-----------------------------------------------------------------------------------\n",
            "Intercept          30.8750      0.710     43.494      0.000      28.904      32.846\n",
            "Flour              10.7500      1.004     10.708      0.000       7.963      13.537\n",
            "Chocolate           4.2500      1.004      4.233      0.013       1.463       7.037\n",
            "Flour:Chocolate     1.7500      1.004      1.743      0.156      -1.037       4.537\n",
            "==============================================================================\n",
            "Omnibus:                        4.655   Durbin-Watson:                   0.841\n",
            "Prob(Omnibus):                  0.098   Jarque-Bera (JB):                1.080\n",
            "Skew:                          -0.180   Prob(JB):                        0.583\n",
            "Kurtosis:                       1.237   Cond. No.                         1.41\n",
            "==============================================================================\n",
            "\n",
            "Warnings:\n",
            "[1] Standard Errors assume that the covariance matrix of the errors is correctly specified.\n"
          ]
        },
        {
          "output_type": "stream",
          "name": "stderr",
          "text": [
            "/usr/local/lib/python3.7/dist-packages/scipy/stats/stats.py:1535: UserWarning: kurtosistest only valid for n>=20 ... continuing anyway, n=8\n",
            "  \"anyway, n=%i\" % int(n))\n"
          ]
        }
      ]
    },
    {
      "cell_type": "markdown",
      "source": [
        "We see that we now have 4 residuals degrees of freedom. Now, we can look to the p-value, which shows $P > |t|$. Considering a significance of 5%, we can say that parameters $\\beta_0$, $\\beta_1$, and $\\beta_2$ are significant. Thus, we parameter $\\beta_3$, related to the interaction between flour and chocolate, is not statistically significant.\n",
        "\n",
        "We can also reach for the same conclusion by analyzing the t-distribution, seeing the threshold for $t$ which is related to the significance of 5%. We can find the value by:"
      ],
      "metadata": {
        "id": "0NY6Q1odmZXq"
      }
    },
    {
      "cell_type": "code",
      "source": [
        "from scipy.stats import t as t_student"
      ],
      "metadata": {
        "id": "tX0jcijim3Cy"
      },
      "execution_count": 19,
      "outputs": []
    },
    {
      "cell_type": "code",
      "source": [
        "significance = 0.05\n",
        "dof = result.df_resid\n",
        "\n",
        "t_alpha = t_student.ppf(1 - significance/2, dof)\n",
        "t_alpha"
      ],
      "metadata": {
        "colab": {
          "base_uri": "https://localhost:8080/"
        },
        "id": "fa5hrc4un_e_",
        "outputId": "1697d877-3b82-49eb-fd85-3663083b1b9b"
      },
      "execution_count": 20,
      "outputs": [
        {
          "output_type": "execute_result",
          "data": {
            "text/plain": [
              "2.7764451051977987"
            ]
          },
          "metadata": {},
          "execution_count": 20
        }
      ]
    },
    {
      "cell_type": "markdown",
      "source": [
        "Now, let's get the values for $t$ for each coefficient:"
      ],
      "metadata": {
        "id": "cRSTFLwgoTh4"
      }
    },
    {
      "cell_type": "code",
      "source": [
        "t_values = result.tvalues\n",
        "t_values"
      ],
      "metadata": {
        "colab": {
          "base_uri": "https://localhost:8080/"
        },
        "id": "ObIzX16yoKci",
        "outputId": "9beec351-a51c-4874-854d-33fd76465eb5"
      },
      "execution_count": 21,
      "outputs": [
        {
          "output_type": "execute_result",
          "data": {
            "text/plain": [
              "Intercept          43.494275\n",
              "Flour              10.708252\n",
              "Chocolate           4.233495\n",
              "Flour:Chocolate     1.743204\n",
              "dtype: float64"
            ]
          },
          "metadata": {},
          "execution_count": 21
        }
      ]
    },
    {
      "cell_type": "markdown",
      "source": [
        "Let's store the name of the parameters in a python list:"
      ],
      "metadata": {
        "id": "HRjQXF0IohBQ"
      }
    },
    {
      "cell_type": "code",
      "source": [
        "name = t_values.index.tolist( )\n",
        "name"
      ],
      "metadata": {
        "colab": {
          "base_uri": "https://localhost:8080/"
        },
        "id": "cWgwfySpoZ-5",
        "outputId": "d1995688-4c4f-43a7-b779-7f68981b367c"
      },
      "execution_count": 22,
      "outputs": [
        {
          "output_type": "execute_result",
          "data": {
            "text/plain": [
              "['Intercept', 'Flour', 'Chocolate', 'Flour:Chocolate']"
            ]
          },
          "metadata": {},
          "execution_count": 22
        }
      ]
    },
    {
      "cell_type": "markdown",
      "source": [
        "Finally, let's plot a graph to improve our visualization:"
      ],
      "metadata": {
        "id": "QxDUJL40oo1p"
      }
    },
    {
      "cell_type": "code",
      "source": [
        "pareto = sns.barplot(x = t_values, y = name)\n",
        "pareto.figure.set_size_inches(15, 6)\n",
        "pareto.tick_params(labelsize = 20)"
      ],
      "metadata": {
        "colab": {
          "base_uri": "https://localhost:8080/",
          "height": 383
        },
        "id": "YlQNu0IComxL",
        "outputId": "2d6b3581-ca95-4eed-8fab-201bca1cd9b5"
      },
      "execution_count": 23,
      "outputs": [
        {
          "output_type": "display_data",
          "data": {
            "text/plain": [
              "<Figure size 1080x432 with 1 Axes>"
            ],
            "image/png": "[encoded data removed]"
          },
          "metadata": {}
        }
      ]
    },
    {
      "cell_type": "markdown",
      "source": [
        "Now, we can add the threshold $t_\\alpha$ to the graph:"
      ],
      "metadata": {
        "id": "eDaAX-nBo3-n"
      }
    },
    {
      "cell_type": "code",
      "source": [
        "threshold = [t_alpha]*len(name)\n",
        "\n",
        "pareto = sns.barplot(x = t_values, y = name)\n",
        "pareto.figure.set_size_inches(15, 6)\n",
        "pareto.tick_params(labelsize = 20)\n",
        "pareto.plot(threshold, name, 'r')"
      ],
      "metadata": {
        "colab": {
          "base_uri": "https://localhost:8080/",
          "height": 400
        },
        "id": "QDL5cJw_o1Fs",
        "outputId": "de56c9b2-4ff5-4af3-bb3b-bcc84cd22901"
      },
      "execution_count": 24,
      "outputs": [
        {
          "output_type": "execute_result",
          "data": {
            "text/plain": [
              "[<matplotlib.lines.Line2D at 0x7f371a71d5d0>]"
            ]
          },
          "metadata": {},
          "execution_count": 24
        },
        {
          "output_type": "display_data",
          "data": {
            "text/plain": [
              "<Figure size 1080x432 with 1 Axes>"
            ],
            "image/png": "[encoded data removed]"
          },
          "metadata": {}
        }
      ]
    },
    {
      "cell_type": "markdown",
      "source": [
        "Here, we see more clearly that, indeed, the only parameter that has $t < t_\\alpha$ is the one related to the interaction between flour and chocolate."
      ],
      "metadata": {
        "id": "7MVQuw5Xp6X-"
      }
    },
    {
      "cell_type": "markdown",
      "source": [
        "# Creating a new model\n",
        "\n",
        "Ok, we understood that the interaction between flour and chocolate has very little effect in the amount of cupcakes produced. Thus, let's build a new model using only the statistical significative parameters:"
      ],
      "metadata": {
        "id": "8IjuQG5DtrC6"
      }
    },
    {
      "cell_type": "code",
      "source": [
        "model = smf.ols(data = exper, formula = 'Num_Cupcakes ~ Flour + Chocolate')\n",
        "result = model.fit( )"
      ],
      "metadata": {
        "id": "2aIGqETbpktl"
      },
      "execution_count": 25,
      "outputs": []
    },
    {
      "cell_type": "code",
      "source": [
        "print(result.summary( ))"
      ],
      "metadata": {
        "colab": {
          "base_uri": "https://localhost:8080/"
        },
        "id": "KHOWuMfDuBK1",
        "outputId": "c2954571-bdd9-4f89-c327-70f832e2c7ac"
      },
      "execution_count": 26,
      "outputs": [
        {
          "output_type": "stream",
          "name": "stdout",
          "text": [
            "                            OLS Regression Results                            \n",
            "==============================================================================\n",
            "Dep. Variable:           Num_Cupcakes   R-squared:                       0.950\n",
            "Model:                            OLS   Adj. R-squared:                  0.929\n",
            "Method:                 Least Squares   F-statistic:                     47.09\n",
            "Date:                Mon, 30 May 2022   Prob (F-statistic):           0.000571\n",
            "Time:                        21:42:15   Log-Likelihood:                -16.416\n",
            "No. Observations:                   8   AIC:                             38.83\n",
            "Df Residuals:                       5   BIC:                             39.07\n",
            "Df Model:                           2                                         \n",
            "Covariance Type:            nonrobust                                         \n",
            "==============================================================================\n",
            "                 coef    std err          t      P>|t|      [0.025      0.975]\n",
            "------------------------------------------------------------------------------\n",
            "Intercept     30.8750      0.842     36.658      0.000      28.710      33.040\n",
            "Flour         10.7500      1.191      9.025      0.000       7.688      13.812\n",
            "Chocolate      4.2500      1.191      3.568      0.016       1.188       7.312\n",
            "==============================================================================\n",
            "Omnibus:                        2.106   Durbin-Watson:                   1.850\n",
            "Prob(Omnibus):                  0.349   Jarque-Bera (JB):                1.245\n",
            "Skew:                           0.868   Prob(JB):                        0.537\n",
            "Kurtosis:                       2.153   Cond. No.                         1.41\n",
            "==============================================================================\n",
            "\n",
            "Warnings:\n",
            "[1] Standard Errors assume that the covariance matrix of the errors is correctly specified.\n"
          ]
        },
        {
          "output_type": "stream",
          "name": "stderr",
          "text": [
            "/usr/local/lib/python3.7/dist-packages/scipy/stats/stats.py:1535: UserWarning: kurtosistest only valid for n>=20 ... continuing anyway, n=8\n",
            "  \"anyway, n=%i\" % int(n))\n"
          ]
        }
      ]
    },
    {
      "cell_type": "markdown",
      "source": [
        "We see that now we have less residual dofs, since we have less parameters. Also, now, all of our parameters present a p-value lower than 5%. Drawing our bar plot once again:"
      ],
      "metadata": {
        "id": "e5-JELmTuW01"
      }
    },
    {
      "cell_type": "code",
      "source": [
        "significance = 0.05\n",
        "dof = result.df_resid\n",
        "\n",
        "t_alpha = t_student.ppf(1 - significance/2, dof)\n",
        "\n",
        "t_values = result.tvalues\n",
        "name = t_values.index.tolist( )\n",
        "\n",
        "threshold = [t_alpha]*len(name)\n",
        "\n",
        "pareto = sns.barplot(x = t_values, y = name)\n",
        "pareto.figure.set_size_inches(15, 6)\n",
        "pareto.tick_params(labelsize = 20)\n",
        "pareto.plot(threshold, name, 'r')"
      ],
      "metadata": {
        "colab": {
          "base_uri": "https://localhost:8080/",
          "height": 400
        },
        "id": "B6RCacXHuDSi",
        "outputId": "6a3ebfad-c65f-4fe4-a0de-1bcf22cde626"
      },
      "execution_count": 27,
      "outputs": [
        {
          "output_type": "execute_result",
          "data": {
            "text/plain": [
              "[<matplotlib.lines.Line2D at 0x7f371a6e72d0>]"
            ]
          },
          "metadata": {},
          "execution_count": 27
        },
        {
          "output_type": "display_data",
          "data": {
            "text/plain": [
              "<Figure size 1080x432 with 1 Axes>"
            ],
            "image/png": "[encoded data removed]"
          },
          "metadata": {}
        }
      ]
    },
    {
      "cell_type": "markdown",
      "source": [
        "Again, all parameters show a $t$ values higher than the threshold for $\\alpha = 0.95$."
      ],
      "metadata": {
        "id": "BlMETDfTu5Ko"
      }
    },
    {
      "cell_type": "markdown",
      "source": [
        "## Using our new model to generate predictions\n",
        "\n",
        "Now that we built a model, we can now use it to predict values. First, let's compare the model prediction with the observed values. For that end, we will consider the same conditions as the ones considered for our experiment, and we will check the model response in theses data points."
      ],
      "metadata": {
        "id": "7HxsLhpY7Q3Z"
      }
    },
    {
      "cell_type": "code",
      "source": [
        "true = exper.Num_Cupcakes\n",
        "true"
      ],
      "metadata": {
        "colab": {
          "base_uri": "https://localhost:8080/"
        },
        "id": "K2zNhj6k7uBd",
        "outputId": "15ea789f-0aef-49a4-a7ad-fff1d0fef716"
      },
      "execution_count": 29,
      "outputs": [
        {
          "output_type": "execute_result",
          "data": {
            "text/plain": [
              "0    19\n",
              "1    37\n",
              "2    24\n",
              "3    49\n",
              "4    29\n",
              "5    30\n",
              "6    29\n",
              "7    30\n",
              "Name: Num_Cupcakes, dtype: int64"
            ]
          },
          "metadata": {},
          "execution_count": 29
        }
      ]
    },
    {
      "cell_type": "code",
      "source": [
        "pred = result.predict( )\n",
        "pred"
      ],
      "metadata": {
        "colab": {
          "base_uri": "https://localhost:8080/"
        },
        "id": "FdO6tGT176iF",
        "outputId": "0cc82016-7067-4229-be43-9e6be94766c6"
      },
      "execution_count": 30,
      "outputs": [
        {
          "output_type": "execute_result",
          "data": {
            "text/plain": [
              "array([15.875, 37.375, 24.375, 45.875, 30.875, 30.875, 30.875, 30.875])"
            ]
          },
          "metadata": {},
          "execution_count": 30
        }
      ]
    },
    {
      "cell_type": "markdown",
      "source": [
        "Now, let's perform a graphical comparison."
      ],
      "metadata": {
        "id": "K-03ucah8FjX"
      }
    },
    {
      "cell_type": "code",
      "source": [
        "import matplotlib.pyplot as plt\n",
        "\n",
        "y_guide = np.linspace(15, 50, 2)\n",
        "\n",
        "plt.figure(figsize = (10, 5))\n",
        "\n",
        "plt.xlabel('Prediction', fontsize = 16)\n",
        "plt.ylabel('Observed', fontsize = 16)\n",
        "\n",
        "plt.plot(y_guide, y_guide, 'r')\n",
        "\n",
        "plt.scatter(pred, true)\n",
        "\n"
      ],
      "metadata": {
        "colab": {
          "base_uri": "https://localhost:8080/",
          "height": 356
        },
        "id": "UzB4Zg2H8Cws",
        "outputId": "58c65a7d-3d0f-41bc-8829-694b7b2c5c61"
      },
      "execution_count": 35,
      "outputs": [
        {
          "output_type": "execute_result",
          "data": {
            "text/plain": [
              "<matplotlib.collections.PathCollection at 0x7f3719bd5510>"
            ]
          },
          "metadata": {},
          "execution_count": 35
        },
        {
          "output_type": "display_data",
          "data": {
            "text/plain": [
              "<Figure size 720x360 with 1 Axes>"
            ],
            "image/png": "[encoded data removed]"
          },
          "metadata": {}
        }
      ]
    },
    {
      "cell_type": "markdown",
      "source": [
        "Nice! It seems that our predictions are very close to the true responses. We can also have a sense of this when we look to the $R^2$, which, in our model, is:"
      ],
      "metadata": {
        "id": "QlgXaBrE83CX"
      }
    },
    {
      "cell_type": "code",
      "source": [
        "result.rsquared.round(2)"
      ],
      "metadata": {
        "colab": {
          "base_uri": "https://localhost:8080/"
        },
        "id": "1LHILzNG8ogw",
        "outputId": "b740ccb2-47d7-4daf-d4d4-d41fb0fc9b89"
      },
      "execution_count": 37,
      "outputs": [
        {
          "output_type": "execute_result",
          "data": {
            "text/plain": [
              "0.95"
            ]
          },
          "metadata": {},
          "execution_count": 37
        }
      ]
    },
    {
      "cell_type": "markdown",
      "source": [
        "Since the $R^2$ is very close to 1.0 ($R^2 = 0.95$), our model fits the training data very well!"
      ],
      "metadata": {
        "id": "gmpErghh9fmX"
      }
    },
    {
      "cell_type": "markdown",
      "source": [
        "# Exploring our model\n",
        "\n",
        "After we build our model, we can now use it to obtain information in conditions that differ from the ones we first experimented. To do so, let's create a user defined function to perform and show the model prediction:"
      ],
      "metadata": {
        "id": "rmigSNMX99ar"
      }
    },
    {
      "cell_type": "code",
      "source": [
        "def model_pred(x_f, x_c):\n",
        "\n",
        "  bounds_norm = [-1, +1]\n",
        "  bounds_f = [0.5, 1.5]\n",
        "  bounds_c = [0.1, 0.5]\n",
        "\n",
        "  x_fn = np.interp(x_f, bounds_f, bounds_norm)\n",
        "  x_cn = np.interp(x_c, bounds_c, bounds_norm)\n",
        "\n",
        "  #X   = [1, x_fn, x_cn]\n",
        "  X = {\"Flour\" : x_fn, \"Chocolate\" : x_cn}\n",
        "  y_h = result.predict(X)\n",
        "  \n",
        "  return y_h[0].round(0)"
      ],
      "metadata": {
        "id": "svQVdMGG9dwc"
      },
      "execution_count": 53,
      "outputs": []
    },
    {
      "cell_type": "markdown",
      "source": [
        "So, let's say we want to see how many cupcakes we would be able to cook using 1000 g of flour and 150 g of chocolate:"
      ],
      "metadata": {
        "id": "sXVpFg_D_DFd"
      }
    },
    {
      "cell_type": "code",
      "source": [
        "y_pred = model_pred(0.5, 0.1)\n",
        "\n",
        "print(f\"Number of Cupcakes (Prediction): {y_pred}\")"
      ],
      "metadata": {
        "colab": {
          "base_uri": "https://localhost:8080/"
        },
        "id": "cQ9P7pvL_Bpl",
        "outputId": "361a8396-d521-4ff2-e4b8-2314d3edc908"
      },
      "execution_count": 54,
      "outputs": [
        {
          "output_type": "stream",
          "name": "stdout",
          "text": [
            "Number of Cupcakes (Prediction): 16.0\n"
          ]
        }
      ]
    },
    {
      "cell_type": "markdown",
      "source": [
        "Great! Now, let's try to get predictions in the entire design space! For that end, we can do:"
      ],
      "metadata": {
        "id": "w0FjwCDnAfJi"
      }
    },
    {
      "cell_type": "code",
      "source": [
        "X_flour = np.linspace(0.5, 1.5, 11)\n",
        "X_chocolate = np.linspace(0.1, 0.5, 11)\n",
        "\n",
        "res = []\n",
        "\n",
        "for i in range(len(X_flour)):\n",
        "  temp = []\n",
        "  for j in range(len(X_chocolate)):\n",
        "    Xf = X_flour[i]\n",
        "    Xc = X_chocolate[j]\n",
        "    yp = model_pred(Xf, Xc)\n",
        "    temp.append(yp)\n",
        "  res.append(temp)\n",
        "res"
      ],
      "metadata": {
        "colab": {
          "base_uri": "https://localhost:8080/"
        },
        "id": "26puybja_P0-",
        "outputId": "5967983d-4222-4877-ed1e-e627a3460708"
      },
      "execution_count": 55,
      "outputs": [
        {
          "output_type": "execute_result",
          "data": {
            "text/plain": [
              "[[16.0, 17.0, 18.0, 18.0, 19.0, 20.0, 21.0, 22.0, 23.0, 24.0, 24.0],\n",
              " [18.0, 19.0, 20.0, 21.0, 21.0, 22.0, 23.0, 24.0, 25.0, 26.0, 27.0],\n",
              " [20.0, 21.0, 22.0, 23.0, 24.0, 24.0, 25.0, 26.0, 27.0, 28.0, 29.0],\n",
              " [22.0, 23.0, 24.0, 25.0, 26.0, 27.0, 27.0, 28.0, 29.0, 30.0, 31.0],\n",
              " [24.0, 25.0, 26.0, 27.0, 28.0, 29.0, 30.0, 30.0, 31.0, 32.0, 33.0],\n",
              " [27.0, 27.0, 28.0, 29.0, 30.0, 31.0, 32.0, 33.0, 33.0, 34.0, 35.0],\n",
              " [29.0, 30.0, 30.0, 31.0, 32.0, 33.0, 34.0, 35.0, 36.0, 36.0, 37.0],\n",
              " [31.0, 32.0, 33.0, 33.0, 34.0, 35.0, 36.0, 37.0, 38.0, 39.0, 39.0],\n",
              " [33.0, 34.0, 35.0, 36.0, 36.0, 37.0, 38.0, 39.0, 40.0, 41.0, 42.0],\n",
              " [35.0, 36.0, 37.0, 38.0, 39.0, 39.0, 40.0, 41.0, 42.0, 43.0, 44.0],\n",
              " [37.0, 38.0, 39.0, 40.0, 41.0, 42.0, 42.0, 43.0, 44.0, 45.0, 46.0]]"
            ]
          },
          "metadata": {},
          "execution_count": 55
        }
      ]
    },
    {
      "cell_type": "markdown",
      "source": [
        "Nice! Now, let's try to build a color map:\n",
        "\n",
        "https://matplotlib.org/3.5.0/tutorials/colors/colormaps.html"
      ],
      "metadata": {
        "id": "gnYqXc-kCEKz"
      }
    },
    {
      "cell_type": "code",
      "source": [
        "import matplotlib.cm as cm\n",
        "\n",
        "plt.figure(figsize = (16, 6))\n",
        "\n",
        "plt.xlabel('Flour (kg)', fontsize = 16)\n",
        "plt.ylabel('Chocolate (kg)', fontsize = 16)\n",
        "\n",
        "map_color = plt.imshow(res, origin = 'lower', cmap = cm.rainbow, interpolation = 'quadric', extent = (0.5, 1.5, 0.1, 0.5))\n",
        "plt.colorbar( ).set_label('Number of Cupcakes', fontsize = 16)"
      ],
      "metadata": {
        "colab": {
          "base_uri": "https://localhost:8080/",
          "height": 373
        },
        "id": "WmPLI9goBuiv",
        "outputId": "c2d57479-2722-4c44-9e86-f2a4bd01efc6"
      },
      "execution_count": 58,
      "outputs": [
        {
          "output_type": "display_data",
          "data": {
            "text/plain": [
              "<Figure size 1152x432 with 2 Axes>"
            ],
            "image/png": "[encoded data removed]"
          },
          "metadata": {}
        }
      ]
    },
    {
      "cell_type": "markdown",
      "source": [
        "Nice! We have built our colormap. To improve our visualization, let's add isolines to our colormap:"
      ],
      "metadata": {
        "id": "gQBnTB13DHp-"
      }
    },
    {
      "cell_type": "code",
      "source": [
        "import matplotlib.cm as cm\n",
        "\n",
        "plt.figure(figsize = (16, 6))\n",
        "\n",
        "plt.xlabel('Flour (kg)', fontsize = 16)\n",
        "plt.ylabel('Chocolate (kg)', fontsize = 16)\n",
        "\n",
        "map_color = plt.imshow(res, origin = 'lower', cmap = cm.rainbow, interpolation = 'quadric', extent = (0.5, 1.5, 0.1, 0.5))\n",
        "plt.colorbar( ).set_label('Number of Cupcakes', fontsize = 16)\n",
        "\n",
        "isolines = plt.contour(X_flour, X_chocolate, res, colors = 'black', linewidths = 1.5)\n",
        "plt.clabel(isolines, inline = True, fmt = '%1.0f', fontsize = 15, inline_spacing = 10)"
      ],
      "metadata": {
        "colab": {
          "base_uri": "https://localhost:8080/",
          "height": 390
        },
        "id": "qbf679pZCZBd",
        "outputId": "5b25cc37-387c-4e2f-973a-ca203b14a898"
      },
      "execution_count": 61,
      "outputs": [
        {
          "output_type": "execute_result",
          "data": {
            "text/plain": [
              "<a list of 7 text.Text objects>"
            ]
          },
          "metadata": {},
          "execution_count": 61
        },
        {
          "output_type": "display_data",
          "data": {
            "text/plain": [
              "<Figure size 1152x432 with 2 Axes>"
            ],
            "image/png": "[encoded data removed]"
          },
          "metadata": {}
        }
      ]
    },
    {
      "cell_type": "markdown",
      "source": [
        "Nice! These lines represent regions where the number of cupcakes produced is the same!"
      ],
      "metadata": {
        "id": "nKjwUb9SEAbO"
      }
    }
  ]
}